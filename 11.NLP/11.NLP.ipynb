{
 "cells": [
  {
   "cell_type": "markdown",
   "metadata": {
    "toc": true
   },
   "source": [
    "<h1>Содержание<span class=\"tocSkip\"></span></h1>\n",
    "<div class=\"toc\"><ul class=\"toc-item\"><li><span><a href=\"#Подготовка\" data-toc-modified-id=\"Подготовка-1\"><span class=\"toc-item-num\">1&nbsp;&nbsp;</span>Подготовка</a></span><ul class=\"toc-item\"><li><span><a href=\"#Лемматизация\" data-toc-modified-id=\"Лемматизация-1.1\"><span class=\"toc-item-num\">1.1&nbsp;&nbsp;</span>Лемматизация</a></span></li><li><span><a href=\"#Экспорт-датасета\" data-toc-modified-id=\"Экспорт-датасета-1.2\"><span class=\"toc-item-num\">1.2&nbsp;&nbsp;</span>Экспорт датасета</a></span></li><li><span><a href=\"#Деление-на-выборки\" data-toc-modified-id=\"Деление-на-выборки-1.3\"><span class=\"toc-item-num\">1.3&nbsp;&nbsp;</span>Деление на выборки</a></span></li></ul></li><li><span><a href=\"#Обучение\" data-toc-modified-id=\"Обучение-2\"><span class=\"toc-item-num\">2&nbsp;&nbsp;</span>Обучение</a></span><ul class=\"toc-item\"><li><span><a href=\"#Логистическая-регрессия\" data-toc-modified-id=\"Логистическая-регрессия-2.1\"><span class=\"toc-item-num\">2.1&nbsp;&nbsp;</span>Логистическая регрессия</a></span></li><li><span><a href=\"#Дерево-решений\" data-toc-modified-id=\"Дерево-решений-2.2\"><span class=\"toc-item-num\">2.2&nbsp;&nbsp;</span>Дерево решений</a></span></li><li><span><a href=\"#Случайный-лес\" data-toc-modified-id=\"Случайный-лес-2.3\"><span class=\"toc-item-num\">2.3&nbsp;&nbsp;</span>Случайный лес</a></span></li><li><span><a href=\"#LightGBM\" data-toc-modified-id=\"LightGBM-2.4\"><span class=\"toc-item-num\">2.4&nbsp;&nbsp;</span>LightGBM</a></span></li><li><span><a href=\"#XGBoost\" data-toc-modified-id=\"XGBoost-2.5\"><span class=\"toc-item-num\">2.5&nbsp;&nbsp;</span>XGBoost</a></span></li></ul></li><li><span><a href=\"#Выводы\" data-toc-modified-id=\"Выводы-3\"><span class=\"toc-item-num\">3&nbsp;&nbsp;</span>Выводы</a></span></li><li><span><a href=\"#Чек-лист-проверки\" data-toc-modified-id=\"Чек-лист-проверки-4\"><span class=\"toc-item-num\">4&nbsp;&nbsp;</span>Чек-лист проверки</a></span></li></ul></div>"
   ]
  },
  {
   "cell_type": "markdown",
   "metadata": {},
   "source": [
    "# Проект для «Викишоп»"
   ]
  },
  {
   "cell_type": "markdown",
   "metadata": {},
   "source": [
    "Интернет-магазин «Викишоп» запускает новый сервис. Теперь пользователи могут редактировать и дополнять описания товаров, как в вики-сообществах. То есть клиенты предлагают свои правки и комментируют изменения других. Магазину нужен инструмент, который будет искать токсичные комментарии и отправлять их на модерацию. \n",
    "\n",
    "Обучите модель классифицировать комментарии на позитивные и негативные. В вашем распоряжении набор данных с разметкой о токсичности правок.\n",
    "\n",
    "Постройте модель со значением метрики качества *F1* не меньше 0.75. \n",
    "\n",
    "**Инструкция по выполнению проекта**\n",
    "\n",
    "1. Загрузите и подготовьте данные.\n",
    "2. Обучите разные модели. \n",
    "3. Сделайте выводы.\n",
    "\n",
    "Для выполнения проекта применять *BERT* необязательно, но вы можете попробовать.\n",
    "\n",
    "**Описание данных**\n",
    "\n",
    "Данные находятся в файле `toxic_comments.csv`. Столбец *text* в нём содержит текст комментария, а *toxic* — целевой признак."
   ]
  },
  {
   "cell_type": "markdown",
   "metadata": {},
   "source": [
    "## Подготовка"
   ]
  },
  {
   "cell_type": "markdown",
   "metadata": {},
   "source": [
    "!pip install nltk"
   ]
  },
  {
   "cell_type": "code",
   "execution_count": 1,
   "metadata": {},
   "outputs": [],
   "source": [
    "import pandas as pd\n",
    "import matplotlib.pyplot as plt \n",
    "plt.style.use('seaborn-pastel')\n",
    "import seaborn as sns \n",
    "import numpy as np \n",
    "\n",
    "import nltk\n",
    "from nltk.stem import WordNetLemmatizer # лемматизатор для английского текста\n",
    "from nltk.corpus import stopwords as nltk_stopwords\n",
    "from nltk.corpus import wordnet\n",
    "from nltk.tokenize import word_tokenize\n",
    "\n",
    "import re\n",
    "\n",
    "from sklearn.feature_extraction.text import TfidfVectorizer\n",
    "from sklearn.feature_extraction.text import CountVectorizer\n",
    "\n",
    "from sklearn.model_selection import train_test_split\n",
    "from sklearn.ensemble import RandomForestClassifier\n",
    "from sklearn.tree import DecisionTreeClassifier\n",
    "from sklearn.linear_model import LogisticRegression\n",
    "from sklearn.model_selection import RandomizedSearchCV\n",
    "import lightgbm as lgb\n",
    "import xgboost as xgb\n",
    "from sklearn.metrics import f1_score\n",
    "\n",
    "from time import time\n",
    "from tqdm import tqdm\n",
    "\n",
    "import sys\n",
    "import spacy\n",
    "\n",
    "from tqdm.notebook import tqdm\n",
    "tqdm.pandas()\n",
    "\n",
    "from sklearn.naive_bayes import GaussianNB\n",
    "from sklearn import svm\n",
    "\n",
    "#адаптивный бустинг\n",
    "\n",
    "from sklearn.tree import DecisionTreeClassifier\n",
    "from sklearn.model_selection import train_test_split\n",
    "from sklearn.ensemble import AdaBoostClassifier\n",
    "\n",
    "from sklearn.ensemble import GradientBoostingClassifier"
   ]
  },
  {
   "cell_type": "markdown",
   "metadata": {},
   "source": [
    "Устанавливаю Spacy. После установки перевёл в Markdown, чтобы каждый раз не запускалась"
   ]
  },
  {
   "cell_type": "markdown",
   "metadata": {},
   "source": [
    "!{sys.executable} -m pip install spacy  \n",
    "!{sys.executable} -m spacy download en"
   ]
  },
  {
   "cell_type": "code",
   "execution_count": 4,
   "metadata": {
    "scrolled": true
   },
   "outputs": [
    {
     "data": {
      "text/html": [
       "<div>\n",
       "<style scoped>\n",
       "    .dataframe tbody tr th:only-of-type {\n",
       "        vertical-align: middle;\n",
       "    }\n",
       "\n",
       "    .dataframe tbody tr th {\n",
       "        vertical-align: top;\n",
       "    }\n",
       "\n",
       "    .dataframe thead th {\n",
       "        text-align: right;\n",
       "    }\n",
       "</style>\n",
       "<table border=\"1\" class=\"dataframe\">\n",
       "  <thead>\n",
       "    <tr style=\"text-align: right;\">\n",
       "      <th></th>\n",
       "      <th>Unnamed: 0</th>\n",
       "      <th>text</th>\n",
       "      <th>toxic</th>\n",
       "    </tr>\n",
       "  </thead>\n",
       "  <tbody>\n",
       "    <tr>\n",
       "      <th>0</th>\n",
       "      <td>0</td>\n",
       "      <td>Explanation\\nWhy the edits made under my usern...</td>\n",
       "      <td>0</td>\n",
       "    </tr>\n",
       "    <tr>\n",
       "      <th>1</th>\n",
       "      <td>1</td>\n",
       "      <td>D'aww! He matches this background colour I'm s...</td>\n",
       "      <td>0</td>\n",
       "    </tr>\n",
       "    <tr>\n",
       "      <th>2</th>\n",
       "      <td>2</td>\n",
       "      <td>Hey man, I'm really not trying to edit war. It...</td>\n",
       "      <td>0</td>\n",
       "    </tr>\n",
       "    <tr>\n",
       "      <th>3</th>\n",
       "      <td>3</td>\n",
       "      <td>\"\\nMore\\nI can't make any real suggestions on ...</td>\n",
       "      <td>0</td>\n",
       "    </tr>\n",
       "    <tr>\n",
       "      <th>4</th>\n",
       "      <td>4</td>\n",
       "      <td>You, sir, are my hero. Any chance you remember...</td>\n",
       "      <td>0</td>\n",
       "    </tr>\n",
       "    <tr>\n",
       "      <th>5</th>\n",
       "      <td>5</td>\n",
       "      <td>\"\\n\\nCongratulations from me as well, use the ...</td>\n",
       "      <td>0</td>\n",
       "    </tr>\n",
       "    <tr>\n",
       "      <th>6</th>\n",
       "      <td>6</td>\n",
       "      <td>COCKSUCKER BEFORE YOU PISS AROUND ON MY WORK</td>\n",
       "      <td>1</td>\n",
       "    </tr>\n",
       "    <tr>\n",
       "      <th>7</th>\n",
       "      <td>7</td>\n",
       "      <td>Your vandalism to the Matt Shirvington article...</td>\n",
       "      <td>0</td>\n",
       "    </tr>\n",
       "    <tr>\n",
       "      <th>8</th>\n",
       "      <td>8</td>\n",
       "      <td>Sorry if the word 'nonsense' was offensive to ...</td>\n",
       "      <td>0</td>\n",
       "    </tr>\n",
       "    <tr>\n",
       "      <th>9</th>\n",
       "      <td>9</td>\n",
       "      <td>alignment on this subject and which are contra...</td>\n",
       "      <td>0</td>\n",
       "    </tr>\n",
       "    <tr>\n",
       "      <th>10</th>\n",
       "      <td>10</td>\n",
       "      <td>\"\\nFair use rationale for Image:Wonju.jpg\\n\\nT...</td>\n",
       "      <td>0</td>\n",
       "    </tr>\n",
       "    <tr>\n",
       "      <th>11</th>\n",
       "      <td>11</td>\n",
       "      <td>bbq \\n\\nbe a man and lets discuss it-maybe ove...</td>\n",
       "      <td>0</td>\n",
       "    </tr>\n",
       "    <tr>\n",
       "      <th>12</th>\n",
       "      <td>12</td>\n",
       "      <td>Hey... what is it..\\n@ | talk .\\nWhat is it......</td>\n",
       "      <td>1</td>\n",
       "    </tr>\n",
       "    <tr>\n",
       "      <th>13</th>\n",
       "      <td>13</td>\n",
       "      <td>Before you start throwing accusations and warn...</td>\n",
       "      <td>0</td>\n",
       "    </tr>\n",
       "    <tr>\n",
       "      <th>14</th>\n",
       "      <td>14</td>\n",
       "      <td>Oh, and the girl above started her arguments w...</td>\n",
       "      <td>0</td>\n",
       "    </tr>\n",
       "    <tr>\n",
       "      <th>15</th>\n",
       "      <td>15</td>\n",
       "      <td>\"\\n\\nJuelz Santanas Age\\n\\nIn 2002, Juelz Sant...</td>\n",
       "      <td>0</td>\n",
       "    </tr>\n",
       "    <tr>\n",
       "      <th>16</th>\n",
       "      <td>16</td>\n",
       "      <td>Bye! \\n\\nDon't look, come or think of comming ...</td>\n",
       "      <td>1</td>\n",
       "    </tr>\n",
       "    <tr>\n",
       "      <th>17</th>\n",
       "      <td>17</td>\n",
       "      <td>REDIRECT Talk:Voydan Pop Georgiev- Chernodrinski</td>\n",
       "      <td>0</td>\n",
       "    </tr>\n",
       "    <tr>\n",
       "      <th>18</th>\n",
       "      <td>18</td>\n",
       "      <td>The Mitsurugi point made no sense - why not ar...</td>\n",
       "      <td>0</td>\n",
       "    </tr>\n",
       "    <tr>\n",
       "      <th>19</th>\n",
       "      <td>19</td>\n",
       "      <td>Don't mean to bother you \\n\\nI see that you're...</td>\n",
       "      <td>0</td>\n",
       "    </tr>\n",
       "  </tbody>\n",
       "</table>\n",
       "</div>"
      ],
      "text/plain": [
       "    Unnamed: 0                                               text  toxic\n",
       "0            0  Explanation\\nWhy the edits made under my usern...      0\n",
       "1            1  D'aww! He matches this background colour I'm s...      0\n",
       "2            2  Hey man, I'm really not trying to edit war. It...      0\n",
       "3            3  \"\\nMore\\nI can't make any real suggestions on ...      0\n",
       "4            4  You, sir, are my hero. Any chance you remember...      0\n",
       "5            5  \"\\n\\nCongratulations from me as well, use the ...      0\n",
       "6            6       COCKSUCKER BEFORE YOU PISS AROUND ON MY WORK      1\n",
       "7            7  Your vandalism to the Matt Shirvington article...      0\n",
       "8            8  Sorry if the word 'nonsense' was offensive to ...      0\n",
       "9            9  alignment on this subject and which are contra...      0\n",
       "10          10  \"\\nFair use rationale for Image:Wonju.jpg\\n\\nT...      0\n",
       "11          11  bbq \\n\\nbe a man and lets discuss it-maybe ove...      0\n",
       "12          12  Hey... what is it..\\n@ | talk .\\nWhat is it......      1\n",
       "13          13  Before you start throwing accusations and warn...      0\n",
       "14          14  Oh, and the girl above started her arguments w...      0\n",
       "15          15  \"\\n\\nJuelz Santanas Age\\n\\nIn 2002, Juelz Sant...      0\n",
       "16          16  Bye! \\n\\nDon't look, come or think of comming ...      1\n",
       "17          17   REDIRECT Talk:Voydan Pop Georgiev- Chernodrinski      0\n",
       "18          18  The Mitsurugi point made no sense - why not ar...      0\n",
       "19          19  Don't mean to bother you \\n\\nI see that you're...      0"
      ]
     },
     "execution_count": 4,
     "metadata": {},
     "output_type": "execute_result"
    }
   ],
   "source": [
    "try:\n",
    "    data = pd.read_csv('/datasets/toxic_comments.csv')\n",
    "    \n",
    "except:\n",
    "    \n",
    "    data = pd.read_csv(\"W:/Anaconda/Data Science/datasets/toxic_comments.csv\")\n",
    "    \n",
    "data.head(20)    "
   ]
  },
  {
   "cell_type": "code",
   "execution_count": 21,
   "metadata": {},
   "outputs": [
    {
     "name": "stdout",
     "output_type": "stream",
     "text": [
      "<class 'pandas.core.frame.DataFrame'>\n",
      "RangeIndex: 159292 entries, 0 to 159291\n",
      "Data columns (total 3 columns):\n",
      " #   Column      Non-Null Count   Dtype \n",
      "---  ------      --------------   ----- \n",
      " 0   Unnamed: 0  159292 non-null  int64 \n",
      " 1   text        159292 non-null  object\n",
      " 2   toxic       159292 non-null  int64 \n",
      "dtypes: int64(2), object(1)\n",
      "memory usage: 3.6+ MB\n"
     ]
    }
   ],
   "source": [
    "data.info()"
   ]
  },
  {
   "cell_type": "code",
   "execution_count": 5,
   "metadata": {
    "scrolled": true
   },
   "outputs": [
    {
     "data": {
      "text/plain": [
       "<matplotlib.axes._subplots.AxesSubplot at 0x24cd38b5888>"
      ]
     },
     "execution_count": 5,
     "metadata": {},
     "output_type": "execute_result"
    },
    {
     "data": {
      "image/png": "[encoded data removed]",
      "text/plain": [
       "<Figure size 640x480 with 1 Axes>"
      ]
     },
     "metadata": {},
     "output_type": "display_data"
    }
   ],
   "source": [
    "# Посмотрю на распределение токсичных комментариев\n",
    "sns.countplot(data=data, x=\"toxic\")"
   ]
  },
  {
   "cell_type": "markdown",
   "metadata": {},
   "source": [
    "Данные не сбалансированы. Нужно выполнять стратификацию при разделении на выборки."
   ]
  },
  {
   "cell_type": "markdown",
   "metadata": {},
   "source": [
    "Подгрузим файлы для английской библиотеки лемматизатора"
   ]
  },
  {
   "cell_type": "code",
   "execution_count": 53,
   "metadata": {
    "scrolled": false
   },
   "outputs": [
    {
     "name": "stderr",
     "output_type": "stream",
     "text": [
      "[nltk_data] Downloading package stopwords to C:\\Users\\granu\\anaconda3\\\n",
      "[nltk_data]     envs\\praktikum_env_win_new\\nltk_data...\n",
      "[nltk_data]   Unzipping corpora\\stopwords.zip.\n",
      "[nltk_data] Downloading package punkt to C:\\Users\\granu\\anaconda3\\envs\n",
      "[nltk_data]     \\praktikum_env_win_new\\nltk_data...\n",
      "[nltk_data]   Package punkt is already up-to-date!\n",
      "[nltk_data] Downloading package wordnet to C:\\Users\\granu\\anaconda3\\en\n",
      "[nltk_data]     vs\\praktikum_env_win_new\\nltk_data...\n",
      "[nltk_data]   Package wordnet is already up-to-date!\n",
      "[nltk_data] Downloading package averaged_perceptron_tagger to C:\\Users\n",
      "[nltk_data]     \\granu\\anaconda3\\envs\\praktikum_env_win_new\\nltk_data.\n",
      "[nltk_data]     ..\n",
      "[nltk_data]   Unzipping taggers\\averaged_perceptron_tagger.zip.\n"
     ]
    }
   ],
   "source": [
    "nltk.download(\"stopwords\") # поддерживает удаление стоп-слов\n",
    "nltk.download('punkt') # делит текст на список предложений\n",
    "nltk.download('wordnet') # проводит лемматизацию\n",
    "nltk.download('averaged_perceptron_tagger') # усредненный тригер\n",
    "from nltk.corpus import stopwords"
   ]
  },
  {
   "cell_type": "markdown",
   "metadata": {},
   "source": [
    "### Лемматизация"
   ]
  },
  {
   "cell_type": "markdown",
   "metadata": {},
   "source": [
    "Проведём очистку текста, где должны остаться только слова, без символов."
   ]
  },
  {
   "cell_type": "code",
   "execution_count": 24,
   "metadata": {},
   "outputs": [],
   "source": [
    "# функция для очистки текста\n",
    "def clear_text(text):\n",
    "    regular = re.sub(r'[^a-zA-Z]',' ', text.lower()) #преобразование и перевод в нижний регистр\n",
    "    split = regular.split()\n",
    "    join = ' '.join(split)\n",
    "    return join"
   ]
  },
  {
   "attachments": {
    "image.png": {
     "image/png": "[encoded data removed]"
    }
   },
   "cell_type": "markdown",
   "metadata": {},
   "source": [
    "Пришлось выбрать другой метод, т.к. SpaCy будет лемматизировать около 17 часов\n",
    "![image.png](attachment:image.png)"
   ]
  },
  {
   "cell_type": "markdown",
   "metadata": {},
   "source": [
    "Проверка SpaCy на тестовом тексте:"
   ]
  },
  {
   "cell_type": "code",
   "execution_count": 49,
   "metadata": {
    "scrolled": true
   },
   "outputs": [
    {
     "name": "stdout",
     "output_type": "stream",
     "text": [
      "Оригинальный текст: The striped bats are hanging on their feet for best\n",
      "Лемма: the stripe bat be hang on their foot for good\n"
     ]
    }
   ],
   "source": [
    "nlp_test = spacy.load('en_core_web_sm', disable=['parser', 'ner'])\n",
    "sentence = \"The striped bats are hanging on their feet for best\"\n",
    "doc_test = nlp_test(sentence)\n",
    "lemma = \" \".join([token.lemma_ for token in doc_test])\n",
    "print('Оригинальный текст:', doc_test)\n",
    "print('Лемма:', lemma)"
   ]
  },
  {
   "cell_type": "markdown",
   "metadata": {},
   "source": [
    "Проверка Wordnet Lemmatizer с соответствующим POS-тегом на тестовом тексте:"
   ]
  },
  {
   "cell_type": "code",
   "execution_count": 82,
   "metadata": {},
   "outputs": [],
   "source": [
    "def get_wordnet_pos(word):\n",
    "    tag = nltk.pos_tag([word])[0][1][0].upper()\n",
    "    tag_dict = {\"J\": wordnet.ADJ,\n",
    "                \"N\": wordnet.NOUN,\n",
    "                \"V\": wordnet.VERB,\n",
    "                \"R\": wordnet.ADV}\n",
    "    return tag_dict.get(tag, wordnet.NOUN)"
   ]
  },
  {
   "cell_type": "code",
   "execution_count": 83,
   "metadata": {},
   "outputs": [],
   "source": [
    "lemmatizer = WordNetLemmatizer()"
   ]
  },
  {
   "cell_type": "code",
   "execution_count": 84,
   "metadata": {},
   "outputs": [],
   "source": [
    "sentence = \"The striped bats are hanging on their feet for best\""
   ]
  },
  {
   "cell_type": "code",
   "execution_count": 85,
   "metadata": {},
   "outputs": [
    {
     "data": {
      "text/plain": [
       "'The strip bat be hang on their foot for best'"
      ]
     },
     "execution_count": 85,
     "metadata": {},
     "output_type": "execute_result"
    }
   ],
   "source": [
    "lemm_sent = [lemmatizer.lemmatize(w, get_wordnet_pos(w)) for w in nltk.word_tokenize(sentence)]\n",
    "lemm_sent = ' '.join(lemm_sent)\n",
    "lemm_sent"
   ]
  },
  {
   "cell_type": "code",
   "execution_count": 86,
   "metadata": {},
   "outputs": [],
   "source": [
    "\n",
    "def lemm_text(text):\n",
    "    word_list = nltk.word_tokenize(text) \n",
    "    return ' '.join(lemmatizer.lemmatize(w, get_wordnet_pos(w)) for w in nltk.word_tokenize(text))"
   ]
  },
  {
   "cell_type": "code",
   "execution_count": 90,
   "metadata": {
    "scrolled": true
   },
   "outputs": [
    {
     "data": {
      "application/vnd.jupyter.widget-view+json": {
       "model_id": "91370b3b6a964bf59c5d4841a6a9b6e4",
       "version_major": 2,
       "version_minor": 0
      },
      "text/plain": [
       "  0%|          | 0/159292 [00:00<?, ?it/s]"
      ]
     },
     "metadata": {},
     "output_type": "display_data"
    },
    {
     "data": {
      "application/vnd.jupyter.widget-view+json": {
       "model_id": "9e87d68ea06641d8b6945d89e7ba9615",
       "version_major": 2,
       "version_minor": 0
      },
      "text/plain": [
       "  0%|          | 0/159292 [00:00<?, ?it/s]"
      ]
     },
     "metadata": {},
     "output_type": "display_data"
    },
    {
     "name": "stdout",
     "output_type": "stream",
     "text": [
      "Wall time: 55min 46s\n"
     ]
    },
    {
     "data": {
      "text/plain": [
       "0    Explanation Why the edits make under my userna...\n",
       "1    D'aww ! He match this background colour I 'm s...\n",
       "2    Hey man , I 'm really not try to edit war . It...\n",
       "3    `` More I ca n't make any real suggestion on i...\n",
       "4    You , sir , be my hero . Any chance you rememb...\n",
       "Name: lemm_text, dtype: object"
      ]
     },
     "execution_count": 90,
     "metadata": {},
     "output_type": "execute_result"
    }
   ],
   "source": [
    "%%time\n",
    "data['lemm_text'] = data['text'].progress_apply(clear_text)\n",
    "data['lemm_text'] = data['text'].progress_apply(lemm_text)\n",
    "data['lemm_text'].head()"
   ]
  },
  {
   "cell_type": "markdown",
   "metadata": {},
   "source": [
    "### Экспорт датасета"
   ]
  },
  {
   "cell_type": "code",
   "execution_count": 93,
   "metadata": {},
   "outputs": [],
   "source": [
    "#скачаю датасет, чтобы не потерять прогресс\n",
    "data.to_csv('toxic_comments_with_lemmas.csv', index=False) "
   ]
  },
  {
   "cell_type": "code",
   "execution_count": 2,
   "metadata": {},
   "outputs": [],
   "source": [
    "data = pd.read_csv(\"W:/Anaconda/Data Science/datasets/toxic_comments_with_lemmas.csv\")"
   ]
  },
  {
   "cell_type": "markdown",
   "metadata": {},
   "source": [
    "### Деление на выборки"
   ]
  },
  {
   "cell_type": "markdown",
   "metadata": {},
   "source": [
    "Разделим данные на тренировочную и тестовую выборку. Перед этим выделим обучающие и целевые признаки."
   ]
  },
  {
   "cell_type": "code",
   "execution_count": 3,
   "metadata": {},
   "outputs": [
    {
     "data": {
      "text/plain": [
       "92651     A thing At time , the moan of Birkin/Bardot be...\n",
       "57776     Re : suicide . I 'm go to take my advice and s...\n",
       "155506                               Archive to 08 Dec 2006\n",
       "14143     `` Hello , the tag be add because : The articl...\n",
       "128218    `` Good morning . Look where the satanic comme...\n",
       "82216     `` : : : : : Your comment above unfortunately ...\n",
       "101422    `` Done , ive retract that comment . It seem t...\n",
       "114959    Ghosh 1 June 2013 Please add source with and n...\n",
       "120843    `` Have to disagree , Obama fell for a few key...\n",
       "29149     `` I also ask whether you be give an assessmen...\n",
       "136106    `` BTW give a reference be usually to an exter...\n",
       "44645              I explain to you but you get it delete !\n",
       "37949     Hi . There be a Korean remake of Ringu , and I...\n",
       "60783     Chopin and Balakirev I be surprised that Chopi...\n",
       "151940    What be this comunist shit on continuation war...\n",
       "Name: lemm_text, dtype: object"
      ]
     },
     "execution_count": 3,
     "metadata": {},
     "output_type": "execute_result"
    }
   ],
   "source": [
    "features = data.drop('toxic', axis = 1)\n",
    "target = data['toxic']\n",
    "\n",
    "train_features, test_features, train_target, test_target = train_test_split(\n",
    "    features,\n",
    "    target,\n",
    "    test_size=0.1,\n",
    "    random_state=12345,\n",
    "    stratify=data['toxic'] # стратифицируем текст, чтобы выборки были более сбалансированы\n",
    ")\n",
    "\n",
    "# вытаскиваем корпусы\n",
    "corpus_train = train_features['lemm_text']\n",
    "corpus_test = test_features['lemm_text']\n",
    "corpus_train.head(15)"
   ]
  },
  {
   "cell_type": "markdown",
   "metadata": {},
   "source": [
    "Создадим мешок слов и уберём из него стоп-слова, которые были загружены для английского языка"
   ]
  },
  {
   "cell_type": "code",
   "execution_count": 4,
   "metadata": {},
   "outputs": [],
   "source": [
    "stopwords = set(nltk_stopwords.words('english'))"
   ]
  },
  {
   "cell_type": "code",
   "execution_count": 5,
   "metadata": {
    "scrolled": true
   },
   "outputs": [
    {
     "name": "stdout",
     "output_type": "stream",
     "text": [
      "Размер тренировочной выборки: (143362, 170338)\n",
      "Размер тестовой выборки: (15930, 170338)\n"
     ]
    }
   ],
   "source": [
    "tfidf_vectorizer = TfidfVectorizer(stop_words=list(stopwords))\n",
    "\n",
    "tf_idf_train = tfidf_vectorizer.fit_transform(corpus_train) # обучение на тренировочной выборке и преобразование\n",
    "tf_idf_test = tfidf_vectorizer.transform(corpus_test) # преобразование тестовой выборки\n",
    "print(f'Размер тренировочной выборки: {tf_idf_train.shape}')\n",
    "print(f'Размер тестовой выборки: {tf_idf_test.shape}')"
   ]
  },
  {
   "cell_type": "markdown",
   "metadata": {},
   "source": [
    "- Разделили данные. \n",
    "- Получили TF-IDF.   \n",
    "Можно приступать к обучению моделей"
   ]
  },
  {
   "cell_type": "markdown",
   "metadata": {},
   "source": [
    "## Обучение"
   ]
  },
  {
   "cell_type": "markdown",
   "metadata": {},
   "source": [
    "Для обучения возьмём следующие модели:  \n",
    "1. Логистическая регрессия\n",
    "2. Дерево решений\n",
    "3. Случайный лес\n",
    "4. Градиентный бустинг"
   ]
  },
  {
   "cell_type": "code",
   "execution_count": 31,
   "metadata": {},
   "outputs": [],
   "source": [
    "# для подсчёта сравнения результатов, создадим таблицу, куда будут записываться полученные значения\n",
    "analisys = pd.DataFrame({'model':[], 'F1_model':[]})\n",
    "all_models = []"
   ]
  },
  {
   "cell_type": "code",
   "execution_count": 32,
   "metadata": {},
   "outputs": [],
   "source": [
    "def train_model(model, parameters):\n",
    "    \n",
    "    model_random = RandomizedSearchCV(\n",
    "        estimator=model,\n",
    "        param_distributions=parameters,\n",
    "        scoring='f1', \n",
    "        n_jobs=-1,\n",
    "        cv=4, \n",
    "        verbose=2\n",
    "    )\n",
    "    \n",
    "    # подсчитаем скорость вычисления\n",
    "    start = time()\n",
    "    model_random.fit(tf_idf_train, train_target)\n",
    "    print('RandomizedSearchCV подбирал параметры %.2f секунд' %(time() - start))\n",
    "    \n",
    "    # высчитаем метрики\n",
    "    f1 = model_random.best_score_\n",
    "\n",
    "    \n",
    "    print('Лучшие параметры:', model_random.best_params_)\n",
    "    print('F1 обученной модели:', f1)\n",
    "\n",
    "    # заполним все таблицы    \n",
    "    all_models.append(model_random)\n",
    "    row = []\n",
    "    row.extend([model, f1])\n",
    "    analisys.loc[len(analisys.index)] = row\n",
    "    \n",
    "    return model_random"
   ]
  },
  {
   "cell_type": "markdown",
   "metadata": {},
   "source": [
    "### Логистическая регрессия"
   ]
  },
  {
   "cell_type": "code",
   "execution_count": 33,
   "metadata": {
    "scrolled": true
   },
   "outputs": [
    {
     "name": "stderr",
     "output_type": "stream",
     "text": [
      "C:\\Users\\granu\\anaconda3\\envs\\praktikum_env_win_new\\lib\\site-packages\\sklearn\\model_selection\\_search.py:296: UserWarning: The total space of parameters 2 is smaller than n_iter=10. Running 2 iterations. For exhaustive searches, use GridSearchCV.\n",
      "  UserWarning,\n"
     ]
    },
    {
     "name": "stdout",
     "output_type": "stream",
     "text": [
      "Fitting 4 folds for each of 2 candidates, totalling 8 fits\n",
      "RandomizedSearchCV подбирал параметры 26.15 секунд\n",
      "Лучшие параметры: {'penalty': 'l2', 'class_weight': 'balanced', 'C': 5}\n",
      "F1 обученной модели: 0.7594260090012956\n"
     ]
    }
   ],
   "source": [
    "regres_parammetrs = {\n",
    "    \"penalty\": ['l2'],\n",
    "    \"class_weight\": ['balanced'],\n",
    "    \"C\":[5,15]\n",
    "}\n",
    "\n",
    "logr = LogisticRegression(max_iter=1000)\n",
    "\n",
    "lr_random = train_model(logr, regres_parammetrs) # обучим и сохраним значения"
   ]
  },
  {
   "cell_type": "markdown",
   "metadata": {},
   "source": [
    "### Дерево решений"
   ]
  },
  {
   "cell_type": "code",
   "execution_count": 34,
   "metadata": {},
   "outputs": [
    {
     "name": "stdout",
     "output_type": "stream",
     "text": [
      "Fitting 4 folds for each of 10 candidates, totalling 40 fits\n",
      "RandomizedSearchCV подбирал параметры 111.08 секунд\n",
      "Лучшие параметры: {'max_depth': 59}\n",
      "F1 обученной модели: 0.6993468100356794\n"
     ]
    }
   ],
   "source": [
    "tree_param = {\"max_depth\": list(range(50, 60))\n",
    "}\n",
    "tree = DecisionTreeClassifier()\n",
    "\n",
    "dtr_random = train_model(tree, tree_param)          "
   ]
  },
  {
   "cell_type": "markdown",
   "metadata": {},
   "source": [
    "### Случайный лес"
   ]
  },
  {
   "cell_type": "code",
   "execution_count": 35,
   "metadata": {},
   "outputs": [
    {
     "name": "stdout",
     "output_type": "stream",
     "text": [
      "Fitting 4 folds for each of 4 candidates, totalling 16 fits\n"
     ]
    },
    {
     "name": "stderr",
     "output_type": "stream",
     "text": [
      "C:\\Users\\granu\\anaconda3\\envs\\praktikum_env_win_new\\lib\\site-packages\\sklearn\\model_selection\\_search.py:296: UserWarning: The total space of parameters 4 is smaller than n_iter=10. Running 4 iterations. For exhaustive searches, use GridSearchCV.\n",
      "  UserWarning,\n"
     ]
    },
    {
     "name": "stdout",
     "output_type": "stream",
     "text": [
      "RandomizedSearchCV подбирал параметры 72.32 секунд\n",
      "Лучшие параметры: {'n_estimators': 10, 'max_depth': 310}\n",
      "F1 обученной модели: 0.5886224225318513\n"
     ]
    }
   ],
   "source": [
    "# зададим рандомные параметры\n",
    "\n",
    "ran_grid_forest = {\n",
    "    'max_depth': [ 310, 320],\n",
    "    'n_estimators': [10, 13],\n",
    "}\n",
    "\n",
    "rfc = RandomForestClassifier(n_jobs=-1)\n",
    "\n",
    "rfc_random = train_model(rfc, ran_grid_forest) # обучим и сохраним значения"
   ]
  },
  {
   "cell_type": "markdown",
   "metadata": {},
   "source": [
    "### LightGBM"
   ]
  },
  {
   "cell_type": "code",
   "execution_count": 36,
   "metadata": {},
   "outputs": [
    {
     "name": "stdout",
     "output_type": "stream",
     "text": [
      "Fitting 4 folds for each of 2 candidates, totalling 8 fits\n"
     ]
    },
    {
     "name": "stderr",
     "output_type": "stream",
     "text": [
      "C:\\Users\\granu\\anaconda3\\envs\\praktikum_env_win_new\\lib\\site-packages\\sklearn\\model_selection\\_search.py:296: UserWarning: The total space of parameters 2 is smaller than n_iter=10. Running 2 iterations. For exhaustive searches, use GridSearchCV.\n",
      "  UserWarning,\n"
     ]
    },
    {
     "name": "stdout",
     "output_type": "stream",
     "text": [
      "RandomizedSearchCV подбирал параметры 44.91 секунд\n",
      "Лучшие параметры: {'max_depth': 35, 'learning_rate': 0.3}\n",
      "F1 обученной модели: 0.7641973800460384\n"
     ]
    }
   ],
   "source": [
    "rand_lgbm_param = {\n",
    "    'max_depth': [25, 35],\n",
    "    'learning_rate': [0.3]\n",
    "}\n",
    "\n",
    "gbm = lgb.LGBMClassifier(\n",
    "    boosting_type='gbdt',\n",
    "    n_jobs=-1\n",
    ")\n",
    "\n",
    "gbm_random= train_model(gbm, rand_lgbm_param)"
   ]
  },
  {
   "cell_type": "markdown",
   "metadata": {},
   "source": [
    "### XGBoost"
   ]
  },
  {
   "cell_type": "code",
   "execution_count": 37,
   "metadata": {
    "scrolled": true
   },
   "outputs": [
    {
     "name": "stdout",
     "output_type": "stream",
     "text": [
      "Fitting 4 folds for each of 2 candidates, totalling 8 fits\n"
     ]
    },
    {
     "name": "stderr",
     "output_type": "stream",
     "text": [
      "C:\\Users\\granu\\anaconda3\\envs\\praktikum_env_win_new\\lib\\site-packages\\sklearn\\model_selection\\_search.py:296: UserWarning: The total space of parameters 2 is smaller than n_iter=10. Running 2 iterations. For exhaustive searches, use GridSearchCV.\n",
      "  UserWarning,\n"
     ]
    },
    {
     "name": "stdout",
     "output_type": "stream",
     "text": [
      "RandomizedSearchCV подбирал параметры 185.30 секунд\n",
      "Лучшие параметры: {'max_depth': 15, 'learning_rate': 0.5}\n",
      "F1 обученной модели: 0.759039846519746\n"
     ]
    }
   ],
   "source": [
    "rand_xgb_param = {\n",
    "    'max_depth': [9, 15],\n",
    "    'learning_rate': [0.5]\n",
    "}\n",
    "\n",
    "xb = xgb.XGBClassifier(booster='gbtree', \n",
    "                      use_rmm=True,\n",
    "                      n_jobs=-1)\n",
    "\n",
    "xb_random = train_model(xb, rand_xgb_param)"
   ]
  },
  {
   "cell_type": "code",
   "execution_count": 38,
   "metadata": {
    "scrolled": true
   },
   "outputs": [
    {
     "data": {
      "text/html": [
       "<div>\n",
       "<style scoped>\n",
       "    .dataframe tbody tr th:only-of-type {\n",
       "        vertical-align: middle;\n",
       "    }\n",
       "\n",
       "    .dataframe tbody tr th {\n",
       "        vertical-align: top;\n",
       "    }\n",
       "\n",
       "    .dataframe thead th {\n",
       "        text-align: right;\n",
       "    }\n",
       "</style>\n",
       "<table border=\"1\" class=\"dataframe\">\n",
       "  <thead>\n",
       "    <tr style=\"text-align: right;\">\n",
       "      <th></th>\n",
       "      <th>model</th>\n",
       "      <th>F1_model</th>\n",
       "      <th>names</th>\n",
       "    </tr>\n",
       "  </thead>\n",
       "  <tbody>\n",
       "    <tr>\n",
       "      <th>0</th>\n",
       "      <td>LogisticRegression(max_iter=1000)</td>\n",
       "      <td>0.759426</td>\n",
       "      <td>LogisticRegression</td>\n",
       "    </tr>\n",
       "    <tr>\n",
       "      <th>1</th>\n",
       "      <td>DecisionTreeClassifier()</td>\n",
       "      <td>0.699347</td>\n",
       "      <td>DecisionTree</td>\n",
       "    </tr>\n",
       "    <tr>\n",
       "      <th>2</th>\n",
       "      <td>RandomForestClassifier(n_jobs=-1)</td>\n",
       "      <td>0.588622</td>\n",
       "      <td>RandomForest</td>\n",
       "    </tr>\n",
       "    <tr>\n",
       "      <th>3</th>\n",
       "      <td>LGBMClassifier()</td>\n",
       "      <td>0.764197</td>\n",
       "      <td>LightGBM</td>\n",
       "    </tr>\n",
       "    <tr>\n",
       "      <th>4</th>\n",
       "      <td>XGBClassifier(base_score=None, booster='gbtree...</td>\n",
       "      <td>0.759040</td>\n",
       "      <td>XGBoost</td>\n",
       "    </tr>\n",
       "  </tbody>\n",
       "</table>\n",
       "</div>"
      ],
      "text/plain": [
       "                                               model  F1_model  \\\n",
       "0                  LogisticRegression(max_iter=1000)  0.759426   \n",
       "1                           DecisionTreeClassifier()  0.699347   \n",
       "2                  RandomForestClassifier(n_jobs=-1)  0.588622   \n",
       "3                                   LGBMClassifier()  0.764197   \n",
       "4  XGBClassifier(base_score=None, booster='gbtree...  0.759040   \n",
       "\n",
       "                names  \n",
       "0  LogisticRegression  \n",
       "1        DecisionTree  \n",
       "2        RandomForest  \n",
       "3            LightGBM  \n",
       "4             XGBoost  "
      ]
     },
     "metadata": {},
     "output_type": "display_data"
    }
   ],
   "source": [
    "all_names = pd.DataFrame({'names':[ 'LogisticRegression', 'DecisionTree', 'RandomForest', 'LightGBM', 'XGBoost']})\n",
    "analisys = pd.concat([analisys, all_names], axis=1, join='inner')\n",
    "display(analisys)\n"
   ]
  },
  {
   "cell_type": "code",
   "execution_count": 39,
   "metadata": {},
   "outputs": [
    {
     "data": {
      "image/png": "[encoded data removed]",
      "text/plain": [
       "<Figure size 1500x700 with 1 Axes>"
      ]
     },
     "metadata": {},
     "output_type": "display_data"
    }
   ],
   "source": [
    "analisys.plot.bar(y='F1_model', x='names', rot=45, figsize=(15,7), color='orange')\n",
    "plt.title('Сравнение метрик моделей', fontsize='x-large')\n",
    "plt.xlabel('Модель')\n",
    "plt.show()"
   ]
  },
  {
   "cell_type": "markdown",
   "metadata": {},
   "source": [
    "В для тестовой выборки выбираю `LightGBM`, т.к. у него наивысший параметр F1 score равный 0.764."
   ]
  },
  {
   "cell_type": "code",
   "execution_count": 41,
   "metadata": {},
   "outputs": [
    {
     "name": "stdout",
     "output_type": "stream",
     "text": [
      "F1 лучшей модели на тестовой выборке: 0.7711598746081505\n"
     ]
    }
   ],
   "source": [
    "predicted = gbm_random.predict(tf_idf_test)\n",
    "print('F1 лучшей модели на тестовой выборке:', f1_score(test_target, predicted))"
   ]
  },
  {
   "cell_type": "markdown",
   "metadata": {},
   "source": [
    "## Выводы"
   ]
  },
  {
   "cell_type": "markdown",
   "metadata": {},
   "source": [
    "Самая лучшая модель `LightGBM`. На тестовой выборки `F1` её равняется 0.77, что удовлетворяет условию F1 > 0.75"
   ]
  }
 ],
 "metadata": {
  "ExecuteTimeLog": [
   {
    "duration": 2145,
    "start_time": "2023-03-08T13:08:29.122Z"
   },
   {
    "duration": 2584,
    "start_time": "2023-03-08T13:10:26.621Z"
   },
   {
    "duration": 7,
    "start_time": "2023-03-08T13:11:23.414Z"
   },
   {
    "duration": 16,
    "start_time": "2023-03-08T13:11:26.410Z"
   },
   {
    "duration": 12,
    "start_time": "2023-03-08T13:11:51.912Z"
   },
   {
    "duration": 11,
    "start_time": "2023-03-08T13:12:26.307Z"
   },
   {
    "duration": 487,
    "start_time": "2023-03-08T13:20:53.089Z"
   },
   {
    "duration": 3,
    "start_time": "2023-03-08T13:20:55.768Z"
   },
   {
    "duration": 4235,
    "start_time": "2023-03-08T13:32:31.278Z"
   },
   {
    "duration": 4259,
    "start_time": "2023-03-08T13:32:39.412Z"
   },
   {
    "duration": 4204,
    "start_time": "2023-03-08T13:33:16.008Z"
   },
   {
    "duration": 5,
    "start_time": "2023-03-08T13:33:23.492Z"
   },
   {
    "duration": 0,
    "start_time": "2023-03-08T13:33:40.183Z"
   },
   {
    "duration": 4090,
    "start_time": "2023-03-08T13:33:41.327Z"
   },
   {
    "duration": 5,
    "start_time": "2023-03-08T13:33:50.786Z"
   },
   {
    "duration": 81205,
    "start_time": "2023-03-08T13:33:51.345Z"
   },
   {
    "duration": 54,
    "start_time": "2023-03-08T13:37:03.385Z"
   },
   {
    "duration": 44,
    "start_time": "2023-03-08T13:43:54.432Z"
   },
   {
    "duration": 1849,
    "start_time": "2023-03-08T13:43:58.947Z"
   },
   {
    "duration": 2291,
    "start_time": "2023-03-08T13:44:00.798Z"
   },
   {
    "duration": 30,
    "start_time": "2023-03-08T13:44:03.091Z"
   },
   {
    "duration": 16,
    "start_time": "2023-03-08T13:44:03.123Z"
   },
   {
    "duration": 480,
    "start_time": "2023-03-08T13:44:03.141Z"
   },
   {
    "duration": 3,
    "start_time": "2023-03-08T13:44:03.623Z"
   },
   {
    "duration": 9,
    "start_time": "2023-03-08T13:44:03.628Z"
   },
   {
    "duration": 75474,
    "start_time": "2023-03-08T13:44:03.638Z"
   },
   {
    "duration": 113,
    "start_time": "2023-03-08T13:45:19.114Z"
   },
   {
    "duration": 82,
    "start_time": "2023-03-08T13:45:35.606Z"
   },
   {
    "duration": 4840,
    "start_time": "2023-03-08T13:48:31.037Z"
   },
   {
    "duration": 4877,
    "start_time": "2023-03-08T13:48:44.268Z"
   },
   {
    "duration": 6621,
    "start_time": "2023-03-08T13:50:10.829Z"
   },
   {
    "duration": 6514,
    "start_time": "2023-03-08T13:50:24.678Z"
   },
   {
    "duration": 6430,
    "start_time": "2023-03-08T13:50:51.126Z"
   },
   {
    "duration": 4,
    "start_time": "2023-03-08T13:54:58.656Z"
   },
   {
    "duration": 7,
    "start_time": "2023-03-08T13:55:10.771Z"
   },
   {
    "duration": 5,
    "start_time": "2023-03-08T13:56:13.903Z"
   }
  ],
  "kernelspec": {
   "display_name": "Python 3 (ipykernel)",
   "language": "python",
   "name": "python3"
  },
  "language_info": {
   "codemirror_mode": {
    "name": "ipython",
    "version": 3
   },
   "file_extension": ".py",
   "mimetype": "text/x-python",
   "name": "python",
   "nbconvert_exporter": "python",
   "pygments_lexer": "ipython3",
   "version": "3.9.13"
  },
  "toc": {
   "base_numbering": 1,
   "nav_menu": {},
   "number_sections": true,
   "sideBar": true,
   "skip_h1_title": true,
   "title_cell": "Содержание",
   "title_sidebar": "Contents",
   "toc_cell": true,
   "toc_position": {
    "height": "calc(100% - 180px)",
    "left": "10px",
    "top": "150px",
    "width": "302.372px"
   },
   "toc_section_display": true,
   "toc_window_display": false
  }
 },
 "nbformat": 4,
 "nbformat_minor": 2
}
