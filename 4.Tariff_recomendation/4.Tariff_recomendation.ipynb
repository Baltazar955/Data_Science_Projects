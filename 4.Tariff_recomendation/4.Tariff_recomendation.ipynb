{
 "cells": [
  {
   "cell_type": "markdown",
   "metadata": {},
   "source": [
    "# Рекомендация тарифов"
   ]
  },
  {
   "cell_type": "markdown",
   "metadata": {},
   "source": [
    "В вашем распоряжении данные о поведении клиентов, которые уже перешли на эти тарифы (из проекта курса «Статистический анализ данных»). Нужно построить модель для задачи классификации, которая выберет подходящий тариф. Предобработка данных не понадобится — вы её уже сделали.\n",
    "\n",
    "Постройте модель с максимально большим значением *accuracy*. Чтобы сдать проект успешно, нужно довести долю правильных ответов по крайней мере до 0.75. Проверьте *accuracy* на тестовой выборке самостоятельно."
   ]
  },
  {
   "cell_type": "code",
   "execution_count": 2,
   "metadata": {},
   "outputs": [],
   "source": [
    "import pandas as pd\n",
    "import matplotlib.pyplot as plt\n",
    "\n",
    "from sklearn.linear_model import LogisticRegression\n",
    "from sklearn.model_selection import train_test_split\n",
    "from sklearn.metrics import mean_squared_error\n",
    "from sklearn.tree import DecisionTreeClassifier\n",
    "from sklearn.ensemble import RandomForestClassifier\n",
    "from sklearn.metrics import accuracy_score \n",
    "from sklearn.dummy import DummyClassifier\n",
    "\n",
    "import time\n",
    "from tqdm import tqdm"
   ]
  },
  {
   "cell_type": "markdown",
   "metadata": {},
   "source": [
    "## Откройте и изучите файл"
   ]
  },
  {
   "cell_type": "code",
   "execution_count": 3,
   "metadata": {},
   "outputs": [
    {
     "data": {
      "text/html": [
       "<div>\n",
       "<style scoped>\n",
       "    .dataframe tbody tr th:only-of-type {\n",
       "        vertical-align: middle;\n",
       "    }\n",
       "\n",
       "    .dataframe tbody tr th {\n",
       "        vertical-align: top;\n",
       "    }\n",
       "\n",
       "    .dataframe thead th {\n",
       "        text-align: right;\n",
       "    }\n",
       "</style>\n",
       "<table border=\"1\" class=\"dataframe\">\n",
       "  <thead>\n",
       "    <tr style=\"text-align: right;\">\n",
       "      <th></th>\n",
       "      <th>calls</th>\n",
       "      <th>minutes</th>\n",
       "      <th>messages</th>\n",
       "      <th>mb_used</th>\n",
       "      <th>is_ultra</th>\n",
       "    </tr>\n",
       "  </thead>\n",
       "  <tbody>\n",
       "    <tr>\n",
       "      <th>0</th>\n",
       "      <td>40.0</td>\n",
       "      <td>311.90</td>\n",
       "      <td>83.0</td>\n",
       "      <td>19915.42</td>\n",
       "      <td>0</td>\n",
       "    </tr>\n",
       "    <tr>\n",
       "      <th>1</th>\n",
       "      <td>85.0</td>\n",
       "      <td>516.75</td>\n",
       "      <td>56.0</td>\n",
       "      <td>22696.96</td>\n",
       "      <td>0</td>\n",
       "    </tr>\n",
       "    <tr>\n",
       "      <th>2</th>\n",
       "      <td>77.0</td>\n",
       "      <td>467.66</td>\n",
       "      <td>86.0</td>\n",
       "      <td>21060.45</td>\n",
       "      <td>0</td>\n",
       "    </tr>\n",
       "    <tr>\n",
       "      <th>3</th>\n",
       "      <td>106.0</td>\n",
       "      <td>745.53</td>\n",
       "      <td>81.0</td>\n",
       "      <td>8437.39</td>\n",
       "      <td>1</td>\n",
       "    </tr>\n",
       "    <tr>\n",
       "      <th>4</th>\n",
       "      <td>66.0</td>\n",
       "      <td>418.74</td>\n",
       "      <td>1.0</td>\n",
       "      <td>14502.75</td>\n",
       "      <td>0</td>\n",
       "    </tr>\n",
       "    <tr>\n",
       "      <th>5</th>\n",
       "      <td>58.0</td>\n",
       "      <td>344.56</td>\n",
       "      <td>21.0</td>\n",
       "      <td>15823.37</td>\n",
       "      <td>0</td>\n",
       "    </tr>\n",
       "    <tr>\n",
       "      <th>6</th>\n",
       "      <td>57.0</td>\n",
       "      <td>431.64</td>\n",
       "      <td>20.0</td>\n",
       "      <td>3738.90</td>\n",
       "      <td>1</td>\n",
       "    </tr>\n",
       "    <tr>\n",
       "      <th>7</th>\n",
       "      <td>15.0</td>\n",
       "      <td>132.40</td>\n",
       "      <td>6.0</td>\n",
       "      <td>21911.60</td>\n",
       "      <td>0</td>\n",
       "    </tr>\n",
       "    <tr>\n",
       "      <th>8</th>\n",
       "      <td>7.0</td>\n",
       "      <td>43.39</td>\n",
       "      <td>3.0</td>\n",
       "      <td>2538.67</td>\n",
       "      <td>1</td>\n",
       "    </tr>\n",
       "    <tr>\n",
       "      <th>9</th>\n",
       "      <td>90.0</td>\n",
       "      <td>665.41</td>\n",
       "      <td>38.0</td>\n",
       "      <td>17358.61</td>\n",
       "      <td>0</td>\n",
       "    </tr>\n",
       "  </tbody>\n",
       "</table>\n",
       "</div>"
      ],
      "text/plain": [
       "   calls  minutes  messages   mb_used  is_ultra\n",
       "0   40.0   311.90      83.0  19915.42         0\n",
       "1   85.0   516.75      56.0  22696.96         0\n",
       "2   77.0   467.66      86.0  21060.45         0\n",
       "3  106.0   745.53      81.0   8437.39         1\n",
       "4   66.0   418.74       1.0  14502.75         0\n",
       "5   58.0   344.56      21.0  15823.37         0\n",
       "6   57.0   431.64      20.0   3738.90         1\n",
       "7   15.0   132.40       6.0  21911.60         0\n",
       "8    7.0    43.39       3.0   2538.67         1\n",
       "9   90.0   665.41      38.0  17358.61         0"
      ]
     },
     "metadata": {},
     "output_type": "display_data"
    }
   ],
   "source": [
    "data = pd.read_csv('/datasets/users_behavior.csv')\n",
    "\n",
    "display(data.head(10))"
   ]
  },
  {
   "cell_type": "code",
   "execution_count": 4,
   "metadata": {
    "scrolled": true
   },
   "outputs": [
    {
     "name": "stdout",
     "output_type": "stream",
     "text": [
      "<class 'pandas.core.frame.DataFrame'>\n",
      "RangeIndex: 3214 entries, 0 to 3213\n",
      "Data columns (total 5 columns):\n",
      " #   Column    Non-Null Count  Dtype  \n",
      "---  ------    --------------  -----  \n",
      " 0   calls     3214 non-null   float64\n",
      " 1   minutes   3214 non-null   float64\n",
      " 2   messages  3214 non-null   float64\n",
      " 3   mb_used   3214 non-null   float64\n",
      " 4   is_ultra  3214 non-null   int64  \n",
      "dtypes: float64(4), int64(1)\n",
      "memory usage: 125.7 KB\n"
     ]
    }
   ],
   "source": [
    "data.info()"
   ]
  },
  {
   "cell_type": "markdown",
   "metadata": {},
   "source": [
    "Каждый объект в наборе данных — это информация о поведении одного пользователя за месяц. Известно:  \n",
    "*сalls* — количество звонков,  \n",
    "*minutes* — суммарная длительность звонков в минутах,  \n",
    "*messages* — количество sms-сообщений,  \n",
    "*mb_used* — израсходованный интернет-трафик в Мб,  \n",
    "*is_ultra* — каким тарифом пользовался в течение месяца («Ультра» — 1, «Смарт» — 0).  "
   ]
  },
  {
   "cell_type": "code",
   "execution_count": 5,
   "metadata": {},
   "outputs": [
    {
     "data": {
      "image/png": "[encoded data removed]",
      "text/plain": [
       "<Figure size 1080x864 with 6 Axes>"
      ]
     },
     "metadata": {
      "needs_background": "light"
     },
     "output_type": "display_data"
    }
   ],
   "source": [
    "data.hist(figsize=(15,12))\n",
    "plt.show()"
   ]
  },
  {
   "cell_type": "markdown",
   "metadata": {},
   "source": [
    "**Вывод:**\n",
    "- всего мы имеем `3214` строк данных, пропущенных значений нет\n",
    "- количество пользователей на тарифах \"Смарт\" и \"Ультра\" отличаются. Тарифом \"Ультра\" пользуется меньше людей\n",
    "\n"
   ]
  },
  {
   "cell_type": "markdown",
   "metadata": {},
   "source": [
    "## Разбейте данные на выборки"
   ]
  },
  {
   "cell_type": "markdown",
   "metadata": {},
   "source": [
    "Т.к. нету скрытой тестовой выборки, мне нужно разделить данные на 5 частей, 3 пойдут на обучение модели, 1 на тест и 1 на валидацию. Получается я могу сначала взять 20% от общей, это получится валидационная выборка. Потом от остатка взять 25% это будет тестовая (это 1/4 от 80%). Так получается 3:1:1."
   ]
  },
  {
   "cell_type": "code",
   "execution_count": 6,
   "metadata": {},
   "outputs": [],
   "source": [
    "#разделяю данные на обучающие и целевые\n",
    "\n",
    "features = data.drop(['is_ultra'], axis=1)\n",
    "target = data['is_ultra']\n",
    "\n",
    "# Отделяю 20% данных под валидацию\n",
    "\n",
    "features_rest, features_valid, target_rest, target_valid = train_test_split(\n",
    "   features, target, test_size=0.20, random_state=12345)\n",
    "\n",
    "# теперь разделяю остаток 1 к 4 на обучающую и тестовую выборки\n",
    "\n",
    "features_train, features_test, target_train, target_test = train_test_split(\n",
    "   features_rest, target_rest, test_size=0.25, random_state=12345)\n",
    "\n"
   ]
  },
  {
   "cell_type": "markdown",
   "metadata": {},
   "source": [
    "Данные разделены, теперь можно приступать к исследованию"
   ]
  },
  {
   "cell_type": "code",
   "execution_count": null,
   "metadata": {},
   "outputs": [],
   "source": [
    "#Kод ревьюера\n",
    "!pip install fast_ml\n",
    "from fast_ml.model_development import train_valid_test_split\n",
    "\n",
    "X_train, y_train, X_valid, y_valid, X_test, y_test = train_valid_test_split(data, target = 'is_ultra', \n",
    "                                                                            train_size=0.6, valid_size=0.2, test_size=0.2)\n"
   ]
  },
  {
   "cell_type": "markdown",
   "metadata": {},
   "source": [
    "## Исследуйте модели"
   ]
  },
  {
   "cell_type": "markdown",
   "metadata": {},
   "source": [
    "**Дерево решений**"
   ]
  },
  {
   "cell_type": "code",
   "execution_count": 7,
   "metadata": {},
   "outputs": [
    {
     "name": "stderr",
     "output_type": "stream",
     "text": [
      "100%|██████████| 15/15 [00:00<00:00, 84.12it/s]\n"
     ]
    },
    {
     "data": {
      "text/html": [
       "<div>\n",
       "<style scoped>\n",
       "    .dataframe tbody tr th:only-of-type {\n",
       "        vertical-align: middle;\n",
       "    }\n",
       "\n",
       "    .dataframe tbody tr th {\n",
       "        vertical-align: top;\n",
       "    }\n",
       "\n",
       "    .dataframe thead th {\n",
       "        text-align: right;\n",
       "    }\n",
       "</style>\n",
       "<table border=\"1\" class=\"dataframe\">\n",
       "  <thead>\n",
       "    <tr style=\"text-align: right;\">\n",
       "      <th></th>\n",
       "      <th>max_depth</th>\n",
       "      <th>accuracy</th>\n",
       "    </tr>\n",
       "  </thead>\n",
       "  <tbody>\n",
       "    <tr>\n",
       "      <th>0</th>\n",
       "      <td>1.0</td>\n",
       "      <td>0.748056</td>\n",
       "    </tr>\n",
       "    <tr>\n",
       "      <th>1</th>\n",
       "      <td>2.0</td>\n",
       "      <td>0.783826</td>\n",
       "    </tr>\n",
       "    <tr>\n",
       "      <th>2</th>\n",
       "      <td>3.0</td>\n",
       "      <td>0.786936</td>\n",
       "    </tr>\n",
       "    <tr>\n",
       "      <th>3</th>\n",
       "      <td>4.0</td>\n",
       "      <td>0.786936</td>\n",
       "    </tr>\n",
       "    <tr>\n",
       "      <th>4</th>\n",
       "      <td>5.0</td>\n",
       "      <td>0.788491</td>\n",
       "    </tr>\n",
       "    <tr>\n",
       "      <th>5</th>\n",
       "      <td>6.0</td>\n",
       "      <td>0.779160</td>\n",
       "    </tr>\n",
       "    <tr>\n",
       "      <th>6</th>\n",
       "      <td>7.0</td>\n",
       "      <td>0.788491</td>\n",
       "    </tr>\n",
       "    <tr>\n",
       "      <th>7</th>\n",
       "      <td>8.0</td>\n",
       "      <td>0.780715</td>\n",
       "    </tr>\n",
       "    <tr>\n",
       "      <th>8</th>\n",
       "      <td>9.0</td>\n",
       "      <td>0.777605</td>\n",
       "    </tr>\n",
       "    <tr>\n",
       "      <th>9</th>\n",
       "      <td>10.0</td>\n",
       "      <td>0.771384</td>\n",
       "    </tr>\n",
       "    <tr>\n",
       "      <th>10</th>\n",
       "      <td>11.0</td>\n",
       "      <td>0.765163</td>\n",
       "    </tr>\n",
       "    <tr>\n",
       "      <th>11</th>\n",
       "      <td>12.0</td>\n",
       "      <td>0.766719</td>\n",
       "    </tr>\n",
       "    <tr>\n",
       "      <th>12</th>\n",
       "      <td>13.0</td>\n",
       "      <td>0.749611</td>\n",
       "    </tr>\n",
       "    <tr>\n",
       "      <th>13</th>\n",
       "      <td>14.0</td>\n",
       "      <td>0.754277</td>\n",
       "    </tr>\n",
       "    <tr>\n",
       "      <th>14</th>\n",
       "      <td>15.0</td>\n",
       "      <td>0.741835</td>\n",
       "    </tr>\n",
       "  </tbody>\n",
       "</table>\n",
       "</div>"
      ],
      "text/plain": [
       "    max_depth  accuracy\n",
       "0         1.0  0.748056\n",
       "1         2.0  0.783826\n",
       "2         3.0  0.786936\n",
       "3         4.0  0.786936\n",
       "4         5.0  0.788491\n",
       "5         6.0  0.779160\n",
       "6         7.0  0.788491\n",
       "7         8.0  0.780715\n",
       "8         9.0  0.777605\n",
       "9        10.0  0.771384\n",
       "10       11.0  0.765163\n",
       "11       12.0  0.766719\n",
       "12       13.0  0.749611\n",
       "13       14.0  0.754277\n",
       "14       15.0  0.741835"
      ]
     },
     "metadata": {},
     "output_type": "display_data"
    }
   ],
   "source": [
    "# Создаю таблицу для записи полученных значений\n",
    "table_tree = pd.DataFrame({'max_depth':[], 'accuracy':[]})\n",
    "#Решающее дерево\n",
    "\n",
    "table_tree.drop(table_tree.index,inplace=True)\n",
    "\n",
    "\n",
    "for depth in tqdm(range(1, 16)):\n",
    "    table_row = []\n",
    "    model = DecisionTreeClassifier(random_state=12345, max_depth=depth)\n",
    "    model.fit(features_train, target_train) # обучаем модель\n",
    "    \n",
    "    predictions_valid = model.predict(features_valid) # предсказывание даных\n",
    "    \n",
    "    accuracy = accuracy_score(target_valid, predictions_valid) # смотрим точность\n",
    "    #accuracy = model.score(features_valid, target_valid)\n",
    "    table_row.extend([depth, accuracy]) # добавляем к строке данные\n",
    "    table_tree.loc[len(table_tree.index)] = table_row # заполняем таблицу\n",
    "    \n",
    "    \n",
    "display(table_tree)"
   ]
  },
  {
   "cell_type": "code",
   "execution_count": 8,
   "metadata": {},
   "outputs": [
    {
     "data": {
      "image/png": "[encoded data removed]",
      "text/plain": [
       "<Figure size 1080x720 with 1 Axes>"
      ]
     },
     "metadata": {
      "needs_background": "light"
     },
     "output_type": "display_data"
    }
   ],
   "source": [
    "table_tree.plot.bar(x='max_depth', y='accuracy', ylim=(0.7, 0.82), figsize=(15,10), color='blue')\n",
    "plt.show()"
   ]
  },
  {
   "cell_type": "code",
   "execution_count": 9,
   "metadata": {
    "scrolled": true
   },
   "outputs": [
    {
     "data": {
      "text/html": [
       "<div>\n",
       "<style scoped>\n",
       "    .dataframe tbody tr th:only-of-type {\n",
       "        vertical-align: middle;\n",
       "    }\n",
       "\n",
       "    .dataframe tbody tr th {\n",
       "        vertical-align: top;\n",
       "    }\n",
       "\n",
       "    .dataframe thead th {\n",
       "        text-align: right;\n",
       "    }\n",
       "</style>\n",
       "<table border=\"1\" class=\"dataframe\">\n",
       "  <thead>\n",
       "    <tr style=\"text-align: right;\">\n",
       "      <th></th>\n",
       "      <th>index</th>\n",
       "      <th>max_depth</th>\n",
       "      <th>accuracy</th>\n",
       "      <th>model</th>\n",
       "    </tr>\n",
       "  </thead>\n",
       "  <tbody>\n",
       "    <tr>\n",
       "      <th>0</th>\n",
       "      <td>4</td>\n",
       "      <td>5.0</td>\n",
       "      <td>0.788491</td>\n",
       "      <td>decision tree</td>\n",
       "    </tr>\n",
       "    <tr>\n",
       "      <th>1</th>\n",
       "      <td>6</td>\n",
       "      <td>7.0</td>\n",
       "      <td>0.788491</td>\n",
       "      <td>decision tree</td>\n",
       "    </tr>\n",
       "  </tbody>\n",
       "</table>\n",
       "</div>"
      ],
      "text/plain": [
       "   index  max_depth  accuracy          model\n",
       "0      4        5.0  0.788491  decision tree\n",
       "1      6        7.0  0.788491  decision tree"
      ]
     },
     "execution_count": 9,
     "metadata": {},
     "output_type": "execute_result"
    }
   ],
   "source": [
    "best_tree = table_tree[table_tree['accuracy'] == table_tree['accuracy'].max()].reset_index()\n",
    "\n",
    "best_tree['model'] = 'decision tree'\n",
    "\n",
    "best_tree"
   ]
  },
  {
   "cell_type": "markdown",
   "metadata": {},
   "source": [
    "**Случайный лес**"
   ]
  },
  {
   "cell_type": "code",
   "execution_count": 47,
   "metadata": {
    "scrolled": true
   },
   "outputs": [
    {
     "name": "stderr",
     "output_type": "stream",
     "text": [
      "100%|██████████| 6/6 [00:05<00:00,  1.13it/s]\n"
     ]
    },
    {
     "data": {
      "text/html": [
       "<div>\n",
       "<style scoped>\n",
       "    .dataframe tbody tr th:only-of-type {\n",
       "        vertical-align: middle;\n",
       "    }\n",
       "\n",
       "    .dataframe tbody tr th {\n",
       "        vertical-align: top;\n",
       "    }\n",
       "\n",
       "    .dataframe thead th {\n",
       "        text-align: right;\n",
       "    }\n",
       "</style>\n",
       "<table border=\"1\" class=\"dataframe\">\n",
       "  <thead>\n",
       "    <tr style=\"text-align: right;\">\n",
       "      <th></th>\n",
       "      <th>n_estimators</th>\n",
       "      <th>max_depth</th>\n",
       "      <th>accuracy</th>\n",
       "    </tr>\n",
       "  </thead>\n",
       "  <tbody>\n",
       "    <tr>\n",
       "      <th>0</th>\n",
       "      <td>10.0</td>\n",
       "      <td>1.0</td>\n",
       "      <td>0.757387</td>\n",
       "    </tr>\n",
       "    <tr>\n",
       "      <th>1</th>\n",
       "      <td>10.0</td>\n",
       "      <td>2.0</td>\n",
       "      <td>0.780715</td>\n",
       "    </tr>\n",
       "    <tr>\n",
       "      <th>2</th>\n",
       "      <td>10.0</td>\n",
       "      <td>3.0</td>\n",
       "      <td>0.779160</td>\n",
       "    </tr>\n",
       "    <tr>\n",
       "      <th>3</th>\n",
       "      <td>10.0</td>\n",
       "      <td>4.0</td>\n",
       "      <td>0.780715</td>\n",
       "    </tr>\n",
       "    <tr>\n",
       "      <th>4</th>\n",
       "      <td>10.0</td>\n",
       "      <td>5.0</td>\n",
       "      <td>0.785381</td>\n",
       "    </tr>\n",
       "    <tr>\n",
       "      <th>5</th>\n",
       "      <td>10.0</td>\n",
       "      <td>6.0</td>\n",
       "      <td>0.791602</td>\n",
       "    </tr>\n",
       "    <tr>\n",
       "      <th>6</th>\n",
       "      <td>10.0</td>\n",
       "      <td>7.0</td>\n",
       "      <td>0.793157</td>\n",
       "    </tr>\n",
       "    <tr>\n",
       "      <th>7</th>\n",
       "      <td>10.0</td>\n",
       "      <td>8.0</td>\n",
       "      <td>0.793157</td>\n",
       "    </tr>\n",
       "    <tr>\n",
       "      <th>8</th>\n",
       "      <td>10.0</td>\n",
       "      <td>9.0</td>\n",
       "      <td>0.794712</td>\n",
       "    </tr>\n",
       "    <tr>\n",
       "      <th>9</th>\n",
       "      <td>10.0</td>\n",
       "      <td>10.0</td>\n",
       "      <td>0.788491</td>\n",
       "    </tr>\n",
       "    <tr>\n",
       "      <th>10</th>\n",
       "      <td>20.0</td>\n",
       "      <td>1.0</td>\n",
       "      <td>0.754277</td>\n",
       "    </tr>\n",
       "    <tr>\n",
       "      <th>11</th>\n",
       "      <td>20.0</td>\n",
       "      <td>2.0</td>\n",
       "      <td>0.782271</td>\n",
       "    </tr>\n",
       "    <tr>\n",
       "      <th>12</th>\n",
       "      <td>20.0</td>\n",
       "      <td>3.0</td>\n",
       "      <td>0.783826</td>\n",
       "    </tr>\n",
       "    <tr>\n",
       "      <th>13</th>\n",
       "      <td>20.0</td>\n",
       "      <td>4.0</td>\n",
       "      <td>0.791602</td>\n",
       "    </tr>\n",
       "    <tr>\n",
       "      <th>14</th>\n",
       "      <td>20.0</td>\n",
       "      <td>5.0</td>\n",
       "      <td>0.794712</td>\n",
       "    </tr>\n",
       "    <tr>\n",
       "      <th>15</th>\n",
       "      <td>20.0</td>\n",
       "      <td>6.0</td>\n",
       "      <td>0.800933</td>\n",
       "    </tr>\n",
       "    <tr>\n",
       "      <th>16</th>\n",
       "      <td>20.0</td>\n",
       "      <td>7.0</td>\n",
       "      <td>0.793157</td>\n",
       "    </tr>\n",
       "    <tr>\n",
       "      <th>17</th>\n",
       "      <td>20.0</td>\n",
       "      <td>8.0</td>\n",
       "      <td>0.793157</td>\n",
       "    </tr>\n",
       "    <tr>\n",
       "      <th>18</th>\n",
       "      <td>20.0</td>\n",
       "      <td>9.0</td>\n",
       "      <td>0.790047</td>\n",
       "    </tr>\n",
       "    <tr>\n",
       "      <th>19</th>\n",
       "      <td>20.0</td>\n",
       "      <td>10.0</td>\n",
       "      <td>0.788491</td>\n",
       "    </tr>\n",
       "    <tr>\n",
       "      <th>20</th>\n",
       "      <td>30.0</td>\n",
       "      <td>1.0</td>\n",
       "      <td>0.762053</td>\n",
       "    </tr>\n",
       "    <tr>\n",
       "      <th>21</th>\n",
       "      <td>30.0</td>\n",
       "      <td>2.0</td>\n",
       "      <td>0.783826</td>\n",
       "    </tr>\n",
       "    <tr>\n",
       "      <th>22</th>\n",
       "      <td>30.0</td>\n",
       "      <td>3.0</td>\n",
       "      <td>0.783826</td>\n",
       "    </tr>\n",
       "    <tr>\n",
       "      <th>23</th>\n",
       "      <td>30.0</td>\n",
       "      <td>4.0</td>\n",
       "      <td>0.790047</td>\n",
       "    </tr>\n",
       "    <tr>\n",
       "      <th>24</th>\n",
       "      <td>30.0</td>\n",
       "      <td>5.0</td>\n",
       "      <td>0.793157</td>\n",
       "    </tr>\n",
       "    <tr>\n",
       "      <th>25</th>\n",
       "      <td>30.0</td>\n",
       "      <td>6.0</td>\n",
       "      <td>0.793157</td>\n",
       "    </tr>\n",
       "    <tr>\n",
       "      <th>26</th>\n",
       "      <td>30.0</td>\n",
       "      <td>7.0</td>\n",
       "      <td>0.793157</td>\n",
       "    </tr>\n",
       "    <tr>\n",
       "      <th>27</th>\n",
       "      <td>30.0</td>\n",
       "      <td>8.0</td>\n",
       "      <td>0.796267</td>\n",
       "    </tr>\n",
       "    <tr>\n",
       "      <th>28</th>\n",
       "      <td>30.0</td>\n",
       "      <td>9.0</td>\n",
       "      <td>0.797823</td>\n",
       "    </tr>\n",
       "    <tr>\n",
       "      <th>29</th>\n",
       "      <td>30.0</td>\n",
       "      <td>10.0</td>\n",
       "      <td>0.799378</td>\n",
       "    </tr>\n",
       "    <tr>\n",
       "      <th>30</th>\n",
       "      <td>40.0</td>\n",
       "      <td>1.0</td>\n",
       "      <td>0.757387</td>\n",
       "    </tr>\n",
       "    <tr>\n",
       "      <th>31</th>\n",
       "      <td>40.0</td>\n",
       "      <td>2.0</td>\n",
       "      <td>0.780715</td>\n",
       "    </tr>\n",
       "    <tr>\n",
       "      <th>32</th>\n",
       "      <td>40.0</td>\n",
       "      <td>3.0</td>\n",
       "      <td>0.783826</td>\n",
       "    </tr>\n",
       "    <tr>\n",
       "      <th>33</th>\n",
       "      <td>40.0</td>\n",
       "      <td>4.0</td>\n",
       "      <td>0.786936</td>\n",
       "    </tr>\n",
       "    <tr>\n",
       "      <th>34</th>\n",
       "      <td>40.0</td>\n",
       "      <td>5.0</td>\n",
       "      <td>0.791602</td>\n",
       "    </tr>\n",
       "    <tr>\n",
       "      <th>35</th>\n",
       "      <td>40.0</td>\n",
       "      <td>6.0</td>\n",
       "      <td>0.794712</td>\n",
       "    </tr>\n",
       "    <tr>\n",
       "      <th>36</th>\n",
       "      <td>40.0</td>\n",
       "      <td>7.0</td>\n",
       "      <td>0.790047</td>\n",
       "    </tr>\n",
       "    <tr>\n",
       "      <th>37</th>\n",
       "      <td>40.0</td>\n",
       "      <td>8.0</td>\n",
       "      <td>0.794712</td>\n",
       "    </tr>\n",
       "    <tr>\n",
       "      <th>38</th>\n",
       "      <td>40.0</td>\n",
       "      <td>9.0</td>\n",
       "      <td>0.793157</td>\n",
       "    </tr>\n",
       "    <tr>\n",
       "      <th>39</th>\n",
       "      <td>40.0</td>\n",
       "      <td>10.0</td>\n",
       "      <td>0.800933</td>\n",
       "    </tr>\n",
       "    <tr>\n",
       "      <th>40</th>\n",
       "      <td>50.0</td>\n",
       "      <td>1.0</td>\n",
       "      <td>0.758942</td>\n",
       "    </tr>\n",
       "    <tr>\n",
       "      <th>41</th>\n",
       "      <td>50.0</td>\n",
       "      <td>2.0</td>\n",
       "      <td>0.783826</td>\n",
       "    </tr>\n",
       "    <tr>\n",
       "      <th>42</th>\n",
       "      <td>50.0</td>\n",
       "      <td>3.0</td>\n",
       "      <td>0.786936</td>\n",
       "    </tr>\n",
       "    <tr>\n",
       "      <th>43</th>\n",
       "      <td>50.0</td>\n",
       "      <td>4.0</td>\n",
       "      <td>0.790047</td>\n",
       "    </tr>\n",
       "    <tr>\n",
       "      <th>44</th>\n",
       "      <td>50.0</td>\n",
       "      <td>5.0</td>\n",
       "      <td>0.793157</td>\n",
       "    </tr>\n",
       "    <tr>\n",
       "      <th>45</th>\n",
       "      <td>50.0</td>\n",
       "      <td>6.0</td>\n",
       "      <td>0.794712</td>\n",
       "    </tr>\n",
       "    <tr>\n",
       "      <th>46</th>\n",
       "      <td>50.0</td>\n",
       "      <td>7.0</td>\n",
       "      <td>0.791602</td>\n",
       "    </tr>\n",
       "    <tr>\n",
       "      <th>47</th>\n",
       "      <td>50.0</td>\n",
       "      <td>8.0</td>\n",
       "      <td>0.794712</td>\n",
       "    </tr>\n",
       "    <tr>\n",
       "      <th>48</th>\n",
       "      <td>50.0</td>\n",
       "      <td>9.0</td>\n",
       "      <td>0.794712</td>\n",
       "    </tr>\n",
       "    <tr>\n",
       "      <th>49</th>\n",
       "      <td>50.0</td>\n",
       "      <td>10.0</td>\n",
       "      <td>0.799378</td>\n",
       "    </tr>\n",
       "    <tr>\n",
       "      <th>50</th>\n",
       "      <td>60.0</td>\n",
       "      <td>1.0</td>\n",
       "      <td>0.777605</td>\n",
       "    </tr>\n",
       "    <tr>\n",
       "      <th>51</th>\n",
       "      <td>60.0</td>\n",
       "      <td>2.0</td>\n",
       "      <td>0.783826</td>\n",
       "    </tr>\n",
       "    <tr>\n",
       "      <th>52</th>\n",
       "      <td>60.0</td>\n",
       "      <td>3.0</td>\n",
       "      <td>0.791602</td>\n",
       "    </tr>\n",
       "    <tr>\n",
       "      <th>53</th>\n",
       "      <td>60.0</td>\n",
       "      <td>4.0</td>\n",
       "      <td>0.791602</td>\n",
       "    </tr>\n",
       "    <tr>\n",
       "      <th>54</th>\n",
       "      <td>60.0</td>\n",
       "      <td>5.0</td>\n",
       "      <td>0.791602</td>\n",
       "    </tr>\n",
       "    <tr>\n",
       "      <th>55</th>\n",
       "      <td>60.0</td>\n",
       "      <td>6.0</td>\n",
       "      <td>0.799378</td>\n",
       "    </tr>\n",
       "    <tr>\n",
       "      <th>56</th>\n",
       "      <td>60.0</td>\n",
       "      <td>7.0</td>\n",
       "      <td>0.794712</td>\n",
       "    </tr>\n",
       "    <tr>\n",
       "      <th>57</th>\n",
       "      <td>60.0</td>\n",
       "      <td>8.0</td>\n",
       "      <td>0.793157</td>\n",
       "    </tr>\n",
       "    <tr>\n",
       "      <th>58</th>\n",
       "      <td>60.0</td>\n",
       "      <td>9.0</td>\n",
       "      <td>0.796267</td>\n",
       "    </tr>\n",
       "    <tr>\n",
       "      <th>59</th>\n",
       "      <td>60.0</td>\n",
       "      <td>10.0</td>\n",
       "      <td>0.797823</td>\n",
       "    </tr>\n",
       "  </tbody>\n",
       "</table>\n",
       "</div>"
      ],
      "text/plain": [
       "    n_estimators  max_depth  accuracy\n",
       "0           10.0        1.0  0.757387\n",
       "1           10.0        2.0  0.780715\n",
       "2           10.0        3.0  0.779160\n",
       "3           10.0        4.0  0.780715\n",
       "4           10.0        5.0  0.785381\n",
       "5           10.0        6.0  0.791602\n",
       "6           10.0        7.0  0.793157\n",
       "7           10.0        8.0  0.793157\n",
       "8           10.0        9.0  0.794712\n",
       "9           10.0       10.0  0.788491\n",
       "10          20.0        1.0  0.754277\n",
       "11          20.0        2.0  0.782271\n",
       "12          20.0        3.0  0.783826\n",
       "13          20.0        4.0  0.791602\n",
       "14          20.0        5.0  0.794712\n",
       "15          20.0        6.0  0.800933\n",
       "16          20.0        7.0  0.793157\n",
       "17          20.0        8.0  0.793157\n",
       "18          20.0        9.0  0.790047\n",
       "19          20.0       10.0  0.788491\n",
       "20          30.0        1.0  0.762053\n",
       "21          30.0        2.0  0.783826\n",
       "22          30.0        3.0  0.783826\n",
       "23          30.0        4.0  0.790047\n",
       "24          30.0        5.0  0.793157\n",
       "25          30.0        6.0  0.793157\n",
       "26          30.0        7.0  0.793157\n",
       "27          30.0        8.0  0.796267\n",
       "28          30.0        9.0  0.797823\n",
       "29          30.0       10.0  0.799378\n",
       "30          40.0        1.0  0.757387\n",
       "31          40.0        2.0  0.780715\n",
       "32          40.0        3.0  0.783826\n",
       "33          40.0        4.0  0.786936\n",
       "34          40.0        5.0  0.791602\n",
       "35          40.0        6.0  0.794712\n",
       "36          40.0        7.0  0.790047\n",
       "37          40.0        8.0  0.794712\n",
       "38          40.0        9.0  0.793157\n",
       "39          40.0       10.0  0.800933\n",
       "40          50.0        1.0  0.758942\n",
       "41          50.0        2.0  0.783826\n",
       "42          50.0        3.0  0.786936\n",
       "43          50.0        4.0  0.790047\n",
       "44          50.0        5.0  0.793157\n",
       "45          50.0        6.0  0.794712\n",
       "46          50.0        7.0  0.791602\n",
       "47          50.0        8.0  0.794712\n",
       "48          50.0        9.0  0.794712\n",
       "49          50.0       10.0  0.799378\n",
       "50          60.0        1.0  0.777605\n",
       "51          60.0        2.0  0.783826\n",
       "52          60.0        3.0  0.791602\n",
       "53          60.0        4.0  0.791602\n",
       "54          60.0        5.0  0.791602\n",
       "55          60.0        6.0  0.799378\n",
       "56          60.0        7.0  0.794712\n",
       "57          60.0        8.0  0.793157\n",
       "58          60.0        9.0  0.796267\n",
       "59          60.0       10.0  0.797823"
      ]
     },
     "metadata": {},
     "output_type": "display_data"
    }
   ],
   "source": [
    "# Создаю таблицу для записи полученных значений\n",
    "random_forest = pd.DataFrame({'n_estimators':[],'max_depth':[], 'accuracy':[]})\n",
    "#Решающее дерево\n",
    "\n",
    "random_forest.drop(random_forest.index,inplace=True)\n",
    "\n",
    "\n",
    "for est in tqdm(range(10, 61, 10)):\n",
    "    for depth in range (1, 11):\n",
    "        table_row = []\n",
    "        model = RandomForestClassifier(random_state=12345, n_estimators=est, max_depth=depth)\n",
    "        model.fit(features_train, target_train) # обучите модель на тренировочной выборке\n",
    "        \n",
    "        predictions_valid = model.predict(features_valid) # предсказывание даных\n",
    "        accuracy = accuracy_score(target_valid, predictions_valid) # смотрим точность\n",
    "        #accuracy = model.score(features_valid, target_valid)\n",
    "    \n",
    "        table_row.extend([est, depth, accuracy]) # добавляем к строке данные\n",
    "        random_forest.loc[len(random_forest.index)] = table_row # заполняем таблицу\n",
    "    \n",
    "    \n",
    "display(random_forest)"
   ]
  },
  {
   "cell_type": "code",
   "execution_count": 11,
   "metadata": {
    "scrolled": true
   },
   "outputs": [
    {
     "data": {
      "image/png": "[encoded data removed]",
      "text/plain": [
       "<Figure size 1008x720 with 1 Axes>"
      ]
     },
     "metadata": {
      "needs_background": "light"
     },
     "output_type": "display_data"
    },
    {
     "data": {
      "image/png": "[encoded data removed]",
      "text/plain": [
       "<Figure size 1008x720 with 1 Axes>"
      ]
     },
     "metadata": {
      "needs_background": "light"
     },
     "output_type": "display_data"
    },
    {
     "data": {
      "image/png": "[encoded data removed]",
      "text/plain": [
       "<Figure size 1008x720 with 1 Axes>"
      ]
     },
     "metadata": {
      "needs_background": "light"
     },
     "output_type": "display_data"
    },
    {
     "data": {
      "image/png": "[encoded data removed]",
      "text/plain": [
       "<Figure size 1008x720 with 1 Axes>"
      ]
     },
     "metadata": {
      "needs_background": "light"
     },
     "output_type": "display_data"
    },
    {
     "data": {
      "image/png": "[encoded data removed]",
      "text/plain": [
       "<Figure size 1008x720 with 1 Axes>"
      ]
     },
     "metadata": {
      "needs_background": "light"
     },
     "output_type": "display_data"
    }
   ],
   "source": [
    "for x in range(10, 51, 10):\n",
    "    random_forest\n",
    "    random_forest[random_forest['n_estimators'] == x].plot.bar(x='max_depth', \n",
    "                                                               y='accuracy', \n",
    "                                                               ylim=(0.74, 0.81), \n",
    "                                                               figsize=(14,10), \n",
    "                                                               )\n",
    "    plt.ylabel('Точность', fontsize='x-large')\n",
    "    plt.xlabel('Глубина', fontsize='x-large')\n",
    "    plt.title(f'Для {x} деревьев', fontsize='x-large')\n",
    "    plt.show()"
   ]
  },
  {
   "cell_type": "code",
   "execution_count": 12,
   "metadata": {
    "scrolled": false
   },
   "outputs": [
    {
     "data": {
      "text/html": [
       "<div>\n",
       "<style scoped>\n",
       "    .dataframe tbody tr th:only-of-type {\n",
       "        vertical-align: middle;\n",
       "    }\n",
       "\n",
       "    .dataframe tbody tr th {\n",
       "        vertical-align: top;\n",
       "    }\n",
       "\n",
       "    .dataframe thead th {\n",
       "        text-align: right;\n",
       "    }\n",
       "</style>\n",
       "<table border=\"1\" class=\"dataframe\">\n",
       "  <thead>\n",
       "    <tr style=\"text-align: right;\">\n",
       "      <th></th>\n",
       "      <th>index</th>\n",
       "      <th>n_estimators</th>\n",
       "      <th>max_depth</th>\n",
       "      <th>accuracy</th>\n",
       "      <th>model</th>\n",
       "    </tr>\n",
       "  </thead>\n",
       "  <tbody>\n",
       "    <tr>\n",
       "      <th>0</th>\n",
       "      <td>15</td>\n",
       "      <td>20.0</td>\n",
       "      <td>6.0</td>\n",
       "      <td>0.800933</td>\n",
       "      <td>random forest</td>\n",
       "    </tr>\n",
       "    <tr>\n",
       "      <th>1</th>\n",
       "      <td>39</td>\n",
       "      <td>40.0</td>\n",
       "      <td>10.0</td>\n",
       "      <td>0.800933</td>\n",
       "      <td>random forest</td>\n",
       "    </tr>\n",
       "  </tbody>\n",
       "</table>\n",
       "</div>"
      ],
      "text/plain": [
       "   index  n_estimators  max_depth  accuracy          model\n",
       "0     15          20.0        6.0  0.800933  random forest\n",
       "1     39          40.0       10.0  0.800933  random forest"
      ]
     },
     "execution_count": 12,
     "metadata": {},
     "output_type": "execute_result"
    }
   ],
   "source": [
    "best_forest = random_forest[random_forest['accuracy'] == random_forest['accuracy'].max()].reset_index()\n",
    "\n",
    "best_forest['model'] = 'random forest'\n",
    "\n",
    "best_forest"
   ]
  },
  {
   "cell_type": "markdown",
   "metadata": {},
   "source": [
    "Получил одинаковую максимальную точность для кол-ва деревьев `20` и глубине `6`, такая же точность у `40` деревьев при глубине `10`.\n",
    "Выбор останется за меньшим кол-вом, т.к. оно будет быстрей работать"
   ]
  },
  {
   "cell_type": "markdown",
   "metadata": {},
   "source": [
    "**Логистическая регрессия**"
   ]
  },
  {
   "cell_type": "code",
   "execution_count": 13,
   "metadata": {},
   "outputs": [
    {
     "name": "stdout",
     "output_type": "stream",
     "text": [
      "При логистической регрессии точность составляет: 0.7978227060653188\n"
     ]
    }
   ],
   "source": [
    "\n",
    "model = LogisticRegression(random_state=12345)  # инициализируйте модель LinearRegression\n",
    "model.fit(features_train, target_train) # обучите модель на тренировочной выборке\n",
    "predictions_valid = model.predict(features_valid) # получите предсказания модели на валидационной выборке\n",
    "\n",
    "accuracy_log = accuracy_score(target_valid, predictions_valid)\n",
    "print('При логистической регрессии точность составляет:', accuracy )"
   ]
  },
  {
   "cell_type": "code",
   "execution_count": 14,
   "metadata": {
    "scrolled": false
   },
   "outputs": [
    {
     "data": {
      "text/html": [
       "<div>\n",
       "<style scoped>\n",
       "    .dataframe tbody tr th:only-of-type {\n",
       "        vertical-align: middle;\n",
       "    }\n",
       "\n",
       "    .dataframe tbody tr th {\n",
       "        vertical-align: top;\n",
       "    }\n",
       "\n",
       "    .dataframe thead th {\n",
       "        text-align: right;\n",
       "    }\n",
       "</style>\n",
       "<table border=\"1\" class=\"dataframe\">\n",
       "  <thead>\n",
       "    <tr style=\"text-align: right;\">\n",
       "      <th></th>\n",
       "      <th>model</th>\n",
       "      <th>accuracy</th>\n",
       "    </tr>\n",
       "  </thead>\n",
       "  <tbody>\n",
       "    <tr>\n",
       "      <th>0</th>\n",
       "      <td>logistic regression</td>\n",
       "      <td>0.758942</td>\n",
       "    </tr>\n",
       "  </tbody>\n",
       "</table>\n",
       "</div>"
      ],
      "text/plain": [
       "                 model  accuracy\n",
       "0  logistic regression  0.758942"
      ]
     },
     "execution_count": 14,
     "metadata": {},
     "output_type": "execute_result"
    }
   ],
   "source": [
    "table_log = pd.DataFrame({'model': ['logistic regression'], 'accuracy': accuracy_log})\n",
    "\n",
    "table_log"
   ]
  },
  {
   "cell_type": "markdown",
   "metadata": {},
   "source": [
    "**Список всех моделей**\n"
   ]
  },
  {
   "cell_type": "code",
   "execution_count": 34,
   "metadata": {
    "scrolled": true
   },
   "outputs": [
    {
     "data": {
      "text/html": [
       "<div>\n",
       "<style scoped>\n",
       "    .dataframe tbody tr th:only-of-type {\n",
       "        vertical-align: middle;\n",
       "    }\n",
       "\n",
       "    .dataframe tbody tr th {\n",
       "        vertical-align: top;\n",
       "    }\n",
       "\n",
       "    .dataframe thead th {\n",
       "        text-align: right;\n",
       "    }\n",
       "</style>\n",
       "<table border=\"1\" class=\"dataframe\">\n",
       "  <thead>\n",
       "    <tr style=\"text-align: right;\">\n",
       "      <th></th>\n",
       "      <th>model</th>\n",
       "      <th>n_estimators</th>\n",
       "      <th>max_depth</th>\n",
       "      <th>accuracy</th>\n",
       "    </tr>\n",
       "  </thead>\n",
       "  <tbody>\n",
       "    <tr>\n",
       "      <th>2</th>\n",
       "      <td>random forest</td>\n",
       "      <td>20.0</td>\n",
       "      <td>6.0</td>\n",
       "      <td>0.800933</td>\n",
       "    </tr>\n",
       "    <tr>\n",
       "      <th>3</th>\n",
       "      <td>random forest</td>\n",
       "      <td>40.0</td>\n",
       "      <td>10.0</td>\n",
       "      <td>0.800933</td>\n",
       "    </tr>\n",
       "    <tr>\n",
       "      <th>0</th>\n",
       "      <td>decision tree</td>\n",
       "      <td>NaN</td>\n",
       "      <td>5.0</td>\n",
       "      <td>0.788491</td>\n",
       "    </tr>\n",
       "    <tr>\n",
       "      <th>1</th>\n",
       "      <td>decision tree</td>\n",
       "      <td>NaN</td>\n",
       "      <td>7.0</td>\n",
       "      <td>0.788491</td>\n",
       "    </tr>\n",
       "    <tr>\n",
       "      <th>4</th>\n",
       "      <td>logistic regression</td>\n",
       "      <td>NaN</td>\n",
       "      <td>NaN</td>\n",
       "      <td>0.758942</td>\n",
       "    </tr>\n",
       "  </tbody>\n",
       "</table>\n",
       "</div>"
      ],
      "text/plain": [
       "                 model  n_estimators  max_depth  accuracy\n",
       "2        random forest          20.0        6.0  0.800933\n",
       "3        random forest          40.0       10.0  0.800933\n",
       "0        decision tree           NaN        5.0  0.788491\n",
       "1        decision tree           NaN        7.0  0.788491\n",
       "4  logistic regression           NaN        NaN  0.758942"
      ]
     },
     "metadata": {},
     "output_type": "display_data"
    }
   ],
   "source": [
    "best_model = pd.DataFrame({'model':[], 'n_estimators':[], 'max_depth':[], 'accuracy':[]})\n",
    "\n",
    "best_model = best_model.append(best_tree, ignore_index=True)\n",
    "best_model = best_model.append(best_forest, ignore_index=True)\n",
    "best_model = best_model.append(table_log, ignore_index=True)\n",
    "best_model = best_model.drop(labels = 'index', axis = 1)\n",
    "\n",
    "display(best_model.sort_values(by = 'accuracy', ascending = False))\n",
    "\n",
    "#best_model.plot.bar(x='model',y='accuracy',ylim=(0.74, 0.81),figsize=(14,10))"
   ]
  },
  {
   "cell_type": "markdown",
   "metadata": {},
   "source": [
    "**Вывод:**  \n",
    "Самая высокая точность у модели `Случайный лес`. Для тестирования возьму с числом деревьев `20` и глубиной `6`, т.к. это будет быстрее работать при том же результате."
   ]
  },
  {
   "cell_type": "markdown",
   "metadata": {},
   "source": [
    "## Проверьте модель на тестовой выборке"
   ]
  },
  {
   "cell_type": "code",
   "execution_count": 36,
   "metadata": {},
   "outputs": [
    {
     "data": {
      "text/plain": [
       "0.7853810264385692"
      ]
     },
     "execution_count": 36,
     "metadata": {},
     "output_type": "execute_result"
    }
   ],
   "source": [
    "# Возьму модель Случайного леса и укажу лучшие параметры\n",
    "\n",
    "model = RandomForestClassifier(random_state=12345, n_estimators=20, max_depth=6)\n",
    "model.fit(features_train, target_train) # обучите модель на тренировочной выборке\n",
    "        \n",
    "predictions_random_forest = model.predict(features_test) # предсказывание даных\n",
    "accuracy_random_forest = accuracy_score(target_test, predictions_random_forest) # смотрим точность\n",
    "\n",
    "accuracy_random_forest"
   ]
  },
  {
   "cell_type": "markdown",
   "metadata": {},
   "source": [
    "**Вывод**\n",
    "\n",
    "Точность на тестовой выбоке составила 78%"
   ]
  },
  {
   "cell_type": "markdown",
   "metadata": {},
   "source": [
    "## (бонус) Проверьте модели на адекватность"
   ]
  },
  {
   "cell_type": "markdown",
   "metadata": {},
   "source": [
    "Для прверки модели, сравним её с базовым уровнем. Для этого используем модель фиктивного классификатора `Dummy Classifier`. Это модель классификатора, которая делает прогнозы, не пытаясь найти закономерности в данных. Модель по умолчанию рассматривает, какая метка наиболее часто встречается в обучающем наборе данных, и делает прогнозы на основе этой метки."
   ]
  },
  {
   "cell_type": "code",
   "execution_count": 46,
   "metadata": {},
   "outputs": [
    {
     "data": {
      "text/plain": [
       "0.6889580093312597"
      ]
     },
     "execution_count": 46,
     "metadata": {},
     "output_type": "execute_result"
    }
   ],
   "source": [
    "dummy_clf = DummyClassifier(strategy=\"most_frequent\")\n",
    "dummy_clf.fit(features_train, target_train)\n",
    "DummyClassifier(strategy='most_frequent')\n",
    "\n",
    "dummy_clf.score(features_test, target_test)"
   ]
  },
  {
   "cell_type": "markdown",
   "metadata": {},
   "source": [
    "Точность `Dummy Classifier` составила 68%. Учитывая, что он не пытается найти никакую закономерность в данных, можно жно сказать, что модель случайного леса справилась нормально."
   ]
  }
 ],
 "metadata": {
  "ExecuteTimeLog": [
   {
    "duration": 73,
    "start_time": "2022-11-30T13:48:55.634Z"
   },
   {
    "duration": 490,
    "start_time": "2022-11-30T13:49:01.117Z"
   },
   {
    "duration": 75,
    "start_time": "2022-11-30T13:49:02.807Z"
   },
   {
    "duration": 46,
    "start_time": "2022-11-30T13:49:15.100Z"
   },
   {
    "duration": 43,
    "start_time": "2022-11-30T13:49:25.168Z"
   },
   {
    "duration": 13,
    "start_time": "2022-11-30T13:49:59.738Z"
   },
   {
    "duration": 954,
    "start_time": "2022-11-30T13:52:22.775Z"
   },
   {
    "duration": 701,
    "start_time": "2022-11-30T13:52:43.976Z"
   },
   {
    "duration": 3,
    "start_time": "2022-11-30T13:53:14.203Z"
   },
   {
    "duration": 588,
    "start_time": "2022-11-30T13:53:17.758Z"
   },
   {
    "duration": 550,
    "start_time": "2022-11-30T13:53:29.363Z"
   },
   {
    "duration": 647,
    "start_time": "2022-11-30T13:53:35.408Z"
   },
   {
    "duration": 574,
    "start_time": "2022-11-30T13:53:44.269Z"
   },
   {
    "duration": 830,
    "start_time": "2022-11-30T13:54:36.092Z"
   },
   {
    "duration": 57,
    "start_time": "2022-11-30T14:01:53.961Z"
   },
   {
    "duration": 5,
    "start_time": "2022-11-30T14:02:01.651Z"
   },
   {
    "duration": 20,
    "start_time": "2022-11-30T14:02:09.603Z"
   },
   {
    "duration": 9,
    "start_time": "2022-11-30T14:02:16.673Z"
   },
   {
    "duration": 8,
    "start_time": "2022-11-30T14:06:05.243Z"
   },
   {
    "duration": 15,
    "start_time": "2022-11-30T14:07:14.338Z"
   },
   {
    "duration": 15,
    "start_time": "2022-11-30T14:07:29.058Z"
   },
   {
    "duration": 16,
    "start_time": "2022-11-30T14:07:38.277Z"
   },
   {
    "duration": 13,
    "start_time": "2022-11-30T14:07:56.722Z"
   },
   {
    "duration": 15,
    "start_time": "2022-11-30T14:08:39.244Z"
   },
   {
    "duration": 15,
    "start_time": "2022-11-30T14:08:45.345Z"
   },
   {
    "duration": 8,
    "start_time": "2022-11-30T14:10:24.594Z"
   },
   {
    "duration": 76,
    "start_time": "2022-11-30T14:28:36.127Z"
   },
   {
    "duration": 12,
    "start_time": "2022-11-30T14:28:44.584Z"
   },
   {
    "duration": 8,
    "start_time": "2022-11-30T14:28:55.031Z"
   },
   {
    "duration": 4,
    "start_time": "2022-11-30T14:28:56.323Z"
   },
   {
    "duration": 11,
    "start_time": "2022-11-30T14:29:00.187Z"
   },
   {
    "duration": 18,
    "start_time": "2022-11-30T14:29:04.142Z"
   },
   {
    "duration": 17,
    "start_time": "2022-11-30T14:29:35.648Z"
   },
   {
    "duration": 8,
    "start_time": "2022-11-30T14:29:40.397Z"
   },
   {
    "duration": 20,
    "start_time": "2022-11-30T14:29:42.991Z"
   },
   {
    "duration": 12,
    "start_time": "2022-11-30T14:30:21.006Z"
   },
   {
    "duration": 10,
    "start_time": "2022-11-30T14:30:27.917Z"
   },
   {
    "duration": 8,
    "start_time": "2022-11-30T14:30:33.424Z"
   },
   {
    "duration": 18,
    "start_time": "2022-11-30T14:31:37.843Z"
   },
   {
    "duration": 19,
    "start_time": "2022-11-30T14:31:57.227Z"
   },
   {
    "duration": 111,
    "start_time": "2022-11-30T14:32:17.483Z"
   },
   {
    "duration": 17,
    "start_time": "2022-11-30T14:33:04.563Z"
   },
   {
    "duration": 3,
    "start_time": "2022-11-30T14:33:28.659Z"
   },
   {
    "duration": 92,
    "start_time": "2022-11-30T14:33:31.170Z"
   },
   {
    "duration": 156,
    "start_time": "2022-11-30T14:33:45.985Z"
   },
   {
    "duration": 8,
    "start_time": "2022-11-30T14:34:00.672Z"
   },
   {
    "duration": 14,
    "start_time": "2022-11-30T14:34:05.079Z"
   },
   {
    "duration": 4,
    "start_time": "2022-11-30T14:34:48.191Z"
   },
   {
    "duration": 152,
    "start_time": "2022-11-30T14:34:50.289Z"
   },
   {
    "duration": 15,
    "start_time": "2022-11-30T14:36:17.837Z"
   },
   {
    "duration": 14,
    "start_time": "2022-11-30T14:36:33.607Z"
   },
   {
    "duration": 164,
    "start_time": "2022-11-30T14:40:50.105Z"
   },
   {
    "duration": 4,
    "start_time": "2022-11-30T14:40:55.736Z"
   },
   {
    "duration": 153,
    "start_time": "2022-11-30T14:40:59.277Z"
   },
   {
    "duration": 7,
    "start_time": "2022-11-30T14:41:32.971Z"
   },
   {
    "duration": 150,
    "start_time": "2022-11-30T14:41:36.942Z"
   },
   {
    "duration": 10,
    "start_time": "2022-11-30T14:41:39.084Z"
   },
   {
    "duration": 10,
    "start_time": "2022-11-30T14:41:47.050Z"
   },
   {
    "duration": 168,
    "start_time": "2022-11-30T14:42:08.079Z"
   },
   {
    "duration": 182,
    "start_time": "2022-11-30T14:44:32.075Z"
   },
   {
    "duration": 29,
    "start_time": "2022-11-30T14:45:47.280Z"
   },
   {
    "duration": 19,
    "start_time": "2022-11-30T14:46:32.702Z"
   },
   {
    "duration": 28,
    "start_time": "2022-11-30T14:47:05.131Z"
   },
   {
    "duration": 21,
    "start_time": "2022-11-30T14:47:10.977Z"
   },
   {
    "duration": 22,
    "start_time": "2022-11-30T14:47:40.905Z"
   },
   {
    "duration": 10,
    "start_time": "2022-11-30T14:47:51.169Z"
   },
   {
    "duration": 3,
    "start_time": "2022-11-30T14:47:56.887Z"
   },
   {
    "duration": 21,
    "start_time": "2022-11-30T14:48:00.278Z"
   },
   {
    "duration": 20,
    "start_time": "2022-11-30T14:49:10.093Z"
   },
   {
    "duration": 4,
    "start_time": "2022-11-30T14:50:07.280Z"
   },
   {
    "duration": 45,
    "start_time": "2022-11-30T14:50:07.286Z"
   },
   {
    "duration": 13,
    "start_time": "2022-11-30T14:50:07.336Z"
   },
   {
    "duration": 633,
    "start_time": "2022-11-30T14:50:07.351Z"
   },
   {
    "duration": 7,
    "start_time": "2022-11-30T14:50:07.986Z"
   },
   {
    "duration": 7,
    "start_time": "2022-11-30T14:50:08.005Z"
   },
   {
    "duration": 20,
    "start_time": "2022-11-30T14:50:12.746Z"
   },
   {
    "duration": 20,
    "start_time": "2022-11-30T14:51:51.797Z"
   },
   {
    "duration": 26,
    "start_time": "2022-11-30T14:51:57.340Z"
   },
   {
    "duration": 112,
    "start_time": "2022-11-30T14:54:51.257Z"
   },
   {
    "duration": 137,
    "start_time": "2022-11-30T14:55:13.727Z"
   },
   {
    "duration": 20,
    "start_time": "2022-11-30T15:07:31.213Z"
   },
   {
    "duration": 21,
    "start_time": "2022-11-30T15:07:48.789Z"
   },
   {
    "duration": 23,
    "start_time": "2022-11-30T15:09:10.875Z"
   },
   {
    "duration": 3,
    "start_time": "2022-11-30T15:09:31.603Z"
   },
   {
    "duration": 54,
    "start_time": "2022-11-30T15:09:31.608Z"
   },
   {
    "duration": 9,
    "start_time": "2022-11-30T15:09:31.664Z"
   },
   {
    "duration": 573,
    "start_time": "2022-11-30T15:09:31.675Z"
   },
   {
    "duration": 7,
    "start_time": "2022-11-30T15:09:32.249Z"
   },
   {
    "duration": 20,
    "start_time": "2022-11-30T15:09:32.257Z"
   },
   {
    "duration": 23,
    "start_time": "2022-11-30T15:09:34.795Z"
   },
   {
    "duration": 23,
    "start_time": "2022-11-30T15:20:11.424Z"
   },
   {
    "duration": 173,
    "start_time": "2022-11-30T15:22:58.301Z"
   },
   {
    "duration": 372,
    "start_time": "2022-11-30T15:24:26.206Z"
   },
   {
    "duration": 295,
    "start_time": "2022-11-30T15:24:38.512Z"
   },
   {
    "duration": 206,
    "start_time": "2022-11-30T15:24:59.708Z"
   },
   {
    "duration": 198,
    "start_time": "2022-11-30T15:25:17.006Z"
   },
   {
    "duration": 191,
    "start_time": "2022-11-30T15:25:20.803Z"
   },
   {
    "duration": 201,
    "start_time": "2022-11-30T15:25:23.614Z"
   },
   {
    "duration": 211,
    "start_time": "2022-11-30T15:25:31.530Z"
   },
   {
    "duration": 183,
    "start_time": "2022-11-30T15:25:35.733Z"
   },
   {
    "duration": 193,
    "start_time": "2022-11-30T15:25:42.234Z"
   },
   {
    "duration": 220,
    "start_time": "2022-11-30T15:26:02.066Z"
   },
   {
    "duration": 17,
    "start_time": "2022-11-30T17:46:26.824Z"
   },
   {
    "duration": 4,
    "start_time": "2022-11-30T17:46:29.781Z"
   },
   {
    "duration": 65,
    "start_time": "2022-11-30T17:46:29.786Z"
   },
   {
    "duration": 11,
    "start_time": "2022-11-30T17:46:29.852Z"
   },
   {
    "duration": 670,
    "start_time": "2022-11-30T17:46:29.865Z"
   },
   {
    "duration": 8,
    "start_time": "2022-11-30T17:46:30.537Z"
   },
   {
    "duration": 34,
    "start_time": "2022-11-30T17:46:30.547Z"
   },
   {
    "duration": 181,
    "start_time": "2022-11-30T17:46:30.582Z"
   },
   {
    "duration": 230,
    "start_time": "2022-11-30T17:46:30.765Z"
   },
   {
    "duration": 13,
    "start_time": "2022-11-30T17:46:38.331Z"
   },
   {
    "duration": 9,
    "start_time": "2022-11-30T17:47:27.178Z"
   },
   {
    "duration": 146,
    "start_time": "2022-11-30T17:53:14.666Z"
   },
   {
    "duration": 155,
    "start_time": "2022-11-30T17:53:24.562Z"
   },
   {
    "duration": 219,
    "start_time": "2022-11-30T17:53:27.908Z"
   },
   {
    "duration": 7,
    "start_time": "2022-11-30T17:53:31.688Z"
   },
   {
    "duration": 180,
    "start_time": "2022-11-30T17:54:06.262Z"
   },
   {
    "duration": 208,
    "start_time": "2022-11-30T17:54:08.874Z"
   },
   {
    "duration": 13,
    "start_time": "2022-11-30T17:54:57.148Z"
   },
   {
    "duration": 137,
    "start_time": "2022-11-30T18:21:42.260Z"
   },
   {
    "duration": 223,
    "start_time": "2022-11-30T18:21:48.670Z"
   },
   {
    "duration": 13,
    "start_time": "2022-11-30T18:21:53.011Z"
   },
   {
    "duration": 13,
    "start_time": "2022-11-30T18:22:02.604Z"
   },
   {
    "duration": 4,
    "start_time": "2022-11-30T18:22:05.262Z"
   },
   {
    "duration": 37,
    "start_time": "2022-11-30T18:22:05.268Z"
   },
   {
    "duration": 10,
    "start_time": "2022-11-30T18:22:05.306Z"
   },
   {
    "duration": 533,
    "start_time": "2022-11-30T18:22:05.318Z"
   },
   {
    "duration": 7,
    "start_time": "2022-11-30T18:22:05.853Z"
   },
   {
    "duration": 160,
    "start_time": "2022-11-30T18:22:05.862Z"
   },
   {
    "duration": 224,
    "start_time": "2022-11-30T18:22:06.024Z"
   },
   {
    "duration": 14,
    "start_time": "2022-11-30T18:22:08.246Z"
   },
   {
    "duration": 8,
    "start_time": "2022-11-30T18:22:23.773Z"
   },
   {
    "duration": 16,
    "start_time": "2022-11-30T18:26:18.301Z"
   },
   {
    "duration": 138,
    "start_time": "2022-11-30T18:26:35.477Z"
   },
   {
    "duration": 31,
    "start_time": "2022-11-30T18:26:39.401Z"
   },
   {
    "duration": 132,
    "start_time": "2022-11-30T18:27:14.227Z"
   },
   {
    "duration": 32,
    "start_time": "2022-11-30T18:28:16.177Z"
   },
   {
    "duration": 30,
    "start_time": "2022-11-30T18:28:43.156Z"
   },
   {
    "duration": 32,
    "start_time": "2022-11-30T18:29:07.132Z"
   },
   {
    "duration": 31,
    "start_time": "2022-11-30T18:30:02.702Z"
   },
   {
    "duration": 32,
    "start_time": "2022-11-30T18:31:13.595Z"
   },
   {
    "duration": 157,
    "start_time": "2022-11-30T18:36:49.170Z"
   },
   {
    "duration": 130,
    "start_time": "2022-11-30T18:37:11.488Z"
   },
   {
    "duration": 26554,
    "start_time": "2022-11-30T18:38:31.320Z"
   },
   {
    "duration": 4197,
    "start_time": "2022-11-30T18:39:15.784Z"
   },
   {
    "duration": 35,
    "start_time": "2022-11-30T18:41:09.106Z"
   },
   {
    "duration": 4062,
    "start_time": "2022-11-30T18:41:28.162Z"
   },
   {
    "duration": 5794,
    "start_time": "2022-11-30T18:41:34.670Z"
   },
   {
    "duration": 9,
    "start_time": "2022-11-30T18:45:04.609Z"
   },
   {
    "duration": 35,
    "start_time": "2022-11-30T18:45:11.758Z"
   },
   {
    "duration": 139,
    "start_time": "2022-11-30T18:45:31.525Z"
   },
   {
    "duration": 195,
    "start_time": "2022-11-30T18:45:34.029Z"
   },
   {
    "duration": 8,
    "start_time": "2022-11-30T18:45:36.710Z"
   },
   {
    "duration": 8,
    "start_time": "2022-11-30T18:45:46.723Z"
   },
   {
    "duration": 139,
    "start_time": "2022-11-30T18:45:53.983Z"
   },
   {
    "duration": 8,
    "start_time": "2022-11-30T18:45:57.160Z"
   },
   {
    "duration": 33,
    "start_time": "2022-11-30T18:45:59.444Z"
   },
   {
    "duration": 5956,
    "start_time": "2022-11-30T18:46:33.010Z"
   },
   {
    "duration": 33,
    "start_time": "2022-11-30T18:49:30.868Z"
   },
   {
    "duration": 41,
    "start_time": "2022-11-30T18:49:44.047Z"
   },
   {
    "duration": 36,
    "start_time": "2022-11-30T18:49:59.556Z"
   },
   {
    "duration": 5122,
    "start_time": "2022-11-30T18:50:41.676Z"
   },
   {
    "duration": 9,
    "start_time": "2022-11-30T18:53:57.868Z"
   },
   {
    "duration": 11,
    "start_time": "2022-11-30T18:56:18.546Z"
   },
   {
    "duration": 10,
    "start_time": "2022-11-30T18:56:35.730Z"
   },
   {
    "duration": 11,
    "start_time": "2022-11-30T18:56:40.463Z"
   },
   {
    "duration": 928,
    "start_time": "2022-11-30T18:56:58.277Z"
   },
   {
    "duration": 1020,
    "start_time": "2022-11-30T18:57:12.729Z"
   },
   {
    "duration": 969,
    "start_time": "2022-11-30T18:57:22.077Z"
   },
   {
    "duration": 74,
    "start_time": "2022-11-30T18:57:29.227Z"
   },
   {
    "duration": 1075,
    "start_time": "2022-11-30T18:57:31.938Z"
   },
   {
    "duration": 964,
    "start_time": "2022-11-30T18:57:40.582Z"
   },
   {
    "duration": 4,
    "start_time": "2022-11-30T19:03:05.138Z"
   },
   {
    "duration": 39,
    "start_time": "2022-11-30T19:04:37.783Z"
   },
   {
    "duration": 11,
    "start_time": "2022-11-30T19:06:37.039Z"
   },
   {
    "duration": 12,
    "start_time": "2022-11-30T19:06:45.499Z"
   },
   {
    "duration": 10,
    "start_time": "2022-11-30T19:06:53.389Z"
   },
   {
    "duration": 11,
    "start_time": "2022-11-30T19:07:26.176Z"
   },
   {
    "duration": 10,
    "start_time": "2022-11-30T19:10:13.207Z"
   },
   {
    "duration": 8,
    "start_time": "2022-11-30T19:10:22.521Z"
   },
   {
    "duration": 8,
    "start_time": "2022-11-30T19:10:36.032Z"
   },
   {
    "duration": 41,
    "start_time": "2022-11-30T19:10:37.765Z"
   },
   {
    "duration": 8,
    "start_time": "2022-11-30T19:10:38.155Z"
   },
   {
    "duration": 49,
    "start_time": "2022-11-30T21:38:39.069Z"
   },
   {
    "duration": 1506,
    "start_time": "2022-11-30T21:38:46.574Z"
   },
   {
    "duration": 90,
    "start_time": "2022-11-30T21:38:48.081Z"
   },
   {
    "duration": 12,
    "start_time": "2022-11-30T21:38:48.172Z"
   },
   {
    "duration": 578,
    "start_time": "2022-11-30T21:38:48.186Z"
   },
   {
    "duration": 9,
    "start_time": "2022-11-30T21:38:48.767Z"
   },
   {
    "duration": 299,
    "start_time": "2022-11-30T21:38:48.777Z"
   },
   {
    "duration": 234,
    "start_time": "2022-11-30T21:38:49.078Z"
   },
   {
    "duration": 10,
    "start_time": "2022-11-30T21:38:49.314Z"
   },
   {
    "duration": 5293,
    "start_time": "2022-11-30T21:38:49.336Z"
   },
   {
    "duration": 1038,
    "start_time": "2022-11-30T21:38:54.638Z"
   },
   {
    "duration": 12,
    "start_time": "2022-11-30T21:38:55.678Z"
   },
   {
    "duration": 54,
    "start_time": "2022-11-30T21:38:55.691Z"
   },
   {
    "duration": 8,
    "start_time": "2022-11-30T21:38:55.747Z"
   },
   {
    "duration": 71,
    "start_time": "2022-11-30T21:38:58.646Z"
   },
   {
    "duration": 11,
    "start_time": "2022-11-30T21:39:05.721Z"
   },
   {
    "duration": 16,
    "start_time": "2022-11-30T21:39:11.509Z"
   },
   {
    "duration": 18,
    "start_time": "2022-11-30T21:40:04.570Z"
   },
   {
    "duration": 17,
    "start_time": "2022-11-30T21:40:25.442Z"
   },
   {
    "duration": 24,
    "start_time": "2022-11-30T21:41:15.388Z"
   },
   {
    "duration": 21,
    "start_time": "2022-11-30T21:41:47.580Z"
   },
   {
    "duration": 22,
    "start_time": "2022-11-30T21:41:56.150Z"
   },
   {
    "duration": 23,
    "start_time": "2022-11-30T21:42:05.466Z"
   },
   {
    "duration": 4,
    "start_time": "2022-11-30T21:42:15.184Z"
   },
   {
    "duration": 21,
    "start_time": "2022-11-30T21:42:17.859Z"
   },
   {
    "duration": 20,
    "start_time": "2022-11-30T21:42:24.050Z"
   },
   {
    "duration": 17,
    "start_time": "2022-11-30T21:42:29.454Z"
   },
   {
    "duration": 16,
    "start_time": "2022-11-30T21:46:25.993Z"
   },
   {
    "duration": 435,
    "start_time": "2022-11-30T21:47:29.830Z"
   },
   {
    "duration": 391,
    "start_time": "2022-11-30T21:47:39.157Z"
   },
   {
    "duration": 264,
    "start_time": "2022-11-30T21:47:57.123Z"
   },
   {
    "duration": 25,
    "start_time": "2022-11-30T21:49:18.486Z"
   },
   {
    "duration": 210,
    "start_time": "2022-11-30T21:49:30.638Z"
   },
   {
    "duration": 18,
    "start_time": "2022-11-30T21:49:44.276Z"
   },
   {
    "duration": 57,
    "start_time": "2022-11-30T21:58:49.241Z"
   },
   {
    "duration": 63,
    "start_time": "2022-11-30T21:58:55.514Z"
   },
   {
    "duration": 5,
    "start_time": "2022-11-30T22:13:17.141Z"
   },
   {
    "duration": 4,
    "start_time": "2022-11-30T22:16:58.769Z"
   },
   {
    "duration": 7,
    "start_time": "2022-11-30T22:18:05.579Z"
   },
   {
    "duration": 5,
    "start_time": "2022-11-30T22:19:15.371Z"
   },
   {
    "duration": 6,
    "start_time": "2022-11-30T22:19:45.113Z"
   },
   {
    "duration": 6,
    "start_time": "2022-11-30T22:21:04.651Z"
   },
   {
    "duration": 6,
    "start_time": "2022-11-30T22:23:01.143Z"
   },
   {
    "duration": 8,
    "start_time": "2022-11-30T22:37:50.562Z"
   },
   {
    "duration": 6,
    "start_time": "2022-11-30T22:37:52.449Z"
   },
   {
    "duration": 5,
    "start_time": "2022-11-30T22:38:06.428Z"
   },
   {
    "duration": 5341,
    "start_time": "2022-11-30T22:48:32.172Z"
   },
   {
    "duration": 1522,
    "start_time": "2022-12-01T18:23:13.314Z"
   },
   {
    "duration": 4,
    "start_time": "2022-12-01T18:23:42.007Z"
   }
  ],
  "kernelspec": {
   "display_name": "Python 3 (ipykernel)",
   "language": "python",
   "name": "python3"
  },
  "language_info": {
   "codemirror_mode": {
    "name": "ipython",
    "version": 3
   },
   "file_extension": ".py",
   "mimetype": "text/x-python",
   "name": "python",
   "nbconvert_exporter": "python",
   "pygments_lexer": "ipython3",
   "version": "3.9.13"
  },
  "toc": {
   "base_numbering": 1,
   "nav_menu": {},
   "number_sections": true,
   "sideBar": true,
   "skip_h1_title": true,
   "title_cell": "Table of Contents",
   "title_sidebar": "Contents",
   "toc_cell": false,
   "toc_position": {},
   "toc_section_display": true,
   "toc_window_display": false
  }
 },
 "nbformat": 4,
 "nbformat_minor": 2
}
