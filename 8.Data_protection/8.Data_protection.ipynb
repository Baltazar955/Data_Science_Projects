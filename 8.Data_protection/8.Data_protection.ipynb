{
 "cells": [
  {
   "cell_type": "markdown",
   "metadata": {
    "toc": true
   },
   "source": [
    "<h1>Содержание<span class=\"tocSkip\"></span></h1>\n",
    "<div class=\"toc\"><ul class=\"toc-item\"><li><span><a href=\"#Загрузка-данных\" data-toc-modified-id=\"Загрузка-данных-1\"><span class=\"toc-item-num\">1&nbsp;&nbsp;</span>Загрузка данных</a></span><ul class=\"toc-item\"><li><span><a href=\"#Вывод-по-изучению-данных\" data-toc-modified-id=\"Вывод-по-изучению-данных-1.1\"><span class=\"toc-item-num\">1.1&nbsp;&nbsp;</span>Вывод по изучению данных</a></span></li></ul></li><li><span><a href=\"#Умножение-матриц\" data-toc-modified-id=\"Умножение-матриц-2\"><span class=\"toc-item-num\">2&nbsp;&nbsp;</span>Умножение матриц</a></span><ul class=\"toc-item\"><li><span><a href=\"#Вывод-по-умножению-матриц:\" data-toc-modified-id=\"Вывод-по-умножению-матриц:-2.1\"><span class=\"toc-item-num\">2.1&nbsp;&nbsp;</span>Вывод по умножению матриц:</a></span></li></ul></li><li><span><a href=\"#Алгоритм-преобразования\" data-toc-modified-id=\"Алгоритм-преобразования-3\"><span class=\"toc-item-num\">3&nbsp;&nbsp;</span>Алгоритм преобразования</a></span></li><li><span><a href=\"#Проверка-алгоритма\" data-toc-modified-id=\"Проверка-алгоритма-4\"><span class=\"toc-item-num\">4&nbsp;&nbsp;</span>Проверка алгоритма</a></span></li><li><span><a href=\"#Общий-вывод\" data-toc-modified-id=\"Общий-вывод-5\"><span class=\"toc-item-num\">5&nbsp;&nbsp;</span>Общий вывод</a></span></li></ul></div>"
   ]
  },
  {
   "cell_type": "markdown",
   "metadata": {},
   "source": [
    "# Защита персональных данных клиентов"
   ]
  },
  {
   "cell_type": "markdown",
   "metadata": {},
   "source": [
    "Вам нужно защитить данные клиентов страховой компании «Хоть потоп». Разработайте такой метод преобразования данных, чтобы по ним было сложно восстановить персональную информацию. Обоснуйте корректность его работы.\n",
    "\n",
    "Нужно защитить данные, чтобы при преобразовании качество моделей машинного обучения не ухудшилось. Подбирать наилучшую модель не требуется."
   ]
  },
  {
   "cell_type": "markdown",
   "metadata": {},
   "source": [
    "## Загрузка данных"
   ]
  },
  {
   "cell_type": "code",
   "execution_count": 14,
   "metadata": {},
   "outputs": [],
   "source": [
    "import pandas as pd\n",
    "import numpy as np\n",
    "\n",
    "from sklearn.linear_model import LinearRegression\n",
    "from sklearn.model_selection import train_test_split\n",
    "from sklearn.metrics import r2_score\n",
    "\n",
    "import matplotlib.pyplot as plt # импорт библиотеки matplotlib\n",
    "plt.style.use('seaborn-pastel')\n",
    "import seaborn as sns"
   ]
  },
  {
   "cell_type": "code",
   "execution_count": 15,
   "metadata": {
    "scrolled": true
   },
   "outputs": [
    {
     "data": {
      "text/html": [
       "<div>\n",
       "<style scoped>\n",
       "    .dataframe tbody tr th:only-of-type {\n",
       "        vertical-align: middle;\n",
       "    }\n",
       "\n",
       "    .dataframe tbody tr th {\n",
       "        vertical-align: top;\n",
       "    }\n",
       "\n",
       "    .dataframe thead th {\n",
       "        text-align: right;\n",
       "    }\n",
       "</style>\n",
       "<table border=\"1\" class=\"dataframe\">\n",
       "  <thead>\n",
       "    <tr style=\"text-align: right;\">\n",
       "      <th></th>\n",
       "      <th>Пол</th>\n",
       "      <th>Возраст</th>\n",
       "      <th>Зарплата</th>\n",
       "      <th>Члены семьи</th>\n",
       "      <th>Страховые выплаты</th>\n",
       "    </tr>\n",
       "  </thead>\n",
       "  <tbody>\n",
       "    <tr>\n",
       "      <th>0</th>\n",
       "      <td>1</td>\n",
       "      <td>41.0</td>\n",
       "      <td>49600.0</td>\n",
       "      <td>1</td>\n",
       "      <td>0</td>\n",
       "    </tr>\n",
       "    <tr>\n",
       "      <th>1</th>\n",
       "      <td>0</td>\n",
       "      <td>46.0</td>\n",
       "      <td>38000.0</td>\n",
       "      <td>1</td>\n",
       "      <td>1</td>\n",
       "    </tr>\n",
       "    <tr>\n",
       "      <th>2</th>\n",
       "      <td>0</td>\n",
       "      <td>29.0</td>\n",
       "      <td>21000.0</td>\n",
       "      <td>0</td>\n",
       "      <td>0</td>\n",
       "    </tr>\n",
       "    <tr>\n",
       "      <th>3</th>\n",
       "      <td>0</td>\n",
       "      <td>21.0</td>\n",
       "      <td>41700.0</td>\n",
       "      <td>2</td>\n",
       "      <td>0</td>\n",
       "    </tr>\n",
       "    <tr>\n",
       "      <th>4</th>\n",
       "      <td>1</td>\n",
       "      <td>28.0</td>\n",
       "      <td>26100.0</td>\n",
       "      <td>0</td>\n",
       "      <td>0</td>\n",
       "    </tr>\n",
       "    <tr>\n",
       "      <th>5</th>\n",
       "      <td>1</td>\n",
       "      <td>43.0</td>\n",
       "      <td>41000.0</td>\n",
       "      <td>2</td>\n",
       "      <td>1</td>\n",
       "    </tr>\n",
       "    <tr>\n",
       "      <th>6</th>\n",
       "      <td>1</td>\n",
       "      <td>39.0</td>\n",
       "      <td>39700.0</td>\n",
       "      <td>2</td>\n",
       "      <td>0</td>\n",
       "    </tr>\n",
       "    <tr>\n",
       "      <th>7</th>\n",
       "      <td>1</td>\n",
       "      <td>25.0</td>\n",
       "      <td>38600.0</td>\n",
       "      <td>4</td>\n",
       "      <td>0</td>\n",
       "    </tr>\n",
       "    <tr>\n",
       "      <th>8</th>\n",
       "      <td>1</td>\n",
       "      <td>36.0</td>\n",
       "      <td>49700.0</td>\n",
       "      <td>1</td>\n",
       "      <td>0</td>\n",
       "    </tr>\n",
       "    <tr>\n",
       "      <th>9</th>\n",
       "      <td>1</td>\n",
       "      <td>32.0</td>\n",
       "      <td>51700.0</td>\n",
       "      <td>1</td>\n",
       "      <td>0</td>\n",
       "    </tr>\n",
       "    <tr>\n",
       "      <th>10</th>\n",
       "      <td>1</td>\n",
       "      <td>25.0</td>\n",
       "      <td>36600.0</td>\n",
       "      <td>1</td>\n",
       "      <td>0</td>\n",
       "    </tr>\n",
       "    <tr>\n",
       "      <th>11</th>\n",
       "      <td>1</td>\n",
       "      <td>38.0</td>\n",
       "      <td>29300.0</td>\n",
       "      <td>0</td>\n",
       "      <td>0</td>\n",
       "    </tr>\n",
       "    <tr>\n",
       "      <th>12</th>\n",
       "      <td>0</td>\n",
       "      <td>23.0</td>\n",
       "      <td>39500.0</td>\n",
       "      <td>3</td>\n",
       "      <td>0</td>\n",
       "    </tr>\n",
       "    <tr>\n",
       "      <th>13</th>\n",
       "      <td>0</td>\n",
       "      <td>21.0</td>\n",
       "      <td>55000.0</td>\n",
       "      <td>0</td>\n",
       "      <td>0</td>\n",
       "    </tr>\n",
       "    <tr>\n",
       "      <th>14</th>\n",
       "      <td>0</td>\n",
       "      <td>40.0</td>\n",
       "      <td>43700.0</td>\n",
       "      <td>1</td>\n",
       "      <td>0</td>\n",
       "    </tr>\n",
       "  </tbody>\n",
       "</table>\n",
       "</div>"
      ],
      "text/plain": [
       "    Пол  Возраст  Зарплата  Члены семьи  Страховые выплаты\n",
       "0     1     41.0   49600.0            1                  0\n",
       "1     0     46.0   38000.0            1                  1\n",
       "2     0     29.0   21000.0            0                  0\n",
       "3     0     21.0   41700.0            2                  0\n",
       "4     1     28.0   26100.0            0                  0\n",
       "5     1     43.0   41000.0            2                  1\n",
       "6     1     39.0   39700.0            2                  0\n",
       "7     1     25.0   38600.0            4                  0\n",
       "8     1     36.0   49700.0            1                  0\n",
       "9     1     32.0   51700.0            1                  0\n",
       "10    1     25.0   36600.0            1                  0\n",
       "11    1     38.0   29300.0            0                  0\n",
       "12    0     23.0   39500.0            3                  0\n",
       "13    0     21.0   55000.0            0                  0\n",
       "14    0     40.0   43700.0            1                  0"
      ]
     },
     "execution_count": 15,
     "metadata": {},
     "output_type": "execute_result"
    }
   ],
   "source": [
    "data = pd.read_csv('/datasets/insurance.csv')\n",
    "data.head(15)"
   ]
  },
  {
   "cell_type": "code",
   "execution_count": 16,
   "metadata": {
    "scrolled": false
   },
   "outputs": [
    {
     "name": "stdout",
     "output_type": "stream",
     "text": [
      "<class 'pandas.core.frame.DataFrame'>\n",
      "RangeIndex: 5000 entries, 0 to 4999\n",
      "Data columns (total 5 columns):\n",
      " #   Column             Non-Null Count  Dtype  \n",
      "---  ------             --------------  -----  \n",
      " 0   Пол                5000 non-null   int64  \n",
      " 1   Возраст            5000 non-null   float64\n",
      " 2   Зарплата           5000 non-null   float64\n",
      " 3   Члены семьи        5000 non-null   int64  \n",
      " 4   Страховые выплаты  5000 non-null   int64  \n",
      "dtypes: float64(2), int64(3)\n",
      "memory usage: 195.4 KB\n"
     ]
    }
   ],
   "source": [
    "data.info()"
   ]
  },
  {
   "cell_type": "code",
   "execution_count": 17,
   "metadata": {
    "scrolled": true
   },
   "outputs": [
    {
     "data": {
      "text/html": [
       "<div>\n",
       "<style scoped>\n",
       "    .dataframe tbody tr th:only-of-type {\n",
       "        vertical-align: middle;\n",
       "    }\n",
       "\n",
       "    .dataframe tbody tr th {\n",
       "        vertical-align: top;\n",
       "    }\n",
       "\n",
       "    .dataframe thead th {\n",
       "        text-align: right;\n",
       "    }\n",
       "</style>\n",
       "<table border=\"1\" class=\"dataframe\">\n",
       "  <thead>\n",
       "    <tr style=\"text-align: right;\">\n",
       "      <th></th>\n",
       "      <th>gender</th>\n",
       "      <th>age</th>\n",
       "      <th>salary</th>\n",
       "      <th>family_members</th>\n",
       "      <th>insurance_payments</th>\n",
       "    </tr>\n",
       "  </thead>\n",
       "  <tbody>\n",
       "    <tr>\n",
       "      <th>0</th>\n",
       "      <td>1</td>\n",
       "      <td>41.0</td>\n",
       "      <td>49600.0</td>\n",
       "      <td>1</td>\n",
       "      <td>0</td>\n",
       "    </tr>\n",
       "    <tr>\n",
       "      <th>1</th>\n",
       "      <td>0</td>\n",
       "      <td>46.0</td>\n",
       "      <td>38000.0</td>\n",
       "      <td>1</td>\n",
       "      <td>1</td>\n",
       "    </tr>\n",
       "    <tr>\n",
       "      <th>2</th>\n",
       "      <td>0</td>\n",
       "      <td>29.0</td>\n",
       "      <td>21000.0</td>\n",
       "      <td>0</td>\n",
       "      <td>0</td>\n",
       "    </tr>\n",
       "    <tr>\n",
       "      <th>3</th>\n",
       "      <td>0</td>\n",
       "      <td>21.0</td>\n",
       "      <td>41700.0</td>\n",
       "      <td>2</td>\n",
       "      <td>0</td>\n",
       "    </tr>\n",
       "    <tr>\n",
       "      <th>4</th>\n",
       "      <td>1</td>\n",
       "      <td>28.0</td>\n",
       "      <td>26100.0</td>\n",
       "      <td>0</td>\n",
       "      <td>0</td>\n",
       "    </tr>\n",
       "    <tr>\n",
       "      <th>...</th>\n",
       "      <td>...</td>\n",
       "      <td>...</td>\n",
       "      <td>...</td>\n",
       "      <td>...</td>\n",
       "      <td>...</td>\n",
       "    </tr>\n",
       "    <tr>\n",
       "      <th>4995</th>\n",
       "      <td>0</td>\n",
       "      <td>28.0</td>\n",
       "      <td>35700.0</td>\n",
       "      <td>2</td>\n",
       "      <td>0</td>\n",
       "    </tr>\n",
       "    <tr>\n",
       "      <th>4996</th>\n",
       "      <td>0</td>\n",
       "      <td>34.0</td>\n",
       "      <td>52400.0</td>\n",
       "      <td>1</td>\n",
       "      <td>0</td>\n",
       "    </tr>\n",
       "    <tr>\n",
       "      <th>4997</th>\n",
       "      <td>0</td>\n",
       "      <td>20.0</td>\n",
       "      <td>33900.0</td>\n",
       "      <td>2</td>\n",
       "      <td>0</td>\n",
       "    </tr>\n",
       "    <tr>\n",
       "      <th>4998</th>\n",
       "      <td>1</td>\n",
       "      <td>22.0</td>\n",
       "      <td>32700.0</td>\n",
       "      <td>3</td>\n",
       "      <td>0</td>\n",
       "    </tr>\n",
       "    <tr>\n",
       "      <th>4999</th>\n",
       "      <td>1</td>\n",
       "      <td>28.0</td>\n",
       "      <td>40600.0</td>\n",
       "      <td>1</td>\n",
       "      <td>0</td>\n",
       "    </tr>\n",
       "  </tbody>\n",
       "</table>\n",
       "<p>5000 rows × 5 columns</p>\n",
       "</div>"
      ],
      "text/plain": [
       "      gender   age   salary  family_members  insurance_payments\n",
       "0          1  41.0  49600.0               1                   0\n",
       "1          0  46.0  38000.0               1                   1\n",
       "2          0  29.0  21000.0               0                   0\n",
       "3          0  21.0  41700.0               2                   0\n",
       "4          1  28.0  26100.0               0                   0\n",
       "...      ...   ...      ...             ...                 ...\n",
       "4995       0  28.0  35700.0               2                   0\n",
       "4996       0  34.0  52400.0               1                   0\n",
       "4997       0  20.0  33900.0               2                   0\n",
       "4998       1  22.0  32700.0               3                   0\n",
       "4999       1  28.0  40600.0               1                   0\n",
       "\n",
       "[5000 rows x 5 columns]"
      ]
     },
     "execution_count": 17,
     "metadata": {},
     "output_type": "execute_result"
    }
   ],
   "source": [
    "# Переименую столбцы\n",
    "data.columns = ['gender', 'age', 'salary', 'family_members', 'insurance_payments']\n",
    "data"
   ]
  },
  {
   "cell_type": "code",
   "execution_count": 18,
   "metadata": {},
   "outputs": [],
   "source": [
    "#Изменю тип данных в столбцах age и salary\n",
    "data['age'] = data['age'].astype('int64')\n",
    "data['salary']= data['salary'].astype('int64')"
   ]
  },
  {
   "cell_type": "code",
   "execution_count": 19,
   "metadata": {
    "scrolled": true
   },
   "outputs": [
    {
     "name": "stdout",
     "output_type": "stream",
     "text": [
      "Дубликаты: 153\n"
     ]
    }
   ],
   "source": [
    "print('Дубликаты:',data.duplicated().sum())"
   ]
  },
  {
   "cell_type": "code",
   "execution_count": 20,
   "metadata": {},
   "outputs": [],
   "source": [
    "# Избавлюсь от 153 дубликатов\n",
    "data = data.drop_duplicates().reset_index(drop=True)"
   ]
  },
  {
   "cell_type": "code",
   "execution_count": 21,
   "metadata": {},
   "outputs": [
    {
     "name": "stdout",
     "output_type": "stream",
     "text": [
      "Дубликаты: 0\n"
     ]
    }
   ],
   "source": [
    "print('Дубликаты:',data.duplicated().sum())"
   ]
  },
  {
   "cell_type": "code",
   "execution_count": 22,
   "metadata": {},
   "outputs": [
    {
     "data": {
      "image/png": "[encoded data removed]",
      "text/plain": [
       "<Figure size 720x360 with 2 Axes>"
      ]
     },
     "metadata": {
      "needs_background": "light"
     },
     "output_type": "display_data"
    }
   ],
   "source": [
    "plt.figure(figsize=(10, 5))\n",
    "plt.title('Матрица корреляций 1')\n",
    "sns.heatmap(data.corr(), annot = True)\n",
    "plt.show()"
   ]
  },
  {
   "cell_type": "markdown",
   "metadata": {},
   "source": [
    "### Вывод по изучению данных"
   ]
  },
  {
   "cell_type": "markdown",
   "metadata": {},
   "source": [
    "- столбцы переименовы. Названия изменены на латиницу, с нижним подчёркиванием\n",
    "- в столбцах `age` и `salary` был изменён тип данных на `int64`\n",
    "- были удалены `153` явных дубликата"
   ]
  },
  {
   "cell_type": "markdown",
   "metadata": {},
   "source": [
    "## Умножение матриц"
   ]
  },
  {
   "cell_type": "markdown",
   "metadata": {},
   "source": [
    "Обозначения:\n",
    "\n",
    "- $X$ — матрица признаков (нулевой столбец состоит из единиц)\n",
    "\n",
    "- $y$ — вектор целевого признака\n",
    "\n",
    "- $P$ — матрица, на которую умножаются признаки\n",
    "\n",
    "- $w$ — вектор весов линейной регрессии (нулевой элемент равен сдвигу)"
   ]
  },
  {
   "cell_type": "markdown",
   "metadata": {},
   "source": [
    "Предсказания:\n",
    "\n",
    "$$\n",
    "a = Xw\n",
    "$$\n",
    "\n",
    "Задача обучения:\n",
    "\n",
    "$$\n",
    "w = \\arg\\min_w MSE(Xw, y)\n",
    "$$\n",
    "\n",
    "Формула обучения:\n",
    "\n",
    "$$\n",
    "w = (X^T X)^{-1} X^T y\n",
    "$$"
   ]
  },
  {
   "cell_type": "markdown",
   "metadata": {},
   "source": [
    "**Ответ:** Не изменится\n",
    "\n",
    "**Обоснование:** \n",
    "Признаки умножаются на обратимую матрицу $P$. Формула обучения примет вид:    \n",
    "\n",
    "$$ w' = ((XP)^T XP)^{-1} (XP)^T y $$\n",
    "\n",
    "Раскрываем скобки:  \n",
    "$$ w' = ((P^TX^T XP)^{-1} P^TX^T y $$  \n",
    "\n",
    "Заключим $X^T X $ в скобки и раскроем внешние:\n",
    "\n",
    "$$ w' = P^{-1}(X^T X)^{-1}(P^T)^{-1} P^TX^T y $$\n",
    "\n",
    "Т.к.:  \n",
    "\n",
    "$$ (P^T)^{-1} P^T = (P^{-1} P)^T = E^T = E $$ \n",
    "\n",
    "То уравнение принимает вид:  \n",
    "\n",
    "$$ w' = P^{-1}(X^T X)^{-1}X^T y $$\n",
    "\n",
    "Подставляем $w$ в $w'$ :\n",
    "\n",
    "$$ w' = P^{-1}w $$\n",
    "\n",
    "Предсказания $a'$:\n",
    "\n",
    "$$ a' = XPw' $$\n",
    "\n",
    "Подставляем $w'$:\n",
    "\n",
    "$$ a' = XPP^{-1}w $$\n",
    "\n",
    "При перемножении $PP^{-1}$ получается еденичная матрица:\n",
    "$$ a' = XEw $$\n",
    "\n",
    "Из этого:\n",
    "\n",
    "$$ a' = Xw = a $$\n",
    "\n"
   ]
  },
  {
   "cell_type": "markdown",
   "metadata": {},
   "source": [
    "### Вывод по умножению матриц:  \n",
    "\n",
    "При перемножении признаков на обратимую матрицу, предсказания не изменяются"
   ]
  },
  {
   "cell_type": "markdown",
   "metadata": {},
   "source": [
    "## Алгоритм преобразования"
   ]
  },
  {
   "cell_type": "markdown",
   "metadata": {},
   "source": [
    "**Алгоритм**\n",
    "\n",
    "1. Разделить данные на features и target.\n",
    "2. Создать рандомизированную квадратную матрицу, ширина которой будет равняться количеству признаков.\n",
    "3. Проверить матрицу на обратимость. Если необратима, то изменить признаки раномизации\n",
    "4. Создать зашифрованную таблицу, преобразовав признаки, с помощью умножения их на матрицу\n",
    "5. Разделить датасеты на тестовую и тренеровочную выборки\n",
    "6. Сравнить метрики, если равны, задача выполнена."
   ]
  },
  {
   "cell_type": "markdown",
   "metadata": {},
   "source": [
    "**Обоснование**\n",
    "\n",
    "Ранее, с помощью уравнений, было выяснено, что при умножении исходной матрицы на случайную, предсказания $a$ и $a'$ равны. Из этого следует, что метрики качества равны."
   ]
  },
  {
   "cell_type": "markdown",
   "metadata": {},
   "source": [
    "## Проверка алгоритма"
   ]
  },
  {
   "cell_type": "code",
   "execution_count": 46,
   "metadata": {},
   "outputs": [],
   "source": [
    "#Создадим функцию, которая будет преобразовывать данные, умножая их на случайную матрицу  \n",
    "def encode(data, randomstate = 12345, randint = 745):\n",
    "    try:\n",
    "        # Создаём случайность\n",
    "        rand = np.random.RandomState(randomstate)\n",
    "\n",
    "        # Создади матрицу, разброс значений у которой от 0 до randint\n",
    "\n",
    "        P = rand.randint(randint, size=(data.shape[1], data.shape[1]))\n",
    "\n",
    "        # Проверка на обратимость\n",
    "        P_rev = np.linalg.inv(P)\n",
    "        \n",
    "        # Если прошло успешно, умножаем таблицу на матрицу\n",
    "        encoded_data = np.dot(data, P)\n",
    "        encoded_data = pd.DataFrame(encoded_data, columns=data.columns)\n",
    "        \n",
    "        return encoded_data, P_rev\n",
    "    \n",
    "    except:\n",
    "        print('Матрица необратима, выберите другое значение параметра randint')"
   ]
  },
  {
   "cell_type": "code",
   "execution_count": 47,
   "metadata": {},
   "outputs": [],
   "source": [
    "# разделяем выборку на features и target\n",
    "\n",
    "features = data.drop('insurance_payments', axis = 1)\n",
    "target = data['insurance_payments']\n"
   ]
  },
  {
   "cell_type": "code",
   "execution_count": 48,
   "metadata": {},
   "outputs": [
    {
     "data": {
      "text/html": [
       "<div>\n",
       "<style scoped>\n",
       "    .dataframe tbody tr th:only-of-type {\n",
       "        vertical-align: middle;\n",
       "    }\n",
       "\n",
       "    .dataframe tbody tr th {\n",
       "        vertical-align: top;\n",
       "    }\n",
       "\n",
       "    .dataframe thead th {\n",
       "        text-align: right;\n",
       "    }\n",
       "</style>\n",
       "<table border=\"1\" class=\"dataframe\">\n",
       "  <thead>\n",
       "    <tr style=\"text-align: right;\">\n",
       "      <th></th>\n",
       "      <th>gender</th>\n",
       "      <th>age</th>\n",
       "      <th>salary</th>\n",
       "      <th>family_members</th>\n",
       "    </tr>\n",
       "  </thead>\n",
       "  <tbody>\n",
       "    <tr>\n",
       "      <th>0</th>\n",
       "      <td>1</td>\n",
       "      <td>41</td>\n",
       "      <td>49600</td>\n",
       "      <td>1</td>\n",
       "    </tr>\n",
       "    <tr>\n",
       "      <th>1</th>\n",
       "      <td>0</td>\n",
       "      <td>46</td>\n",
       "      <td>38000</td>\n",
       "      <td>1</td>\n",
       "    </tr>\n",
       "    <tr>\n",
       "      <th>2</th>\n",
       "      <td>0</td>\n",
       "      <td>29</td>\n",
       "      <td>21000</td>\n",
       "      <td>0</td>\n",
       "    </tr>\n",
       "    <tr>\n",
       "      <th>3</th>\n",
       "      <td>0</td>\n",
       "      <td>21</td>\n",
       "      <td>41700</td>\n",
       "      <td>2</td>\n",
       "    </tr>\n",
       "    <tr>\n",
       "      <th>4</th>\n",
       "      <td>1</td>\n",
       "      <td>28</td>\n",
       "      <td>26100</td>\n",
       "      <td>0</td>\n",
       "    </tr>\n",
       "    <tr>\n",
       "      <th>...</th>\n",
       "      <td>...</td>\n",
       "      <td>...</td>\n",
       "      <td>...</td>\n",
       "      <td>...</td>\n",
       "    </tr>\n",
       "    <tr>\n",
       "      <th>4842</th>\n",
       "      <td>0</td>\n",
       "      <td>28</td>\n",
       "      <td>35700</td>\n",
       "      <td>2</td>\n",
       "    </tr>\n",
       "    <tr>\n",
       "      <th>4843</th>\n",
       "      <td>0</td>\n",
       "      <td>34</td>\n",
       "      <td>52400</td>\n",
       "      <td>1</td>\n",
       "    </tr>\n",
       "    <tr>\n",
       "      <th>4844</th>\n",
       "      <td>0</td>\n",
       "      <td>20</td>\n",
       "      <td>33900</td>\n",
       "      <td>2</td>\n",
       "    </tr>\n",
       "    <tr>\n",
       "      <th>4845</th>\n",
       "      <td>1</td>\n",
       "      <td>22</td>\n",
       "      <td>32700</td>\n",
       "      <td>3</td>\n",
       "    </tr>\n",
       "    <tr>\n",
       "      <th>4846</th>\n",
       "      <td>1</td>\n",
       "      <td>28</td>\n",
       "      <td>40600</td>\n",
       "      <td>1</td>\n",
       "    </tr>\n",
       "  </tbody>\n",
       "</table>\n",
       "<p>4847 rows × 4 columns</p>\n",
       "</div>"
      ],
      "text/plain": [
       "      gender  age  salary  family_members\n",
       "0          1   41   49600               1\n",
       "1          0   46   38000               1\n",
       "2          0   29   21000               0\n",
       "3          0   21   41700               2\n",
       "4          1   28   26100               0\n",
       "...      ...  ...     ...             ...\n",
       "4842       0   28   35700               2\n",
       "4843       0   34   52400               1\n",
       "4844       0   20   33900               2\n",
       "4845       1   22   32700               3\n",
       "4846       1   28   40600               1\n",
       "\n",
       "[4847 rows x 4 columns]"
      ]
     },
     "execution_count": 48,
     "metadata": {},
     "output_type": "execute_result"
    }
   ],
   "source": [
    "features"
   ]
  },
  {
   "cell_type": "code",
   "execution_count": 49,
   "metadata": {},
   "outputs": [
    {
     "data": {
      "text/html": [
       "<div>\n",
       "<style scoped>\n",
       "    .dataframe tbody tr th:only-of-type {\n",
       "        vertical-align: middle;\n",
       "    }\n",
       "\n",
       "    .dataframe tbody tr th {\n",
       "        vertical-align: top;\n",
       "    }\n",
       "\n",
       "    .dataframe thead th {\n",
       "        text-align: right;\n",
       "    }\n",
       "</style>\n",
       "<table border=\"1\" class=\"dataframe\">\n",
       "  <thead>\n",
       "    <tr style=\"text-align: right;\">\n",
       "      <th></th>\n",
       "      <th>gender</th>\n",
       "      <th>age</th>\n",
       "      <th>salary</th>\n",
       "      <th>family_members</th>\n",
       "    </tr>\n",
       "  </thead>\n",
       "  <tbody>\n",
       "    <tr>\n",
       "      <th>0</th>\n",
       "      <td>27099617</td>\n",
       "      <td>26852164</td>\n",
       "      <td>5868852</td>\n",
       "      <td>18317257</td>\n",
       "    </tr>\n",
       "    <tr>\n",
       "      <th>1</th>\n",
       "      <td>20767635</td>\n",
       "      <td>20578204</td>\n",
       "      <td>4501677</td>\n",
       "      <td>14038513</td>\n",
       "    </tr>\n",
       "    <tr>\n",
       "      <th>2</th>\n",
       "      <td>11478180</td>\n",
       "      <td>11373325</td>\n",
       "      <td>2489078</td>\n",
       "      <td>7759353</td>\n",
       "    </tr>\n",
       "    <tr>\n",
       "      <th>3</th>\n",
       "      <td>22777650</td>\n",
       "      <td>22569933</td>\n",
       "      <td>4928832</td>\n",
       "      <td>15394979</td>\n",
       "    </tr>\n",
       "    <tr>\n",
       "      <th>4</th>\n",
       "      <td>14262842</td>\n",
       "      <td>14132485</td>\n",
       "      <td>3090781</td>\n",
       "      <td>9641025</td>\n",
       "    </tr>\n",
       "    <tr>\n",
       "      <th>...</th>\n",
       "      <td>...</td>\n",
       "      <td>...</td>\n",
       "      <td>...</td>\n",
       "      <td>...</td>\n",
       "    </tr>\n",
       "    <tr>\n",
       "      <th>4842</th>\n",
       "      <td>19504590</td>\n",
       "      <td>19326908</td>\n",
       "      <td>4223506</td>\n",
       "      <td>13183478</td>\n",
       "    </tr>\n",
       "    <tr>\n",
       "      <th>4843</th>\n",
       "      <td>28624995</td>\n",
       "      <td>28363504</td>\n",
       "      <td>6196293</td>\n",
       "      <td>19347829</td>\n",
       "    </tr>\n",
       "    <tr>\n",
       "      <th>4844</th>\n",
       "      <td>18518430</td>\n",
       "      <td>18349708</td>\n",
       "      <td>4008050</td>\n",
       "      <td>12516422</td>\n",
       "    </tr>\n",
       "    <tr>\n",
       "      <th>4845</th>\n",
       "      <td>17864867</td>\n",
       "      <td>17702497</td>\n",
       "      <td>3867604</td>\n",
       "      <td>12074556</td>\n",
       "    </tr>\n",
       "    <tr>\n",
       "      <th>4846</th>\n",
       "      <td>22180157</td>\n",
       "      <td>21977639</td>\n",
       "      <td>4801886</td>\n",
       "      <td>14991616</td>\n",
       "    </tr>\n",
       "  </tbody>\n",
       "</table>\n",
       "<p>4847 rows × 4 columns</p>\n",
       "</div>"
      ],
      "text/plain": [
       "        gender       age   salary  family_members\n",
       "0     27099617  26852164  5868852        18317257\n",
       "1     20767635  20578204  4501677        14038513\n",
       "2     11478180  11373325  2489078         7759353\n",
       "3     22777650  22569933  4928832        15394979\n",
       "4     14262842  14132485  3090781         9641025\n",
       "...        ...       ...      ...             ...\n",
       "4842  19504590  19326908  4223506        13183478\n",
       "4843  28624995  28363504  6196293        19347829\n",
       "4844  18518430  18349708  4008050        12516422\n",
       "4845  17864867  17702497  3867604        12074556\n",
       "4846  22180157  21977639  4801886        14991616\n",
       "\n",
       "[4847 rows x 4 columns]"
      ]
     },
     "execution_count": 49,
     "metadata": {},
     "output_type": "execute_result"
    }
   ],
   "source": [
    "features_encoded, encode_matrix = encode(features)\n",
    "\n",
    "features_encoded"
   ]
  },
  {
   "cell_type": "code",
   "execution_count": 56,
   "metadata": {
    "scrolled": false
   },
   "outputs": [
    {
     "data": {
      "text/plain": [
       "array([[ 4.14357272e-03, -2.94574849e-03,  2.11947510e-03,\n",
       "        -2.91181298e-03],\n",
       "       [-1.59424156e-03,  6.16703825e-04, -7.65235029e-04,\n",
       "         2.94357826e-03],\n",
       "       [ 1.08884250e-03,  2.76969669e-03, -3.03678100e-03,\n",
       "        -9.52770382e-05],\n",
       "       [-4.14197679e-03,  2.56888265e-03,  1.66693470e-03,\n",
       "         2.33515947e-05]])"
      ]
     },
     "execution_count": 56,
     "metadata": {},
     "output_type": "execute_result"
    }
   ],
   "source": [
    "encode_matrix"
   ]
  },
  {
   "cell_type": "markdown",
   "metadata": {},
   "source": [
    "Проведём сравнение качества моделей с до и после преобразования"
   ]
  },
  {
   "cell_type": "markdown",
   "metadata": {},
   "source": [
    "Исходный датасет"
   ]
  },
  {
   "cell_type": "code",
   "execution_count": 14,
   "metadata": {
    "scrolled": true
   },
   "outputs": [
    {
     "name": "stdout",
     "output_type": "stream",
     "text": [
      "R2 на тренировочной выборке: 0.4333\n",
      "R2 на тестовой выборке: 0.4161\n"
     ]
    }
   ],
   "source": [
    "# Разделяю выборки на тренировочные и тестовые\n",
    "features_train, features_test, target_train, target_test = train_test_split(features,target,test_size=0.2,random_state=12345)\n",
    "# Создаю модель линейной регрессии и обучаю её    \n",
    "model = LinearRegression()\n",
    "model.fit(features_train, target_train)\n",
    "\n",
    "# Предсказания на тренировочной и тестовой выборках\n",
    "predicted_train = model.predict(features_train)\n",
    "predicted_test = model.predict(features_test)\n",
    "\n",
    "# f2 оценки на тренировочных и тестовых выборках\n",
    "f2_score_train = r2_score(target_train, predicted_train)\n",
    "f2_score_test = r2_score(target_test, predicted_test)\n",
    "\n",
    "print(f'R2 на тренировочной выборке: {round(f2_score_train, 4)}')\n",
    "print(f'R2 на тестовой выборке: {round(f2_score_test, 4)}')"
   ]
  },
  {
   "cell_type": "markdown",
   "metadata": {},
   "source": [
    "Зашифрованный"
   ]
  },
  {
   "cell_type": "code",
   "execution_count": 15,
   "metadata": {},
   "outputs": [
    {
     "name": "stdout",
     "output_type": "stream",
     "text": [
      "R2 на тренировочной выборке: 0.4333\n",
      "R2 на тестовой выборке: 0.4161\n"
     ]
    }
   ],
   "source": [
    "# Разделяю выборки на тренировочные и тестовые\n",
    "features_train, features_test, target_train, target_test = train_test_split(features_encoded,target,test_size=0.2,random_state=12345)\n",
    "# Создаю модель линейной регрессии и обучаю её    \n",
    "model = LinearRegression()\n",
    "model.fit(features_train, target_train)\n",
    "\n",
    "# Предсказания на тренировочной и тестовой выборках\n",
    "predicted_train = model.predict(features_train)\n",
    "predicted_test = model.predict(features_test)\n",
    "\n",
    "# f2 оценки на тренировочных и тестовых выборках\n",
    "f2_score_train = r2_score(target_train, predicted_train)\n",
    "f2_score_test = r2_score(target_test, predicted_test)\n",
    "\n",
    "print(f'R2 на тренировочной выборке: {round(f2_score_train, 4)}')\n",
    "print(f'R2 на тестовой выборке: {round(f2_score_test, 4)}')"
   ]
  },
  {
   "cell_type": "markdown",
   "metadata": {},
   "source": [
    "## Общий вывод"
   ]
  },
  {
   "cell_type": "markdown",
   "metadata": {},
   "source": [
    "- Во время изучения данных были обнаружены и удалены явные дубликаты\n",
    "- С помощью уравнений было доказано, что при умножении исходных данных на обратимую матрицу, качество модели не измеится\n",
    "- Была проведена проверка алгоритма шифрования данных клиентво, в ходе проверки метрика `R2`, после преобразования сталась неизменной"
   ]
  }
 ],
 "metadata": {
  "ExecuteTimeLog": [
   {
    "duration": 409,
    "start_time": "2023-01-31T18:31:52.076Z"
   },
   {
    "duration": 120,
    "start_time": "2023-01-31T18:32:45.736Z"
   },
   {
    "duration": 36,
    "start_time": "2023-01-31T18:33:07.086Z"
   },
   {
    "duration": 14,
    "start_time": "2023-01-31T18:33:21.331Z"
   },
   {
    "duration": 7,
    "start_time": "2023-01-31T18:36:55.763Z"
   },
   {
    "duration": 7,
    "start_time": "2023-01-31T18:37:48.892Z"
   },
   {
    "duration": 15,
    "start_time": "2023-01-31T18:38:03.715Z"
   },
   {
    "duration": 75,
    "start_time": "2023-01-31T18:38:34.859Z"
   },
   {
    "duration": 9,
    "start_time": "2023-01-31T18:38:39.661Z"
   },
   {
    "duration": 49,
    "start_time": "2023-01-31T18:38:46.456Z"
   },
   {
    "duration": 10,
    "start_time": "2023-01-31T18:38:50.149Z"
   },
   {
    "duration": 8,
    "start_time": "2023-01-31T18:39:22.064Z"
   },
   {
    "duration": 8,
    "start_time": "2023-01-31T18:39:30.705Z"
   },
   {
    "duration": 7,
    "start_time": "2023-01-31T18:39:32.796Z"
   },
   {
    "duration": 11,
    "start_time": "2023-01-31T18:40:01.277Z"
   },
   {
    "duration": 58,
    "start_time": "2023-01-31T18:40:36.509Z"
   },
   {
    "duration": 16,
    "start_time": "2023-01-31T18:40:40.742Z"
   },
   {
    "duration": 11,
    "start_time": "2023-01-31T18:40:51.955Z"
   },
   {
    "duration": 11,
    "start_time": "2023-01-31T18:41:03.542Z"
   },
   {
    "duration": 15,
    "start_time": "2023-01-31T18:41:47.948Z"
   },
   {
    "duration": 18,
    "start_time": "2023-01-31T18:41:55.189Z"
   },
   {
    "duration": 22,
    "start_time": "2023-01-31T18:47:25.928Z"
   },
   {
    "duration": 6,
    "start_time": "2023-01-31T18:48:20.672Z"
   },
   {
    "duration": 15,
    "start_time": "2023-01-31T18:48:29.556Z"
   },
   {
    "duration": 12,
    "start_time": "2023-01-31T18:49:16.750Z"
   },
   {
    "duration": 4,
    "start_time": "2023-01-31T18:49:42.973Z"
   },
   {
    "duration": 56,
    "start_time": "2023-01-31T18:50:12.900Z"
   },
   {
    "duration": 7,
    "start_time": "2023-01-31T18:50:18.571Z"
   },
   {
    "duration": 47,
    "start_time": "2023-01-31T18:51:34.376Z"
   },
   {
    "duration": 11,
    "start_time": "2023-01-31T18:51:48.285Z"
   },
   {
    "duration": 9,
    "start_time": "2023-01-31T18:52:04.395Z"
   },
   {
    "duration": 6,
    "start_time": "2023-01-31T18:54:21.521Z"
   },
   {
    "duration": 6,
    "start_time": "2023-01-31T18:54:24.979Z"
   },
   {
    "duration": 1109,
    "start_time": "2023-02-01T14:02:27.987Z"
   },
   {
    "duration": 95,
    "start_time": "2023-02-01T14:02:29.798Z"
   },
   {
    "duration": 15,
    "start_time": "2023-02-01T14:02:30.382Z"
   },
   {
    "duration": 3,
    "start_time": "2023-02-01T14:02:35.610Z"
   },
   {
    "duration": 52,
    "start_time": "2023-02-01T14:02:35.614Z"
   },
   {
    "duration": 22,
    "start_time": "2023-02-01T14:02:35.668Z"
   },
   {
    "duration": 30,
    "start_time": "2023-02-01T14:02:35.691Z"
   },
   {
    "duration": 21,
    "start_time": "2023-02-01T14:02:35.722Z"
   },
   {
    "duration": 29,
    "start_time": "2023-02-01T14:02:35.744Z"
   },
   {
    "duration": 37,
    "start_time": "2023-02-01T14:02:35.775Z"
   },
   {
    "duration": 18,
    "start_time": "2023-02-01T14:02:35.814Z"
   },
   {
    "duration": 4,
    "start_time": "2023-02-01T14:09:58.074Z"
   },
   {
    "duration": 4,
    "start_time": "2023-02-01T14:12:01.286Z"
   },
   {
    "duration": 4,
    "start_time": "2023-02-01T14:12:10.407Z"
   },
   {
    "duration": 9,
    "start_time": "2023-02-01T14:13:58.758Z"
   },
   {
    "duration": 118,
    "start_time": "2023-02-01T14:16:03.561Z"
   },
   {
    "duration": 4,
    "start_time": "2023-02-01T14:16:07.896Z"
   },
   {
    "duration": 11,
    "start_time": "2023-02-01T14:16:08.321Z"
   },
   {
    "duration": 4,
    "start_time": "2023-02-01T14:16:49.330Z"
   },
   {
    "duration": 11,
    "start_time": "2023-02-01T14:16:53.388Z"
   },
   {
    "duration": 10,
    "start_time": "2023-02-01T14:17:22.680Z"
   },
   {
    "duration": 5,
    "start_time": "2023-02-01T14:17:41.336Z"
   },
   {
    "duration": 4,
    "start_time": "2023-02-01T14:17:43.369Z"
   },
   {
    "duration": 11,
    "start_time": "2023-02-01T14:17:44.452Z"
   },
   {
    "duration": 4,
    "start_time": "2023-02-01T14:17:48.617Z"
   },
   {
    "duration": 6,
    "start_time": "2023-02-01T14:17:58.867Z"
   },
   {
    "duration": 14,
    "start_time": "2023-02-01T14:18:04.069Z"
   },
   {
    "duration": 4,
    "start_time": "2023-02-01T14:18:32.236Z"
   },
   {
    "duration": 4,
    "start_time": "2023-02-01T14:18:33.464Z"
   },
   {
    "duration": 15,
    "start_time": "2023-02-01T14:18:34.111Z"
   },
   {
    "duration": 5,
    "start_time": "2023-02-01T14:18:43.485Z"
   },
   {
    "duration": 9,
    "start_time": "2023-02-01T14:19:01.766Z"
   },
   {
    "duration": 22,
    "start_time": "2023-02-01T14:27:46.874Z"
   },
   {
    "duration": 77,
    "start_time": "2023-02-01T14:28:12.484Z"
   },
   {
    "duration": 14,
    "start_time": "2023-02-01T14:28:25.843Z"
   },
   {
    "duration": 14,
    "start_time": "2023-02-01T14:28:43.912Z"
   },
   {
    "duration": 16,
    "start_time": "2023-02-01T14:29:00.064Z"
   },
   {
    "duration": 19,
    "start_time": "2023-02-01T14:32:29.278Z"
   },
   {
    "duration": 13,
    "start_time": "2023-02-01T14:32:42.390Z"
   },
   {
    "duration": 3,
    "start_time": "2023-02-01T14:44:28.439Z"
   },
   {
    "duration": 48,
    "start_time": "2023-02-01T14:44:28.444Z"
   },
   {
    "duration": 9,
    "start_time": "2023-02-01T14:44:28.494Z"
   },
   {
    "duration": 24,
    "start_time": "2023-02-01T14:44:28.505Z"
   },
   {
    "duration": 8,
    "start_time": "2023-02-01T14:44:28.531Z"
   },
   {
    "duration": 11,
    "start_time": "2023-02-01T14:44:28.540Z"
   },
   {
    "duration": 8,
    "start_time": "2023-02-01T14:44:28.552Z"
   },
   {
    "duration": 5,
    "start_time": "2023-02-01T14:44:28.561Z"
   },
   {
    "duration": 10,
    "start_time": "2023-02-01T14:44:28.568Z"
   },
   {
    "duration": 16,
    "start_time": "2023-02-01T14:44:28.580Z"
   },
   {
    "duration": 21,
    "start_time": "2023-02-01T14:44:28.598Z"
   },
   {
    "duration": 23,
    "start_time": "2023-02-01T14:44:28.620Z"
   },
   {
    "duration": 52,
    "start_time": "2023-02-01T14:44:28.645Z"
   },
   {
    "duration": 193,
    "start_time": "2023-02-01T14:44:28.699Z"
   },
   {
    "duration": 14,
    "start_time": "2023-02-01T14:44:30.629Z"
   },
   {
    "duration": 3,
    "start_time": "2023-02-01T14:44:44.552Z"
   },
   {
    "duration": 20,
    "start_time": "2023-02-01T14:45:03.441Z"
   },
   {
    "duration": 4,
    "start_time": "2023-02-01T14:45:10.183Z"
   },
   {
    "duration": 6,
    "start_time": "2023-02-01T14:45:10.531Z"
   },
   {
    "duration": 2,
    "start_time": "2023-02-01T14:45:15.796Z"
   },
   {
    "duration": 54,
    "start_time": "2023-02-01T14:45:15.800Z"
   },
   {
    "duration": 10,
    "start_time": "2023-02-01T14:45:15.856Z"
   },
   {
    "duration": 28,
    "start_time": "2023-02-01T14:45:15.868Z"
   },
   {
    "duration": 5,
    "start_time": "2023-02-01T14:45:15.898Z"
   },
   {
    "duration": 5,
    "start_time": "2023-02-01T14:45:15.905Z"
   },
   {
    "duration": 11,
    "start_time": "2023-02-01T14:45:15.911Z"
   },
   {
    "duration": 5,
    "start_time": "2023-02-01T14:45:17.722Z"
   },
   {
    "duration": 4,
    "start_time": "2023-02-01T14:45:22.348Z"
   },
   {
    "duration": 4,
    "start_time": "2023-02-01T14:45:22.706Z"
   },
   {
    "duration": 8,
    "start_time": "2023-02-01T14:45:23.440Z"
   },
   {
    "duration": 17,
    "start_time": "2023-02-01T14:45:23.939Z"
   },
   {
    "duration": 4,
    "start_time": "2023-02-01T14:45:24.616Z"
   },
   {
    "duration": 14,
    "start_time": "2023-02-01T14:45:28.051Z"
   },
   {
    "duration": 16,
    "start_time": "2023-02-01T14:45:31.417Z"
   },
   {
    "duration": 2124,
    "start_time": "2023-02-01T16:42:27.928Z"
   },
   {
    "duration": 108,
    "start_time": "2023-02-01T16:42:30.056Z"
   },
   {
    "duration": 11,
    "start_time": "2023-02-01T16:42:30.166Z"
   },
   {
    "duration": 38,
    "start_time": "2023-02-01T16:42:30.180Z"
   },
   {
    "duration": 32,
    "start_time": "2023-02-01T16:42:30.220Z"
   },
   {
    "duration": 36,
    "start_time": "2023-02-01T16:42:30.254Z"
   },
   {
    "duration": 39,
    "start_time": "2023-02-01T16:42:30.293Z"
   },
   {
    "duration": 33,
    "start_time": "2023-02-01T16:42:30.334Z"
   },
   {
    "duration": 31,
    "start_time": "2023-02-01T16:42:30.369Z"
   },
   {
    "duration": 36,
    "start_time": "2023-02-01T16:42:30.403Z"
   },
   {
    "duration": 41,
    "start_time": "2023-02-01T16:42:30.441Z"
   },
   {
    "duration": 44,
    "start_time": "2023-02-01T16:42:30.484Z"
   },
   {
    "duration": 36,
    "start_time": "2023-02-01T16:42:30.530Z"
   },
   {
    "duration": 172,
    "start_time": "2023-02-01T16:42:30.569Z"
   },
   {
    "duration": 192,
    "start_time": "2023-02-01T16:42:30.751Z"
   },
   {
    "duration": 1664,
    "start_time": "2023-02-01T18:24:43.487Z"
   },
   {
    "duration": 272,
    "start_time": "2023-02-01T18:24:55.615Z"
   },
   {
    "duration": 4,
    "start_time": "2023-02-01T18:25:02.375Z"
   },
   {
    "duration": 132,
    "start_time": "2023-02-01T18:25:02.382Z"
   },
   {
    "duration": 12,
    "start_time": "2023-02-01T18:25:02.515Z"
   },
   {
    "duration": 14,
    "start_time": "2023-02-01T18:25:02.529Z"
   },
   {
    "duration": 14,
    "start_time": "2023-02-01T18:25:02.545Z"
   },
   {
    "duration": 13,
    "start_time": "2023-02-01T18:25:02.561Z"
   },
   {
    "duration": 10,
    "start_time": "2023-02-01T18:25:02.576Z"
   },
   {
    "duration": 14,
    "start_time": "2023-02-01T18:25:02.589Z"
   },
   {
    "duration": 155,
    "start_time": "2023-02-01T18:25:04.919Z"
   },
   {
    "duration": 66,
    "start_time": "2023-02-01T18:25:23.486Z"
   },
   {
    "duration": 449,
    "start_time": "2023-02-01T18:25:27.503Z"
   },
   {
    "duration": 5,
    "start_time": "2023-02-01T18:41:48.751Z"
   },
   {
    "duration": 43,
    "start_time": "2023-02-01T18:41:48.758Z"
   },
   {
    "duration": 11,
    "start_time": "2023-02-01T18:41:48.803Z"
   },
   {
    "duration": 15,
    "start_time": "2023-02-01T18:41:48.816Z"
   },
   {
    "duration": 10,
    "start_time": "2023-02-01T18:41:48.833Z"
   },
   {
    "duration": 10,
    "start_time": "2023-02-01T18:41:48.845Z"
   },
   {
    "duration": 8,
    "start_time": "2023-02-01T18:41:48.857Z"
   },
   {
    "duration": 6,
    "start_time": "2023-02-01T18:41:48.866Z"
   },
   {
    "duration": 436,
    "start_time": "2023-02-01T18:41:48.873Z"
   },
   {
    "duration": 10,
    "start_time": "2023-02-01T18:41:49.311Z"
   },
   {
    "duration": 9,
    "start_time": "2023-02-01T18:41:49.323Z"
   },
   {
    "duration": 12,
    "start_time": "2023-02-01T18:41:49.333Z"
   },
   {
    "duration": 13,
    "start_time": "2023-02-01T18:41:49.346Z"
   },
   {
    "duration": 65,
    "start_time": "2023-02-01T18:41:49.361Z"
   },
   {
    "duration": 5,
    "start_time": "2023-02-01T18:43:31.110Z"
   },
   {
    "duration": 6,
    "start_time": "2023-02-01T18:43:36.900Z"
   },
   {
    "duration": 15,
    "start_time": "2023-02-01T18:45:09.830Z"
   },
   {
    "duration": 17,
    "start_time": "2023-02-01T18:45:33.193Z"
   },
   {
    "duration": 22,
    "start_time": "2023-02-01T18:45:39.190Z"
   },
   {
    "duration": 37,
    "start_time": "2023-02-01T18:46:44.086Z"
   },
   {
    "duration": 95,
    "start_time": "2023-02-01T18:47:13.831Z"
   },
   {
    "duration": 251,
    "start_time": "2023-02-01T18:47:23.633Z"
   },
   {
    "duration": 11,
    "start_time": "2023-02-01T18:47:39.557Z"
   },
   {
    "duration": 19,
    "start_time": "2023-02-01T18:47:41.697Z"
   },
   {
    "duration": 10,
    "start_time": "2023-02-01T18:47:45.845Z"
   },
   {
    "duration": 25,
    "start_time": "2023-02-01T18:47:53.012Z"
   },
   {
    "duration": 31,
    "start_time": "2023-02-01T18:47:55.392Z"
   },
   {
    "duration": 33,
    "start_time": "2023-02-01T18:47:58.695Z"
   },
   {
    "duration": 21,
    "start_time": "2023-02-01T18:48:16.671Z"
   },
   {
    "duration": 18,
    "start_time": "2023-02-01T18:48:37.193Z"
   },
   {
    "duration": 4,
    "start_time": "2023-02-01T18:50:06.912Z"
   },
   {
    "duration": 24,
    "start_time": "2023-02-01T18:50:07.397Z"
   },
   {
    "duration": 4,
    "start_time": "2023-02-01T18:50:21.212Z"
   },
   {
    "duration": 5,
    "start_time": "2023-02-01T18:50:24.315Z"
   },
   {
    "duration": 14,
    "start_time": "2023-02-01T18:50:25.224Z"
   },
   {
    "duration": 14,
    "start_time": "2023-02-01T18:50:33.881Z"
   },
   {
    "duration": 6,
    "start_time": "2023-02-01T18:50:38.886Z"
   },
   {
    "duration": 72,
    "start_time": "2023-02-01T18:50:42.849Z"
   },
   {
    "duration": 4,
    "start_time": "2023-02-01T18:51:48.669Z"
   },
   {
    "duration": 12,
    "start_time": "2023-02-01T18:51:49.884Z"
   },
   {
    "duration": 89,
    "start_time": "2023-02-01T18:52:11.332Z"
   },
   {
    "duration": 84,
    "start_time": "2023-02-01T18:52:13.842Z"
   },
   {
    "duration": 4,
    "start_time": "2023-02-01T18:52:37.940Z"
   },
   {
    "duration": 29,
    "start_time": "2023-02-01T18:52:41.206Z"
   }
  ],
  "kernelspec": {
   "display_name": "Python 3 (ipykernel)",
   "language": "python",
   "name": "python3"
  },
  "language_info": {
   "codemirror_mode": {
    "name": "ipython",
    "version": 3
   },
   "file_extension": ".py",
   "mimetype": "text/x-python",
   "name": "python",
   "nbconvert_exporter": "python",
   "pygments_lexer": "ipython3",
   "version": "3.9.13"
  },
  "toc": {
   "base_numbering": 1,
   "nav_menu": {},
   "number_sections": true,
   "sideBar": true,
   "skip_h1_title": true,
   "title_cell": "Содержание",
   "title_sidebar": "Contents",
   "toc_cell": true,
   "toc_position": {
    "height": "calc(100% - 180px)",
    "left": "10px",
    "top": "150px",
    "width": "349.091px"
   },
   "toc_section_display": true,
   "toc_window_display": true
  }
 },
 "nbformat": 4,
 "nbformat_minor": 2
}
