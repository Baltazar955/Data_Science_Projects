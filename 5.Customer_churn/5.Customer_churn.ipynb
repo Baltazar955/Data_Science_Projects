{
 "cells": [
  {
   "cell_type": "markdown",
   "metadata": {
    "toc": true
   },
   "source": [
    "<h1>Содержание<span class=\"tocSkip\"></span></h1>\n",
    "<div class=\"toc\"><ul class=\"toc-item\"><li><span><a href=\"#Подготовка-данных\" data-toc-modified-id=\"Подготовка-данных-1\"><span class=\"toc-item-num\">1&nbsp;&nbsp;</span>Подготовка данных</a></span><ul class=\"toc-item\"><li><span><a href=\"#Вывод\" data-toc-modified-id=\"Вывод-1.1\"><span class=\"toc-item-num\">1.1&nbsp;&nbsp;</span>Вывод</a></span></li></ul></li><li><span><a href=\"#Исследование-задачи\" data-toc-modified-id=\"Исследование-задачи-2\"><span class=\"toc-item-num\">2&nbsp;&nbsp;</span>Исследование задачи</a></span><ul class=\"toc-item\"><li><span><a href=\"#Дерево-решений\" data-toc-modified-id=\"Дерево-решений-2.1\"><span class=\"toc-item-num\">2.1&nbsp;&nbsp;</span>Дерево решений</a></span></li><li><span><a href=\"#Случайный-лес\" data-toc-modified-id=\"Случайный-лес-2.2\"><span class=\"toc-item-num\">2.2&nbsp;&nbsp;</span>Случайный лес</a></span></li><li><span><a href=\"#Логистическая-регрессия\" data-toc-modified-id=\"Логистическая-регрессия-2.3\"><span class=\"toc-item-num\">2.3&nbsp;&nbsp;</span>Логистическая регрессия</a></span></li><li><span><a href=\"#Вывод-по-моделям\" data-toc-modified-id=\"Вывод-по-моделям-2.4\"><span class=\"toc-item-num\">2.4&nbsp;&nbsp;</span>Вывод по моделям</a></span></li></ul></li><li><span><a href=\"#Борьба-с-дисбалансом\" data-toc-modified-id=\"Борьба-с-дисбалансом-3\"><span class=\"toc-item-num\">3&nbsp;&nbsp;</span>Борьба с дисбалансом</a></span><ul class=\"toc-item\"><li><span><a href=\"#Взвешивание-классов\" data-toc-modified-id=\"Взвешивание-классов-3.1\"><span class=\"toc-item-num\">3.1&nbsp;&nbsp;</span>Взвешивание классов</a></span></li><li><span><a href=\"#Увеличение-выборки\" data-toc-modified-id=\"Увеличение-выборки-3.2\"><span class=\"toc-item-num\">3.2&nbsp;&nbsp;</span>Увеличение выборки</a></span><ul class=\"toc-item\"><li><span><a href=\"#Дерево-решений\" data-toc-modified-id=\"Дерево-решений-3.2.1\"><span class=\"toc-item-num\">3.2.1&nbsp;&nbsp;</span>Дерево решений</a></span></li><li><span><a href=\"#Случайный-лес\" data-toc-modified-id=\"Случайный-лес-3.2.2\"><span class=\"toc-item-num\">3.2.2&nbsp;&nbsp;</span>Случайный лес</a></span></li><li><span><a href=\"#Логистическая-регрессия\" data-toc-modified-id=\"Логистическая-регрессия-3.2.3\"><span class=\"toc-item-num\">3.2.3&nbsp;&nbsp;</span>Логистическая регрессия</a></span></li><li><span><a href=\"#Вывод-по-увеличению-выборки\" data-toc-modified-id=\"Вывод-по-увеличению-выборки-3.2.4\"><span class=\"toc-item-num\">3.2.4&nbsp;&nbsp;</span>Вывод по увеличению выборки</a></span></li></ul></li><li><span><a href=\"#Уменьшение-выборки\" data-toc-modified-id=\"Уменьшение-выборки-3.3\"><span class=\"toc-item-num\">3.3&nbsp;&nbsp;</span>Уменьшение выборки</a></span><ul class=\"toc-item\"><li><span><a href=\"#Дерево-решений\" data-toc-modified-id=\"Дерево-решений-3.3.1\"><span class=\"toc-item-num\">3.3.1&nbsp;&nbsp;</span>Дерево решений</a></span></li><li><span><a href=\"#Случайный-лес\" data-toc-modified-id=\"Случайный-лес-3.3.2\"><span class=\"toc-item-num\">3.3.2&nbsp;&nbsp;</span>Случайный лес</a></span></li><li><span><a href=\"#Логистическая-регрессия\" data-toc-modified-id=\"Логистическая-регрессия-3.3.3\"><span class=\"toc-item-num\">3.3.3&nbsp;&nbsp;</span>Логистическая регрессия</a></span></li><li><span><a href=\"#Вывод-по-уменьшению-выборки\" data-toc-modified-id=\"Вывод-по-уменьшению-выборки-3.3.4\"><span class=\"toc-item-num\">3.3.4&nbsp;&nbsp;</span>Вывод по уменьшению выборки</a></span></li></ul></li><li><span><a href=\"#Изменение-порога\" data-toc-modified-id=\"Изменение-порога-3.4\"><span class=\"toc-item-num\">3.4&nbsp;&nbsp;</span>Изменение порога</a></span><ul class=\"toc-item\"><li><span><a href=\"#Дерево-решений\" data-toc-modified-id=\"Дерево-решений-3.4.1\"><span class=\"toc-item-num\">3.4.1&nbsp;&nbsp;</span>Дерево решений</a></span></li><li><span><a href=\"#Случайный-лес\" data-toc-modified-id=\"Случайный-лес-3.4.2\"><span class=\"toc-item-num\">3.4.2&nbsp;&nbsp;</span>Случайный лес</a></span></li><li><span><a href=\"#Логистическая-регрессия\" data-toc-modified-id=\"Логистическая-регрессия-3.4.3\"><span class=\"toc-item-num\">3.4.3&nbsp;&nbsp;</span>Логистическая регрессия</a></span></li><li><span><a href=\"#Вывод-по-уменьшению-выборки\" data-toc-modified-id=\"Вывод-по-уменьшению-выборки-3.4.4\"><span class=\"toc-item-num\">3.4.4&nbsp;&nbsp;</span>Вывод по уменьшению выборки</a></span></li></ul></li><li><span><a href=\"#Выбор-наилучших-параметров\" data-toc-modified-id=\"Выбор-наилучших-параметров-3.5\"><span class=\"toc-item-num\">3.5&nbsp;&nbsp;</span>Выбор наилучших параметров</a></span></li></ul></li><li><span><a href=\"#Тестирование-модели\" data-toc-modified-id=\"Тестирование-модели-4\"><span class=\"toc-item-num\">4&nbsp;&nbsp;</span>Тестирование модели</a></span></li><li><span><a href=\"#Вывод\" data-toc-modified-id=\"Вывод-5\"><span class=\"toc-item-num\">5&nbsp;&nbsp;</span>Вывод</a></span></li></ul></div>"
   ]
  },
  {
   "cell_type": "markdown",
   "metadata": {},
   "source": [
    "# Отток клиентов"
   ]
  },
  {
   "cell_type": "markdown",
   "metadata": {},
   "source": [
    "Из «Бета-Банка» стали уходить клиенты. Каждый месяц. Немного, но заметно. Банковские маркетологи посчитали: сохранять текущих клиентов дешевле, чем привлекать новых.\n",
    "\n",
    "Нужно спрогнозировать, уйдёт клиент из банка в ближайшее время или нет. Вам предоставлены исторические данные о поведении клиентов и расторжении договоров с банком. \n",
    "\n",
    "Постройте модель с предельно большим значением *F1*-меры. Чтобы сдать проект успешно, нужно довести метрику до 0.59. Проверьте *F1*-меру на тестовой выборке самостоятельно.\n",
    "\n",
    "Дополнительно измеряйте *AUC-ROC*, сравнивайте её значение с *F1*-мерой.\n",
    "\n"
   ]
  },
  {
   "cell_type": "markdown",
   "metadata": {},
   "source": [
    "## Подготовка данных"
   ]
  },
  {
   "cell_type": "code",
   "execution_count": 335,
   "metadata": {},
   "outputs": [
    {
     "name": "stdout",
     "output_type": "stream",
     "text": [
      "Requirement already satisfied: fast_ml in /opt/conda/lib/python3.9/site-packages (3.68)\r\n"
     ]
    }
   ],
   "source": [
    "import pandas as pd\n",
    "import matplotlib.pyplot as plt\n",
    "plt.style.use('seaborn-pastel')\n",
    "import seaborn as sns\n",
    "import numpy as np\n",
    "\n",
    "from sklearn.linear_model import LogisticRegression\n",
    "from sklearn.model_selection import train_test_split\n",
    "from sklearn.tree import DecisionTreeClassifier\n",
    "from sklearn.ensemble import RandomForestClassifier\n",
    "from sklearn.metrics import accuracy_score \n",
    "from sklearn.dummy import DummyClassifier\n",
    "from sklearn.linear_model import LogisticRegression # импорт линейной регрессии \n",
    "from sklearn.preprocessing import StandardScaler # стандартизация\n",
    "from sklearn.metrics import precision_recall_curve, classification_report # импорт метрик\n",
    "from sklearn.metrics import precision_score, recall_score, f1_score, roc_auc_score, roc_curve # импорт метрик\n",
    "from sklearn.utils import shuffle # импорт шаффла для перемешивания\n",
    "!pip install fast_ml\n",
    "from fast_ml.model_development import train_valid_test_split \n",
    "# Библиотека для быстрого разделения на обучающую, тестовую и валидную выборки\n",
    "from sklearn.preprocessing import OneHotEncoder\n",
    "from sklearn.feature_extraction import DictVectorizer\n",
    "\n",
    "import time\n",
    "from tqdm import tqdm"
   ]
  },
  {
   "cell_type": "code",
   "execution_count": 336,
   "metadata": {
    "scrolled": true
   },
   "outputs": [
    {
     "name": "stdout",
     "output_type": "stream",
     "text": [
      "<class 'pandas.core.frame.DataFrame'>\n",
      "RangeIndex: 10000 entries, 0 to 9999\n",
      "Data columns (total 14 columns):\n",
      " #   Column           Non-Null Count  Dtype  \n",
      "---  ------           --------------  -----  \n",
      " 0   RowNumber        10000 non-null  int64  \n",
      " 1   CustomerId       10000 non-null  int64  \n",
      " 2   Surname          10000 non-null  object \n",
      " 3   CreditScore      10000 non-null  int64  \n",
      " 4   Geography        10000 non-null  object \n",
      " 5   Gender           10000 non-null  object \n",
      " 6   Age              10000 non-null  int64  \n",
      " 7   Tenure           9091 non-null   float64\n",
      " 8   Balance          10000 non-null  float64\n",
      " 9   NumOfProducts    10000 non-null  int64  \n",
      " 10  HasCrCard        10000 non-null  int64  \n",
      " 11  IsActiveMember   10000 non-null  int64  \n",
      " 12  EstimatedSalary  10000 non-null  float64\n",
      " 13  Exited           10000 non-null  int64  \n",
      "dtypes: float64(3), int64(8), object(3)\n",
      "memory usage: 1.1+ MB\n",
      "None\n"
     ]
    },
    {
     "data": {
      "text/html": [
       "<div>\n",
       "<style scoped>\n",
       "    .dataframe tbody tr th:only-of-type {\n",
       "        vertical-align: middle;\n",
       "    }\n",
       "\n",
       "    .dataframe tbody tr th {\n",
       "        vertical-align: top;\n",
       "    }\n",
       "\n",
       "    .dataframe thead th {\n",
       "        text-align: right;\n",
       "    }\n",
       "</style>\n",
       "<table border=\"1\" class=\"dataframe\">\n",
       "  <thead>\n",
       "    <tr style=\"text-align: right;\">\n",
       "      <th></th>\n",
       "      <th>RowNumber</th>\n",
       "      <th>CustomerId</th>\n",
       "      <th>Surname</th>\n",
       "      <th>CreditScore</th>\n",
       "      <th>Geography</th>\n",
       "      <th>Gender</th>\n",
       "      <th>Age</th>\n",
       "      <th>Tenure</th>\n",
       "      <th>Balance</th>\n",
       "      <th>NumOfProducts</th>\n",
       "      <th>HasCrCard</th>\n",
       "      <th>IsActiveMember</th>\n",
       "      <th>EstimatedSalary</th>\n",
       "      <th>Exited</th>\n",
       "    </tr>\n",
       "  </thead>\n",
       "  <tbody>\n",
       "    <tr>\n",
       "      <th>0</th>\n",
       "      <td>1</td>\n",
       "      <td>15634602</td>\n",
       "      <td>Hargrave</td>\n",
       "      <td>619</td>\n",
       "      <td>France</td>\n",
       "      <td>Female</td>\n",
       "      <td>42</td>\n",
       "      <td>2.0</td>\n",
       "      <td>0.00</td>\n",
       "      <td>1</td>\n",
       "      <td>1</td>\n",
       "      <td>1</td>\n",
       "      <td>101348.88</td>\n",
       "      <td>1</td>\n",
       "    </tr>\n",
       "    <tr>\n",
       "      <th>1</th>\n",
       "      <td>2</td>\n",
       "      <td>15647311</td>\n",
       "      <td>Hill</td>\n",
       "      <td>608</td>\n",
       "      <td>Spain</td>\n",
       "      <td>Female</td>\n",
       "      <td>41</td>\n",
       "      <td>1.0</td>\n",
       "      <td>83807.86</td>\n",
       "      <td>1</td>\n",
       "      <td>0</td>\n",
       "      <td>1</td>\n",
       "      <td>112542.58</td>\n",
       "      <td>0</td>\n",
       "    </tr>\n",
       "    <tr>\n",
       "      <th>2</th>\n",
       "      <td>3</td>\n",
       "      <td>15619304</td>\n",
       "      <td>Onio</td>\n",
       "      <td>502</td>\n",
       "      <td>France</td>\n",
       "      <td>Female</td>\n",
       "      <td>42</td>\n",
       "      <td>8.0</td>\n",
       "      <td>159660.80</td>\n",
       "      <td>3</td>\n",
       "      <td>1</td>\n",
       "      <td>0</td>\n",
       "      <td>113931.57</td>\n",
       "      <td>1</td>\n",
       "    </tr>\n",
       "    <tr>\n",
       "      <th>3</th>\n",
       "      <td>4</td>\n",
       "      <td>15701354</td>\n",
       "      <td>Boni</td>\n",
       "      <td>699</td>\n",
       "      <td>France</td>\n",
       "      <td>Female</td>\n",
       "      <td>39</td>\n",
       "      <td>1.0</td>\n",
       "      <td>0.00</td>\n",
       "      <td>2</td>\n",
       "      <td>0</td>\n",
       "      <td>0</td>\n",
       "      <td>93826.63</td>\n",
       "      <td>0</td>\n",
       "    </tr>\n",
       "    <tr>\n",
       "      <th>4</th>\n",
       "      <td>5</td>\n",
       "      <td>15737888</td>\n",
       "      <td>Mitchell</td>\n",
       "      <td>850</td>\n",
       "      <td>Spain</td>\n",
       "      <td>Female</td>\n",
       "      <td>43</td>\n",
       "      <td>2.0</td>\n",
       "      <td>125510.82</td>\n",
       "      <td>1</td>\n",
       "      <td>1</td>\n",
       "      <td>1</td>\n",
       "      <td>79084.10</td>\n",
       "      <td>0</td>\n",
       "    </tr>\n",
       "    <tr>\n",
       "      <th>5</th>\n",
       "      <td>6</td>\n",
       "      <td>15574012</td>\n",
       "      <td>Chu</td>\n",
       "      <td>645</td>\n",
       "      <td>Spain</td>\n",
       "      <td>Male</td>\n",
       "      <td>44</td>\n",
       "      <td>8.0</td>\n",
       "      <td>113755.78</td>\n",
       "      <td>2</td>\n",
       "      <td>1</td>\n",
       "      <td>0</td>\n",
       "      <td>149756.71</td>\n",
       "      <td>1</td>\n",
       "    </tr>\n",
       "    <tr>\n",
       "      <th>6</th>\n",
       "      <td>7</td>\n",
       "      <td>15592531</td>\n",
       "      <td>Bartlett</td>\n",
       "      <td>822</td>\n",
       "      <td>France</td>\n",
       "      <td>Male</td>\n",
       "      <td>50</td>\n",
       "      <td>7.0</td>\n",
       "      <td>0.00</td>\n",
       "      <td>2</td>\n",
       "      <td>1</td>\n",
       "      <td>1</td>\n",
       "      <td>10062.80</td>\n",
       "      <td>0</td>\n",
       "    </tr>\n",
       "    <tr>\n",
       "      <th>7</th>\n",
       "      <td>8</td>\n",
       "      <td>15656148</td>\n",
       "      <td>Obinna</td>\n",
       "      <td>376</td>\n",
       "      <td>Germany</td>\n",
       "      <td>Female</td>\n",
       "      <td>29</td>\n",
       "      <td>4.0</td>\n",
       "      <td>115046.74</td>\n",
       "      <td>4</td>\n",
       "      <td>1</td>\n",
       "      <td>0</td>\n",
       "      <td>119346.88</td>\n",
       "      <td>1</td>\n",
       "    </tr>\n",
       "    <tr>\n",
       "      <th>8</th>\n",
       "      <td>9</td>\n",
       "      <td>15792365</td>\n",
       "      <td>He</td>\n",
       "      <td>501</td>\n",
       "      <td>France</td>\n",
       "      <td>Male</td>\n",
       "      <td>44</td>\n",
       "      <td>4.0</td>\n",
       "      <td>142051.07</td>\n",
       "      <td>2</td>\n",
       "      <td>0</td>\n",
       "      <td>1</td>\n",
       "      <td>74940.50</td>\n",
       "      <td>0</td>\n",
       "    </tr>\n",
       "    <tr>\n",
       "      <th>9</th>\n",
       "      <td>10</td>\n",
       "      <td>15592389</td>\n",
       "      <td>H?</td>\n",
       "      <td>684</td>\n",
       "      <td>France</td>\n",
       "      <td>Male</td>\n",
       "      <td>27</td>\n",
       "      <td>2.0</td>\n",
       "      <td>134603.88</td>\n",
       "      <td>1</td>\n",
       "      <td>1</td>\n",
       "      <td>1</td>\n",
       "      <td>71725.73</td>\n",
       "      <td>0</td>\n",
       "    </tr>\n",
       "    <tr>\n",
       "      <th>10</th>\n",
       "      <td>11</td>\n",
       "      <td>15767821</td>\n",
       "      <td>Bearce</td>\n",
       "      <td>528</td>\n",
       "      <td>France</td>\n",
       "      <td>Male</td>\n",
       "      <td>31</td>\n",
       "      <td>6.0</td>\n",
       "      <td>102016.72</td>\n",
       "      <td>2</td>\n",
       "      <td>0</td>\n",
       "      <td>0</td>\n",
       "      <td>80181.12</td>\n",
       "      <td>0</td>\n",
       "    </tr>\n",
       "    <tr>\n",
       "      <th>11</th>\n",
       "      <td>12</td>\n",
       "      <td>15737173</td>\n",
       "      <td>Andrews</td>\n",
       "      <td>497</td>\n",
       "      <td>Spain</td>\n",
       "      <td>Male</td>\n",
       "      <td>24</td>\n",
       "      <td>3.0</td>\n",
       "      <td>0.00</td>\n",
       "      <td>2</td>\n",
       "      <td>1</td>\n",
       "      <td>0</td>\n",
       "      <td>76390.01</td>\n",
       "      <td>0</td>\n",
       "    </tr>\n",
       "    <tr>\n",
       "      <th>12</th>\n",
       "      <td>13</td>\n",
       "      <td>15632264</td>\n",
       "      <td>Kay</td>\n",
       "      <td>476</td>\n",
       "      <td>France</td>\n",
       "      <td>Female</td>\n",
       "      <td>34</td>\n",
       "      <td>10.0</td>\n",
       "      <td>0.00</td>\n",
       "      <td>2</td>\n",
       "      <td>1</td>\n",
       "      <td>0</td>\n",
       "      <td>26260.98</td>\n",
       "      <td>0</td>\n",
       "    </tr>\n",
       "    <tr>\n",
       "      <th>13</th>\n",
       "      <td>14</td>\n",
       "      <td>15691483</td>\n",
       "      <td>Chin</td>\n",
       "      <td>549</td>\n",
       "      <td>France</td>\n",
       "      <td>Female</td>\n",
       "      <td>25</td>\n",
       "      <td>5.0</td>\n",
       "      <td>0.00</td>\n",
       "      <td>2</td>\n",
       "      <td>0</td>\n",
       "      <td>0</td>\n",
       "      <td>190857.79</td>\n",
       "      <td>0</td>\n",
       "    </tr>\n",
       "    <tr>\n",
       "      <th>14</th>\n",
       "      <td>15</td>\n",
       "      <td>15600882</td>\n",
       "      <td>Scott</td>\n",
       "      <td>635</td>\n",
       "      <td>Spain</td>\n",
       "      <td>Female</td>\n",
       "      <td>35</td>\n",
       "      <td>7.0</td>\n",
       "      <td>0.00</td>\n",
       "      <td>2</td>\n",
       "      <td>1</td>\n",
       "      <td>1</td>\n",
       "      <td>65951.65</td>\n",
       "      <td>0</td>\n",
       "    </tr>\n",
       "  </tbody>\n",
       "</table>\n",
       "</div>"
      ],
      "text/plain": [
       "    RowNumber  CustomerId   Surname  CreditScore Geography  Gender  Age  \\\n",
       "0           1    15634602  Hargrave          619    France  Female   42   \n",
       "1           2    15647311      Hill          608     Spain  Female   41   \n",
       "2           3    15619304      Onio          502    France  Female   42   \n",
       "3           4    15701354      Boni          699    France  Female   39   \n",
       "4           5    15737888  Mitchell          850     Spain  Female   43   \n",
       "5           6    15574012       Chu          645     Spain    Male   44   \n",
       "6           7    15592531  Bartlett          822    France    Male   50   \n",
       "7           8    15656148    Obinna          376   Germany  Female   29   \n",
       "8           9    15792365        He          501    France    Male   44   \n",
       "9          10    15592389        H?          684    France    Male   27   \n",
       "10         11    15767821    Bearce          528    France    Male   31   \n",
       "11         12    15737173   Andrews          497     Spain    Male   24   \n",
       "12         13    15632264       Kay          476    France  Female   34   \n",
       "13         14    15691483      Chin          549    France  Female   25   \n",
       "14         15    15600882     Scott          635     Spain  Female   35   \n",
       "\n",
       "    Tenure    Balance  NumOfProducts  HasCrCard  IsActiveMember  \\\n",
       "0      2.0       0.00              1          1               1   \n",
       "1      1.0   83807.86              1          0               1   \n",
       "2      8.0  159660.80              3          1               0   \n",
       "3      1.0       0.00              2          0               0   \n",
       "4      2.0  125510.82              1          1               1   \n",
       "5      8.0  113755.78              2          1               0   \n",
       "6      7.0       0.00              2          1               1   \n",
       "7      4.0  115046.74              4          1               0   \n",
       "8      4.0  142051.07              2          0               1   \n",
       "9      2.0  134603.88              1          1               1   \n",
       "10     6.0  102016.72              2          0               0   \n",
       "11     3.0       0.00              2          1               0   \n",
       "12    10.0       0.00              2          1               0   \n",
       "13     5.0       0.00              2          0               0   \n",
       "14     7.0       0.00              2          1               1   \n",
       "\n",
       "    EstimatedSalary  Exited  \n",
       "0         101348.88       1  \n",
       "1         112542.58       0  \n",
       "2         113931.57       1  \n",
       "3          93826.63       0  \n",
       "4          79084.10       0  \n",
       "5         149756.71       1  \n",
       "6          10062.80       0  \n",
       "7         119346.88       1  \n",
       "8          74940.50       0  \n",
       "9          71725.73       0  \n",
       "10         80181.12       0  \n",
       "11         76390.01       0  \n",
       "12         26260.98       0  \n",
       "13        190857.79       0  \n",
       "14         65951.65       0  "
      ]
     },
     "metadata": {},
     "output_type": "display_data"
    }
   ],
   "source": [
    "data = pd.read_csv('/datasets/Churn.csv')\n",
    "print(data.info())\n",
    "display(data.head(15))"
   ]
  },
  {
   "cell_type": "markdown",
   "metadata": {},
   "source": [
    "**Признаки:**  \n",
    "RowNumber — индекс строки в данных  \n",
    "CustomerId — уникальный идентификатор клиента  \n",
    "Surname — фамилия  \n",
    "CreditScore — кредитный рейтинг  \n",
    "Geography — страна проживания  \n",
    "Gender — пол  \n",
    "Age — возраст  \n",
    "Tenure — сколько лет человек является клиентом банка  \n",
    "Balance — баланс на счёте  \n",
    "NumOfProducts — количество продуктов банка, используемых клиентом  \n",
    "HasCrCard — наличие кредитной карты  \n",
    "IsActiveMember — активность клиента  \n",
    "EstimatedSalary — предполагаемая зарплата  \n",
    "\n",
    "**Целевой признак:**  \n",
    "Exited — факт ухода клиента  "
   ]
  },
  {
   "cell_type": "code",
   "execution_count": 337,
   "metadata": {
    "scrolled": true
   },
   "outputs": [
    {
     "name": "stdout",
     "output_type": "stream",
     "text": [
      "Дубликаты: 0\n"
     ]
    }
   ],
   "source": [
    "print('Дубликаты:',data.duplicated().sum())"
   ]
  },
  {
   "cell_type": "markdown",
   "metadata": {},
   "source": [
    "Периведу название колонок в стандарнтный формат:"
   ]
  },
  {
   "cell_type": "code",
   "execution_count": 338,
   "metadata": {
    "scrolled": true
   },
   "outputs": [
    {
     "data": {
      "text/plain": [
       "Index(['row_number', 'customer_id', 'surname', 'credit_score', 'geography',\n",
       "       'gender', 'age', 'tenure', 'balance', 'num_of_products', 'has_crcard',\n",
       "       'is_active_member', 'estimated_salary', 'exited'],\n",
       "      dtype='object')"
      ]
     },
     "execution_count": 338,
     "metadata": {},
     "output_type": "execute_result"
    }
   ],
   "source": [
    "data.columns = data.columns.str.lower()\n",
    "\n",
    "data = data.rename(columns={'rownumber':'row_number', \n",
    "                        'customerid':'customer_id',  \n",
    "                        'creditscore':'credit_score', \n",
    "                        'numofproducts':'num_of_products', \n",
    "                        'hascrcard':'has_crcard',\n",
    "                        'isactivemember':'is_active_member', \n",
    "                        'estimatedsalary':'estimated_salary', \n",
    "                       })\n",
    "data.columns"
   ]
  },
  {
   "cell_type": "code",
   "execution_count": 339,
   "metadata": {
    "scrolled": true
   },
   "outputs": [
    {
     "data": {
      "text/plain": [
       "row_number            0\n",
       "customer_id           0\n",
       "surname               0\n",
       "credit_score          0\n",
       "geography             0\n",
       "gender                0\n",
       "age                   0\n",
       "tenure              909\n",
       "balance               0\n",
       "num_of_products       0\n",
       "has_crcard            0\n",
       "is_active_member      0\n",
       "estimated_salary      0\n",
       "exited                0\n",
       "dtype: int64"
      ]
     },
     "execution_count": 339,
     "metadata": {},
     "output_type": "execute_result"
    }
   ],
   "source": [
    "# проверка пустых значений:\n",
    "\n",
    "data.isna().sum()"
   ]
  },
  {
   "cell_type": "markdown",
   "metadata": {},
   "source": [
    "Обнаружены пропуски в колонке tenure - сколько лет человек является клиентом банка."
   ]
  },
  {
   "cell_type": "code",
   "execution_count": 340,
   "metadata": {
    "scrolled": true
   },
   "outputs": [
    {
     "data": {
      "text/plain": [
       "1.0     952\n",
       "2.0     950\n",
       "8.0     933\n",
       "3.0     928\n",
       "5.0     927\n",
       "7.0     925\n",
       "4.0     885\n",
       "9.0     882\n",
       "6.0     881\n",
       "10.0    446\n",
       "0.0     382\n",
       "Name: tenure, dtype: int64"
      ]
     },
     "execution_count": 340,
     "metadata": {},
     "output_type": "execute_result"
    }
   ],
   "source": [
    "# Отсортируем кол-во клиентов по годам\n",
    "\n",
    "data['tenure'].value_counts().sort_values(ascending=False)"
   ]
  },
  {
   "cell_type": "code",
   "execution_count": 341,
   "metadata": {
    "scrolled": false
   },
   "outputs": [
    {
     "data": {
      "text/plain": [
       "0    726\n",
       "1    183\n",
       "Name: exited, dtype: int64"
      ]
     },
     "execution_count": 341,
     "metadata": {},
     "output_type": "execute_result"
    }
   ],
   "source": [
    "data[data['tenure'].isna()]['exited'].value_counts().sort_values(ascending=False)"
   ]
  },
  {
   "cell_type": "markdown",
   "metadata": {},
   "source": [
    "Из пропущенных 726 остались 183 ушли. Меньше кол-во клиентов, находившихся в банке 10 и 0 лет. Похоже они и пропущены."
   ]
  },
  {
   "cell_type": "code",
   "execution_count": 342,
   "metadata": {},
   "outputs": [
    {
     "data": {
      "image/png": "[encoded data removed]",
      "text/plain": [
       "<Figure size 720x576 with 1 Axes>"
      ]
     },
     "metadata": {
      "needs_background": "light"
     },
     "output_type": "display_data"
    }
   ],
   "source": [
    "# Построим график кол-во людей которые ушли и которые остались\n",
    "plt.figure()\n",
    "data['exited'].hist(figsize=(10,8), edgecolor='black')\n",
    "plt.title('Отношение ушедших клиентов к оставшимся', fontsize='x-large')\n",
    "plt.xlabel('Факт ухода клиента', fontsize='x-large')\n",
    "plt.ylabel('Количество клиентов', fontsize='x-large')\n",
    "plt.show()"
   ]
  },
  {
   "cell_type": "markdown",
   "metadata": {},
   "source": [
    "По графику можно сказать, что 8000 остались, 2000 ушли (20%). Выборка не сбалансированная"
   ]
  },
  {
   "cell_type": "code",
   "execution_count": 343,
   "metadata": {
    "scrolled": false
   },
   "outputs": [
    {
     "data": {
      "image/png": "[encoded data removed]",
      "text/plain": [
       "<Figure size 1080x360 with 2 Axes>"
      ]
     },
     "metadata": {
      "needs_background": "light"
     },
     "output_type": "display_data"
    }
   ],
   "source": [
    "# Для дальнейщей работы, нужно посмотреть корреляцию Пирсона между параметрами:\n",
    "plt.figure(figsize=(15, 5))\n",
    "plt.title('Матрица корреляций')\n",
    "\n",
    "sns.heatmap(data.corr(), annot = True)\n",
    "\n",
    "plt.show()"
   ]
  },
  {
   "cell_type": "markdown",
   "metadata": {},
   "source": [
    "Наш целевой признак, Exited — факт ухода клиента. Имеет корреляцию от параметров age = 0.29, и balance = 0.12 , но не большую. С остальными данными в меньшей степени.  \n",
    "Для дальнейшего обучения нейросети, надо убрать те колонки, в которых данные не подойдут для обучения нейросети. Это данные столбцов: RowNumber — индекс строки в данных, CustomerId — уникальный идентификатор клиента, Surname — фамилия."
   ]
  },
  {
   "cell_type": "code",
   "execution_count": 344,
   "metadata": {},
   "outputs": [],
   "source": [
    "# Удаляю столбцы\n",
    "\n",
    "data = data.drop(['row_number', 'customer_id', 'surname'], axis = 1)\n",
    "\n"
   ]
  },
  {
   "cell_type": "code",
   "execution_count": 345,
   "metadata": {
    "scrolled": true
   },
   "outputs": [
    {
     "data": {
      "text/plain": [
       "Index(['credit_score', 'geography', 'gender', 'age', 'tenure', 'balance',\n",
       "       'num_of_products', 'has_crcard', 'is_active_member', 'estimated_salary',\n",
       "       'exited'],\n",
       "      dtype='object')"
      ]
     },
     "execution_count": 345,
     "metadata": {},
     "output_type": "execute_result"
    }
   ],
   "source": [
    "data.columns"
   ]
  },
  {
   "cell_type": "markdown",
   "metadata": {},
   "source": [
    "Сильной корреляции между значениями нету. Заполним пропуски медианными значениями, затем посмотрим, как изменилась корреляция"
   ]
  },
  {
   "cell_type": "code",
   "execution_count": 346,
   "metadata": {
    "scrolled": true
   },
   "outputs": [
    {
     "data": {
      "text/plain": [
       "5.0     1836\n",
       "1.0      952\n",
       "2.0      950\n",
       "8.0      933\n",
       "3.0      928\n",
       "7.0      925\n",
       "4.0      885\n",
       "9.0      882\n",
       "6.0      881\n",
       "10.0     446\n",
       "0.0      382\n",
       "Name: tenure, dtype: int64"
      ]
     },
     "execution_count": 346,
     "metadata": {},
     "output_type": "execute_result"
    }
   ],
   "source": [
    "# Создаю новый датафрейм\n",
    "data_filled_med = data\n",
    "data_filled_med['tenure'] = data_filled_med['tenure'].fillna(data_filled_med['tenure'].median())\n",
    "# Проверяю кол-во значений по годам\n",
    "data_filled_med['tenure'].value_counts().sort_values(ascending=False)"
   ]
  },
  {
   "cell_type": "code",
   "execution_count": 347,
   "metadata": {
    "scrolled": true
   },
   "outputs": [
    {
     "data": {
      "image/png": "[encoded data removed]",
      "text/plain": [
       "<Figure size 1080x360 with 2 Axes>"
      ]
     },
     "metadata": {
      "needs_background": "light"
     },
     "output_type": "display_data"
    }
   ],
   "source": [
    "plt.figure(figsize=(15, 5))\n",
    "plt.title('Матрица корреляций датафрейма data_filled_med')\n",
    "\n",
    "sns.heatmap(data_filled_med.corr(), annot = True)\n",
    "\n",
    "plt.show()"
   ]
  },
  {
   "cell_type": "markdown",
   "metadata": {},
   "source": [
    "У столбца `tenure` - сколько лет человек является клиентом банка, корреляция без заполнения была `-0.017`, после заполнения стала `-0.016`. Из этого можно сделать вывод, что заполнеие пропущенных значений медианными, не отразились на целевом параметре `exited` ."
   ]
  },
  {
   "cell_type": "code",
   "execution_count": 348,
   "metadata": {},
   "outputs": [],
   "source": [
    "# Беру заполненный датасет\n",
    "data = data_filled_med.copy()"
   ]
  },
  {
   "cell_type": "code",
   "execution_count": 349,
   "metadata": {},
   "outputs": [
    {
     "data": {
      "text/plain": [
       "Index(['credit_score', 'geography', 'gender', 'age', 'tenure', 'balance',\n",
       "       'num_of_products', 'has_crcard', 'is_active_member', 'estimated_salary',\n",
       "       'exited'],\n",
       "      dtype='object')"
      ]
     },
     "execution_count": 349,
     "metadata": {},
     "output_type": "execute_result"
    }
   ],
   "source": [
    "\n",
    "#data = pd.get_dummies(data, drop_first=True)\n",
    "data.columns"
   ]
  },
  {
   "cell_type": "code",
   "execution_count": 350,
   "metadata": {
    "scrolled": false
   },
   "outputs": [
    {
     "data": {
      "text/html": [
       "<div>\n",
       "<style scoped>\n",
       "    .dataframe tbody tr th:only-of-type {\n",
       "        vertical-align: middle;\n",
       "    }\n",
       "\n",
       "    .dataframe tbody tr th {\n",
       "        vertical-align: top;\n",
       "    }\n",
       "\n",
       "    .dataframe thead th {\n",
       "        text-align: right;\n",
       "    }\n",
       "</style>\n",
       "<table border=\"1\" class=\"dataframe\">\n",
       "  <thead>\n",
       "    <tr style=\"text-align: right;\">\n",
       "      <th></th>\n",
       "      <th>credit_score</th>\n",
       "      <th>geography</th>\n",
       "      <th>gender</th>\n",
       "      <th>age</th>\n",
       "      <th>tenure</th>\n",
       "      <th>balance</th>\n",
       "      <th>num_of_products</th>\n",
       "      <th>has_crcard</th>\n",
       "      <th>is_active_member</th>\n",
       "      <th>estimated_salary</th>\n",
       "    </tr>\n",
       "  </thead>\n",
       "  <tbody>\n",
       "    <tr>\n",
       "      <th>0</th>\n",
       "      <td>619</td>\n",
       "      <td>France</td>\n",
       "      <td>Female</td>\n",
       "      <td>42</td>\n",
       "      <td>2.0</td>\n",
       "      <td>0.00</td>\n",
       "      <td>1</td>\n",
       "      <td>1</td>\n",
       "      <td>1</td>\n",
       "      <td>101348.88</td>\n",
       "    </tr>\n",
       "    <tr>\n",
       "      <th>1</th>\n",
       "      <td>608</td>\n",
       "      <td>Spain</td>\n",
       "      <td>Female</td>\n",
       "      <td>41</td>\n",
       "      <td>1.0</td>\n",
       "      <td>83807.86</td>\n",
       "      <td>1</td>\n",
       "      <td>0</td>\n",
       "      <td>1</td>\n",
       "      <td>112542.58</td>\n",
       "    </tr>\n",
       "    <tr>\n",
       "      <th>2</th>\n",
       "      <td>502</td>\n",
       "      <td>France</td>\n",
       "      <td>Female</td>\n",
       "      <td>42</td>\n",
       "      <td>8.0</td>\n",
       "      <td>159660.80</td>\n",
       "      <td>3</td>\n",
       "      <td>1</td>\n",
       "      <td>0</td>\n",
       "      <td>113931.57</td>\n",
       "    </tr>\n",
       "    <tr>\n",
       "      <th>3</th>\n",
       "      <td>699</td>\n",
       "      <td>France</td>\n",
       "      <td>Female</td>\n",
       "      <td>39</td>\n",
       "      <td>1.0</td>\n",
       "      <td>0.00</td>\n",
       "      <td>2</td>\n",
       "      <td>0</td>\n",
       "      <td>0</td>\n",
       "      <td>93826.63</td>\n",
       "    </tr>\n",
       "    <tr>\n",
       "      <th>4</th>\n",
       "      <td>850</td>\n",
       "      <td>Spain</td>\n",
       "      <td>Female</td>\n",
       "      <td>43</td>\n",
       "      <td>2.0</td>\n",
       "      <td>125510.82</td>\n",
       "      <td>1</td>\n",
       "      <td>1</td>\n",
       "      <td>1</td>\n",
       "      <td>79084.10</td>\n",
       "    </tr>\n",
       "    <tr>\n",
       "      <th>...</th>\n",
       "      <td>...</td>\n",
       "      <td>...</td>\n",
       "      <td>...</td>\n",
       "      <td>...</td>\n",
       "      <td>...</td>\n",
       "      <td>...</td>\n",
       "      <td>...</td>\n",
       "      <td>...</td>\n",
       "      <td>...</td>\n",
       "      <td>...</td>\n",
       "    </tr>\n",
       "    <tr>\n",
       "      <th>9995</th>\n",
       "      <td>771</td>\n",
       "      <td>France</td>\n",
       "      <td>Male</td>\n",
       "      <td>39</td>\n",
       "      <td>5.0</td>\n",
       "      <td>0.00</td>\n",
       "      <td>2</td>\n",
       "      <td>1</td>\n",
       "      <td>0</td>\n",
       "      <td>96270.64</td>\n",
       "    </tr>\n",
       "    <tr>\n",
       "      <th>9996</th>\n",
       "      <td>516</td>\n",
       "      <td>France</td>\n",
       "      <td>Male</td>\n",
       "      <td>35</td>\n",
       "      <td>10.0</td>\n",
       "      <td>57369.61</td>\n",
       "      <td>1</td>\n",
       "      <td>1</td>\n",
       "      <td>1</td>\n",
       "      <td>101699.77</td>\n",
       "    </tr>\n",
       "    <tr>\n",
       "      <th>9997</th>\n",
       "      <td>709</td>\n",
       "      <td>France</td>\n",
       "      <td>Female</td>\n",
       "      <td>36</td>\n",
       "      <td>7.0</td>\n",
       "      <td>0.00</td>\n",
       "      <td>1</td>\n",
       "      <td>0</td>\n",
       "      <td>1</td>\n",
       "      <td>42085.58</td>\n",
       "    </tr>\n",
       "    <tr>\n",
       "      <th>9998</th>\n",
       "      <td>772</td>\n",
       "      <td>Germany</td>\n",
       "      <td>Male</td>\n",
       "      <td>42</td>\n",
       "      <td>3.0</td>\n",
       "      <td>75075.31</td>\n",
       "      <td>2</td>\n",
       "      <td>1</td>\n",
       "      <td>0</td>\n",
       "      <td>92888.52</td>\n",
       "    </tr>\n",
       "    <tr>\n",
       "      <th>9999</th>\n",
       "      <td>792</td>\n",
       "      <td>France</td>\n",
       "      <td>Female</td>\n",
       "      <td>28</td>\n",
       "      <td>5.0</td>\n",
       "      <td>130142.79</td>\n",
       "      <td>1</td>\n",
       "      <td>1</td>\n",
       "      <td>0</td>\n",
       "      <td>38190.78</td>\n",
       "    </tr>\n",
       "  </tbody>\n",
       "</table>\n",
       "<p>10000 rows × 10 columns</p>\n",
       "</div>"
      ],
      "text/plain": [
       "      credit_score geography  gender  age  tenure    balance  num_of_products  \\\n",
       "0              619    France  Female   42     2.0       0.00                1   \n",
       "1              608     Spain  Female   41     1.0   83807.86                1   \n",
       "2              502    France  Female   42     8.0  159660.80                3   \n",
       "3              699    France  Female   39     1.0       0.00                2   \n",
       "4              850     Spain  Female   43     2.0  125510.82                1   \n",
       "...            ...       ...     ...  ...     ...        ...              ...   \n",
       "9995           771    France    Male   39     5.0       0.00                2   \n",
       "9996           516    France    Male   35    10.0   57369.61                1   \n",
       "9997           709    France  Female   36     7.0       0.00                1   \n",
       "9998           772   Germany    Male   42     3.0   75075.31                2   \n",
       "9999           792    France  Female   28     5.0  130142.79                1   \n",
       "\n",
       "      has_crcard  is_active_member  estimated_salary  \n",
       "0              1                 1         101348.88  \n",
       "1              0                 1         112542.58  \n",
       "2              1                 0         113931.57  \n",
       "3              0                 0          93826.63  \n",
       "4              1                 1          79084.10  \n",
       "...          ...               ...               ...  \n",
       "9995           1                 0          96270.64  \n",
       "9996           1                 1         101699.77  \n",
       "9997           0                 1          42085.58  \n",
       "9998           1                 0          92888.52  \n",
       "9999           1                 0          38190.78  \n",
       "\n",
       "[10000 rows x 10 columns]"
      ]
     },
     "execution_count": 350,
     "metadata": {},
     "output_type": "execute_result"
    }
   ],
   "source": [
    "# Разделю данные на обучаюшую, валидационную и тестовую в соотношении 3:1:1, т.к. тестовой выборки нету.\n",
    "# Применю метод стратификации, т.к. данные не сбалансированы\n",
    "\n",
    "\n",
    "features = data.drop(['exited'], axis=1)\n",
    "target = data['exited']\n",
    "# Применю стандартизацию OHE\n",
    "\n",
    "features"
   ]
  },
  {
   "cell_type": "code",
   "execution_count": 351,
   "metadata": {},
   "outputs": [
    {
     "name": "stdout",
     "output_type": "stream",
     "text": [
      "Уникальные значения geography: ['France' 'Spain' 'Germany']\n",
      "Уникальные значения gender: ['Female' 'Male']\n"
     ]
    }
   ],
   "source": [
    "#Вывожу уникальные значения столбцов geography и gender\n",
    "\n",
    "print('Уникальные значения geography:',features['geography'].unique())\n",
    "print('Уникальные значения gender:',features['gender'].unique())"
   ]
  },
  {
   "cell_type": "markdown",
   "metadata": {},
   "source": [
    "В стобцах geography и gender имеются категориальные признаки, которые нужно преобразовать в числовые. Воспользуюсь методом DictVectorizer."
   ]
  },
  {
   "cell_type": "markdown",
   "metadata": {},
   "source": [
    "LabelEncoder и OneHotEncoder должны использоваться вместе как двухэтапный процесс. DictVectorizer делает это за один шаг. Но сначала, как следует из названия, необходимо преобразовать кодируемые столбцы в словарь. Мы можем сделать это, используя «.to_dict ()»."
   ]
  },
  {
   "cell_type": "code",
   "execution_count": 352,
   "metadata": {},
   "outputs": [],
   "source": [
    "features_rest, features_valid, target_rest, target_valid = train_test_split(\n",
    "   features, target, test_size=0.20, random_state=12345, stratify = target)\n",
    "\n",
    "\n",
    "features_train, features_test, target_train, target_test = train_test_split(\n",
    "   features_rest, target_rest, test_size=0.25, random_state=12345, stratify = target_rest)"
   ]
  },
  {
   "cell_type": "code",
   "execution_count": 353,
   "metadata": {
    "scrolled": true
   },
   "outputs": [
    {
     "name": "stdout",
     "output_type": "stream",
     "text": [
      "Размер features_train: (6000, 10)\n",
      "Размер features_valid: (2000, 10)\n",
      "Размер features_test: (2000, 10)\n"
     ]
    }
   ],
   "source": [
    "# Проверяю, как поделились данные:\n",
    "print('Размер features_train:', features_train.shape)\n",
    "print('Размер features_valid:', features_valid.shape)\n",
    "print('Размер features_test:', features_test.shape)"
   ]
  },
  {
   "cell_type": "code",
   "execution_count": 354,
   "metadata": {},
   "outputs": [],
   "source": [
    "def dict_vectorizer(data_features):\n",
    "\n",
    "    data_features = data_features.reset_index(drop=True)\n",
    "\n",
    "# создаю словарь\n",
    "\n",
    "    features_dict = data_features[[\"geography\",\"gender\"]].to_dict(orient = \"records\")\n",
    "# Instantiate DictVectorizer\n",
    "    dv = DictVectorizer(sparse = False)\n",
    "    df_array = dv.fit_transform(features_dict)\n",
    "# Convert into DataFrame\n",
    "    df_encoded = pd.DataFrame(df_array, columns = [\"female\",\"male\",\"france\",\"spain\",\"germany\"])\n",
    "# Объединяю данные\n",
    "\n",
    "    data_features = pd.concat([data_features,df_encoded], axis = 1)\n",
    "# удаляю первые значения классов для избегания ловушки переменных и столбцы, признаки которых мы делили \n",
    "\n",
    "    data_features = data_features.drop(['geography', 'gender', 'female', 'france'], axis=1)\n",
    "    \n",
    "    return data_features\n",
    "\n"
   ]
  },
  {
   "cell_type": "code",
   "execution_count": 355,
   "metadata": {},
   "outputs": [],
   "source": [
    "#кодирую\n",
    "\n",
    "features_train = dict_vectorizer(features_train)\n",
    "features_valid = dict_vectorizer(features_valid)\n",
    "features_test = dict_vectorizer(features_test)"
   ]
  },
  {
   "cell_type": "code",
   "execution_count": 356,
   "metadata": {},
   "outputs": [],
   "source": [
    "target_valid = target_valid.reset_index(drop=True)\n",
    "target_train = target_train.reset_index(drop=True)\n",
    "target_test = target_test.reset_index(drop=True)"
   ]
  },
  {
   "cell_type": "code",
   "execution_count": 357,
   "metadata": {},
   "outputs": [],
   "source": [
    "# параметры для стандартизации\n",
    "numeric = ['credit_score', 'age', 'tenure', 'balance', 'num_of_products', 'estimated_salary']\n",
    "\n",
    "scaler = StandardScaler()\n",
    "scaler.fit(features_train[numeric])\n",
    "features_train[numeric] = scaler.transform(features_train[numeric])\n",
    "features_valid[numeric] = scaler.transform(features_valid[numeric])"
   ]
  },
  {
   "cell_type": "markdown",
   "metadata": {},
   "source": [
    "### Вывод  \n",
    "- Были пропущены данные в колонке `tenure` - сколько лет человек является клиентом банка, заполнены медианными значениями\n",
    "- датасет имеет не сбалансированую выборку, только 20% уходит из банка\n",
    "- датасет предобработан \n",
    "- данные разделены на обучаюшую, валидационную и тестовую выборки\n",
    "- проведена стандартизация\n"
   ]
  },
  {
   "cell_type": "markdown",
   "metadata": {},
   "source": [
    "## Исследование задачи"
   ]
  },
  {
   "cell_type": "markdown",
   "metadata": {},
   "source": [
    "Начну тестирование без учёта дисбаланса. Для каждой нейросети надо будет строить AUC-ROC кривую, для упрощения создам фунцию для постройки графика."
   ]
  },
  {
   "cell_type": "code",
   "execution_count": 358,
   "metadata": {},
   "outputs": [],
   "source": [
    "def auc_roc_fig(model, features_valid=features_valid, target_valid=target_valid):\n",
    "    probabilities_valid = model.predict_proba(features_valid)\n",
    "    probabilities_one_valid = probabilities_valid[:, 1]\n",
    "    print('Площадь под кривой ROC: {:.4f}'.format(roc_auc_score(target_valid, probabilities_one_valid)))\n",
    "    fpr, tpr, thresholds = roc_curve(target_valid, probabilities_one_valid) \n",
    "    plt.figure(figsize=(12,12))\n",
    "    plt.plot(fpr, tpr)\n",
    "    plt.plot([0, 1], [0, 1], linestyle='--')\n",
    "    plt.xlim([0.0, 1.0])\n",
    "    plt.ylim([0.0, 1.0])\n",
    "    plt.xlabel('False Positive Rate')\n",
    "    plt.ylabel('True Positive Rate')\n",
    "    plt.title('ROC-кривая')\n",
    "    plt.show()\n",
    "    \n",
    "# функция для расёта площади под кривой ROC   \n",
    "def auc_roc_score(model, features_valid=features_valid, target_valid=target_valid):\n",
    "    probabilities_valid = model.predict_proba(features_valid)\n",
    "    probabilities_one_valid = probabilities_valid[:, 1]\n",
    "    print('Площадь под кривой ROC: {:.4f}'.format(roc_auc_score(target_valid, probabilities_one_valid)))    "
   ]
  },
  {
   "cell_type": "markdown",
   "metadata": {},
   "source": [
    "###  Дерево решений"
   ]
  },
  {
   "cell_type": "code",
   "execution_count": 359,
   "metadata": {
    "scrolled": true
   },
   "outputs": [
    {
     "name": "stderr",
     "output_type": "stream",
     "text": [
      "100%|██████████| 13/13 [00:00<00:00, 44.99it/s]"
     ]
    },
    {
     "name": "stdout",
     "output_type": "stream",
     "text": [
      "Решающее дерево, глубина = 8.00 , F1 = 0.575\n"
     ]
    },
    {
     "name": "stderr",
     "output_type": "stream",
     "text": [
      "\n"
     ]
    }
   ],
   "source": [
    "best_depth_tree = 0\n",
    "f1_best_tree = 0\n",
    "\n",
    "for depth in tqdm(range(2, 15)):\n",
    "    model = DecisionTreeClassifier(random_state=12345, max_depth=depth)\n",
    "    model.fit(features_train, target_train)\n",
    "    predictions_valid = model.predict(features_valid)\n",
    "    f1 = f1_score(target_valid, predictions_valid)\n",
    "    if f1 > f1_best_tree:\n",
    "        best_depth_tree = depth\n",
    "        f1_best_tree = f1\n",
    "        \n",
    "# сохраним лучшие параметры в словаре\n",
    "tree_best = {'depth':best_depth_tree}\n",
    "\n",
    "print(\"Решающее дерево, глубина = {:.2f} , F1 = {:.3f}\".format(\n",
    "        best_depth_tree, f1_best_tree))"
   ]
  },
  {
   "cell_type": "code",
   "execution_count": 360,
   "metadata": {},
   "outputs": [
    {
     "data": {
      "text/html": [
       "<div>\n",
       "<style scoped>\n",
       "    .dataframe tbody tr th:only-of-type {\n",
       "        vertical-align: middle;\n",
       "    }\n",
       "\n",
       "    .dataframe tbody tr th {\n",
       "        vertical-align: top;\n",
       "    }\n",
       "\n",
       "    .dataframe thead th {\n",
       "        text-align: right;\n",
       "    }\n",
       "</style>\n",
       "<table border=\"1\" class=\"dataframe\">\n",
       "  <thead>\n",
       "    <tr style=\"text-align: right;\">\n",
       "      <th></th>\n",
       "      <th>precision</th>\n",
       "      <th>recall</th>\n",
       "      <th>f1-score</th>\n",
       "      <th>support</th>\n",
       "    </tr>\n",
       "  </thead>\n",
       "  <tbody>\n",
       "    <tr>\n",
       "      <th>Non-exited</th>\n",
       "      <td>0.880756</td>\n",
       "      <td>0.936598</td>\n",
       "      <td>0.907819</td>\n",
       "      <td>1593.0000</td>\n",
       "    </tr>\n",
       "    <tr>\n",
       "      <th>exited</th>\n",
       "      <td>0.669935</td>\n",
       "      <td>0.503686</td>\n",
       "      <td>0.575035</td>\n",
       "      <td>407.0000</td>\n",
       "    </tr>\n",
       "    <tr>\n",
       "      <th>accuracy</th>\n",
       "      <td>0.848500</td>\n",
       "      <td>0.848500</td>\n",
       "      <td>0.848500</td>\n",
       "      <td>0.8485</td>\n",
       "    </tr>\n",
       "    <tr>\n",
       "      <th>macro avg</th>\n",
       "      <td>0.775345</td>\n",
       "      <td>0.720142</td>\n",
       "      <td>0.741427</td>\n",
       "      <td>2000.0000</td>\n",
       "    </tr>\n",
       "    <tr>\n",
       "      <th>weighted avg</th>\n",
       "      <td>0.837854</td>\n",
       "      <td>0.848500</td>\n",
       "      <td>0.840097</td>\n",
       "      <td>2000.0000</td>\n",
       "    </tr>\n",
       "  </tbody>\n",
       "</table>\n",
       "</div>"
      ],
      "text/plain": [
       "              precision    recall  f1-score    support\n",
       "Non-exited     0.880756  0.936598  0.907819  1593.0000\n",
       "exited         0.669935  0.503686  0.575035   407.0000\n",
       "accuracy       0.848500  0.848500  0.848500     0.8485\n",
       "macro avg      0.775345  0.720142  0.741427  2000.0000\n",
       "weighted avg   0.837854  0.848500  0.840097  2000.0000"
      ]
     },
     "execution_count": 360,
     "metadata": {},
     "output_type": "execute_result"
    }
   ],
   "source": [
    "# посмтотрю на метрики качества, для этого воспользуюсь функцией \n",
    "model = DecisionTreeClassifier(random_state=12345,\n",
    "                               max_depth=best_depth_tree)\n",
    "model.fit(features_train, target_train)\n",
    "predictions_valid = model.predict(features_valid)\n",
    "report = classification_report(target_valid, predictions_valid, target_names=['Non-exited', 'exited'], output_dict=True)\n",
    "report = pd.DataFrame(report).transpose()\n",
    "report"
   ]
  },
  {
   "cell_type": "code",
   "execution_count": 361,
   "metadata": {
    "scrolled": true
   },
   "outputs": [
    {
     "name": "stdout",
     "output_type": "stream",
     "text": [
      "Площадь под кривой ROC: 0.7987\n"
     ]
    },
    {
     "data": {
      "image/png": "[encoded data removed]",
      "text/plain": [
       "<Figure size 864x864 with 1 Axes>"
      ]
     },
     "metadata": {
      "needs_background": "light"
     },
     "output_type": "display_data"
    }
   ],
   "source": [
    "# Построю кривую\n",
    "auc_roc_fig(model)"
   ]
  },
  {
   "cell_type": "markdown",
   "metadata": {},
   "source": [
    "**Вывод решающее дерево**\n",
    "- F1 метрика получилась `0.575` это ниже заданного порога в `0.59`\n",
    "- площадь под кривой ROC `0.7987`\n"
   ]
  },
  {
   "cell_type": "markdown",
   "metadata": {},
   "source": [
    "###  Случайный лес"
   ]
  },
  {
   "cell_type": "code",
   "execution_count": 362,
   "metadata": {},
   "outputs": [
    {
     "name": "stderr",
     "output_type": "stream",
     "text": [
      "100%|██████████| 7/7 [00:10<00:00,  1.50s/it]"
     ]
    },
    {
     "name": "stdout",
     "output_type": "stream",
     "text": [
      "Решающее дерево, глубина = 10.00, кол-во деревьев = 10.000 , F1 = 0.558\n"
     ]
    },
    {
     "name": "stderr",
     "output_type": "stream",
     "text": [
      "\n"
     ]
    }
   ],
   "source": [
    "best_est_rf = 0\n",
    "best_depth_rf = 0\n",
    "f1_best_rf = 0\n",
    "\n",
    "for est in tqdm(range(10, 71, 10)):\n",
    "    for depth in range (1, 11):\n",
    "        model = RandomForestClassifier(random_state=12345, n_estimators=est, max_depth=depth)\n",
    "        model.fit(features_train, target_train)\n",
    "        predictions_valid = model.predict(features_valid)\n",
    "        f1 = f1_score(target_valid, predictions_valid)\n",
    "        if f1 > f1_best_rf:\n",
    "            best_depth_rf = depth\n",
    "            best_est_rf = est\n",
    "            f1_best_rf = f1\n",
    "random_forest_best = {'depth':best_depth_rf, 'n_estimators':best_est_rf}  \n",
    "\n",
    "print(\"Решающее дерево, глубина = {:.2f}, кол-во деревьев = {:.3f} , F1 = {:.3f}\".format(\n",
    "        best_depth_rf,best_est_rf, f1_best_rf))"
   ]
  },
  {
   "cell_type": "code",
   "execution_count": 363,
   "metadata": {},
   "outputs": [
    {
     "data": {
      "text/html": [
       "<div>\n",
       "<style scoped>\n",
       "    .dataframe tbody tr th:only-of-type {\n",
       "        vertical-align: middle;\n",
       "    }\n",
       "\n",
       "    .dataframe tbody tr th {\n",
       "        vertical-align: top;\n",
       "    }\n",
       "\n",
       "    .dataframe thead th {\n",
       "        text-align: right;\n",
       "    }\n",
       "</style>\n",
       "<table border=\"1\" class=\"dataframe\">\n",
       "  <thead>\n",
       "    <tr style=\"text-align: right;\">\n",
       "      <th></th>\n",
       "      <th>precision</th>\n",
       "      <th>recall</th>\n",
       "      <th>f1-score</th>\n",
       "      <th>support</th>\n",
       "    </tr>\n",
       "  </thead>\n",
       "  <tbody>\n",
       "    <tr>\n",
       "      <th>Non-exited</th>\n",
       "      <td>0.865997</td>\n",
       "      <td>0.973635</td>\n",
       "      <td>0.916667</td>\n",
       "      <td>1593.000</td>\n",
       "    </tr>\n",
       "    <tr>\n",
       "      <th>exited</th>\n",
       "      <td>0.799043</td>\n",
       "      <td>0.410319</td>\n",
       "      <td>0.542208</td>\n",
       "      <td>407.000</td>\n",
       "    </tr>\n",
       "    <tr>\n",
       "      <th>accuracy</th>\n",
       "      <td>0.859000</td>\n",
       "      <td>0.859000</td>\n",
       "      <td>0.859000</td>\n",
       "      <td>0.859</td>\n",
       "    </tr>\n",
       "    <tr>\n",
       "      <th>macro avg</th>\n",
       "      <td>0.832520</td>\n",
       "      <td>0.691977</td>\n",
       "      <td>0.729437</td>\n",
       "      <td>2000.000</td>\n",
       "    </tr>\n",
       "    <tr>\n",
       "      <th>weighted avg</th>\n",
       "      <td>0.852372</td>\n",
       "      <td>0.859000</td>\n",
       "      <td>0.840464</td>\n",
       "      <td>2000.000</td>\n",
       "    </tr>\n",
       "  </tbody>\n",
       "</table>\n",
       "</div>"
      ],
      "text/plain": [
       "              precision    recall  f1-score   support\n",
       "Non-exited     0.865997  0.973635  0.916667  1593.000\n",
       "exited         0.799043  0.410319  0.542208   407.000\n",
       "accuracy       0.859000  0.859000  0.859000     0.859\n",
       "macro avg      0.832520  0.691977  0.729437  2000.000\n",
       "weighted avg   0.852372  0.859000  0.840464  2000.000"
      ]
     },
     "execution_count": 363,
     "metadata": {},
     "output_type": "execute_result"
    }
   ],
   "source": [
    "model = RandomForestClassifier(random_state=12345,\n",
    "                               n_estimators=50, max_depth=9)\n",
    "model.fit(features_train, target_train)\n",
    "predictions_valid = model.predict(features_valid)\n",
    "report = classification_report(target_valid, predictions_valid, target_names=['Non-exited', 'exited'], output_dict=True)\n",
    "report = pd.DataFrame(report).transpose()\n",
    "report"
   ]
  },
  {
   "cell_type": "code",
   "execution_count": 364,
   "metadata": {
    "scrolled": true
   },
   "outputs": [
    {
     "name": "stdout",
     "output_type": "stream",
     "text": [
      "Площадь под кривой ROC: 0.8689\n"
     ]
    },
    {
     "data": {
      "image/png": "[encoded data removed]",
      "text/plain": [
       "<Figure size 864x864 with 1 Axes>"
      ]
     },
     "metadata": {
      "needs_background": "light"
     },
     "output_type": "display_data"
    }
   ],
   "source": [
    "auc_roc_fig(model)"
   ]
  },
  {
   "cell_type": "markdown",
   "metadata": {},
   "source": [
    "**Вывод случайный лес**\n",
    "- F1 метрика получилась `0.556` это ниже заданного порога в `0.59`\n",
    "- площадь под кривой ROC `0.8685`"
   ]
  },
  {
   "cell_type": "markdown",
   "metadata": {},
   "source": [
    "###  Логистическая регрессия"
   ]
  },
  {
   "cell_type": "code",
   "execution_count": 365,
   "metadata": {},
   "outputs": [
    {
     "data": {
      "text/html": [
       "<div>\n",
       "<style scoped>\n",
       "    .dataframe tbody tr th:only-of-type {\n",
       "        vertical-align: middle;\n",
       "    }\n",
       "\n",
       "    .dataframe tbody tr th {\n",
       "        vertical-align: top;\n",
       "    }\n",
       "\n",
       "    .dataframe thead th {\n",
       "        text-align: right;\n",
       "    }\n",
       "</style>\n",
       "<table border=\"1\" class=\"dataframe\">\n",
       "  <thead>\n",
       "    <tr style=\"text-align: right;\">\n",
       "      <th></th>\n",
       "      <th>precision</th>\n",
       "      <th>recall</th>\n",
       "      <th>f1-score</th>\n",
       "      <th>support</th>\n",
       "    </tr>\n",
       "  </thead>\n",
       "  <tbody>\n",
       "    <tr>\n",
       "      <th>Non-exited</th>\n",
       "      <td>0.825321</td>\n",
       "      <td>0.969868</td>\n",
       "      <td>0.891775</td>\n",
       "      <td>1593.0000</td>\n",
       "    </tr>\n",
       "    <tr>\n",
       "      <th>exited</th>\n",
       "      <td>0.625000</td>\n",
       "      <td>0.196560</td>\n",
       "      <td>0.299065</td>\n",
       "      <td>407.0000</td>\n",
       "    </tr>\n",
       "    <tr>\n",
       "      <th>accuracy</th>\n",
       "      <td>0.812500</td>\n",
       "      <td>0.812500</td>\n",
       "      <td>0.812500</td>\n",
       "      <td>0.8125</td>\n",
       "    </tr>\n",
       "    <tr>\n",
       "      <th>macro avg</th>\n",
       "      <td>0.725160</td>\n",
       "      <td>0.583214</td>\n",
       "      <td>0.595420</td>\n",
       "      <td>2000.0000</td>\n",
       "    </tr>\n",
       "    <tr>\n",
       "      <th>weighted avg</th>\n",
       "      <td>0.784555</td>\n",
       "      <td>0.812500</td>\n",
       "      <td>0.771159</td>\n",
       "      <td>2000.0000</td>\n",
       "    </tr>\n",
       "  </tbody>\n",
       "</table>\n",
       "</div>"
      ],
      "text/plain": [
       "              precision    recall  f1-score    support\n",
       "Non-exited     0.825321  0.969868  0.891775  1593.0000\n",
       "exited         0.625000  0.196560  0.299065   407.0000\n",
       "accuracy       0.812500  0.812500  0.812500     0.8125\n",
       "macro avg      0.725160  0.583214  0.595420  2000.0000\n",
       "weighted avg   0.784555  0.812500  0.771159  2000.0000"
      ]
     },
     "execution_count": 365,
     "metadata": {},
     "output_type": "execute_result"
    }
   ],
   "source": [
    "model = LogisticRegression(random_state=12345)  # инициализируйте модель LinearRegression\n",
    "model.fit(features_train, target_train) # обучите модель на тренировочной выборке\n",
    "predictions_valid = model.predict(features_valid)\n",
    "\n",
    "report = classification_report(target_valid, predictions_valid, target_names=['Non-exited', 'exited'], output_dict=True)\n",
    "report = pd.DataFrame(report).transpose()\n",
    "report"
   ]
  },
  {
   "cell_type": "code",
   "execution_count": 366,
   "metadata": {
    "scrolled": false
   },
   "outputs": [
    {
     "name": "stdout",
     "output_type": "stream",
     "text": [
      "Площадь под кривой ROC: 0.7749\n"
     ]
    },
    {
     "data": {
      "image/png": "[encoded data removed]",
      "text/plain": [
       "<Figure size 864x864 with 1 Axes>"
      ]
     },
     "metadata": {
      "needs_background": "light"
     },
     "output_type": "display_data"
    }
   ],
   "source": [
    "auc_roc_fig(model)"
   ]
  },
  {
   "cell_type": "markdown",
   "metadata": {},
   "source": [
    "**Вывод логистическия регрессия**\n",
    "- F1 метрика получилась `0.3` это сильно ниже заданного порога в `0.59`\n",
    "- площадь под кривой ROC `0.7749`"
   ]
  },
  {
   "cell_type": "markdown",
   "metadata": {},
   "source": [
    "### Вывод по моделям"
   ]
  },
  {
   "cell_type": "code",
   "execution_count": 367,
   "metadata": {},
   "outputs": [
    {
     "data": {
      "text/html": [
       "<div>\n",
       "<style scoped>\n",
       "    .dataframe tbody tr th:only-of-type {\n",
       "        vertical-align: middle;\n",
       "    }\n",
       "\n",
       "    .dataframe tbody tr th {\n",
       "        vertical-align: top;\n",
       "    }\n",
       "\n",
       "    .dataframe thead th {\n",
       "        text-align: right;\n",
       "    }\n",
       "</style>\n",
       "<table border=\"1\" class=\"dataframe\">\n",
       "  <thead>\n",
       "    <tr style=\"text-align: right;\">\n",
       "      <th></th>\n",
       "      <th>model</th>\n",
       "      <th>f1_score</th>\n",
       "    </tr>\n",
       "  </thead>\n",
       "  <tbody>\n",
       "    <tr>\n",
       "      <th>0</th>\n",
       "      <td>tree</td>\n",
       "      <td>0.575035</td>\n",
       "    </tr>\n",
       "    <tr>\n",
       "      <th>1</th>\n",
       "      <td>random_forest</td>\n",
       "      <td>0.557994</td>\n",
       "    </tr>\n",
       "    <tr>\n",
       "      <th>2</th>\n",
       "      <td>logistic_r</td>\n",
       "      <td>0.299065</td>\n",
       "    </tr>\n",
       "  </tbody>\n",
       "</table>\n",
       "</div>"
      ],
      "text/plain": [
       "           model  f1_score\n",
       "0           tree  0.575035\n",
       "1  random_forest  0.557994\n",
       "2     logistic_r  0.299065"
      ]
     },
     "execution_count": 367,
     "metadata": {},
     "output_type": "execute_result"
    }
   ],
   "source": [
    "\n",
    "f1_lgr = report.loc['exited', 'f1-score']\n",
    "f1_lgr\n",
    "\n",
    "models = ['tree', 'random_forest', 'logistic_r']\n",
    "f1_scores = [f1_best_tree, f1_best_rf, f1_lgr]\n",
    "\n",
    "best_model = pd.DataFrame({'model':models, 'f1_score':f1_scores})\n",
    "best_model"
   ]
  },
  {
   "cell_type": "markdown",
   "metadata": {},
   "source": [
    "**Вывод**  \n",
    "Из графиков видно, что Дерево решений имеет немного лучшее показания f1 метрики чем, Случайный лес. Логистическая регрессия сильно отстаёт от остальных. Но значение f1 ниже порога в `0.59`. Надо провести борьбу с дисбалансом "
   ]
  },
  {
   "cell_type": "markdown",
   "metadata": {},
   "source": [
    "## Борьба с дисбалансом"
   ]
  },
  {
   "cell_type": "markdown",
   "metadata": {},
   "source": [
    "Есть несколько способов борьбы с дисбалансом:\n",
    "1. Взвешивание классов\n",
    "2. Увеличение выборки\n",
    "3. Уменьшение выборки\n",
    "4. Изменение порога классификации"
   ]
  },
  {
   "cell_type": "markdown",
   "metadata": {},
   "source": [
    "Чтобы легче было смотреть данные, я не буду строить графики auc rog, а сразу смотреть площадь, потом, выбрав наилучшую модель, я построю её график"
   ]
  },
  {
   "cell_type": "markdown",
   "metadata": {},
   "source": [
    "### Взвешивание классов"
   ]
  },
  {
   "cell_type": "code",
   "execution_count": 368,
   "metadata": {
    "scrolled": false
   },
   "outputs": [
    {
     "data": {
      "text/html": [
       "<div>\n",
       "<style scoped>\n",
       "    .dataframe tbody tr th:only-of-type {\n",
       "        vertical-align: middle;\n",
       "    }\n",
       "\n",
       "    .dataframe tbody tr th {\n",
       "        vertical-align: top;\n",
       "    }\n",
       "\n",
       "    .dataframe thead th {\n",
       "        text-align: right;\n",
       "    }\n",
       "</style>\n",
       "<table border=\"1\" class=\"dataframe\">\n",
       "  <thead>\n",
       "    <tr style=\"text-align: right;\">\n",
       "      <th></th>\n",
       "      <th>precision</th>\n",
       "      <th>recall</th>\n",
       "      <th>f1-score</th>\n",
       "      <th>support</th>\n",
       "    </tr>\n",
       "  </thead>\n",
       "  <tbody>\n",
       "    <tr>\n",
       "      <th>Non-exited</th>\n",
       "      <td>0.911598</td>\n",
       "      <td>0.705587</td>\n",
       "      <td>0.795471</td>\n",
       "      <td>1593.000</td>\n",
       "    </tr>\n",
       "    <tr>\n",
       "      <th>exited</th>\n",
       "      <td>0.388527</td>\n",
       "      <td>0.732187</td>\n",
       "      <td>0.507666</td>\n",
       "      <td>407.000</td>\n",
       "    </tr>\n",
       "    <tr>\n",
       "      <th>accuracy</th>\n",
       "      <td>0.711000</td>\n",
       "      <td>0.711000</td>\n",
       "      <td>0.711000</td>\n",
       "      <td>0.711</td>\n",
       "    </tr>\n",
       "    <tr>\n",
       "      <th>macro avg</th>\n",
       "      <td>0.650062</td>\n",
       "      <td>0.718887</td>\n",
       "      <td>0.651568</td>\n",
       "      <td>2000.000</td>\n",
       "    </tr>\n",
       "    <tr>\n",
       "      <th>weighted avg</th>\n",
       "      <td>0.805153</td>\n",
       "      <td>0.711000</td>\n",
       "      <td>0.736902</td>\n",
       "      <td>2000.000</td>\n",
       "    </tr>\n",
       "  </tbody>\n",
       "</table>\n",
       "</div>"
      ],
      "text/plain": [
       "              precision    recall  f1-score   support\n",
       "Non-exited     0.911598  0.705587  0.795471  1593.000\n",
       "exited         0.388527  0.732187  0.507666   407.000\n",
       "accuracy       0.711000  0.711000  0.711000     0.711\n",
       "macro avg      0.650062  0.718887  0.651568  2000.000\n",
       "weighted avg   0.805153  0.711000  0.736902  2000.000"
      ]
     },
     "metadata": {},
     "output_type": "display_data"
    },
    {
     "name": "stdout",
     "output_type": "stream",
     "text": [
      "Площадь под кривой ROC: 0.7813\n"
     ]
    }
   ],
   "source": [
    "model = LogisticRegression(random_state=12345, solver='liblinear', class_weight='balanced')  # инициализируйте модель LinearRegression\n",
    "model.fit(features_train, target_train) # обучите модель на тренировочной выборке\n",
    "predictions_valid = model.predict(features_valid)\n",
    "\n",
    "report = classification_report(target_valid, predictions_valid, target_names=['Non-exited', 'exited'], output_dict=True)\n",
    "report = pd.DataFrame(report).transpose()\n",
    "\n",
    "display(report)\n",
    "auc_roc_score(model)\n"
   ]
  },
  {
   "cell_type": "markdown",
   "metadata": {},
   "source": [
    "- F1 метрика получилась `0.50` увеличелась, хотя не достаточно для того, чтобы перейти порог в `0.59`\n",
    "- площадь под кривой ROC `0.7813`"
   ]
  },
  {
   "cell_type": "markdown",
   "metadata": {},
   "source": [
    "### Увеличение выборки"
   ]
  },
  {
   "cell_type": "code",
   "execution_count": 369,
   "metadata": {},
   "outputs": [],
   "source": [
    "def upsample(features, target, repeat):\n",
    "    features_zeros = features[target == 0]\n",
    "    features_ones = features[target == 1]\n",
    "    target_zeros = target[target == 0]\n",
    "    target_ones = target[target == 1]\n",
    "\n",
    "    features_upsampled = pd.concat([features_zeros] + [features_ones] * repeat)\n",
    "    target_upsampled = pd.concat([target_zeros] + [target_ones] * repeat)\n",
    "    \n",
    "    features_upsampled, target_upsampled = shuffle(\n",
    "        features_upsampled, target_upsampled, random_state=12345)\n",
    "    \n",
    "    return features_upsampled, target_upsampled\n",
    "\n",
    "features_upsampled, target_upsampled = upsample(features_train, target_train, 4)"
   ]
  },
  {
   "cell_type": "markdown",
   "metadata": {},
   "source": [
    "#### Дерево решений"
   ]
  },
  {
   "cell_type": "code",
   "execution_count": 370,
   "metadata": {},
   "outputs": [
    {
     "name": "stderr",
     "output_type": "stream",
     "text": [
      "100%|██████████| 13/13 [00:00<00:00, 40.53it/s]"
     ]
    },
    {
     "name": "stdout",
     "output_type": "stream",
     "text": [
      "Решающее дерево, глубина = 6.00 , F1 = 0.571\n"
     ]
    },
    {
     "name": "stderr",
     "output_type": "stream",
     "text": [
      "\n"
     ]
    }
   ],
   "source": [
    "best_depth_tree = 0\n",
    "f1_best_tree = 0\n",
    "\n",
    "for depth in tqdm(range(2, 15)):\n",
    "    model = DecisionTreeClassifier(random_state=12345, max_depth=depth)\n",
    "    model.fit(features_upsampled, target_upsampled)\n",
    "    predictions_valid = model.predict(features_valid)\n",
    "    f1 = f1_score(target_valid, predictions_valid)\n",
    "    if f1 > f1_best_tree:\n",
    "        best_depth_tree = depth\n",
    "        f1_best_tree = f1\n",
    "        \n",
    "# сохраним лучшие параметры в словаре\n",
    "tree_best = {'depth':best_depth_tree}\n",
    "\n",
    "print(\"Решающее дерево, глубина = {:.2f} , F1 = {:.3f}\".format(\n",
    "        best_depth_tree, f1_best_tree))"
   ]
  },
  {
   "cell_type": "code",
   "execution_count": 371,
   "metadata": {},
   "outputs": [
    {
     "data": {
      "text/html": [
       "<div>\n",
       "<style scoped>\n",
       "    .dataframe tbody tr th:only-of-type {\n",
       "        vertical-align: middle;\n",
       "    }\n",
       "\n",
       "    .dataframe tbody tr th {\n",
       "        vertical-align: top;\n",
       "    }\n",
       "\n",
       "    .dataframe thead th {\n",
       "        text-align: right;\n",
       "    }\n",
       "</style>\n",
       "<table border=\"1\" class=\"dataframe\">\n",
       "  <thead>\n",
       "    <tr style=\"text-align: right;\">\n",
       "      <th></th>\n",
       "      <th>precision</th>\n",
       "      <th>recall</th>\n",
       "      <th>f1-score</th>\n",
       "      <th>support</th>\n",
       "    </tr>\n",
       "  </thead>\n",
       "  <tbody>\n",
       "    <tr>\n",
       "      <th>Non-exited</th>\n",
       "      <td>0.931783</td>\n",
       "      <td>0.754551</td>\n",
       "      <td>0.833854</td>\n",
       "      <td>1593.0000</td>\n",
       "    </tr>\n",
       "    <tr>\n",
       "      <th>exited</th>\n",
       "      <td>0.449296</td>\n",
       "      <td>0.783784</td>\n",
       "      <td>0.571173</td>\n",
       "      <td>407.0000</td>\n",
       "    </tr>\n",
       "    <tr>\n",
       "      <th>accuracy</th>\n",
       "      <td>0.760500</td>\n",
       "      <td>0.760500</td>\n",
       "      <td>0.760500</td>\n",
       "      <td>0.7605</td>\n",
       "    </tr>\n",
       "    <tr>\n",
       "      <th>macro avg</th>\n",
       "      <td>0.690539</td>\n",
       "      <td>0.769167</td>\n",
       "      <td>0.702513</td>\n",
       "      <td>2000.0000</td>\n",
       "    </tr>\n",
       "    <tr>\n",
       "      <th>weighted avg</th>\n",
       "      <td>0.833597</td>\n",
       "      <td>0.760500</td>\n",
       "      <td>0.780398</td>\n",
       "      <td>2000.0000</td>\n",
       "    </tr>\n",
       "  </tbody>\n",
       "</table>\n",
       "</div>"
      ],
      "text/plain": [
       "              precision    recall  f1-score    support\n",
       "Non-exited     0.931783  0.754551  0.833854  1593.0000\n",
       "exited         0.449296  0.783784  0.571173   407.0000\n",
       "accuracy       0.760500  0.760500  0.760500     0.7605\n",
       "macro avg      0.690539  0.769167  0.702513  2000.0000\n",
       "weighted avg   0.833597  0.760500  0.780398  2000.0000"
      ]
     },
     "metadata": {},
     "output_type": "display_data"
    },
    {
     "name": "stdout",
     "output_type": "stream",
     "text": [
      "Площадь под кривой ROC: 0.8368\n"
     ]
    }
   ],
   "source": [
    "model = DecisionTreeClassifier(random_state=12345,\n",
    "                               max_depth=best_depth_tree)\n",
    "model.fit(features_upsampled, target_upsampled)\n",
    "predictions_valid = model.predict(features_valid)\n",
    "report = classification_report(target_valid, predictions_valid, target_names=['Non-exited', 'exited'], output_dict=True)\n",
    "report = pd.DataFrame(report).transpose()\n",
    "\n",
    "display(report)\n",
    "auc_roc_score(model)"
   ]
  },
  {
   "cell_type": "markdown",
   "metadata": {},
   "source": [
    "#### Случайный лес"
   ]
  },
  {
   "cell_type": "code",
   "execution_count": 372,
   "metadata": {},
   "outputs": [
    {
     "name": "stderr",
     "output_type": "stream",
     "text": [
      "100%|██████████| 7/7 [00:13<00:00,  1.97s/it]"
     ]
    },
    {
     "name": "stdout",
     "output_type": "stream",
     "text": [
      "Решающее дерево, глубина = 9.00, кол-во деревьев = 70.000 , F1 = 0.634\n"
     ]
    },
    {
     "name": "stderr",
     "output_type": "stream",
     "text": [
      "\n"
     ]
    }
   ],
   "source": [
    "best_est_rf = 0\n",
    "best_depth_rf = 0\n",
    "f1_best_rf = 0\n",
    "\n",
    "for est in tqdm(range(10, 71, 10)):\n",
    "    for depth in range (1, 11):\n",
    "        model = RandomForestClassifier(random_state=12345, n_estimators=est, max_depth=depth)\n",
    "        model.fit(features_upsampled, target_upsampled)\n",
    "        predictions_valid = model.predict(features_valid)\n",
    "        f1 = f1_score(target_valid, predictions_valid)\n",
    "        if f1 > f1_best_rf:\n",
    "            best_depth_rf = depth\n",
    "            best_est_rf = est\n",
    "            f1_best_rf = f1\n",
    "random_forest_best = {'depth':best_depth_rf, 'n_estimators':best_est_rf}  \n",
    "\n",
    "print(\"Решающее дерево, глубина = {:.2f}, кол-во деревьев = {:.3f} , F1 = {:.3f}\".format(\n",
    "        best_depth_rf,best_est_rf, f1_best_rf))\n",
    "\n"
   ]
  },
  {
   "cell_type": "code",
   "execution_count": 373,
   "metadata": {
    "scrolled": true
   },
   "outputs": [
    {
     "data": {
      "text/html": [
       "<div>\n",
       "<style scoped>\n",
       "    .dataframe tbody tr th:only-of-type {\n",
       "        vertical-align: middle;\n",
       "    }\n",
       "\n",
       "    .dataframe tbody tr th {\n",
       "        vertical-align: top;\n",
       "    }\n",
       "\n",
       "    .dataframe thead th {\n",
       "        text-align: right;\n",
       "    }\n",
       "</style>\n",
       "<table border=\"1\" class=\"dataframe\">\n",
       "  <thead>\n",
       "    <tr style=\"text-align: right;\">\n",
       "      <th></th>\n",
       "      <th>precision</th>\n",
       "      <th>recall</th>\n",
       "      <th>f1-score</th>\n",
       "      <th>support</th>\n",
       "    </tr>\n",
       "  </thead>\n",
       "  <tbody>\n",
       "    <tr>\n",
       "      <th>Non-exited</th>\n",
       "      <td>0.926712</td>\n",
       "      <td>0.849341</td>\n",
       "      <td>0.886341</td>\n",
       "      <td>1593.0000</td>\n",
       "    </tr>\n",
       "    <tr>\n",
       "      <th>exited</th>\n",
       "      <td>0.555556</td>\n",
       "      <td>0.737101</td>\n",
       "      <td>0.633580</td>\n",
       "      <td>407.0000</td>\n",
       "    </tr>\n",
       "    <tr>\n",
       "      <th>accuracy</th>\n",
       "      <td>0.826500</td>\n",
       "      <td>0.826500</td>\n",
       "      <td>0.826500</td>\n",
       "      <td>0.8265</td>\n",
       "    </tr>\n",
       "    <tr>\n",
       "      <th>macro avg</th>\n",
       "      <td>0.741134</td>\n",
       "      <td>0.793221</td>\n",
       "      <td>0.759961</td>\n",
       "      <td>2000.0000</td>\n",
       "    </tr>\n",
       "    <tr>\n",
       "      <th>weighted avg</th>\n",
       "      <td>0.851182</td>\n",
       "      <td>0.826500</td>\n",
       "      <td>0.834904</td>\n",
       "      <td>2000.0000</td>\n",
       "    </tr>\n",
       "  </tbody>\n",
       "</table>\n",
       "</div>"
      ],
      "text/plain": [
       "              precision    recall  f1-score    support\n",
       "Non-exited     0.926712  0.849341  0.886341  1593.0000\n",
       "exited         0.555556  0.737101  0.633580   407.0000\n",
       "accuracy       0.826500  0.826500  0.826500     0.8265\n",
       "macro avg      0.741134  0.793221  0.759961  2000.0000\n",
       "weighted avg   0.851182  0.826500  0.834904  2000.0000"
      ]
     },
     "metadata": {},
     "output_type": "display_data"
    },
    {
     "name": "stdout",
     "output_type": "stream",
     "text": [
      "Площадь под кривой ROC: 0.8657\n"
     ]
    }
   ],
   "source": [
    "model = RandomForestClassifier(random_state=12345,\n",
    "                               n_estimators=best_est_rf, max_depth=best_depth_rf)\n",
    "model.fit(features_upsampled, target_upsampled)\n",
    "predictions_valid = model.predict(features_valid)\n",
    "report = classification_report(target_valid, predictions_valid, target_names=['Non-exited', 'exited'], output_dict=True)\n",
    "report = pd.DataFrame(report).transpose()\n",
    "\n",
    "display(report)\n",
    "auc_roc_score(model)"
   ]
  },
  {
   "cell_type": "markdown",
   "metadata": {},
   "source": [
    "#### Логистическая регрессия"
   ]
  },
  {
   "cell_type": "code",
   "execution_count": 374,
   "metadata": {
    "scrolled": false
   },
   "outputs": [
    {
     "data": {
      "text/html": [
       "<div>\n",
       "<style scoped>\n",
       "    .dataframe tbody tr th:only-of-type {\n",
       "        vertical-align: middle;\n",
       "    }\n",
       "\n",
       "    .dataframe tbody tr th {\n",
       "        vertical-align: top;\n",
       "    }\n",
       "\n",
       "    .dataframe thead th {\n",
       "        text-align: right;\n",
       "    }\n",
       "</style>\n",
       "<table border=\"1\" class=\"dataframe\">\n",
       "  <thead>\n",
       "    <tr style=\"text-align: right;\">\n",
       "      <th></th>\n",
       "      <th>precision</th>\n",
       "      <th>recall</th>\n",
       "      <th>f1-score</th>\n",
       "      <th>support</th>\n",
       "    </tr>\n",
       "  </thead>\n",
       "  <tbody>\n",
       "    <tr>\n",
       "      <th>Non-exited</th>\n",
       "      <td>0.913295</td>\n",
       "      <td>0.694288</td>\n",
       "      <td>0.788873</td>\n",
       "      <td>1593.000</td>\n",
       "    </tr>\n",
       "    <tr>\n",
       "      <th>exited</th>\n",
       "      <td>0.382763</td>\n",
       "      <td>0.742015</td>\n",
       "      <td>0.505017</td>\n",
       "      <td>407.000</td>\n",
       "    </tr>\n",
       "    <tr>\n",
       "      <th>accuracy</th>\n",
       "      <td>0.704000</td>\n",
       "      <td>0.704000</td>\n",
       "      <td>0.704000</td>\n",
       "      <td>0.704</td>\n",
       "    </tr>\n",
       "    <tr>\n",
       "      <th>macro avg</th>\n",
       "      <td>0.648029</td>\n",
       "      <td>0.718151</td>\n",
       "      <td>0.646945</td>\n",
       "      <td>2000.000</td>\n",
       "    </tr>\n",
       "    <tr>\n",
       "      <th>weighted avg</th>\n",
       "      <td>0.805332</td>\n",
       "      <td>0.704000</td>\n",
       "      <td>0.731108</td>\n",
       "      <td>2000.000</td>\n",
       "    </tr>\n",
       "  </tbody>\n",
       "</table>\n",
       "</div>"
      ],
      "text/plain": [
       "              precision    recall  f1-score   support\n",
       "Non-exited     0.913295  0.694288  0.788873  1593.000\n",
       "exited         0.382763  0.742015  0.505017   407.000\n",
       "accuracy       0.704000  0.704000  0.704000     0.704\n",
       "macro avg      0.648029  0.718151  0.646945  2000.000\n",
       "weighted avg   0.805332  0.704000  0.731108  2000.000"
      ]
     },
     "metadata": {},
     "output_type": "display_data"
    },
    {
     "name": "stdout",
     "output_type": "stream",
     "text": [
      "Площадь под кривой ROC: 0.7813\n"
     ]
    }
   ],
   "source": [
    "model = LogisticRegression(random_state=12345)  # инициализируйте модель LinearRegression\n",
    "model.fit(features_upsampled, target_upsampled) # обучите модель на тренировочной выборке\n",
    "predictions_valid = model.predict(features_valid)\n",
    "\n",
    "report = classification_report(target_valid, predictions_valid, target_names=['Non-exited', 'exited'], output_dict=True)\n",
    "report = pd.DataFrame(report).transpose()\n",
    "display(report)\n",
    "auc_roc_score(model)"
   ]
  },
  {
   "cell_type": "markdown",
   "metadata": {},
   "source": [
    "#### Вывод по увеличению выборки"
   ]
  },
  {
   "cell_type": "code",
   "execution_count": 375,
   "metadata": {
    "scrolled": true
   },
   "outputs": [
    {
     "data": {
      "text/html": [
       "<div>\n",
       "<style scoped>\n",
       "    .dataframe tbody tr th:only-of-type {\n",
       "        vertical-align: middle;\n",
       "    }\n",
       "\n",
       "    .dataframe tbody tr th {\n",
       "        vertical-align: top;\n",
       "    }\n",
       "\n",
       "    .dataframe thead th {\n",
       "        text-align: right;\n",
       "    }\n",
       "</style>\n",
       "<table border=\"1\" class=\"dataframe\">\n",
       "  <thead>\n",
       "    <tr style=\"text-align: right;\">\n",
       "      <th></th>\n",
       "      <th>model</th>\n",
       "      <th>f1_score</th>\n",
       "    </tr>\n",
       "  </thead>\n",
       "  <tbody>\n",
       "    <tr>\n",
       "      <th>0</th>\n",
       "      <td>tree</td>\n",
       "      <td>0.571173</td>\n",
       "    </tr>\n",
       "    <tr>\n",
       "      <th>1</th>\n",
       "      <td>random_forest</td>\n",
       "      <td>0.633580</td>\n",
       "    </tr>\n",
       "    <tr>\n",
       "      <th>2</th>\n",
       "      <td>logistic_r</td>\n",
       "      <td>0.505017</td>\n",
       "    </tr>\n",
       "  </tbody>\n",
       "</table>\n",
       "</div>"
      ],
      "text/plain": [
       "           model  f1_score\n",
       "0           tree  0.571173\n",
       "1  random_forest  0.633580\n",
       "2     logistic_r  0.505017"
      ]
     },
     "execution_count": 375,
     "metadata": {},
     "output_type": "execute_result"
    }
   ],
   "source": [
    "f1_lgr = report.loc['exited', 'f1-score']\n",
    "f1_lgr\n",
    "\n",
    "models = ['tree', 'random_forest', 'logistic_r']\n",
    "f1_scores = [f1_best_tree, f1_best_rf, f1_lgr]\n",
    "\n",
    "best_model_upper = pd.DataFrame({'model':models, 'f1_score':f1_scores})\n",
    "best_model_upper"
   ]
  },
  {
   "cell_type": "markdown",
   "metadata": {},
   "source": [
    "**Вывод**  \n",
    "Значения f1 у случайного леса превысили порог `0.59`. Остальные не превысили, но стали лучше, чем без увеличения выборки. "
   ]
  },
  {
   "cell_type": "markdown",
   "metadata": {},
   "source": [
    "### Уменьшение выборки"
   ]
  },
  {
   "cell_type": "code",
   "execution_count": 376,
   "metadata": {},
   "outputs": [],
   "source": [
    "def downsample(features, target, fraction):\n",
    "    features_zeros = features[target == 0]\n",
    "    features_ones = features[target == 1]\n",
    "    target_zeros = target[target == 0]\n",
    "    target_ones = target[target == 1]\n",
    "\n",
    "    features_downsampled = pd.concat(\n",
    "        [features_zeros.sample(frac=fraction, random_state=12345)] + [features_ones])\n",
    "    target_downsampled = pd.concat(\n",
    "        [target_zeros.sample(frac=fraction, random_state=12345)] + [target_ones])\n",
    "    \n",
    "    features_downsampled, target_downsampled = shuffle(\n",
    "        features_downsampled, target_downsampled, random_state=12345)\n",
    "    \n",
    "    return features_downsampled, target_downsampled\n",
    "\n",
    "features_downsampled, target_downsampled = downsample(features_train, target_train, 0.25)"
   ]
  },
  {
   "cell_type": "markdown",
   "metadata": {},
   "source": [
    "#### Дерево решений"
   ]
  },
  {
   "cell_type": "code",
   "execution_count": 377,
   "metadata": {},
   "outputs": [
    {
     "name": "stderr",
     "output_type": "stream",
     "text": [
      "100%|██████████| 13/13 [00:00<00:00, 82.92it/s]"
     ]
    },
    {
     "name": "stdout",
     "output_type": "stream",
     "text": [
      "Решающее дерево, глубина = 6.00 , F1 = 0.591\n"
     ]
    },
    {
     "name": "stderr",
     "output_type": "stream",
     "text": [
      "\n"
     ]
    }
   ],
   "source": [
    "best_depth_tree = 0\n",
    "f1_best_tree = 0\n",
    "\n",
    "for depth in tqdm(range(2, 15)):\n",
    "    model = DecisionTreeClassifier(random_state=12345, max_depth=depth)\n",
    "    model.fit(features_downsampled, target_downsampled)\n",
    "    predictions_valid = model.predict(features_valid)\n",
    "    f1 = f1_score(target_valid, predictions_valid)\n",
    "    if f1 > f1_best_tree:\n",
    "        best_depth_tree = depth\n",
    "        f1_best_tree = f1\n",
    "        \n",
    "# сохраним лучшие параметры в словаре\n",
    "tree_best = {'depth':best_depth_tree}\n",
    "\n",
    "print(\"Решающее дерево, глубина = {:.2f} , F1 = {:.3f}\".format(\n",
    "        best_depth_tree, f1_best_tree))"
   ]
  },
  {
   "cell_type": "code",
   "execution_count": 378,
   "metadata": {
    "scrolled": true
   },
   "outputs": [
    {
     "data": {
      "text/html": [
       "<div>\n",
       "<style scoped>\n",
       "    .dataframe tbody tr th:only-of-type {\n",
       "        vertical-align: middle;\n",
       "    }\n",
       "\n",
       "    .dataframe tbody tr th {\n",
       "        vertical-align: top;\n",
       "    }\n",
       "\n",
       "    .dataframe thead th {\n",
       "        text-align: right;\n",
       "    }\n",
       "</style>\n",
       "<table border=\"1\" class=\"dataframe\">\n",
       "  <thead>\n",
       "    <tr style=\"text-align: right;\">\n",
       "      <th></th>\n",
       "      <th>precision</th>\n",
       "      <th>recall</th>\n",
       "      <th>f1-score</th>\n",
       "      <th>support</th>\n",
       "    </tr>\n",
       "  </thead>\n",
       "  <tbody>\n",
       "    <tr>\n",
       "      <th>Non-exited</th>\n",
       "      <td>0.915454</td>\n",
       "      <td>0.829253</td>\n",
       "      <td>0.870224</td>\n",
       "      <td>1593.000</td>\n",
       "    </tr>\n",
       "    <tr>\n",
       "      <th>exited</th>\n",
       "      <td>0.511670</td>\n",
       "      <td>0.700246</td>\n",
       "      <td>0.591286</td>\n",
       "      <td>407.000</td>\n",
       "    </tr>\n",
       "    <tr>\n",
       "      <th>accuracy</th>\n",
       "      <td>0.803000</td>\n",
       "      <td>0.803000</td>\n",
       "      <td>0.803000</td>\n",
       "      <td>0.803</td>\n",
       "    </tr>\n",
       "    <tr>\n",
       "      <th>macro avg</th>\n",
       "      <td>0.713562</td>\n",
       "      <td>0.764749</td>\n",
       "      <td>0.730755</td>\n",
       "      <td>2000.000</td>\n",
       "    </tr>\n",
       "    <tr>\n",
       "      <th>weighted avg</th>\n",
       "      <td>0.833284</td>\n",
       "      <td>0.803000</td>\n",
       "      <td>0.813460</td>\n",
       "      <td>2000.000</td>\n",
       "    </tr>\n",
       "  </tbody>\n",
       "</table>\n",
       "</div>"
      ],
      "text/plain": [
       "              precision    recall  f1-score   support\n",
       "Non-exited     0.915454  0.829253  0.870224  1593.000\n",
       "exited         0.511670  0.700246  0.591286   407.000\n",
       "accuracy       0.803000  0.803000  0.803000     0.803\n",
       "macro avg      0.713562  0.764749  0.730755  2000.000\n",
       "weighted avg   0.833284  0.803000  0.813460  2000.000"
      ]
     },
     "metadata": {},
     "output_type": "display_data"
    },
    {
     "name": "stdout",
     "output_type": "stream",
     "text": [
      "Площадь под кривой ROC: 0.8377\n"
     ]
    }
   ],
   "source": [
    "model = DecisionTreeClassifier(random_state=12345,\n",
    "                               max_depth=best_depth_tree)\n",
    "model.fit(features_downsampled, target_downsampled)\n",
    "predictions_valid = model.predict(features_valid)\n",
    "report = classification_report(target_valid, predictions_valid, target_names=['Non-exited', 'exited'], output_dict=True)\n",
    "report = pd.DataFrame(report).transpose()\n",
    "\n",
    "display(report)\n",
    "auc_roc_score(model)"
   ]
  },
  {
   "cell_type": "markdown",
   "metadata": {},
   "source": [
    "#### Случайный лес"
   ]
  },
  {
   "cell_type": "code",
   "execution_count": 379,
   "metadata": {},
   "outputs": [
    {
     "name": "stderr",
     "output_type": "stream",
     "text": [
      "100%|██████████| 7/7 [00:06<00:00,  1.06it/s]"
     ]
    },
    {
     "name": "stdout",
     "output_type": "stream",
     "text": [
      "Решающее дерево, глубина = 6.00, кол-во деревьев = 40.000 , F1 = 0.622\n"
     ]
    },
    {
     "name": "stderr",
     "output_type": "stream",
     "text": [
      "\n"
     ]
    }
   ],
   "source": [
    "best_est_rf = 0\n",
    "best_depth_rf = 0\n",
    "f1_best_rf = 0\n",
    "\n",
    "for est in tqdm(range(10, 71, 10)):\n",
    "    for depth in range (1, 11):\n",
    "        model = RandomForestClassifier(random_state=12345, n_estimators=est, max_depth=depth)\n",
    "        model.fit(features_downsampled, target_downsampled)\n",
    "        predictions_valid = model.predict(features_valid)\n",
    "        f1 = f1_score(target_valid, predictions_valid)\n",
    "        if f1 > f1_best_rf:\n",
    "            best_depth_rf = depth\n",
    "            best_est_rf = est\n",
    "            f1_best_rf = f1\n",
    "random_forest_best = {'depth':best_depth_rf, 'n_estimators':best_est_rf}  \n",
    "\n",
    "print(\"Решающее дерево, глубина = {:.2f}, кол-во деревьев = {:.3f} , F1 = {:.3f}\".format(\n",
    "        best_depth_rf,best_est_rf, f1_best_rf))\n"
   ]
  },
  {
   "cell_type": "code",
   "execution_count": 380,
   "metadata": {
    "scrolled": true
   },
   "outputs": [
    {
     "data": {
      "text/html": [
       "<div>\n",
       "<style scoped>\n",
       "    .dataframe tbody tr th:only-of-type {\n",
       "        vertical-align: middle;\n",
       "    }\n",
       "\n",
       "    .dataframe tbody tr th {\n",
       "        vertical-align: top;\n",
       "    }\n",
       "\n",
       "    .dataframe thead th {\n",
       "        text-align: right;\n",
       "    }\n",
       "</style>\n",
       "<table border=\"1\" class=\"dataframe\">\n",
       "  <thead>\n",
       "    <tr style=\"text-align: right;\">\n",
       "      <th></th>\n",
       "      <th>precision</th>\n",
       "      <th>recall</th>\n",
       "      <th>f1-score</th>\n",
       "      <th>support</th>\n",
       "    </tr>\n",
       "  </thead>\n",
       "  <tbody>\n",
       "    <tr>\n",
       "      <th>Non-exited</th>\n",
       "      <td>0.929242</td>\n",
       "      <td>0.807910</td>\n",
       "      <td>0.864338</td>\n",
       "      <td>1593.000</td>\n",
       "    </tr>\n",
       "    <tr>\n",
       "      <th>exited</th>\n",
       "      <td>0.502439</td>\n",
       "      <td>0.759214</td>\n",
       "      <td>0.604697</td>\n",
       "      <td>407.000</td>\n",
       "    </tr>\n",
       "    <tr>\n",
       "      <th>accuracy</th>\n",
       "      <td>0.798000</td>\n",
       "      <td>0.798000</td>\n",
       "      <td>0.798000</td>\n",
       "      <td>0.798</td>\n",
       "    </tr>\n",
       "    <tr>\n",
       "      <th>macro avg</th>\n",
       "      <td>0.715840</td>\n",
       "      <td>0.783562</td>\n",
       "      <td>0.734518</td>\n",
       "      <td>2000.000</td>\n",
       "    </tr>\n",
       "    <tr>\n",
       "      <th>weighted avg</th>\n",
       "      <td>0.842387</td>\n",
       "      <td>0.798000</td>\n",
       "      <td>0.811501</td>\n",
       "      <td>2000.000</td>\n",
       "    </tr>\n",
       "  </tbody>\n",
       "</table>\n",
       "</div>"
      ],
      "text/plain": [
       "              precision    recall  f1-score   support\n",
       "Non-exited     0.929242  0.807910  0.864338  1593.000\n",
       "exited         0.502439  0.759214  0.604697   407.000\n",
       "accuracy       0.798000  0.798000  0.798000     0.798\n",
       "macro avg      0.715840  0.783562  0.734518  2000.000\n",
       "weighted avg   0.842387  0.798000  0.811501  2000.000"
      ]
     },
     "metadata": {},
     "output_type": "display_data"
    },
    {
     "name": "stdout",
     "output_type": "stream",
     "text": [
      "Площадь под кривой ROC: 0.8663\n"
     ]
    }
   ],
   "source": [
    "model = RandomForestClassifier(random_state=12345,\n",
    "                               n_estimators=50, max_depth=9)\n",
    "model.fit(features_downsampled, target_downsampled)\n",
    "predictions_valid = model.predict(features_valid)\n",
    "report = classification_report(target_valid, predictions_valid, target_names=['Non-exited', 'exited'], output_dict=True)\n",
    "report = pd.DataFrame(report).transpose()\n",
    "\n",
    "display(report)\n",
    "auc_roc_score(model)"
   ]
  },
  {
   "cell_type": "markdown",
   "metadata": {},
   "source": [
    "#### Логистическая регрессия"
   ]
  },
  {
   "cell_type": "code",
   "execution_count": 381,
   "metadata": {},
   "outputs": [
    {
     "data": {
      "text/html": [
       "<div>\n",
       "<style scoped>\n",
       "    .dataframe tbody tr th:only-of-type {\n",
       "        vertical-align: middle;\n",
       "    }\n",
       "\n",
       "    .dataframe tbody tr th {\n",
       "        vertical-align: top;\n",
       "    }\n",
       "\n",
       "    .dataframe thead th {\n",
       "        text-align: right;\n",
       "    }\n",
       "</style>\n",
       "<table border=\"1\" class=\"dataframe\">\n",
       "  <thead>\n",
       "    <tr style=\"text-align: right;\">\n",
       "      <th></th>\n",
       "      <th>precision</th>\n",
       "      <th>recall</th>\n",
       "      <th>f1-score</th>\n",
       "      <th>support</th>\n",
       "    </tr>\n",
       "  </thead>\n",
       "  <tbody>\n",
       "    <tr>\n",
       "      <th>Non-exited</th>\n",
       "      <td>0.912685</td>\n",
       "      <td>0.695543</td>\n",
       "      <td>0.789455</td>\n",
       "      <td>1593.0000</td>\n",
       "    </tr>\n",
       "    <tr>\n",
       "      <th>exited</th>\n",
       "      <td>0.382952</td>\n",
       "      <td>0.739558</td>\n",
       "      <td>0.504610</td>\n",
       "      <td>407.0000</td>\n",
       "    </tr>\n",
       "    <tr>\n",
       "      <th>accuracy</th>\n",
       "      <td>0.704500</td>\n",
       "      <td>0.704500</td>\n",
       "      <td>0.704500</td>\n",
       "      <td>0.7045</td>\n",
       "    </tr>\n",
       "    <tr>\n",
       "      <th>macro avg</th>\n",
       "      <td>0.647818</td>\n",
       "      <td>0.717550</td>\n",
       "      <td>0.647033</td>\n",
       "      <td>2000.0000</td>\n",
       "    </tr>\n",
       "    <tr>\n",
       "      <th>weighted avg</th>\n",
       "      <td>0.804885</td>\n",
       "      <td>0.704500</td>\n",
       "      <td>0.731489</td>\n",
       "      <td>2000.0000</td>\n",
       "    </tr>\n",
       "  </tbody>\n",
       "</table>\n",
       "</div>"
      ],
      "text/plain": [
       "              precision    recall  f1-score    support\n",
       "Non-exited     0.912685  0.695543  0.789455  1593.0000\n",
       "exited         0.382952  0.739558  0.504610   407.0000\n",
       "accuracy       0.704500  0.704500  0.704500     0.7045\n",
       "macro avg      0.647818  0.717550  0.647033  2000.0000\n",
       "weighted avg   0.804885  0.704500  0.731489  2000.0000"
      ]
     },
     "metadata": {},
     "output_type": "display_data"
    },
    {
     "name": "stdout",
     "output_type": "stream",
     "text": [
      "Площадь под кривой ROC: 0.7799\n"
     ]
    }
   ],
   "source": [
    "model = LogisticRegression(random_state=12345)  # инициализируйте модель LinearRegression\n",
    "model.fit(features_downsampled, target_downsampled) # обучите модель на тренировочной выборке\n",
    "predictions_valid = model.predict(features_valid)\n",
    "\n",
    "report = classification_report(target_valid, predictions_valid, target_names=['Non-exited', 'exited'], output_dict=True)\n",
    "report = pd.DataFrame(report).transpose()\n",
    "display(report)\n",
    "auc_roc_score(model)"
   ]
  },
  {
   "cell_type": "markdown",
   "metadata": {},
   "source": [
    "#### Вывод по уменьшению выборки"
   ]
  },
  {
   "cell_type": "code",
   "execution_count": 382,
   "metadata": {
    "scrolled": false
   },
   "outputs": [
    {
     "data": {
      "text/html": [
       "<div>\n",
       "<style scoped>\n",
       "    .dataframe tbody tr th:only-of-type {\n",
       "        vertical-align: middle;\n",
       "    }\n",
       "\n",
       "    .dataframe tbody tr th {\n",
       "        vertical-align: top;\n",
       "    }\n",
       "\n",
       "    .dataframe thead th {\n",
       "        text-align: right;\n",
       "    }\n",
       "</style>\n",
       "<table border=\"1\" class=\"dataframe\">\n",
       "  <thead>\n",
       "    <tr style=\"text-align: right;\">\n",
       "      <th></th>\n",
       "      <th>model</th>\n",
       "      <th>f1_score</th>\n",
       "    </tr>\n",
       "  </thead>\n",
       "  <tbody>\n",
       "    <tr>\n",
       "      <th>0</th>\n",
       "      <td>tree</td>\n",
       "      <td>0.591286</td>\n",
       "    </tr>\n",
       "    <tr>\n",
       "      <th>1</th>\n",
       "      <td>random_forest</td>\n",
       "      <td>0.621915</td>\n",
       "    </tr>\n",
       "    <tr>\n",
       "      <th>2</th>\n",
       "      <td>logistic_r</td>\n",
       "      <td>0.504610</td>\n",
       "    </tr>\n",
       "  </tbody>\n",
       "</table>\n",
       "</div>"
      ],
      "text/plain": [
       "           model  f1_score\n",
       "0           tree  0.591286\n",
       "1  random_forest  0.621915\n",
       "2     logistic_r  0.504610"
      ]
     },
     "execution_count": 382,
     "metadata": {},
     "output_type": "execute_result"
    }
   ],
   "source": [
    "f1_lgr = report.loc['exited', 'f1-score']\n",
    "f1_lgr\n",
    "\n",
    "models = ['tree', 'random_forest', 'logistic_r']\n",
    "f1_scores = [f1_best_tree, f1_best_rf, f1_lgr]\n",
    "\n",
    "best_model_upper = pd.DataFrame({'model':models, 'f1_score':f1_scores})\n",
    "best_model_upper"
   ]
  },
  {
   "cell_type": "markdown",
   "metadata": {},
   "source": [
    "**Вывод**  \n",
    "- Логистическая регрессия не достигла порога.\n",
    "- f1 у случайного леса продолжает оставаться наивысшим, но меньше, чем при увеличении выборки"
   ]
  },
  {
   "cell_type": "markdown",
   "metadata": {},
   "source": [
    "### Изменение порога"
   ]
  },
  {
   "cell_type": "markdown",
   "metadata": {},
   "source": [
    "#### Дерево решений"
   ]
  },
  {
   "cell_type": "code",
   "execution_count": 383,
   "metadata": {
    "scrolled": true
   },
   "outputs": [
    {
     "data": {
      "text/html": [
       "<div>\n",
       "<style scoped>\n",
       "    .dataframe tbody tr th:only-of-type {\n",
       "        vertical-align: middle;\n",
       "    }\n",
       "\n",
       "    .dataframe tbody tr th {\n",
       "        vertical-align: top;\n",
       "    }\n",
       "\n",
       "    .dataframe thead th {\n",
       "        text-align: right;\n",
       "    }\n",
       "</style>\n",
       "<table border=\"1\" class=\"dataframe\">\n",
       "  <thead>\n",
       "    <tr style=\"text-align: right;\">\n",
       "      <th></th>\n",
       "      <th>precision</th>\n",
       "      <th>recall</th>\n",
       "      <th>f1-score</th>\n",
       "      <th>support</th>\n",
       "    </tr>\n",
       "  </thead>\n",
       "  <tbody>\n",
       "    <tr>\n",
       "      <th>Non-exited</th>\n",
       "      <td>0.911804</td>\n",
       "      <td>0.863151</td>\n",
       "      <td>0.886811</td>\n",
       "      <td>1593.0000</td>\n",
       "    </tr>\n",
       "    <tr>\n",
       "      <th>exited</th>\n",
       "      <td>0.556911</td>\n",
       "      <td>0.673219</td>\n",
       "      <td>0.609566</td>\n",
       "      <td>407.0000</td>\n",
       "    </tr>\n",
       "    <tr>\n",
       "      <th>accuracy</th>\n",
       "      <td>0.824500</td>\n",
       "      <td>0.824500</td>\n",
       "      <td>0.824500</td>\n",
       "      <td>0.8245</td>\n",
       "    </tr>\n",
       "    <tr>\n",
       "      <th>macro avg</th>\n",
       "      <td>0.734357</td>\n",
       "      <td>0.768185</td>\n",
       "      <td>0.748188</td>\n",
       "      <td>2000.0000</td>\n",
       "    </tr>\n",
       "    <tr>\n",
       "      <th>weighted avg</th>\n",
       "      <td>0.839583</td>\n",
       "      <td>0.824500</td>\n",
       "      <td>0.830391</td>\n",
       "      <td>2000.0000</td>\n",
       "    </tr>\n",
       "  </tbody>\n",
       "</table>\n",
       "</div>"
      ],
      "text/plain": [
       "              precision    recall  f1-score    support\n",
       "Non-exited     0.911804  0.863151  0.886811  1593.0000\n",
       "exited         0.556911  0.673219  0.609566   407.0000\n",
       "accuracy       0.824500  0.824500  0.824500     0.8245\n",
       "macro avg      0.734357  0.768185  0.748188  2000.0000\n",
       "weighted avg   0.839583  0.824500  0.830391  2000.0000"
      ]
     },
     "metadata": {},
     "output_type": "display_data"
    },
    {
     "name": "stdout",
     "output_type": "stream",
     "text": [
      "Площадь под кривой ROC: 0.8434\n"
     ]
    }
   ],
   "source": [
    "model = DecisionTreeClassifier(random_state=12345, max_depth=tree_best['depth'])\n",
    "model.fit(features_train, target_train)\n",
    "probabilities_valid = model.predict_proba(features_valid)\n",
    "probabilities_one_valid = probabilities_valid[:, 1]\n",
    "\n",
    "f1_best_tree = 0\n",
    "predicted_best = []\n",
    "for threshold in np.arange(0, 1.1, 0.02):\n",
    "    predicted_valid = probabilities_one_valid > threshold\n",
    "    f1 = f1_score(target_valid, predicted_valid)\n",
    "    if f1 > f1_best_tree:\n",
    "        f1_best_tree = f1\n",
    "        predicted_best = predicted_valid\n",
    "        \n",
    "report = classification_report(target_valid, predicted_best, target_names=['Non-exited', 'exited'], output_dict=True)\n",
    "report = pd.DataFrame(report).transpose()\n",
    "display(report)\n",
    "auc_roc_score(model)       "
   ]
  },
  {
   "cell_type": "markdown",
   "metadata": {},
   "source": [
    "#### Случайный лес"
   ]
  },
  {
   "cell_type": "code",
   "execution_count": null,
   "metadata": {},
   "outputs": [],
   "source": [
    "model = RandomForestClassifier(random_state=12345, \n",
    "                               max_depth=forest_best['depth'], \n",
    "                               n_estimators=forest_best['n_estimators'])\n",
    "model.fit(features_train, target_train)\n",
    "probabilities_valid = model.predict_proba(features_valid)\n",
    "probabilities_one_valid = probabilities_valid[:, 1]\n",
    "\n",
    "f1_best_rf = 0\n",
    "for threshold in np.arange(0, 1.1, 0.02):\n",
    "    predicted_valid = probabilities_one_valid > threshold\n",
    "    f1 = f1_score(target_valid, predicted_valid)\n",
    "    if f1 > f1_best_rf:\n",
    "        f1_best_rf = f1\n",
    "        predicted_best = predicted_valid\n",
    "        \n",
    "report = classification_report(target_valid, predicted_best, target_names=['Non-exited', 'exited'], output_dict=True)\n",
    "report = pd.DataFrame(report).transpose()\n",
    "display(report)\n",
    "auc_roc_score(model)         "
   ]
  },
  {
   "cell_type": "markdown",
   "metadata": {},
   "source": [
    "#### Логистическая регрессия"
   ]
  },
  {
   "cell_type": "code",
   "execution_count": null,
   "metadata": {},
   "outputs": [],
   "source": [
    "model = LogisticRegression(random_state=12345)\n",
    "model.fit(features_train, target_train)\n",
    "probabilities_valid = model.predict_proba(features_valid)\n",
    "probabilities_one_valid = probabilities_valid[:, 1]\n",
    "\n",
    "f1_best_lr = 0\n",
    "for threshold in np.arange(0, 1.1, 0.02):\n",
    "    predicted_valid = probabilities_one_valid > threshold\n",
    "    f1 = f1_score(target_valid, predicted_valid)\n",
    "    if f1 > f1_best_lr:\n",
    "        f1_best_lr = f1\n",
    "        predicted_best = predicted_valid\n",
    "        \n",
    "report = classification_report(target_valid, predicted_best, target_names=['Non-exited', 'exited'], output_dict=True)\n",
    "report = pd.DataFrame(report).transpose()\n",
    "display(report)\n",
    "auc_roc_score(model)  "
   ]
  },
  {
   "cell_type": "markdown",
   "metadata": {},
   "source": [
    "#### Вывод по уменьшению выборки"
   ]
  },
  {
   "cell_type": "code",
   "execution_count": null,
   "metadata": {
    "scrolled": true
   },
   "outputs": [],
   "source": [
    "f1_lgr = report.loc['exited', 'f1-score']\n",
    "f1_lgr\n",
    "\n",
    "models = ['tree', 'random_forest', 'logistic_r']\n",
    "f1_scores = [f1_best_tree, f1_best_rf, f1_best_lr]\n",
    "\n",
    "best_model_upper = pd.DataFrame({'model':models, 'f1_score':f1_scores})\n",
    "best_model_upper"
   ]
  },
  {
   "cell_type": "markdown",
   "metadata": {},
   "source": [
    "**Вывод**  \n",
    "- Логистическая регрессия не достигла порога `0.59`.\n",
    "- f1 у случайного леса наибольшее"
   ]
  },
  {
   "cell_type": "markdown",
   "metadata": {},
   "source": [
    "### Выбор наилучших параметров"
   ]
  },
  {
   "cell_type": "markdown",
   "metadata": {},
   "source": [
    "После 3х исследований: \n",
    "- наивысшая метрика f1 была у случайного леса  \n",
    "- увеличении выборки  \n",
    "- подборе порога вероятности порога классификации"
   ]
  },
  {
   "cell_type": "code",
   "execution_count": null,
   "metadata": {},
   "outputs": [],
   "source": [
    "best_est_rf = 0\n",
    "best_depth_rf = 0\n",
    "f1_best_rf = 0\n",
    "\n",
    "for est in tqdm(range(10, 81, 10)):\n",
    "    for depth in range (1, 11):\n",
    "        model = RandomForestClassifier(random_state=12345, n_estimators=est, max_depth=depth)\n",
    "        model.fit(features_upsampled, target_upsampled)\n",
    "        predictions_valid = model.predict(features_valid)\n",
    "        f1 = f1_score(target_valid, predictions_valid)\n",
    "        if f1 > f1_best_rf:\n",
    "            best_depth_rf = depth\n",
    "            best_est_rf = est\n",
    "            f1_best_rf = f1\n",
    "random_forest_best = {'depth':best_depth_rf, 'n_estimators':best_est_rf}  \n",
    "\n",
    "print(\"Решающее дерево, глубина = {:.2f}, кол-во деревьев = {:.3f} , F1 = {:.3f}\".format(\n",
    "        best_depth_rf,best_est_rf, f1_best_rf))\n"
   ]
  },
  {
   "cell_type": "code",
   "execution_count": 385,
   "metadata": {},
   "outputs": [],
   "source": [
    "model = RandomForestClassifier(random_state=12345, \n",
    "                               max_depth=random_forest_best['depth'], \n",
    "                               n_estimators=random_forest_best['n_estimators'])\n",
    "model.fit(features_upsampled, target_upsampled)\n",
    "probabilities_valid = model.predict_proba(features_valid)\n",
    "probabilities_one_valid = probabilities_valid[:, 1]\n",
    "\n",
    "f1_best_rf = 0\n",
    "for threshold in np.arange(0, 1.1, 0.02):\n",
    "    predicted_valid = probabilities_one_valid > threshold\n",
    "    f1 = f1_score(target_valid, predicted_valid)\n",
    "    if f1 > f1_best_rf:\n",
    "        f1_best_rf = f1\n",
    "        predicted_best = predicted_valid\n",
    "        \n"
   ]
  },
  {
   "cell_type": "code",
   "execution_count": 386,
   "metadata": {},
   "outputs": [
    {
     "data": {
      "text/html": [
       "<div>\n",
       "<style scoped>\n",
       "    .dataframe tbody tr th:only-of-type {\n",
       "        vertical-align: middle;\n",
       "    }\n",
       "\n",
       "    .dataframe tbody tr th {\n",
       "        vertical-align: top;\n",
       "    }\n",
       "\n",
       "    .dataframe thead th {\n",
       "        text-align: right;\n",
       "    }\n",
       "</style>\n",
       "<table border=\"1\" class=\"dataframe\">\n",
       "  <thead>\n",
       "    <tr style=\"text-align: right;\">\n",
       "      <th></th>\n",
       "      <th>precision</th>\n",
       "      <th>recall</th>\n",
       "      <th>f1-score</th>\n",
       "      <th>support</th>\n",
       "    </tr>\n",
       "  </thead>\n",
       "  <tbody>\n",
       "    <tr>\n",
       "      <th>Non-exited</th>\n",
       "      <td>0.919578</td>\n",
       "      <td>0.875706</td>\n",
       "      <td>0.897106</td>\n",
       "      <td>1593.00</td>\n",
       "    </tr>\n",
       "    <tr>\n",
       "      <th>exited</th>\n",
       "      <td>0.590062</td>\n",
       "      <td>0.700246</td>\n",
       "      <td>0.640449</td>\n",
       "      <td>407.00</td>\n",
       "    </tr>\n",
       "    <tr>\n",
       "      <th>accuracy</th>\n",
       "      <td>0.840000</td>\n",
       "      <td>0.840000</td>\n",
       "      <td>0.840000</td>\n",
       "      <td>0.84</td>\n",
       "    </tr>\n",
       "    <tr>\n",
       "      <th>macro avg</th>\n",
       "      <td>0.754820</td>\n",
       "      <td>0.787976</td>\n",
       "      <td>0.768778</td>\n",
       "      <td>2000.00</td>\n",
       "    </tr>\n",
       "    <tr>\n",
       "      <th>weighted avg</th>\n",
       "      <td>0.852522</td>\n",
       "      <td>0.840000</td>\n",
       "      <td>0.844876</td>\n",
       "      <td>2000.00</td>\n",
       "    </tr>\n",
       "  </tbody>\n",
       "</table>\n",
       "</div>"
      ],
      "text/plain": [
       "              precision    recall  f1-score  support\n",
       "Non-exited     0.919578  0.875706  0.897106  1593.00\n",
       "exited         0.590062  0.700246  0.640449   407.00\n",
       "accuracy       0.840000  0.840000  0.840000     0.84\n",
       "macro avg      0.754820  0.787976  0.768778  2000.00\n",
       "weighted avg   0.852522  0.840000  0.844876  2000.00"
      ]
     },
     "metadata": {},
     "output_type": "display_data"
    },
    {
     "name": "stdout",
     "output_type": "stream",
     "text": [
      "Площадь под кривой ROC: 0.8627\n"
     ]
    },
    {
     "data": {
      "image/png": "[encoded data removed]",
      "text/plain": [
       "<Figure size 864x864 with 1 Axes>"
      ]
     },
     "metadata": {
      "needs_background": "light"
     },
     "output_type": "display_data"
    }
   ],
   "source": [
    "report = classification_report(target_valid, predicted_best, target_names=['Non-exited', 'exited'], output_dict=True)\n",
    "report = pd.DataFrame(report).transpose()\n",
    "display(report)\n",
    "auc_roc_fig(model) "
   ]
  },
  {
   "cell_type": "markdown",
   "metadata": {},
   "source": [
    "**Вывод**  \n",
    "- Получили метрику f1 равную `0.63`, это больше порога `0.59`\n",
    "- Площадь под кривой ROC: 0.8649\n",
    "\n",
    "С этой моделью перехожу к тестированию"
   ]
  },
  {
   "cell_type": "markdown",
   "metadata": {},
   "source": [
    "## Тестирование модели"
   ]
  },
  {
   "cell_type": "code",
   "execution_count": 387,
   "metadata": {
    "scrolled": true
   },
   "outputs": [
    {
     "data": {
      "text/plain": [
       "1630"
      ]
     },
     "metadata": {},
     "output_type": "display_data"
    },
    {
     "data": {
      "text/plain": [
       "8000"
      ]
     },
     "metadata": {},
     "output_type": "display_data"
    }
   ],
   "source": [
    "# Стандартизация\n",
    "features_test[numeric] = scaler.transform(features_test[numeric])\n",
    "\n",
    "# Объединение финальных и обучающих выборок\n",
    "features_final = pd.concat([features_train, features_valid])\n",
    "target_final = pd.concat([target_train, target_valid])\n",
    "\n",
    "# Дизбаланс\n",
    "display(target_final.sum(), target_final.count())"
   ]
  },
  {
   "cell_type": "markdown",
   "metadata": {},
   "source": [
    "Отличается почти в 4 раза, увеличу выборку в 4р"
   ]
  },
  {
   "cell_type": "code",
   "execution_count": 388,
   "metadata": {},
   "outputs": [
    {
     "data": {
      "text/plain": [
       "6520"
      ]
     },
     "metadata": {},
     "output_type": "display_data"
    },
    {
     "data": {
      "text/plain": [
       "12890"
      ]
     },
     "metadata": {},
     "output_type": "display_data"
    }
   ],
   "source": [
    "features_final, target_final = upsample(features_final, target_final, 4)\n",
    "display(target_final.sum(), target_final.count())"
   ]
  },
  {
   "cell_type": "code",
   "execution_count": 389,
   "metadata": {
    "scrolled": true
   },
   "outputs": [
    {
     "data": {
      "text/html": [
       "<div>\n",
       "<style scoped>\n",
       "    .dataframe tbody tr th:only-of-type {\n",
       "        vertical-align: middle;\n",
       "    }\n",
       "\n",
       "    .dataframe tbody tr th {\n",
       "        vertical-align: top;\n",
       "    }\n",
       "\n",
       "    .dataframe thead th {\n",
       "        text-align: right;\n",
       "    }\n",
       "</style>\n",
       "<table border=\"1\" class=\"dataframe\">\n",
       "  <thead>\n",
       "    <tr style=\"text-align: right;\">\n",
       "      <th></th>\n",
       "      <th>precision</th>\n",
       "      <th>recall</th>\n",
       "      <th>f1-score</th>\n",
       "      <th>support</th>\n",
       "    </tr>\n",
       "  </thead>\n",
       "  <tbody>\n",
       "    <tr>\n",
       "      <th>Non-exited</th>\n",
       "      <td>0.910523</td>\n",
       "      <td>0.907094</td>\n",
       "      <td>0.908805</td>\n",
       "      <td>1593.000</td>\n",
       "    </tr>\n",
       "    <tr>\n",
       "      <th>exited</th>\n",
       "      <td>0.641646</td>\n",
       "      <td>0.651106</td>\n",
       "      <td>0.646341</td>\n",
       "      <td>407.000</td>\n",
       "    </tr>\n",
       "    <tr>\n",
       "      <th>accuracy</th>\n",
       "      <td>0.855000</td>\n",
       "      <td>0.855000</td>\n",
       "      <td>0.855000</td>\n",
       "      <td>0.855</td>\n",
       "    </tr>\n",
       "    <tr>\n",
       "      <th>macro avg</th>\n",
       "      <td>0.776085</td>\n",
       "      <td>0.779100</td>\n",
       "      <td>0.777573</td>\n",
       "      <td>2000.000</td>\n",
       "    </tr>\n",
       "    <tr>\n",
       "      <th>weighted avg</th>\n",
       "      <td>0.855807</td>\n",
       "      <td>0.855000</td>\n",
       "      <td>0.855394</td>\n",
       "      <td>2000.000</td>\n",
       "    </tr>\n",
       "  </tbody>\n",
       "</table>\n",
       "</div>"
      ],
      "text/plain": [
       "              precision    recall  f1-score   support\n",
       "Non-exited     0.910523  0.907094  0.908805  1593.000\n",
       "exited         0.641646  0.651106  0.646341   407.000\n",
       "accuracy       0.855000  0.855000  0.855000     0.855\n",
       "macro avg      0.776085  0.779100  0.777573  2000.000\n",
       "weighted avg   0.855807  0.855000  0.855394  2000.000"
      ]
     },
     "execution_count": 389,
     "metadata": {},
     "output_type": "execute_result"
    }
   ],
   "source": [
    "model = RandomForestClassifier(random_state=12345,\n",
    "                               n_estimators=70,\n",
    "                               max_depth=9)\n",
    "model.fit(features_final, target_final)\n",
    "probabilities = model.predict_proba(features_test)\n",
    "probabilities_one = probabilities[:, 1]\n",
    "\n",
    "predicted_best = []\n",
    "f1_best = 0\n",
    "for threshold in np.arange(0, 1.1, 0.02):\n",
    "    predicted = probabilities_one > threshold\n",
    "    f1 = f1_score(target_test, predicted)\n",
    "    if f1 > f1_best:\n",
    "        f1_best = f1\n",
    "        predicted_best = predicted\n",
    "\n",
    "report = classification_report(target_test, predicted_best, target_names=['Non-exited', 'exited'], output_dict=True)\n",
    "report = pd.DataFrame(report).transpose()\n",
    "report    "
   ]
  },
  {
   "cell_type": "code",
   "execution_count": 390,
   "metadata": {
    "scrolled": false
   },
   "outputs": [
    {
     "name": "stdout",
     "output_type": "stream",
     "text": [
      "Площадь под кривой ROC: 0.8741\n"
     ]
    },
    {
     "data": {
      "image/png": "[encoded data removed]",
      "text/plain": [
       "<Figure size 864x864 with 1 Axes>"
      ]
     },
     "metadata": {
      "needs_background": "light"
     },
     "output_type": "display_data"
    }
   ],
   "source": [
    "auc_roc_fig(model, features_test, target_test)"
   ]
  },
  {
   "cell_type": "markdown",
   "metadata": {},
   "source": [
    "## Вывод"
   ]
  },
  {
   "cell_type": "markdown",
   "metadata": {},
   "source": [
    "В ходе работы было получено:  \n",
    "- Площадь под кривой ROC: `0.8741`  \n",
    "- F1 мера - `0.65`  \n",
    "- точность - `0.64`  \n",
    "- полнота - `0.65`  "
   ]
  },
  {
   "cell_type": "markdown",
   "metadata": {},
   "source": [
    "Для получения необходимого значения F1 - меры, нужно использовать:\n",
    "- Модель Случайного леса\n",
    "- Увеличение выборки\n",
    "- Подбор порога вероятности"
   ]
  }
 ],
 "metadata": {
  "ExecuteTimeLog": [
   {
    "duration": 1444,
    "start_time": "2022-12-14T13:46:40.275Z"
   },
   {
    "duration": 114,
    "start_time": "2022-12-14T13:50:37.495Z"
   },
   {
    "duration": 104,
    "start_time": "2022-12-14T13:54:02.518Z"
   },
   {
    "duration": 11,
    "start_time": "2022-12-14T13:54:07.413Z"
   },
   {
    "duration": 10,
    "start_time": "2022-12-14T13:54:11.669Z"
   },
   {
    "duration": 9,
    "start_time": "2022-12-14T13:54:14.679Z"
   },
   {
    "duration": 3,
    "start_time": "2022-12-14T13:56:04.359Z"
   },
   {
    "duration": 10,
    "start_time": "2022-12-14T13:56:35.805Z"
   },
   {
    "duration": 11,
    "start_time": "2022-12-14T13:56:50.979Z"
   },
   {
    "duration": 7,
    "start_time": "2022-12-14T13:56:54.569Z"
   },
   {
    "duration": 8,
    "start_time": "2022-12-14T13:58:54.392Z"
   },
   {
    "duration": 8,
    "start_time": "2022-12-14T13:58:58.503Z"
   },
   {
    "duration": 7,
    "start_time": "2022-12-14T13:59:00.995Z"
   },
   {
    "duration": 6,
    "start_time": "2022-12-14T14:03:20.515Z"
   },
   {
    "duration": 8,
    "start_time": "2022-12-14T14:05:41.208Z"
   },
   {
    "duration": 170,
    "start_time": "2022-12-14T14:07:33.629Z"
   },
   {
    "duration": 183,
    "start_time": "2022-12-14T14:07:42.818Z"
   },
   {
    "duration": 161,
    "start_time": "2022-12-14T14:07:48.902Z"
   },
   {
    "duration": 176,
    "start_time": "2022-12-14T14:07:56.483Z"
   },
   {
    "duration": 24,
    "start_time": "2022-12-14T14:10:01.575Z"
   },
   {
    "duration": 196,
    "start_time": "2022-12-14T14:13:53.040Z"
   },
   {
    "duration": 53,
    "start_time": "2022-12-14T14:14:01.285Z"
   },
   {
    "duration": 1053,
    "start_time": "2022-12-14T14:14:06.091Z"
   },
   {
    "duration": 972,
    "start_time": "2022-12-14T14:19:55.897Z"
   },
   {
    "duration": 22,
    "start_time": "2022-12-14T14:20:58.573Z"
   },
   {
    "duration": 4,
    "start_time": "2022-12-14T14:21:13.504Z"
   },
   {
    "duration": 20,
    "start_time": "2022-12-14T14:21:20.809Z"
   },
   {
    "duration": 13,
    "start_time": "2022-12-14T14:21:23.042Z"
   },
   {
    "duration": 12,
    "start_time": "2022-12-14T14:21:37.642Z"
   },
   {
    "duration": 12,
    "start_time": "2022-12-14T14:22:06.187Z"
   },
   {
    "duration": 4,
    "start_time": "2022-12-14T14:22:12.509Z"
   },
   {
    "duration": 83,
    "start_time": "2022-12-14T14:22:12.515Z"
   },
   {
    "duration": 11,
    "start_time": "2022-12-14T14:22:12.599Z"
   },
   {
    "duration": 6,
    "start_time": "2022-12-14T14:22:12.611Z"
   },
   {
    "duration": 38,
    "start_time": "2022-12-14T14:22:12.619Z"
   },
   {
    "duration": 14,
    "start_time": "2022-12-14T14:22:12.659Z"
   },
   {
    "duration": 18,
    "start_time": "2022-12-14T14:22:12.675Z"
   },
   {
    "duration": 184,
    "start_time": "2022-12-14T14:22:12.695Z"
   },
   {
    "duration": 990,
    "start_time": "2022-12-14T14:22:12.881Z"
   },
   {
    "duration": 4,
    "start_time": "2022-12-14T14:22:16.318Z"
   },
   {
    "duration": 4,
    "start_time": "2022-12-14T14:22:24.550Z"
   },
   {
    "duration": 10,
    "start_time": "2022-12-14T14:22:32.547Z"
   },
   {
    "duration": 9,
    "start_time": "2022-12-14T14:22:45.746Z"
   },
   {
    "duration": 8,
    "start_time": "2022-12-14T14:22:48.803Z"
   },
   {
    "duration": 4,
    "start_time": "2022-12-14T14:22:52.139Z"
   },
   {
    "duration": 9,
    "start_time": "2022-12-14T14:27:45.203Z"
   },
   {
    "duration": 905,
    "start_time": "2022-12-14T14:29:15.599Z"
   },
   {
    "duration": 2,
    "start_time": "2022-12-14T14:33:47.567Z"
   },
   {
    "duration": 23,
    "start_time": "2022-12-14T14:37:01.001Z"
   },
   {
    "duration": 9,
    "start_time": "2022-12-14T14:37:21.726Z"
   },
   {
    "duration": 11,
    "start_time": "2022-12-14T14:39:58.261Z"
   },
   {
    "duration": 17750,
    "start_time": "2022-12-14T14:40:09.897Z"
   },
   {
    "duration": 12,
    "start_time": "2022-12-14T14:41:42.891Z"
   },
   {
    "duration": 974,
    "start_time": "2022-12-14T14:43:03.732Z"
   },
   {
    "duration": 10,
    "start_time": "2022-12-14T14:43:13.151Z"
   },
   {
    "duration": 9,
    "start_time": "2022-12-14T14:43:41.532Z"
   },
   {
    "duration": 5,
    "start_time": "2022-12-14T14:43:45.361Z"
   },
   {
    "duration": 55,
    "start_time": "2022-12-14T14:44:25.597Z"
   },
   {
    "duration": 3,
    "start_time": "2022-12-14T14:44:29.642Z"
   },
   {
    "duration": 4,
    "start_time": "2022-12-14T14:44:46.723Z"
   },
   {
    "duration": 4,
    "start_time": "2022-12-14T14:44:52.054Z"
   },
   {
    "duration": 4,
    "start_time": "2022-12-14T14:45:11.742Z"
   },
   {
    "duration": 19,
    "start_time": "2022-12-14T14:52:13.852Z"
   },
   {
    "duration": 2020,
    "start_time": "2022-12-14T14:52:29.230Z"
   },
   {
    "duration": 65,
    "start_time": "2022-12-14T14:52:31.253Z"
   },
   {
    "duration": 11,
    "start_time": "2022-12-14T14:52:31.319Z"
   },
   {
    "duration": 82,
    "start_time": "2022-12-14T14:52:31.333Z"
   },
   {
    "duration": 69,
    "start_time": "2022-12-14T14:52:31.417Z"
   },
   {
    "duration": 53,
    "start_time": "2022-12-14T14:52:31.488Z"
   },
   {
    "duration": 37,
    "start_time": "2022-12-14T14:52:31.543Z"
   },
   {
    "duration": 206,
    "start_time": "2022-12-14T14:52:31.582Z"
   },
   {
    "duration": 1060,
    "start_time": "2022-12-14T14:52:31.790Z"
   },
   {
    "duration": 5,
    "start_time": "2022-12-14T14:52:32.853Z"
   },
   {
    "duration": 45,
    "start_time": "2022-12-14T14:52:32.859Z"
   },
   {
    "duration": 32,
    "start_time": "2022-12-14T14:52:32.905Z"
   },
   {
    "duration": 783,
    "start_time": "2022-12-14T14:52:32.939Z"
   },
   {
    "duration": 2,
    "start_time": "2022-12-14T14:52:33.724Z"
   },
   {
    "duration": 19,
    "start_time": "2022-12-14T14:52:33.728Z"
   },
   {
    "duration": 25,
    "start_time": "2022-12-14T14:52:35.677Z"
   },
   {
    "duration": 15,
    "start_time": "2022-12-14T14:53:28.900Z"
   },
   {
    "duration": 4,
    "start_time": "2022-12-14T14:53:31.013Z"
   },
   {
    "duration": 20,
    "start_time": "2022-12-14T14:55:48.390Z"
   },
   {
    "duration": 4844,
    "start_time": "2022-12-14T18:28:45.190Z"
   },
   {
    "duration": 140,
    "start_time": "2022-12-14T18:28:50.036Z"
   },
   {
    "duration": 11,
    "start_time": "2022-12-14T18:28:50.177Z"
   },
   {
    "duration": 8,
    "start_time": "2022-12-14T18:28:50.190Z"
   },
   {
    "duration": 33,
    "start_time": "2022-12-14T18:28:50.200Z"
   },
   {
    "duration": 6,
    "start_time": "2022-12-14T18:28:50.234Z"
   },
   {
    "duration": 12,
    "start_time": "2022-12-14T18:28:50.241Z"
   },
   {
    "duration": 222,
    "start_time": "2022-12-14T18:28:50.254Z"
   },
   {
    "duration": 1171,
    "start_time": "2022-12-14T18:28:50.478Z"
   },
   {
    "duration": 4,
    "start_time": "2022-12-14T18:28:51.651Z"
   },
   {
    "duration": 18,
    "start_time": "2022-12-14T18:28:51.657Z"
   },
   {
    "duration": 12,
    "start_time": "2022-12-14T18:28:51.676Z"
   },
   {
    "duration": 835,
    "start_time": "2022-12-14T18:28:51.689Z"
   },
   {
    "duration": 3,
    "start_time": "2022-12-14T18:28:52.526Z"
   },
   {
    "duration": 14,
    "start_time": "2022-12-14T18:28:52.531Z"
   },
   {
    "duration": 13,
    "start_time": "2022-12-14T18:28:52.546Z"
   },
   {
    "duration": 4,
    "start_time": "2022-12-14T18:28:52.560Z"
   },
   {
    "duration": 59,
    "start_time": "2022-12-14T18:28:52.565Z"
   },
   {
    "duration": 132,
    "start_time": "2022-12-14T18:38:01.417Z"
   },
   {
    "duration": 31,
    "start_time": "2022-12-14T18:38:25.365Z"
   },
   {
    "duration": 22,
    "start_time": "2022-12-14T18:38:46.934Z"
   },
   {
    "duration": 406,
    "start_time": "2022-12-14T18:38:54.277Z"
   },
   {
    "duration": 430,
    "start_time": "2022-12-14T18:39:05.653Z"
   },
   {
    "duration": 266,
    "start_time": "2022-12-14T18:40:51.502Z"
   },
   {
    "duration": 253,
    "start_time": "2022-12-14T18:45:10.378Z"
   },
   {
    "duration": 266,
    "start_time": "2022-12-14T18:46:08.394Z"
   },
   {
    "duration": 266,
    "start_time": "2022-12-14T18:46:13.015Z"
   },
   {
    "duration": 272,
    "start_time": "2022-12-14T18:48:56.637Z"
   },
   {
    "duration": 40,
    "start_time": "2022-12-14T18:53:42.291Z"
   },
   {
    "duration": 37,
    "start_time": "2022-12-14T18:54:01.991Z"
   },
   {
    "duration": 8,
    "start_time": "2022-12-14T18:55:05.294Z"
   },
   {
    "duration": 5,
    "start_time": "2022-12-14T18:55:10.661Z"
   },
   {
    "duration": 166,
    "start_time": "2022-12-14T18:55:13.553Z"
   },
   {
    "duration": 42,
    "start_time": "2022-12-14T19:08:52.789Z"
   },
   {
    "duration": 43,
    "start_time": "2022-12-14T19:09:49.673Z"
   },
   {
    "duration": 10792,
    "start_time": "2022-12-14T19:09:56.965Z"
   },
   {
    "duration": 222,
    "start_time": "2022-12-14T19:11:19.015Z"
   },
   {
    "duration": 186,
    "start_time": "2022-12-14T19:15:50.517Z"
   },
   {
    "duration": 351,
    "start_time": "2022-12-14T19:16:00.188Z"
   },
   {
    "duration": 44,
    "start_time": "2022-12-14T19:17:05.282Z"
   },
   {
    "duration": 9,
    "start_time": "2022-12-14T19:19:45.283Z"
   },
   {
    "duration": 11,
    "start_time": "2022-12-14T19:23:28.035Z"
   },
   {
    "duration": 11,
    "start_time": "2022-12-14T19:23:35.146Z"
   },
   {
    "duration": 151,
    "start_time": "2022-12-14T19:23:36.975Z"
   },
   {
    "duration": 181,
    "start_time": "2022-12-14T19:23:47.453Z"
   },
   {
    "duration": 160,
    "start_time": "2022-12-14T19:23:51.918Z"
   },
   {
    "duration": 5,
    "start_time": "2022-12-14T20:26:38.429Z"
   },
   {
    "duration": 46,
    "start_time": "2022-12-14T20:27:01.467Z"
   },
   {
    "duration": 217,
    "start_time": "2022-12-14T20:27:21.086Z"
   },
   {
    "duration": 87,
    "start_time": "2022-12-14T20:27:39.923Z"
   },
   {
    "duration": 55,
    "start_time": "2022-12-14T20:28:55.032Z"
   },
   {
    "duration": 63,
    "start_time": "2022-12-14T20:30:48.984Z"
   },
   {
    "duration": 43,
    "start_time": "2022-12-14T20:36:12.252Z"
   },
   {
    "duration": 13,
    "start_time": "2022-12-14T20:36:15.014Z"
   },
   {
    "duration": 12,
    "start_time": "2022-12-14T20:36:20.461Z"
   },
   {
    "duration": 307,
    "start_time": "2022-12-14T20:36:24.165Z"
   },
   {
    "duration": 37,
    "start_time": "2022-12-14T20:36:32.661Z"
   },
   {
    "duration": 35,
    "start_time": "2022-12-14T20:36:41.477Z"
   },
   {
    "duration": 40,
    "start_time": "2022-12-14T20:37:33.715Z"
   },
   {
    "duration": 14735,
    "start_time": "2022-12-14T20:41:05.079Z"
   },
   {
    "duration": 16222,
    "start_time": "2022-12-14T20:41:53.033Z"
   },
   {
    "duration": 383,
    "start_time": "2022-12-14T20:42:48.751Z"
   },
   {
    "duration": 39,
    "start_time": "2022-12-14T20:44:38.586Z"
   },
   {
    "duration": 395,
    "start_time": "2022-12-14T20:44:52.132Z"
   },
   {
    "duration": 14187,
    "start_time": "2022-12-14T20:44:57.410Z"
   },
   {
    "duration": 369,
    "start_time": "2022-12-14T20:45:15.228Z"
   },
   {
    "duration": 244,
    "start_time": "2022-12-14T20:46:43.356Z"
   },
   {
    "duration": 132,
    "start_time": "2022-12-14T20:46:49.175Z"
   },
   {
    "duration": 9,
    "start_time": "2022-12-14T20:47:17.301Z"
   },
   {
    "duration": 8,
    "start_time": "2022-12-14T20:48:21.079Z"
   },
   {
    "duration": 8,
    "start_time": "2022-12-14T20:50:29.605Z"
   },
   {
    "duration": 11,
    "start_time": "2022-12-14T20:53:49.990Z"
   },
   {
    "duration": 10,
    "start_time": "2022-12-14T20:56:20.806Z"
   },
   {
    "duration": 11,
    "start_time": "2022-12-14T20:56:25.248Z"
   },
   {
    "duration": 12,
    "start_time": "2022-12-14T20:56:49.375Z"
   },
   {
    "duration": 28,
    "start_time": "2022-12-14T20:57:21.610Z"
   },
   {
    "duration": 138,
    "start_time": "2022-12-14T20:57:31.069Z"
   },
   {
    "duration": 29,
    "start_time": "2022-12-14T20:57:33.333Z"
   },
   {
    "duration": 6778,
    "start_time": "2022-12-14T20:58:10.909Z"
   },
   {
    "duration": 182,
    "start_time": "2022-12-14T20:58:22.443Z"
   },
   {
    "duration": 262,
    "start_time": "2022-12-14T20:58:40.440Z"
   },
   {
    "duration": 212,
    "start_time": "2022-12-14T20:58:55.285Z"
   },
   {
    "duration": 9,
    "start_time": "2022-12-14T20:59:54.784Z"
   },
   {
    "duration": 28,
    "start_time": "2022-12-14T21:04:03.876Z"
   },
   {
    "duration": 1952,
    "start_time": "2022-12-14T21:04:24.290Z"
   },
   {
    "duration": 90,
    "start_time": "2022-12-14T21:05:07.482Z"
   },
   {
    "duration": 101,
    "start_time": "2022-12-14T21:07:27.073Z"
   },
   {
    "duration": 93,
    "start_time": "2022-12-14T21:07:44.085Z"
   },
   {
    "duration": 96,
    "start_time": "2022-12-14T21:07:55.815Z"
   },
   {
    "duration": 103,
    "start_time": "2022-12-14T21:09:20.517Z"
   },
   {
    "duration": 96,
    "start_time": "2022-12-14T21:09:34.090Z"
   },
   {
    "duration": 105,
    "start_time": "2022-12-14T21:11:57.458Z"
   },
   {
    "duration": 274,
    "start_time": "2022-12-14T21:13:07.808Z"
   },
   {
    "duration": 358,
    "start_time": "2022-12-14T21:13:37.125Z"
   },
   {
    "duration": 120,
    "start_time": "2022-12-14T21:14:41.678Z"
   },
   {
    "duration": 388,
    "start_time": "2022-12-14T21:14:54.309Z"
   },
   {
    "duration": 414,
    "start_time": "2022-12-14T21:15:43.841Z"
   },
   {
    "duration": 357,
    "start_time": "2022-12-14T21:16:07.712Z"
   },
   {
    "duration": 103,
    "start_time": "2022-12-14T21:16:24.213Z"
   },
   {
    "duration": 8,
    "start_time": "2022-12-14T21:16:27.718Z"
   },
   {
    "duration": 230,
    "start_time": "2022-12-14T21:23:55.628Z"
   },
   {
    "duration": 14708,
    "start_time": "2022-12-14T21:24:00.737Z"
   },
   {
    "duration": 518,
    "start_time": "2022-12-14T21:24:18.455Z"
   },
   {
    "duration": 53656,
    "start_time": "2022-12-14T21:24:46.768Z"
   },
   {
    "duration": 613,
    "start_time": "2022-12-14T21:27:09.162Z"
   },
   {
    "duration": 777,
    "start_time": "2022-12-14T21:27:51.587Z"
   },
   {
    "duration": 612,
    "start_time": "2022-12-14T21:28:03.201Z"
   },
   {
    "duration": 187,
    "start_time": "2022-12-14T21:28:40.978Z"
   },
   {
    "duration": 10,
    "start_time": "2022-12-14T21:31:07.555Z"
   },
   {
    "duration": 23,
    "start_time": "2022-12-14T21:35:24.230Z"
   },
   {
    "duration": 22,
    "start_time": "2022-12-14T21:35:47.762Z"
   },
   {
    "duration": 2121,
    "start_time": "2022-12-14T21:36:33.171Z"
   },
   {
    "duration": 99,
    "start_time": "2022-12-14T21:36:35.295Z"
   },
   {
    "duration": 17,
    "start_time": "2022-12-14T21:36:35.396Z"
   },
   {
    "duration": 15,
    "start_time": "2022-12-14T21:36:35.414Z"
   },
   {
    "duration": 11,
    "start_time": "2022-12-14T21:36:35.432Z"
   },
   {
    "duration": 18,
    "start_time": "2022-12-14T21:36:35.445Z"
   },
   {
    "duration": 16,
    "start_time": "2022-12-14T21:36:35.464Z"
   },
   {
    "duration": 195,
    "start_time": "2022-12-14T21:36:35.481Z"
   },
   {
    "duration": 1238,
    "start_time": "2022-12-14T21:36:35.678Z"
   },
   {
    "duration": 5,
    "start_time": "2022-12-14T21:36:36.918Z"
   },
   {
    "duration": 9,
    "start_time": "2022-12-14T21:36:36.925Z"
   },
   {
    "duration": 15,
    "start_time": "2022-12-14T21:36:36.935Z"
   },
   {
    "duration": 883,
    "start_time": "2022-12-14T21:36:36.952Z"
   },
   {
    "duration": 3,
    "start_time": "2022-12-14T21:36:37.837Z"
   },
   {
    "duration": 16,
    "start_time": "2022-12-14T21:36:37.841Z"
   },
   {
    "duration": 20,
    "start_time": "2022-12-14T21:36:37.859Z"
   },
   {
    "duration": 27,
    "start_time": "2022-12-14T21:36:37.881Z"
   },
   {
    "duration": 36,
    "start_time": "2022-12-14T21:36:37.910Z"
   },
   {
    "duration": 5,
    "start_time": "2022-12-14T21:36:37.948Z"
   },
   {
    "duration": 296,
    "start_time": "2022-12-14T21:36:37.955Z"
   },
   {
    "duration": 62,
    "start_time": "2022-12-14T21:36:38.253Z"
   },
   {
    "duration": 205,
    "start_time": "2022-12-14T21:36:38.317Z"
   },
   {
    "duration": 11949,
    "start_time": "2022-12-14T21:36:38.524Z"
   },
   {
    "duration": 294,
    "start_time": "2022-12-14T21:36:50.475Z"
   },
   {
    "duration": 193,
    "start_time": "2022-12-14T21:36:50.771Z"
   },
   {
    "duration": 242,
    "start_time": "2022-12-14T21:36:50.966Z"
   },
   {
    "duration": 438,
    "start_time": "2022-12-14T21:36:51.210Z"
   },
   {
    "duration": 10,
    "start_time": "2022-12-14T21:36:51.649Z"
   },
   {
    "duration": 146,
    "start_time": "2022-12-14T21:36:51.660Z"
   },
   {
    "duration": 183,
    "start_time": "2022-12-14T21:36:51.813Z"
   },
   {
    "duration": 377,
    "start_time": "2022-12-14T21:36:51.998Z"
   },
   {
    "duration": 51,
    "start_time": "2022-12-14T21:36:52.378Z"
   },
   {
    "duration": 15930,
    "start_time": "2022-12-14T21:36:52.431Z"
   },
   {
    "duration": 598,
    "start_time": "2022-12-14T21:37:08.362Z"
   },
   {
    "duration": 236,
    "start_time": "2022-12-14T21:37:08.962Z"
   },
   {
    "duration": 98,
    "start_time": "2022-12-14T21:37:09.200Z"
   },
   {
    "duration": 17,
    "start_time": "2022-12-14T21:37:09.300Z"
   },
   {
    "duration": 207,
    "start_time": "2022-12-14T21:37:09.320Z"
   },
   {
    "duration": 29,
    "start_time": "2022-12-14T21:37:09.529Z"
   },
   {
    "duration": 7301,
    "start_time": "2022-12-14T21:37:09.559Z"
   },
   {
    "duration": 210,
    "start_time": "2022-12-14T21:37:16.864Z"
   },
   {
    "duration": 138,
    "start_time": "2022-12-14T21:37:17.075Z"
   },
   {
    "duration": 11,
    "start_time": "2022-12-14T21:37:17.297Z"
   },
   {
    "duration": 209,
    "start_time": "2022-12-14T21:37:17.310Z"
   },
   {
    "duration": 419,
    "start_time": "2022-12-14T21:37:17.521Z"
   },
   {
    "duration": 464,
    "start_time": "2022-12-14T21:37:17.943Z"
   },
   {
    "duration": 87,
    "start_time": "2022-12-14T21:37:18.411Z"
   },
   {
    "duration": 19521,
    "start_time": "2022-12-14T21:37:18.500Z"
   },
   {
    "duration": 564,
    "start_time": "2022-12-14T21:37:38.023Z"
   },
   {
    "duration": 207,
    "start_time": "2022-12-14T21:37:38.589Z"
   },
   {
    "duration": 22,
    "start_time": "2022-12-14T21:37:49.265Z"
   },
   {
    "duration": 14,
    "start_time": "2022-12-14T21:38:56.623Z"
   },
   {
    "duration": 17,
    "start_time": "2022-12-14T21:39:15.545Z"
   },
   {
    "duration": 12,
    "start_time": "2022-12-14T21:39:18.991Z"
   },
   {
    "duration": 15,
    "start_time": "2022-12-14T21:39:55.398Z"
   },
   {
    "duration": 19,
    "start_time": "2022-12-14T21:40:48.967Z"
   },
   {
    "duration": 15,
    "start_time": "2022-12-14T21:41:55.191Z"
   },
   {
    "duration": 15,
    "start_time": "2022-12-14T21:43:24.632Z"
   },
   {
    "duration": 579,
    "start_time": "2022-12-14T21:43:59.278Z"
   },
   {
    "duration": 655,
    "start_time": "2022-12-14T21:44:10.315Z"
   },
   {
    "duration": 652,
    "start_time": "2022-12-14T21:45:23.525Z"
   },
   {
    "duration": 16,
    "start_time": "2022-12-14T21:46:43.829Z"
   },
   {
    "duration": 1516,
    "start_time": "2022-12-14T21:46:45.947Z"
   },
   {
    "duration": 1567,
    "start_time": "2022-12-14T21:49:18.671Z"
   },
   {
    "duration": 16,
    "start_time": "2022-12-14T21:49:41.515Z"
   },
   {
    "duration": 14,
    "start_time": "2022-12-14T21:49:49.463Z"
   },
   {
    "duration": 667,
    "start_time": "2022-12-14T21:52:12.201Z"
   },
   {
    "duration": 1934,
    "start_time": "2022-12-14T21:52:50.454Z"
   },
   {
    "duration": 70,
    "start_time": "2022-12-14T21:52:52.391Z"
   },
   {
    "duration": 15,
    "start_time": "2022-12-14T21:52:52.463Z"
   },
   {
    "duration": 9,
    "start_time": "2022-12-14T21:52:52.481Z"
   },
   {
    "duration": 19,
    "start_time": "2022-12-14T21:52:52.492Z"
   },
   {
    "duration": 10,
    "start_time": "2022-12-14T21:52:52.514Z"
   },
   {
    "duration": 9,
    "start_time": "2022-12-14T21:52:52.526Z"
   },
   {
    "duration": 274,
    "start_time": "2022-12-14T21:52:52.537Z"
   },
   {
    "duration": 1117,
    "start_time": "2022-12-14T21:52:52.814Z"
   },
   {
    "duration": 6,
    "start_time": "2022-12-14T21:52:53.935Z"
   },
   {
    "duration": 7,
    "start_time": "2022-12-14T21:52:53.944Z"
   },
   {
    "duration": 17,
    "start_time": "2022-12-14T21:52:53.954Z"
   },
   {
    "duration": 882,
    "start_time": "2022-12-14T21:52:53.974Z"
   },
   {
    "duration": 4,
    "start_time": "2022-12-14T21:52:54.859Z"
   },
   {
    "duration": 36,
    "start_time": "2022-12-14T21:52:54.865Z"
   },
   {
    "duration": 21,
    "start_time": "2022-12-14T21:52:54.903Z"
   },
   {
    "duration": 6,
    "start_time": "2022-12-14T21:52:54.926Z"
   },
   {
    "duration": 45,
    "start_time": "2022-12-14T21:52:54.934Z"
   },
   {
    "duration": 15,
    "start_time": "2022-12-14T21:52:54.981Z"
   },
   {
    "duration": 312,
    "start_time": "2022-12-14T21:52:54.998Z"
   },
   {
    "duration": 37,
    "start_time": "2022-12-14T21:52:55.311Z"
   },
   {
    "duration": 240,
    "start_time": "2022-12-14T21:52:55.350Z"
   },
   {
    "duration": 11527,
    "start_time": "2022-12-14T21:52:55.597Z"
   },
   {
    "duration": 290,
    "start_time": "2022-12-14T21:53:07.127Z"
   },
   {
    "duration": 183,
    "start_time": "2022-12-14T21:53:07.418Z"
   },
   {
    "duration": 196,
    "start_time": "2022-12-14T21:53:07.603Z"
   },
   {
    "duration": 349,
    "start_time": "2022-12-14T21:53:07.801Z"
   },
   {
    "duration": 9,
    "start_time": "2022-12-14T21:53:08.154Z"
   },
   {
    "duration": 140,
    "start_time": "2022-12-14T21:53:08.165Z"
   },
   {
    "duration": 102,
    "start_time": "2022-12-14T21:53:08.397Z"
   },
   {
    "duration": 340,
    "start_time": "2022-12-14T21:53:08.501Z"
   },
   {
    "duration": 55,
    "start_time": "2022-12-14T21:53:08.843Z"
   },
   {
    "duration": 14729,
    "start_time": "2022-12-14T21:53:08.900Z"
   },
   {
    "duration": 539,
    "start_time": "2022-12-14T21:53:23.630Z"
   },
   {
    "duration": 236,
    "start_time": "2022-12-14T21:53:24.171Z"
   },
   {
    "duration": 98,
    "start_time": "2022-12-14T21:53:24.409Z"
   },
   {
    "duration": 92,
    "start_time": "2022-12-14T21:53:24.510Z"
   },
   {
    "duration": 176,
    "start_time": "2022-12-14T21:53:24.603Z"
   },
   {
    "duration": 42,
    "start_time": "2022-12-14T21:53:24.780Z"
   },
   {
    "duration": 7478,
    "start_time": "2022-12-14T21:53:24.823Z"
   },
   {
    "duration": 201,
    "start_time": "2022-12-14T21:53:32.303Z"
   },
   {
    "duration": 192,
    "start_time": "2022-12-14T21:53:32.506Z"
   },
   {
    "duration": 98,
    "start_time": "2022-12-14T21:53:32.700Z"
   },
   {
    "duration": 116,
    "start_time": "2022-12-14T21:53:32.800Z"
   },
   {
    "duration": 369,
    "start_time": "2022-12-14T21:53:32.917Z"
   },
   {
    "duration": 412,
    "start_time": "2022-12-14T21:53:33.288Z"
   },
   {
    "duration": 96,
    "start_time": "2022-12-14T21:53:33.702Z"
   },
   {
    "duration": 18938,
    "start_time": "2022-12-14T21:53:33.800Z"
   },
   {
    "duration": 575,
    "start_time": "2022-12-14T21:53:52.741Z"
   },
   {
    "duration": 199,
    "start_time": "2022-12-14T21:53:53.318Z"
   },
   {
    "duration": 14,
    "start_time": "2022-12-14T21:53:53.519Z"
   },
   {
    "duration": 13,
    "start_time": "2022-12-14T21:53:53.535Z"
   },
   {
    "duration": 673,
    "start_time": "2022-12-14T21:53:59.187Z"
   },
   {
    "duration": 195,
    "start_time": "2022-12-14T21:55:21.901Z"
   },
   {
    "duration": 4055,
    "start_time": "2022-12-15T20:16:47.594Z"
   },
   {
    "duration": 102,
    "start_time": "2022-12-15T20:18:07.453Z"
   },
   {
    "duration": 1795,
    "start_time": "2022-12-15T20:18:11.248Z"
   },
   {
    "duration": 196,
    "start_time": "2022-12-15T20:18:13.045Z"
   },
   {
    "duration": 10,
    "start_time": "2022-12-15T20:18:13.242Z"
   },
   {
    "duration": 5,
    "start_time": "2022-12-15T20:18:13.254Z"
   },
   {
    "duration": 12,
    "start_time": "2022-12-15T20:18:13.261Z"
   },
   {
    "duration": 9,
    "start_time": "2022-12-15T20:18:13.275Z"
   },
   {
    "duration": 10,
    "start_time": "2022-12-15T20:18:13.285Z"
   },
   {
    "duration": 193,
    "start_time": "2022-12-15T20:18:13.296Z"
   },
   {
    "duration": 1130,
    "start_time": "2022-12-15T20:18:13.491Z"
   },
   {
    "duration": 4,
    "start_time": "2022-12-15T20:18:14.623Z"
   },
   {
    "duration": 13,
    "start_time": "2022-12-15T20:18:14.628Z"
   },
   {
    "duration": 24,
    "start_time": "2022-12-15T20:18:14.643Z"
   },
   {
    "duration": 747,
    "start_time": "2022-12-15T20:18:14.668Z"
   },
   {
    "duration": 9,
    "start_time": "2022-12-15T20:18:15.417Z"
   },
   {
    "duration": 4,
    "start_time": "2022-12-15T20:18:20.489Z"
   },
   {
    "duration": 4,
    "start_time": "2022-12-15T20:18:37.825Z"
   },
   {
    "duration": 11,
    "start_time": "2022-12-15T20:19:27.066Z"
   },
   {
    "duration": 3,
    "start_time": "2022-12-15T20:19:39.014Z"
   },
   {
    "duration": 4,
    "start_time": "2022-12-15T20:20:00.297Z"
   },
   {
    "duration": 4,
    "start_time": "2022-12-15T20:20:03.084Z"
   },
   {
    "duration": 1741,
    "start_time": "2022-12-15T20:20:07.084Z"
   },
   {
    "duration": 61,
    "start_time": "2022-12-15T20:20:08.827Z"
   },
   {
    "duration": 10,
    "start_time": "2022-12-15T20:20:08.890Z"
   },
   {
    "duration": 13,
    "start_time": "2022-12-15T20:20:08.901Z"
   },
   {
    "duration": 19,
    "start_time": "2022-12-15T20:20:08.916Z"
   },
   {
    "duration": 14,
    "start_time": "2022-12-15T20:20:08.936Z"
   },
   {
    "duration": 6,
    "start_time": "2022-12-15T20:20:08.952Z"
   },
   {
    "duration": 157,
    "start_time": "2022-12-15T20:20:08.960Z"
   },
   {
    "duration": 981,
    "start_time": "2022-12-15T20:20:09.119Z"
   },
   {
    "duration": 3,
    "start_time": "2022-12-15T20:20:10.102Z"
   },
   {
    "duration": 7,
    "start_time": "2022-12-15T20:20:10.107Z"
   },
   {
    "duration": 15,
    "start_time": "2022-12-15T20:20:10.116Z"
   },
   {
    "duration": 746,
    "start_time": "2022-12-15T20:20:10.133Z"
   },
   {
    "duration": 3,
    "start_time": "2022-12-15T20:20:10.882Z"
   },
   {
    "duration": 1854,
    "start_time": "2022-12-15T20:29:04.579Z"
   },
   {
    "duration": 5,
    "start_time": "2022-12-15T20:29:44.162Z"
   },
   {
    "duration": 21,
    "start_time": "2022-12-15T20:31:24.965Z"
   },
   {
    "duration": 65,
    "start_time": "2022-12-15T20:34:29.705Z"
   },
   {
    "duration": 31,
    "start_time": "2022-12-15T20:36:47.397Z"
   },
   {
    "duration": 31,
    "start_time": "2022-12-15T20:38:35.619Z"
   },
   {
    "duration": 5,
    "start_time": "2022-12-15T20:44:32.797Z"
   },
   {
    "duration": 4,
    "start_time": "2022-12-15T20:45:07.945Z"
   },
   {
    "duration": 4,
    "start_time": "2022-12-15T20:45:12.430Z"
   },
   {
    "duration": 5,
    "start_time": "2022-12-15T20:45:39.520Z"
   },
   {
    "duration": 6,
    "start_time": "2022-12-15T20:45:49.622Z"
   },
   {
    "duration": 1105,
    "start_time": "2022-12-15T20:46:24.834Z"
   },
   {
    "duration": 5,
    "start_time": "2022-12-15T20:46:32.255Z"
   },
   {
    "duration": 26,
    "start_time": "2022-12-15T20:48:13.164Z"
   },
   {
    "duration": 26,
    "start_time": "2022-12-15T20:48:16.438Z"
   },
   {
    "duration": 23,
    "start_time": "2022-12-15T20:48:26.124Z"
   },
   {
    "duration": 28,
    "start_time": "2022-12-15T20:48:33.302Z"
   },
   {
    "duration": 31,
    "start_time": "2022-12-15T20:48:41.829Z"
   },
   {
    "duration": 43,
    "start_time": "2022-12-15T20:50:25.601Z"
   },
   {
    "duration": 28,
    "start_time": "2022-12-15T20:50:32.464Z"
   },
   {
    "duration": 34,
    "start_time": "2022-12-15T20:52:52.056Z"
   },
   {
    "duration": 23,
    "start_time": "2022-12-15T20:52:58.180Z"
   },
   {
    "duration": 21,
    "start_time": "2022-12-15T20:55:29.926Z"
   },
   {
    "duration": 32,
    "start_time": "2022-12-15T20:56:30.541Z"
   },
   {
    "duration": 28,
    "start_time": "2022-12-15T20:56:32.711Z"
   },
   {
    "duration": 42,
    "start_time": "2022-12-15T20:56:35.211Z"
   },
   {
    "duration": 11,
    "start_time": "2022-12-15T20:56:38.138Z"
   },
   {
    "duration": 18,
    "start_time": "2022-12-15T20:57:01.040Z"
   },
   {
    "duration": 13,
    "start_time": "2022-12-15T20:57:08.015Z"
   },
   {
    "duration": 1861,
    "start_time": "2022-12-15T20:57:10.581Z"
   },
   {
    "duration": 63,
    "start_time": "2022-12-15T20:57:12.444Z"
   },
   {
    "duration": 10,
    "start_time": "2022-12-15T20:57:12.509Z"
   },
   {
    "duration": 6,
    "start_time": "2022-12-15T20:57:12.521Z"
   },
   {
    "duration": 12,
    "start_time": "2022-12-15T20:57:12.528Z"
   },
   {
    "duration": 7,
    "start_time": "2022-12-15T20:57:12.542Z"
   },
   {
    "duration": 11,
    "start_time": "2022-12-15T20:57:12.551Z"
   },
   {
    "duration": 171,
    "start_time": "2022-12-15T20:57:12.564Z"
   },
   {
    "duration": 1083,
    "start_time": "2022-12-15T20:57:12.737Z"
   },
   {
    "duration": 5,
    "start_time": "2022-12-15T20:57:13.822Z"
   },
   {
    "duration": 33,
    "start_time": "2022-12-15T20:57:13.829Z"
   },
   {
    "duration": 22,
    "start_time": "2022-12-15T20:57:13.863Z"
   },
   {
    "duration": 797,
    "start_time": "2022-12-15T20:57:13.886Z"
   },
   {
    "duration": 3,
    "start_time": "2022-12-15T20:57:14.685Z"
   },
   {
    "duration": 19,
    "start_time": "2022-12-15T20:57:14.689Z"
   },
   {
    "duration": 19,
    "start_time": "2022-12-15T20:57:14.710Z"
   },
   {
    "duration": 5,
    "start_time": "2022-12-15T20:57:14.731Z"
   },
   {
    "duration": 25,
    "start_time": "2022-12-15T20:57:14.738Z"
   },
   {
    "duration": 30,
    "start_time": "2022-12-15T20:57:14.765Z"
   },
   {
    "duration": 44,
    "start_time": "2022-12-15T20:57:14.797Z"
   },
   {
    "duration": 22,
    "start_time": "2022-12-15T20:57:21.532Z"
   },
   {
    "duration": 1863,
    "start_time": "2022-12-15T20:57:54.309Z"
   },
   {
    "duration": 64,
    "start_time": "2022-12-15T20:57:56.176Z"
   },
   {
    "duration": 10,
    "start_time": "2022-12-15T20:57:56.241Z"
   },
   {
    "duration": 7,
    "start_time": "2022-12-15T20:57:56.253Z"
   },
   {
    "duration": 6,
    "start_time": "2022-12-15T20:57:56.262Z"
   },
   {
    "duration": 7,
    "start_time": "2022-12-15T20:57:56.270Z"
   },
   {
    "duration": 12,
    "start_time": "2022-12-15T20:57:56.279Z"
   },
   {
    "duration": 177,
    "start_time": "2022-12-15T20:57:56.292Z"
   },
   {
    "duration": 1046,
    "start_time": "2022-12-15T20:57:56.471Z"
   },
   {
    "duration": 4,
    "start_time": "2022-12-15T20:57:57.520Z"
   },
   {
    "duration": 9,
    "start_time": "2022-12-15T20:57:57.526Z"
   },
   {
    "duration": 12,
    "start_time": "2022-12-15T20:57:57.537Z"
   },
   {
    "duration": 773,
    "start_time": "2022-12-15T20:57:57.550Z"
   },
   {
    "duration": 3,
    "start_time": "2022-12-15T20:57:58.325Z"
   },
   {
    "duration": 8,
    "start_time": "2022-12-15T20:57:58.330Z"
   },
   {
    "duration": 20,
    "start_time": "2022-12-15T20:57:58.340Z"
   },
   {
    "duration": 5,
    "start_time": "2022-12-15T20:57:58.362Z"
   },
   {
    "duration": 128,
    "start_time": "2022-12-15T20:57:58.368Z"
   },
   {
    "duration": 35,
    "start_time": "2022-12-15T20:57:58.497Z"
   },
   {
    "duration": 25,
    "start_time": "2022-12-15T20:57:58.534Z"
   },
   {
    "duration": 18,
    "start_time": "2022-12-15T20:57:58.561Z"
   },
   {
    "duration": 49,
    "start_time": "2022-12-15T20:57:58.581Z"
   },
   {
    "duration": 3,
    "start_time": "2022-12-15T20:57:58.632Z"
   },
   {
    "duration": 31,
    "start_time": "2022-12-15T20:57:58.637Z"
   },
   {
    "duration": 7,
    "start_time": "2022-12-15T20:57:58.669Z"
   },
   {
    "duration": 353,
    "start_time": "2022-12-15T20:57:58.678Z"
   },
   {
    "duration": 38,
    "start_time": "2022-12-15T20:57:59.032Z"
   },
   {
    "duration": 175,
    "start_time": "2022-12-15T20:57:59.073Z"
   },
   {
    "duration": 10561,
    "start_time": "2022-12-15T20:57:59.249Z"
   },
   {
    "duration": 273,
    "start_time": "2022-12-15T20:58:09.812Z"
   },
   {
    "duration": 188,
    "start_time": "2022-12-15T20:58:10.086Z"
   },
   {
    "duration": 352,
    "start_time": "2022-12-15T20:58:10.276Z"
   },
   {
    "duration": 327,
    "start_time": "2022-12-15T20:58:10.630Z"
   },
   {
    "duration": 8,
    "start_time": "2022-12-15T20:58:10.959Z"
   },
   {
    "duration": 162,
    "start_time": "2022-12-15T20:58:10.968Z"
   },
   {
    "duration": 99,
    "start_time": "2022-12-15T20:58:11.131Z"
   },
   {
    "duration": 373,
    "start_time": "2022-12-15T20:58:11.232Z"
   },
   {
    "duration": 58,
    "start_time": "2022-12-15T20:58:11.606Z"
   },
   {
    "duration": 14367,
    "start_time": "2022-12-15T20:58:11.666Z"
   },
   {
    "duration": 537,
    "start_time": "2022-12-15T20:58:26.037Z"
   },
   {
    "duration": 261,
    "start_time": "2022-12-15T20:58:26.575Z"
   },
   {
    "duration": 94,
    "start_time": "2022-12-15T20:58:26.840Z"
   },
   {
    "duration": 112,
    "start_time": "2022-12-15T20:58:26.936Z"
   },
   {
    "duration": 157,
    "start_time": "2022-12-15T20:58:27.049Z"
   },
   {
    "duration": 39,
    "start_time": "2022-12-15T20:58:27.208Z"
   },
   {
    "duration": 6993,
    "start_time": "2022-12-15T20:58:27.249Z"
   },
   {
    "duration": 201,
    "start_time": "2022-12-15T20:58:34.243Z"
   },
   {
    "duration": 301,
    "start_time": "2022-12-15T20:58:34.445Z"
   },
   {
    "duration": 99,
    "start_time": "2022-12-15T20:58:34.832Z"
   },
   {
    "duration": 116,
    "start_time": "2022-12-15T20:58:34.934Z"
   },
   {
    "duration": 14,
    "start_time": "2022-12-15T20:58:35.051Z"
   },
   {
    "duration": 0,
    "start_time": "2022-12-15T20:58:35.067Z"
   },
   {
    "duration": 0,
    "start_time": "2022-12-15T20:58:35.068Z"
   },
   {
    "duration": 0,
    "start_time": "2022-12-15T20:58:35.070Z"
   },
   {
    "duration": 0,
    "start_time": "2022-12-15T20:58:35.071Z"
   },
   {
    "duration": 0,
    "start_time": "2022-12-15T20:58:35.072Z"
   },
   {
    "duration": 0,
    "start_time": "2022-12-15T20:58:35.073Z"
   },
   {
    "duration": 0,
    "start_time": "2022-12-15T20:58:35.074Z"
   },
   {
    "duration": 0,
    "start_time": "2022-12-15T20:58:35.075Z"
   },
   {
    "duration": 0,
    "start_time": "2022-12-15T20:58:35.076Z"
   },
   {
    "duration": 163,
    "start_time": "2022-12-15T20:58:50.993Z"
   },
   {
    "duration": 9,
    "start_time": "2022-12-15T20:59:14.311Z"
   },
   {
    "duration": 14,
    "start_time": "2022-12-15T20:59:26.301Z"
   },
   {
    "duration": 12,
    "start_time": "2022-12-15T20:59:28.188Z"
   },
   {
    "duration": 682,
    "start_time": "2022-12-15T20:59:30.929Z"
   },
   {
    "duration": 182,
    "start_time": "2022-12-15T20:59:41.727Z"
   },
   {
    "duration": 4728,
    "start_time": "2022-12-16T21:29:52.673Z"
   },
   {
    "duration": 217,
    "start_time": "2022-12-16T21:29:57.403Z"
   },
   {
    "duration": 20,
    "start_time": "2022-12-16T21:29:57.625Z"
   },
   {
    "duration": 10,
    "start_time": "2022-12-16T21:29:57.648Z"
   },
   {
    "duration": 7,
    "start_time": "2022-12-16T21:29:57.660Z"
   },
   {
    "duration": 6,
    "start_time": "2022-12-16T21:29:57.669Z"
   },
   {
    "duration": 7,
    "start_time": "2022-12-16T21:29:57.677Z"
   },
   {
    "duration": 235,
    "start_time": "2022-12-16T21:29:57.685Z"
   },
   {
    "duration": 1233,
    "start_time": "2022-12-16T21:29:57.927Z"
   },
   {
    "duration": 4,
    "start_time": "2022-12-16T21:29:59.162Z"
   },
   {
    "duration": 10,
    "start_time": "2022-12-16T21:29:59.168Z"
   },
   {
    "duration": 11,
    "start_time": "2022-12-16T21:29:59.180Z"
   },
   {
    "duration": 906,
    "start_time": "2022-12-16T21:29:59.192Z"
   },
   {
    "duration": 4,
    "start_time": "2022-12-16T21:30:00.099Z"
   },
   {
    "duration": 19,
    "start_time": "2022-12-16T21:30:00.104Z"
   },
   {
    "duration": 42,
    "start_time": "2022-12-16T21:30:00.129Z"
   },
   {
    "duration": 17,
    "start_time": "2022-12-16T21:30:00.173Z"
   },
   {
    "duration": 4,
    "start_time": "2022-12-16T21:30:06.749Z"
   },
   {
    "duration": 124,
    "start_time": "2022-12-16T21:30:43.322Z"
   },
   {
    "duration": 12,
    "start_time": "2022-12-16T21:30:51.504Z"
   },
   {
    "duration": 4,
    "start_time": "2022-12-16T21:30:53.191Z"
   },
   {
    "duration": 48,
    "start_time": "2022-12-16T21:30:55.451Z"
   },
   {
    "duration": 4,
    "start_time": "2022-12-16T21:31:11.192Z"
   },
   {
    "duration": 14,
    "start_time": "2022-12-16T21:31:13.551Z"
   },
   {
    "duration": 5,
    "start_time": "2022-12-16T21:31:13.983Z"
   },
   {
    "duration": 49,
    "start_time": "2022-12-16T21:31:16.629Z"
   },
   {
    "duration": 16,
    "start_time": "2022-12-16T21:31:21.451Z"
   },
   {
    "duration": 4,
    "start_time": "2022-12-16T21:31:33.249Z"
   },
   {
    "duration": 17,
    "start_time": "2022-12-16T21:31:37.384Z"
   },
   {
    "duration": 2167,
    "start_time": "2022-12-16T21:31:48.748Z"
   },
   {
    "duration": 77,
    "start_time": "2022-12-16T21:31:50.917Z"
   },
   {
    "duration": 11,
    "start_time": "2022-12-16T21:31:50.996Z"
   },
   {
    "duration": 7,
    "start_time": "2022-12-16T21:31:51.009Z"
   },
   {
    "duration": 52,
    "start_time": "2022-12-16T21:31:51.018Z"
   },
   {
    "duration": 12,
    "start_time": "2022-12-16T21:31:51.071Z"
   },
   {
    "duration": 12,
    "start_time": "2022-12-16T21:31:51.085Z"
   },
   {
    "duration": 202,
    "start_time": "2022-12-16T21:31:51.098Z"
   },
   {
    "duration": 1198,
    "start_time": "2022-12-16T21:31:51.302Z"
   },
   {
    "duration": 4,
    "start_time": "2022-12-16T21:31:52.501Z"
   },
   {
    "duration": 56,
    "start_time": "2022-12-16T21:31:52.506Z"
   },
   {
    "duration": 90,
    "start_time": "2022-12-16T21:31:52.564Z"
   },
   {
    "duration": 947,
    "start_time": "2022-12-16T21:31:52.656Z"
   },
   {
    "duration": 4,
    "start_time": "2022-12-16T21:31:53.607Z"
   },
   {
    "duration": 43,
    "start_time": "2022-12-16T21:31:53.613Z"
   },
   {
    "duration": 51,
    "start_time": "2022-12-16T21:31:53.658Z"
   },
   {
    "duration": 90,
    "start_time": "2022-12-16T21:31:53.711Z"
   },
   {
    "duration": 34,
    "start_time": "2022-12-16T21:31:53.803Z"
   },
   {
    "duration": 110,
    "start_time": "2022-12-16T21:31:53.849Z"
   },
   {
    "duration": 50,
    "start_time": "2022-12-16T21:31:56.797Z"
   },
   {
    "duration": 20,
    "start_time": "2022-12-16T21:31:59.392Z"
   },
   {
    "duration": 2166,
    "start_time": "2022-12-16T21:32:22.594Z"
   },
   {
    "duration": 90,
    "start_time": "2022-12-16T21:32:24.763Z"
   },
   {
    "duration": 15,
    "start_time": "2022-12-16T21:32:24.855Z"
   },
   {
    "duration": 8,
    "start_time": "2022-12-16T21:32:24.873Z"
   },
   {
    "duration": 18,
    "start_time": "2022-12-16T21:32:24.883Z"
   },
   {
    "duration": 28,
    "start_time": "2022-12-16T21:32:24.903Z"
   },
   {
    "duration": 35,
    "start_time": "2022-12-16T21:32:24.933Z"
   },
   {
    "duration": 187,
    "start_time": "2022-12-16T21:32:24.970Z"
   },
   {
    "duration": 1269,
    "start_time": "2022-12-16T21:32:25.159Z"
   },
   {
    "duration": 14,
    "start_time": "2022-12-16T21:32:26.438Z"
   },
   {
    "duration": 27,
    "start_time": "2022-12-16T21:32:26.455Z"
   },
   {
    "duration": 33,
    "start_time": "2022-12-16T21:32:26.483Z"
   },
   {
    "duration": 882,
    "start_time": "2022-12-16T21:32:26.518Z"
   },
   {
    "duration": 4,
    "start_time": "2022-12-16T21:32:27.402Z"
   },
   {
    "duration": 22,
    "start_time": "2022-12-16T21:32:27.408Z"
   },
   {
    "duration": 34,
    "start_time": "2022-12-16T21:32:27.440Z"
   },
   {
    "duration": 7,
    "start_time": "2022-12-16T21:32:27.476Z"
   },
   {
    "duration": 12,
    "start_time": "2022-12-16T21:32:27.484Z"
   },
   {
    "duration": 15,
    "start_time": "2022-12-16T21:32:27.498Z"
   },
   {
    "duration": 11,
    "start_time": "2022-12-16T21:32:27.515Z"
   },
   {
    "duration": 62,
    "start_time": "2022-12-16T21:32:30.652Z"
   },
   {
    "duration": 2121,
    "start_time": "2022-12-16T21:32:41.718Z"
   },
   {
    "duration": 65,
    "start_time": "2022-12-16T21:32:43.843Z"
   },
   {
    "duration": 11,
    "start_time": "2022-12-16T21:32:43.909Z"
   },
   {
    "duration": 25,
    "start_time": "2022-12-16T21:32:43.923Z"
   },
   {
    "duration": 22,
    "start_time": "2022-12-16T21:32:43.953Z"
   },
   {
    "duration": 16,
    "start_time": "2022-12-16T21:32:43.977Z"
   },
   {
    "duration": 24,
    "start_time": "2022-12-16T21:32:43.995Z"
   },
   {
    "duration": 252,
    "start_time": "2022-12-16T21:32:44.020Z"
   },
   {
    "duration": 1161,
    "start_time": "2022-12-16T21:32:44.274Z"
   },
   {
    "duration": 9,
    "start_time": "2022-12-16T21:32:45.437Z"
   },
   {
    "duration": 21,
    "start_time": "2022-12-16T21:32:45.449Z"
   },
   {
    "duration": 24,
    "start_time": "2022-12-16T21:32:45.471Z"
   },
   {
    "duration": 874,
    "start_time": "2022-12-16T21:32:45.497Z"
   },
   {
    "duration": 3,
    "start_time": "2022-12-16T21:32:46.373Z"
   },
   {
    "duration": 15,
    "start_time": "2022-12-16T21:32:46.378Z"
   },
   {
    "duration": 40,
    "start_time": "2022-12-16T21:32:46.395Z"
   },
   {
    "duration": 37,
    "start_time": "2022-12-16T21:32:46.437Z"
   },
   {
    "duration": 7,
    "start_time": "2022-12-16T21:32:46.476Z"
   },
   {
    "duration": 24,
    "start_time": "2022-12-16T21:32:46.485Z"
   },
   {
    "duration": 10,
    "start_time": "2022-12-16T21:32:46.511Z"
   },
   {
    "duration": 98,
    "start_time": "2022-12-16T21:32:49.052Z"
   },
   {
    "duration": 29,
    "start_time": "2022-12-16T21:32:54.051Z"
   },
   {
    "duration": 19,
    "start_time": "2022-12-16T21:32:57.651Z"
   },
   {
    "duration": 31,
    "start_time": "2022-12-16T21:33:12.822Z"
   },
   {
    "duration": 2129,
    "start_time": "2022-12-16T21:33:54.850Z"
   },
   {
    "duration": 74,
    "start_time": "2022-12-16T21:33:56.981Z"
   },
   {
    "duration": 10,
    "start_time": "2022-12-16T21:33:57.057Z"
   },
   {
    "duration": 7,
    "start_time": "2022-12-16T21:33:57.069Z"
   },
   {
    "duration": 11,
    "start_time": "2022-12-16T21:33:57.077Z"
   },
   {
    "duration": 6,
    "start_time": "2022-12-16T21:33:57.090Z"
   },
   {
    "duration": 10,
    "start_time": "2022-12-16T21:33:57.123Z"
   },
   {
    "duration": 319,
    "start_time": "2022-12-16T21:33:57.140Z"
   },
   {
    "duration": 1200,
    "start_time": "2022-12-16T21:33:57.461Z"
   },
   {
    "duration": 5,
    "start_time": "2022-12-16T21:33:58.665Z"
   },
   {
    "duration": 7,
    "start_time": "2022-12-16T21:33:58.671Z"
   },
   {
    "duration": 12,
    "start_time": "2022-12-16T21:33:58.680Z"
   },
   {
    "duration": 874,
    "start_time": "2022-12-16T21:33:58.694Z"
   },
   {
    "duration": 4,
    "start_time": "2022-12-16T21:33:59.569Z"
   },
   {
    "duration": 12,
    "start_time": "2022-12-16T21:33:59.574Z"
   },
   {
    "duration": 29,
    "start_time": "2022-12-16T21:33:59.587Z"
   },
   {
    "duration": 9,
    "start_time": "2022-12-16T21:33:59.624Z"
   },
   {
    "duration": 33,
    "start_time": "2022-12-16T21:33:59.635Z"
   },
   {
    "duration": 21,
    "start_time": "2022-12-16T21:33:59.670Z"
   },
   {
    "duration": 7,
    "start_time": "2022-12-16T21:33:59.693Z"
   },
   {
    "duration": 81,
    "start_time": "2022-12-16T21:33:59.701Z"
   },
   {
    "duration": 20,
    "start_time": "2022-12-16T21:33:59.784Z"
   },
   {
    "duration": 30,
    "start_time": "2022-12-16T21:33:59.805Z"
   },
   {
    "duration": 45,
    "start_time": "2022-12-16T21:33:59.837Z"
   },
   {
    "duration": 35,
    "start_time": "2022-12-16T21:33:59.884Z"
   },
   {
    "duration": 0,
    "start_time": "2022-12-16T21:33:59.923Z"
   },
   {
    "duration": 1,
    "start_time": "2022-12-16T21:33:59.931Z"
   },
   {
    "duration": 0,
    "start_time": "2022-12-16T21:33:59.933Z"
   },
   {
    "duration": 0,
    "start_time": "2022-12-16T21:33:59.934Z"
   },
   {
    "duration": 0,
    "start_time": "2022-12-16T21:33:59.935Z"
   },
   {
    "duration": 0,
    "start_time": "2022-12-16T21:33:59.936Z"
   },
   {
    "duration": 0,
    "start_time": "2022-12-16T21:33:59.938Z"
   },
   {
    "duration": 0,
    "start_time": "2022-12-16T21:33:59.939Z"
   },
   {
    "duration": 0,
    "start_time": "2022-12-16T21:33:59.940Z"
   },
   {
    "duration": 0,
    "start_time": "2022-12-16T21:33:59.941Z"
   },
   {
    "duration": 0,
    "start_time": "2022-12-16T21:33:59.944Z"
   },
   {
    "duration": 0,
    "start_time": "2022-12-16T21:33:59.945Z"
   },
   {
    "duration": 0,
    "start_time": "2022-12-16T21:33:59.948Z"
   },
   {
    "duration": 0,
    "start_time": "2022-12-16T21:33:59.949Z"
   },
   {
    "duration": 0,
    "start_time": "2022-12-16T21:33:59.951Z"
   },
   {
    "duration": 0,
    "start_time": "2022-12-16T21:33:59.953Z"
   },
   {
    "duration": 0,
    "start_time": "2022-12-16T21:33:59.954Z"
   },
   {
    "duration": 0,
    "start_time": "2022-12-16T21:33:59.956Z"
   },
   {
    "duration": 0,
    "start_time": "2022-12-16T21:33:59.958Z"
   },
   {
    "duration": 0,
    "start_time": "2022-12-16T21:33:59.960Z"
   },
   {
    "duration": 0,
    "start_time": "2022-12-16T21:33:59.962Z"
   },
   {
    "duration": 0,
    "start_time": "2022-12-16T21:33:59.963Z"
   },
   {
    "duration": 0,
    "start_time": "2022-12-16T21:33:59.965Z"
   },
   {
    "duration": 0,
    "start_time": "2022-12-16T21:33:59.966Z"
   },
   {
    "duration": 0,
    "start_time": "2022-12-16T21:33:59.967Z"
   },
   {
    "duration": 0,
    "start_time": "2022-12-16T21:33:59.968Z"
   },
   {
    "duration": 0,
    "start_time": "2022-12-16T21:33:59.969Z"
   },
   {
    "duration": 0,
    "start_time": "2022-12-16T21:33:59.970Z"
   },
   {
    "duration": 0,
    "start_time": "2022-12-16T21:33:59.971Z"
   },
   {
    "duration": 0,
    "start_time": "2022-12-16T21:33:59.972Z"
   },
   {
    "duration": 0,
    "start_time": "2022-12-16T21:33:59.973Z"
   },
   {
    "duration": 0,
    "start_time": "2022-12-16T21:33:59.974Z"
   },
   {
    "duration": 0,
    "start_time": "2022-12-16T21:34:00.025Z"
   },
   {
    "duration": 15,
    "start_time": "2022-12-16T21:34:24.193Z"
   },
   {
    "duration": 2181,
    "start_time": "2022-12-16T21:34:29.494Z"
   },
   {
    "duration": 90,
    "start_time": "2022-12-16T21:34:31.678Z"
   },
   {
    "duration": 16,
    "start_time": "2022-12-16T21:34:31.770Z"
   },
   {
    "duration": 7,
    "start_time": "2022-12-16T21:34:31.789Z"
   },
   {
    "duration": 63,
    "start_time": "2022-12-16T21:34:31.797Z"
   },
   {
    "duration": 11,
    "start_time": "2022-12-16T21:34:31.863Z"
   },
   {
    "duration": 8,
    "start_time": "2022-12-16T21:34:31.876Z"
   },
   {
    "duration": 198,
    "start_time": "2022-12-16T21:34:31.886Z"
   },
   {
    "duration": 1132,
    "start_time": "2022-12-16T21:34:32.086Z"
   },
   {
    "duration": 15,
    "start_time": "2022-12-16T21:34:33.223Z"
   },
   {
    "duration": 15,
    "start_time": "2022-12-16T21:34:33.241Z"
   },
   {
    "duration": 12,
    "start_time": "2022-12-16T21:34:33.258Z"
   },
   {
    "duration": 1129,
    "start_time": "2022-12-16T21:34:33.273Z"
   },
   {
    "duration": 4,
    "start_time": "2022-12-16T21:34:34.404Z"
   },
   {
    "duration": 61,
    "start_time": "2022-12-16T21:34:34.410Z"
   },
   {
    "duration": 35,
    "start_time": "2022-12-16T21:34:34.473Z"
   },
   {
    "duration": 60,
    "start_time": "2022-12-16T21:34:34.511Z"
   },
   {
    "duration": 13,
    "start_time": "2022-12-16T21:34:34.575Z"
   },
   {
    "duration": 23,
    "start_time": "2022-12-16T21:34:34.590Z"
   },
   {
    "duration": 5,
    "start_time": "2022-12-16T21:34:34.615Z"
   },
   {
    "duration": 146,
    "start_time": "2022-12-16T21:34:34.621Z"
   },
   {
    "duration": 32,
    "start_time": "2022-12-16T21:34:34.769Z"
   },
   {
    "duration": 40,
    "start_time": "2022-12-16T21:34:34.802Z"
   },
   {
    "duration": 7,
    "start_time": "2022-12-16T21:34:34.845Z"
   },
   {
    "duration": 28,
    "start_time": "2022-12-16T21:34:34.853Z"
   },
   {
    "duration": 0,
    "start_time": "2022-12-16T21:34:34.884Z"
   },
   {
    "duration": 0,
    "start_time": "2022-12-16T21:34:34.885Z"
   },
   {
    "duration": 0,
    "start_time": "2022-12-16T21:34:34.886Z"
   },
   {
    "duration": 0,
    "start_time": "2022-12-16T21:34:34.887Z"
   },
   {
    "duration": 0,
    "start_time": "2022-12-16T21:34:34.888Z"
   },
   {
    "duration": 0,
    "start_time": "2022-12-16T21:34:34.889Z"
   },
   {
    "duration": 0,
    "start_time": "2022-12-16T21:34:34.891Z"
   },
   {
    "duration": 0,
    "start_time": "2022-12-16T21:34:34.891Z"
   },
   {
    "duration": 0,
    "start_time": "2022-12-16T21:34:34.892Z"
   },
   {
    "duration": 0,
    "start_time": "2022-12-16T21:34:34.894Z"
   },
   {
    "duration": 0,
    "start_time": "2022-12-16T21:34:34.925Z"
   },
   {
    "duration": 0,
    "start_time": "2022-12-16T21:34:34.925Z"
   },
   {
    "duration": 0,
    "start_time": "2022-12-16T21:34:34.926Z"
   },
   {
    "duration": 0,
    "start_time": "2022-12-16T21:34:34.927Z"
   },
   {
    "duration": 0,
    "start_time": "2022-12-16T21:34:34.928Z"
   },
   {
    "duration": 0,
    "start_time": "2022-12-16T21:34:34.928Z"
   },
   {
    "duration": 0,
    "start_time": "2022-12-16T21:34:34.929Z"
   },
   {
    "duration": 0,
    "start_time": "2022-12-16T21:34:34.930Z"
   },
   {
    "duration": 0,
    "start_time": "2022-12-16T21:34:34.931Z"
   },
   {
    "duration": 0,
    "start_time": "2022-12-16T21:34:34.931Z"
   },
   {
    "duration": 0,
    "start_time": "2022-12-16T21:34:34.932Z"
   },
   {
    "duration": 0,
    "start_time": "2022-12-16T21:34:34.933Z"
   },
   {
    "duration": 0,
    "start_time": "2022-12-16T21:34:34.936Z"
   },
   {
    "duration": 0,
    "start_time": "2022-12-16T21:34:34.937Z"
   },
   {
    "duration": 0,
    "start_time": "2022-12-16T21:34:34.940Z"
   },
   {
    "duration": 0,
    "start_time": "2022-12-16T21:34:34.940Z"
   },
   {
    "duration": 0,
    "start_time": "2022-12-16T21:34:34.941Z"
   },
   {
    "duration": 0,
    "start_time": "2022-12-16T21:34:34.942Z"
   },
   {
    "duration": 0,
    "start_time": "2022-12-16T21:34:34.947Z"
   },
   {
    "duration": 0,
    "start_time": "2022-12-16T21:34:34.948Z"
   },
   {
    "duration": 0,
    "start_time": "2022-12-16T21:34:34.949Z"
   },
   {
    "duration": 0,
    "start_time": "2022-12-16T21:34:34.949Z"
   },
   {
    "duration": 3762,
    "start_time": "2022-12-16T21:34:52.891Z"
   },
   {
    "duration": 65,
    "start_time": "2022-12-16T21:34:56.655Z"
   },
   {
    "duration": 28,
    "start_time": "2022-12-16T21:34:56.727Z"
   },
   {
    "duration": 6,
    "start_time": "2022-12-16T21:34:56.757Z"
   },
   {
    "duration": 10,
    "start_time": "2022-12-16T21:34:56.765Z"
   },
   {
    "duration": 9,
    "start_time": "2022-12-16T21:34:56.777Z"
   },
   {
    "duration": 12,
    "start_time": "2022-12-16T21:34:56.787Z"
   },
   {
    "duration": 199,
    "start_time": "2022-12-16T21:34:56.801Z"
   },
   {
    "duration": 1265,
    "start_time": "2022-12-16T21:34:57.002Z"
   },
   {
    "duration": 4,
    "start_time": "2022-12-16T21:34:58.270Z"
   },
   {
    "duration": 7,
    "start_time": "2022-12-16T21:34:58.276Z"
   },
   {
    "duration": 11,
    "start_time": "2022-12-16T21:34:58.285Z"
   },
   {
    "duration": 849,
    "start_time": "2022-12-16T21:34:58.298Z"
   },
   {
    "duration": 4,
    "start_time": "2022-12-16T21:34:59.150Z"
   },
   {
    "duration": 11,
    "start_time": "2022-12-16T21:34:59.159Z"
   },
   {
    "duration": 20,
    "start_time": "2022-12-16T21:34:59.172Z"
   },
   {
    "duration": 7,
    "start_time": "2022-12-16T21:34:59.193Z"
   },
   {
    "duration": 4,
    "start_time": "2022-12-16T21:34:59.202Z"
   },
   {
    "duration": 30,
    "start_time": "2022-12-16T21:34:59.207Z"
   },
   {
    "duration": 21,
    "start_time": "2022-12-16T21:34:59.240Z"
   },
   {
    "duration": 68,
    "start_time": "2022-12-16T21:34:59.262Z"
   },
   {
    "duration": 25,
    "start_time": "2022-12-16T21:34:59.343Z"
   },
   {
    "duration": 18,
    "start_time": "2022-12-16T21:34:59.370Z"
   },
   {
    "duration": 5,
    "start_time": "2022-12-16T21:34:59.390Z"
   },
   {
    "duration": 141,
    "start_time": "2022-12-16T21:34:59.396Z"
   },
   {
    "duration": 0,
    "start_time": "2022-12-16T21:34:59.540Z"
   },
   {
    "duration": 0,
    "start_time": "2022-12-16T21:34:59.541Z"
   },
   {
    "duration": 0,
    "start_time": "2022-12-16T21:34:59.543Z"
   },
   {
    "duration": 0,
    "start_time": "2022-12-16T21:34:59.544Z"
   },
   {
    "duration": 0,
    "start_time": "2022-12-16T21:34:59.545Z"
   },
   {
    "duration": 0,
    "start_time": "2022-12-16T21:34:59.546Z"
   },
   {
    "duration": 0,
    "start_time": "2022-12-16T21:34:59.547Z"
   },
   {
    "duration": 0,
    "start_time": "2022-12-16T21:34:59.548Z"
   },
   {
    "duration": 0,
    "start_time": "2022-12-16T21:34:59.550Z"
   },
   {
    "duration": 0,
    "start_time": "2022-12-16T21:34:59.552Z"
   },
   {
    "duration": 0,
    "start_time": "2022-12-16T21:34:59.553Z"
   },
   {
    "duration": 0,
    "start_time": "2022-12-16T21:34:59.554Z"
   },
   {
    "duration": 0,
    "start_time": "2022-12-16T21:34:59.555Z"
   },
   {
    "duration": 0,
    "start_time": "2022-12-16T21:34:59.556Z"
   },
   {
    "duration": 0,
    "start_time": "2022-12-16T21:34:59.557Z"
   },
   {
    "duration": 0,
    "start_time": "2022-12-16T21:34:59.558Z"
   },
   {
    "duration": 0,
    "start_time": "2022-12-16T21:34:59.559Z"
   },
   {
    "duration": 0,
    "start_time": "2022-12-16T21:34:59.560Z"
   },
   {
    "duration": 0,
    "start_time": "2022-12-16T21:34:59.561Z"
   },
   {
    "duration": 0,
    "start_time": "2022-12-16T21:34:59.562Z"
   },
   {
    "duration": 0,
    "start_time": "2022-12-16T21:34:59.563Z"
   },
   {
    "duration": 0,
    "start_time": "2022-12-16T21:34:59.564Z"
   },
   {
    "duration": 0,
    "start_time": "2022-12-16T21:34:59.565Z"
   },
   {
    "duration": 0,
    "start_time": "2022-12-16T21:34:59.566Z"
   },
   {
    "duration": 0,
    "start_time": "2022-12-16T21:34:59.567Z"
   },
   {
    "duration": 0,
    "start_time": "2022-12-16T21:34:59.568Z"
   },
   {
    "duration": 0,
    "start_time": "2022-12-16T21:34:59.569Z"
   },
   {
    "duration": 0,
    "start_time": "2022-12-16T21:34:59.571Z"
   },
   {
    "duration": 0,
    "start_time": "2022-12-16T21:34:59.572Z"
   },
   {
    "duration": 0,
    "start_time": "2022-12-16T21:34:59.573Z"
   },
   {
    "duration": 0,
    "start_time": "2022-12-16T21:34:59.574Z"
   },
   {
    "duration": 0,
    "start_time": "2022-12-16T21:34:59.575Z"
   },
   {
    "duration": 0,
    "start_time": "2022-12-16T21:34:59.576Z"
   },
   {
    "duration": 0,
    "start_time": "2022-12-16T21:34:59.577Z"
   },
   {
    "duration": 19,
    "start_time": "2022-12-16T21:35:28.369Z"
   },
   {
    "duration": 17,
    "start_time": "2022-12-16T21:37:07.100Z"
   },
   {
    "duration": 2378,
    "start_time": "2022-12-16T21:37:19.790Z"
   },
   {
    "duration": 76,
    "start_time": "2022-12-16T21:37:22.171Z"
   },
   {
    "duration": 18,
    "start_time": "2022-12-16T21:37:22.250Z"
   },
   {
    "duration": 9,
    "start_time": "2022-12-16T21:37:22.270Z"
   },
   {
    "duration": 9,
    "start_time": "2022-12-16T21:37:22.281Z"
   },
   {
    "duration": 8,
    "start_time": "2022-12-16T21:37:22.292Z"
   },
   {
    "duration": 9,
    "start_time": "2022-12-16T21:37:22.329Z"
   },
   {
    "duration": 225,
    "start_time": "2022-12-16T21:37:22.341Z"
   },
   {
    "duration": 1145,
    "start_time": "2022-12-16T21:37:22.569Z"
   },
   {
    "duration": 18,
    "start_time": "2022-12-16T21:37:23.716Z"
   },
   {
    "duration": 22,
    "start_time": "2022-12-16T21:37:23.739Z"
   },
   {
    "duration": 9,
    "start_time": "2022-12-16T21:37:23.763Z"
   },
   {
    "duration": 906,
    "start_time": "2022-12-16T21:37:23.773Z"
   },
   {
    "duration": 2,
    "start_time": "2022-12-16T21:37:24.681Z"
   },
   {
    "duration": 7,
    "start_time": "2022-12-16T21:37:24.685Z"
   },
   {
    "duration": 30,
    "start_time": "2022-12-16T21:37:24.693Z"
   },
   {
    "duration": 7,
    "start_time": "2022-12-16T21:37:24.724Z"
   },
   {
    "duration": 13,
    "start_time": "2022-12-16T21:37:24.735Z"
   },
   {
    "duration": 5,
    "start_time": "2022-12-16T21:37:37.990Z"
   },
   {
    "duration": 18,
    "start_time": "2022-12-16T21:37:40.860Z"
   },
   {
    "duration": 20,
    "start_time": "2022-12-16T21:37:48.748Z"
   },
   {
    "duration": 4,
    "start_time": "2022-12-16T21:38:21.064Z"
   },
   {
    "duration": 19,
    "start_time": "2022-12-16T21:38:24.198Z"
   },
   {
    "duration": 5,
    "start_time": "2022-12-16T21:38:25.695Z"
   },
   {
    "duration": 26,
    "start_time": "2022-12-16T21:38:38.957Z"
   },
   {
    "duration": 70,
    "start_time": "2022-12-16T21:39:23.605Z"
   },
   {
    "duration": 35,
    "start_time": "2022-12-16T21:39:25.139Z"
   },
   {
    "duration": 2203,
    "start_time": "2022-12-16T21:40:32.524Z"
   },
   {
    "duration": 75,
    "start_time": "2022-12-16T21:40:34.735Z"
   },
   {
    "duration": 16,
    "start_time": "2022-12-16T21:40:34.811Z"
   },
   {
    "duration": 22,
    "start_time": "2022-12-16T21:40:34.835Z"
   },
   {
    "duration": 11,
    "start_time": "2022-12-16T21:40:34.859Z"
   },
   {
    "duration": 7,
    "start_time": "2022-12-16T21:40:34.872Z"
   },
   {
    "duration": 7,
    "start_time": "2022-12-16T21:40:34.880Z"
   },
   {
    "duration": 201,
    "start_time": "2022-12-16T21:40:34.889Z"
   },
   {
    "duration": 1296,
    "start_time": "2022-12-16T21:40:35.091Z"
   },
   {
    "duration": 4,
    "start_time": "2022-12-16T21:40:36.390Z"
   },
   {
    "duration": 8,
    "start_time": "2022-12-16T21:40:36.395Z"
   },
   {
    "duration": 36,
    "start_time": "2022-12-16T21:40:36.404Z"
   },
   {
    "duration": 932,
    "start_time": "2022-12-16T21:40:36.444Z"
   },
   {
    "duration": 3,
    "start_time": "2022-12-16T21:40:37.378Z"
   },
   {
    "duration": 8,
    "start_time": "2022-12-16T21:40:37.383Z"
   },
   {
    "duration": 53,
    "start_time": "2022-12-16T21:40:37.393Z"
   },
   {
    "duration": 16,
    "start_time": "2022-12-16T21:40:37.450Z"
   },
   {
    "duration": 21,
    "start_time": "2022-12-16T21:40:37.468Z"
   },
   {
    "duration": 5,
    "start_time": "2022-12-16T21:40:43.314Z"
   },
   {
    "duration": 17,
    "start_time": "2022-12-16T21:40:43.861Z"
   },
   {
    "duration": 67,
    "start_time": "2022-12-16T21:42:11.111Z"
   },
   {
    "duration": 7,
    "start_time": "2022-12-16T21:43:26.917Z"
   },
   {
    "duration": 6,
    "start_time": "2022-12-16T21:43:32.305Z"
   },
   {
    "duration": 19,
    "start_time": "2022-12-16T21:43:36.581Z"
   },
   {
    "duration": 1948,
    "start_time": "2022-12-16T21:51:17.923Z"
   },
   {
    "duration": 72,
    "start_time": "2022-12-16T21:51:19.874Z"
   },
   {
    "duration": 11,
    "start_time": "2022-12-16T21:51:19.948Z"
   },
   {
    "duration": 8,
    "start_time": "2022-12-16T21:51:19.960Z"
   },
   {
    "duration": 8,
    "start_time": "2022-12-16T21:51:19.970Z"
   },
   {
    "duration": 8,
    "start_time": "2022-12-16T21:51:19.980Z"
   },
   {
    "duration": 11,
    "start_time": "2022-12-16T21:51:19.989Z"
   },
   {
    "duration": 197,
    "start_time": "2022-12-16T21:51:20.001Z"
   },
   {
    "duration": 1149,
    "start_time": "2022-12-16T21:51:20.200Z"
   },
   {
    "duration": 4,
    "start_time": "2022-12-16T21:51:21.351Z"
   },
   {
    "duration": 7,
    "start_time": "2022-12-16T21:51:21.357Z"
   },
   {
    "duration": 9,
    "start_time": "2022-12-16T21:51:21.366Z"
   },
   {
    "duration": 830,
    "start_time": "2022-12-16T21:51:21.376Z"
   },
   {
    "duration": 3,
    "start_time": "2022-12-16T21:51:22.209Z"
   },
   {
    "duration": 12,
    "start_time": "2022-12-16T21:51:22.213Z"
   },
   {
    "duration": 27,
    "start_time": "2022-12-16T21:51:22.235Z"
   },
   {
    "duration": 5,
    "start_time": "2022-12-16T21:51:22.264Z"
   },
   {
    "duration": 17,
    "start_time": "2022-12-16T21:51:22.270Z"
   },
   {
    "duration": 3,
    "start_time": "2022-12-16T21:51:22.289Z"
   },
   {
    "duration": 19,
    "start_time": "2022-12-16T21:51:52.032Z"
   },
   {
    "duration": 18,
    "start_time": "2022-12-16T21:52:08.732Z"
   },
   {
    "duration": 48,
    "start_time": "2022-12-16T21:52:12.952Z"
   },
   {
    "duration": 17,
    "start_time": "2022-12-16T21:52:16.167Z"
   },
   {
    "duration": 1961,
    "start_time": "2022-12-16T21:52:31.132Z"
   },
   {
    "duration": 67,
    "start_time": "2022-12-16T21:52:33.096Z"
   },
   {
    "duration": 10,
    "start_time": "2022-12-16T21:52:33.165Z"
   },
   {
    "duration": 7,
    "start_time": "2022-12-16T21:52:33.177Z"
   },
   {
    "duration": 8,
    "start_time": "2022-12-16T21:52:33.187Z"
   },
   {
    "duration": 35,
    "start_time": "2022-12-16T21:52:33.197Z"
   },
   {
    "duration": 19,
    "start_time": "2022-12-16T21:52:33.234Z"
   },
   {
    "duration": 286,
    "start_time": "2022-12-16T21:52:33.255Z"
   },
   {
    "duration": 1064,
    "start_time": "2022-12-16T21:52:33.543Z"
   },
   {
    "duration": 4,
    "start_time": "2022-12-16T21:52:34.609Z"
   },
   {
    "duration": 8,
    "start_time": "2022-12-16T21:52:34.631Z"
   },
   {
    "duration": 8,
    "start_time": "2022-12-16T21:52:34.641Z"
   },
   {
    "duration": 788,
    "start_time": "2022-12-16T21:52:34.651Z"
   },
   {
    "duration": 3,
    "start_time": "2022-12-16T21:52:35.441Z"
   },
   {
    "duration": 8,
    "start_time": "2022-12-16T21:52:35.445Z"
   },
   {
    "duration": 20,
    "start_time": "2022-12-16T21:52:35.454Z"
   },
   {
    "duration": 9,
    "start_time": "2022-12-16T21:52:35.475Z"
   },
   {
    "duration": 12,
    "start_time": "2022-12-16T21:52:35.485Z"
   },
   {
    "duration": 7,
    "start_time": "2022-12-16T21:52:35.526Z"
   },
   {
    "duration": 20,
    "start_time": "2022-12-16T21:52:49.835Z"
   },
   {
    "duration": 17,
    "start_time": "2022-12-16T21:52:52.492Z"
   },
   {
    "duration": 42,
    "start_time": "2022-12-16T21:53:17.308Z"
   },
   {
    "duration": 18,
    "start_time": "2022-12-16T21:53:18.875Z"
   },
   {
    "duration": 1927,
    "start_time": "2022-12-16T21:54:05.493Z"
   },
   {
    "duration": 69,
    "start_time": "2022-12-16T21:54:07.423Z"
   },
   {
    "duration": 10,
    "start_time": "2022-12-16T21:54:07.493Z"
   },
   {
    "duration": 8,
    "start_time": "2022-12-16T21:54:07.504Z"
   },
   {
    "duration": 16,
    "start_time": "2022-12-16T21:54:07.515Z"
   },
   {
    "duration": 6,
    "start_time": "2022-12-16T21:54:07.536Z"
   },
   {
    "duration": 11,
    "start_time": "2022-12-16T21:54:07.544Z"
   },
   {
    "duration": 173,
    "start_time": "2022-12-16T21:54:07.557Z"
   },
   {
    "duration": 1001,
    "start_time": "2022-12-16T21:54:07.735Z"
   },
   {
    "duration": 5,
    "start_time": "2022-12-16T21:54:08.737Z"
   },
   {
    "duration": 18,
    "start_time": "2022-12-16T21:54:08.743Z"
   },
   {
    "duration": 14,
    "start_time": "2022-12-16T21:54:08.762Z"
   },
   {
    "duration": 905,
    "start_time": "2022-12-16T21:54:08.778Z"
   },
   {
    "duration": 2,
    "start_time": "2022-12-16T21:54:09.686Z"
   },
   {
    "duration": 8,
    "start_time": "2022-12-16T21:54:09.690Z"
   },
   {
    "duration": 37,
    "start_time": "2022-12-16T21:54:09.699Z"
   },
   {
    "duration": 6,
    "start_time": "2022-12-16T21:54:09.738Z"
   },
   {
    "duration": 12,
    "start_time": "2022-12-16T21:54:09.746Z"
   },
   {
    "duration": 3,
    "start_time": "2022-12-16T21:54:09.760Z"
   },
   {
    "duration": 17,
    "start_time": "2022-12-16T21:54:09.765Z"
   },
   {
    "duration": 34,
    "start_time": "2022-12-16T21:54:32.312Z"
   },
   {
    "duration": 14,
    "start_time": "2022-12-16T21:54:36.364Z"
   },
   {
    "duration": 10,
    "start_time": "2022-12-16T21:54:48.841Z"
   },
   {
    "duration": 18,
    "start_time": "2022-12-16T21:54:50.594Z"
   },
   {
    "duration": 1871,
    "start_time": "2022-12-16T21:57:50.671Z"
   },
   {
    "duration": 63,
    "start_time": "2022-12-16T21:57:52.544Z"
   },
   {
    "duration": 10,
    "start_time": "2022-12-16T21:57:52.608Z"
   },
   {
    "duration": 18,
    "start_time": "2022-12-16T21:57:52.620Z"
   },
   {
    "duration": 11,
    "start_time": "2022-12-16T21:57:52.640Z"
   },
   {
    "duration": 6,
    "start_time": "2022-12-16T21:57:52.653Z"
   },
   {
    "duration": 9,
    "start_time": "2022-12-16T21:57:52.660Z"
   },
   {
    "duration": 181,
    "start_time": "2022-12-16T21:57:52.670Z"
   },
   {
    "duration": 1004,
    "start_time": "2022-12-16T21:57:52.853Z"
   },
   {
    "duration": 4,
    "start_time": "2022-12-16T21:57:53.859Z"
   },
   {
    "duration": 7,
    "start_time": "2022-12-16T21:57:53.865Z"
   },
   {
    "duration": 9,
    "start_time": "2022-12-16T21:57:53.874Z"
   },
   {
    "duration": 854,
    "start_time": "2022-12-16T21:57:53.884Z"
   },
   {
    "duration": 3,
    "start_time": "2022-12-16T21:57:54.739Z"
   },
   {
    "duration": 6,
    "start_time": "2022-12-16T21:57:54.744Z"
   },
   {
    "duration": 20,
    "start_time": "2022-12-16T21:57:54.752Z"
   },
   {
    "duration": 5,
    "start_time": "2022-12-16T21:57:54.774Z"
   },
   {
    "duration": 13,
    "start_time": "2022-12-16T21:58:06.508Z"
   },
   {
    "duration": 4,
    "start_time": "2022-12-16T21:58:07.234Z"
   },
   {
    "duration": 4,
    "start_time": "2022-12-16T21:58:22.906Z"
   },
   {
    "duration": 27,
    "start_time": "2022-12-16T21:58:25.008Z"
   },
   {
    "duration": 18,
    "start_time": "2022-12-16T21:58:39.074Z"
   },
   {
    "duration": 28,
    "start_time": "2022-12-16T21:58:44.106Z"
   },
   {
    "duration": 21,
    "start_time": "2022-12-16T21:58:48.324Z"
   },
   {
    "duration": 29,
    "start_time": "2022-12-16T21:58:55.932Z"
   },
   {
    "duration": 14,
    "start_time": "2022-12-16T21:59:06.342Z"
   },
   {
    "duration": 10,
    "start_time": "2022-12-16T21:59:15.492Z"
   },
   {
    "duration": 24,
    "start_time": "2022-12-16T21:59:16.416Z"
   },
   {
    "duration": 26,
    "start_time": "2022-12-16T21:59:18.513Z"
   },
   {
    "duration": 1965,
    "start_time": "2022-12-16T22:01:32.230Z"
   },
   {
    "duration": 77,
    "start_time": "2022-12-16T22:01:34.198Z"
   },
   {
    "duration": 11,
    "start_time": "2022-12-16T22:01:34.277Z"
   },
   {
    "duration": 7,
    "start_time": "2022-12-16T22:01:34.290Z"
   },
   {
    "duration": 8,
    "start_time": "2022-12-16T22:01:34.300Z"
   },
   {
    "duration": 26,
    "start_time": "2022-12-16T22:01:34.310Z"
   },
   {
    "duration": 10,
    "start_time": "2022-12-16T22:01:34.338Z"
   },
   {
    "duration": 187,
    "start_time": "2022-12-16T22:01:34.350Z"
   },
   {
    "duration": 1064,
    "start_time": "2022-12-16T22:01:34.539Z"
   },
   {
    "duration": 4,
    "start_time": "2022-12-16T22:01:35.604Z"
   },
   {
    "duration": 15,
    "start_time": "2022-12-16T22:01:35.609Z"
   },
   {
    "duration": 19,
    "start_time": "2022-12-16T22:01:35.627Z"
   },
   {
    "duration": 897,
    "start_time": "2022-12-16T22:01:35.648Z"
   },
   {
    "duration": 3,
    "start_time": "2022-12-16T22:01:36.548Z"
   },
   {
    "duration": 7,
    "start_time": "2022-12-16T22:01:36.553Z"
   },
   {
    "duration": 20,
    "start_time": "2022-12-16T22:01:36.562Z"
   },
   {
    "duration": 5,
    "start_time": "2022-12-16T22:01:36.585Z"
   },
   {
    "duration": 45,
    "start_time": "2022-12-16T22:01:36.591Z"
   },
   {
    "duration": 4,
    "start_time": "2022-12-16T22:01:36.638Z"
   },
   {
    "duration": 20,
    "start_time": "2022-12-16T22:01:36.643Z"
   },
   {
    "duration": 35,
    "start_time": "2022-12-16T22:01:44.095Z"
   },
   {
    "duration": 14,
    "start_time": "2022-12-16T22:01:44.536Z"
   },
   {
    "duration": 20,
    "start_time": "2022-12-16T22:01:55.077Z"
   },
   {
    "duration": 16,
    "start_time": "2022-12-16T22:02:26.761Z"
   },
   {
    "duration": 18,
    "start_time": "2022-12-16T22:02:34.772Z"
   },
   {
    "duration": 8,
    "start_time": "2022-12-16T22:02:51.841Z"
   },
   {
    "duration": 31,
    "start_time": "2022-12-16T22:02:57.892Z"
   },
   {
    "duration": 1853,
    "start_time": "2022-12-16T22:05:51.797Z"
   },
   {
    "duration": 64,
    "start_time": "2022-12-16T22:05:53.653Z"
   },
   {
    "duration": 10,
    "start_time": "2022-12-16T22:05:53.719Z"
   },
   {
    "duration": 7,
    "start_time": "2022-12-16T22:05:53.731Z"
   },
   {
    "duration": 8,
    "start_time": "2022-12-16T22:05:53.739Z"
   },
   {
    "duration": 8,
    "start_time": "2022-12-16T22:05:53.749Z"
   },
   {
    "duration": 11,
    "start_time": "2022-12-16T22:05:53.758Z"
   },
   {
    "duration": 184,
    "start_time": "2022-12-16T22:05:53.771Z"
   },
   {
    "duration": 1018,
    "start_time": "2022-12-16T22:05:53.957Z"
   },
   {
    "duration": 5,
    "start_time": "2022-12-16T22:05:54.976Z"
   },
   {
    "duration": 26,
    "start_time": "2022-12-16T22:05:54.982Z"
   },
   {
    "duration": 13,
    "start_time": "2022-12-16T22:05:55.009Z"
   },
   {
    "duration": 755,
    "start_time": "2022-12-16T22:05:55.023Z"
   },
   {
    "duration": 3,
    "start_time": "2022-12-16T22:05:55.780Z"
   },
   {
    "duration": 31,
    "start_time": "2022-12-16T22:05:55.785Z"
   },
   {
    "duration": 36,
    "start_time": "2022-12-16T22:05:55.818Z"
   },
   {
    "duration": 46,
    "start_time": "2022-12-16T22:05:55.856Z"
   },
   {
    "duration": 32,
    "start_time": "2022-12-16T22:05:55.903Z"
   },
   {
    "duration": 8,
    "start_time": "2022-12-16T22:05:55.937Z"
   },
   {
    "duration": 11,
    "start_time": "2022-12-16T22:05:55.947Z"
   },
   {
    "duration": 15,
    "start_time": "2022-12-16T22:06:07.139Z"
   },
   {
    "duration": 39,
    "start_time": "2022-12-16T22:06:33.925Z"
   },
   {
    "duration": 26,
    "start_time": "2022-12-16T22:07:30.246Z"
   },
   {
    "duration": 17,
    "start_time": "2022-12-16T22:08:12.926Z"
   },
   {
    "duration": 16,
    "start_time": "2022-12-16T22:08:15.133Z"
   },
   {
    "duration": 3,
    "start_time": "2022-12-16T22:08:20.938Z"
   },
   {
    "duration": 17,
    "start_time": "2022-12-16T22:08:24.291Z"
   },
   {
    "duration": 23,
    "start_time": "2022-12-16T22:08:41.694Z"
   },
   {
    "duration": 36,
    "start_time": "2022-12-16T22:09:31.361Z"
   },
   {
    "duration": 23,
    "start_time": "2022-12-16T22:09:33.941Z"
   },
   {
    "duration": 19,
    "start_time": "2022-12-16T22:09:58.391Z"
   },
   {
    "duration": 23,
    "start_time": "2022-12-16T22:10:13.941Z"
   },
   {
    "duration": 4,
    "start_time": "2022-12-16T22:10:22.664Z"
   },
   {
    "duration": 19,
    "start_time": "2022-12-16T22:10:24.649Z"
   },
   {
    "duration": 1797,
    "start_time": "2022-12-16T22:13:39.356Z"
   },
   {
    "duration": 61,
    "start_time": "2022-12-16T22:13:41.155Z"
   },
   {
    "duration": 10,
    "start_time": "2022-12-16T22:13:41.217Z"
   },
   {
    "duration": 7,
    "start_time": "2022-12-16T22:13:41.229Z"
   },
   {
    "duration": 13,
    "start_time": "2022-12-16T22:13:41.237Z"
   },
   {
    "duration": 6,
    "start_time": "2022-12-16T22:13:41.251Z"
   },
   {
    "duration": 6,
    "start_time": "2022-12-16T22:13:41.259Z"
   },
   {
    "duration": 189,
    "start_time": "2022-12-16T22:13:41.267Z"
   },
   {
    "duration": 1147,
    "start_time": "2022-12-16T22:13:41.458Z"
   },
   {
    "duration": 3,
    "start_time": "2022-12-16T22:13:42.608Z"
   },
   {
    "duration": 10,
    "start_time": "2022-12-16T22:13:42.613Z"
   },
   {
    "duration": 9,
    "start_time": "2022-12-16T22:13:42.624Z"
   },
   {
    "duration": 747,
    "start_time": "2022-12-16T22:13:42.635Z"
   },
   {
    "duration": 3,
    "start_time": "2022-12-16T22:13:43.383Z"
   },
   {
    "duration": 6,
    "start_time": "2022-12-16T22:13:43.388Z"
   },
   {
    "duration": 33,
    "start_time": "2022-12-16T22:13:43.396Z"
   },
   {
    "duration": 6,
    "start_time": "2022-12-16T22:13:43.431Z"
   },
   {
    "duration": 15,
    "start_time": "2022-12-16T22:13:43.438Z"
   },
   {
    "duration": 4,
    "start_time": "2022-12-16T22:13:43.454Z"
   },
   {
    "duration": 4,
    "start_time": "2022-12-16T22:14:08.869Z"
   },
   {
    "duration": 50,
    "start_time": "2022-12-16T22:14:18.439Z"
   },
   {
    "duration": 19,
    "start_time": "2022-12-16T22:14:19.758Z"
   },
   {
    "duration": 1860,
    "start_time": "2022-12-16T22:14:29.444Z"
   },
   {
    "duration": 63,
    "start_time": "2022-12-16T22:14:31.306Z"
   },
   {
    "duration": 10,
    "start_time": "2022-12-16T22:14:31.371Z"
   },
   {
    "duration": 31,
    "start_time": "2022-12-16T22:14:31.382Z"
   },
   {
    "duration": 32,
    "start_time": "2022-12-16T22:14:31.416Z"
   },
   {
    "duration": 22,
    "start_time": "2022-12-16T22:14:31.449Z"
   },
   {
    "duration": 29,
    "start_time": "2022-12-16T22:14:31.473Z"
   },
   {
    "duration": 194,
    "start_time": "2022-12-16T22:14:31.503Z"
   },
   {
    "duration": 995,
    "start_time": "2022-12-16T22:14:31.699Z"
   },
   {
    "duration": 4,
    "start_time": "2022-12-16T22:14:32.696Z"
   },
   {
    "duration": 7,
    "start_time": "2022-12-16T22:14:32.702Z"
   },
   {
    "duration": 9,
    "start_time": "2022-12-16T22:14:32.721Z"
   },
   {
    "duration": 745,
    "start_time": "2022-12-16T22:14:32.732Z"
   },
   {
    "duration": 3,
    "start_time": "2022-12-16T22:14:33.480Z"
   },
   {
    "duration": 11,
    "start_time": "2022-12-16T22:14:33.484Z"
   },
   {
    "duration": 34,
    "start_time": "2022-12-16T22:14:33.496Z"
   },
   {
    "duration": 5,
    "start_time": "2022-12-16T22:14:33.532Z"
   },
   {
    "duration": 14,
    "start_time": "2022-12-16T22:14:33.539Z"
   },
   {
    "duration": 3,
    "start_time": "2022-12-16T22:14:33.555Z"
   },
   {
    "duration": 5,
    "start_time": "2022-12-16T22:14:33.560Z"
   },
   {
    "duration": 189,
    "start_time": "2022-12-16T22:14:33.566Z"
   },
   {
    "duration": 19,
    "start_time": "2022-12-16T22:14:33.757Z"
   },
   {
    "duration": 22,
    "start_time": "2022-12-16T22:14:33.778Z"
   },
   {
    "duration": 21,
    "start_time": "2022-12-16T22:14:33.802Z"
   },
   {
    "duration": 291,
    "start_time": "2022-12-16T22:14:33.825Z"
   },
   {
    "duration": 42,
    "start_time": "2022-12-16T22:14:34.123Z"
   },
   {
    "duration": 176,
    "start_time": "2022-12-16T22:14:34.167Z"
   },
   {
    "duration": 10413,
    "start_time": "2022-12-16T22:14:34.345Z"
   },
   {
    "duration": 273,
    "start_time": "2022-12-16T22:14:44.760Z"
   },
   {
    "duration": 169,
    "start_time": "2022-12-16T22:14:45.034Z"
   },
   {
    "duration": 227,
    "start_time": "2022-12-16T22:14:45.204Z"
   },
   {
    "duration": 440,
    "start_time": "2022-12-16T22:14:45.432Z"
   },
   {
    "duration": 9,
    "start_time": "2022-12-16T22:14:45.875Z"
   },
   {
    "duration": 137,
    "start_time": "2022-12-16T22:14:45.886Z"
   },
   {
    "duration": 115,
    "start_time": "2022-12-16T22:14:46.025Z"
   },
   {
    "duration": 0,
    "start_time": "2022-12-16T22:14:46.141Z"
   },
   {
    "duration": 0,
    "start_time": "2022-12-16T22:14:46.143Z"
   },
   {
    "duration": 0,
    "start_time": "2022-12-16T22:14:46.143Z"
   },
   {
    "duration": 0,
    "start_time": "2022-12-16T22:14:46.144Z"
   },
   {
    "duration": 0,
    "start_time": "2022-12-16T22:14:46.145Z"
   },
   {
    "duration": 0,
    "start_time": "2022-12-16T22:14:46.146Z"
   },
   {
    "duration": 0,
    "start_time": "2022-12-16T22:14:46.147Z"
   },
   {
    "duration": 0,
    "start_time": "2022-12-16T22:14:46.149Z"
   },
   {
    "duration": 0,
    "start_time": "2022-12-16T22:14:46.150Z"
   },
   {
    "duration": 0,
    "start_time": "2022-12-16T22:14:46.151Z"
   },
   {
    "duration": 0,
    "start_time": "2022-12-16T22:14:46.152Z"
   },
   {
    "duration": 0,
    "start_time": "2022-12-16T22:14:46.153Z"
   },
   {
    "duration": 0,
    "start_time": "2022-12-16T22:14:46.153Z"
   },
   {
    "duration": 0,
    "start_time": "2022-12-16T22:14:46.154Z"
   },
   {
    "duration": 0,
    "start_time": "2022-12-16T22:14:46.155Z"
   },
   {
    "duration": 0,
    "start_time": "2022-12-16T22:14:46.156Z"
   },
   {
    "duration": 0,
    "start_time": "2022-12-16T22:14:46.157Z"
   },
   {
    "duration": 0,
    "start_time": "2022-12-16T22:14:46.158Z"
   },
   {
    "duration": 0,
    "start_time": "2022-12-16T22:14:46.159Z"
   },
   {
    "duration": 0,
    "start_time": "2022-12-16T22:14:46.160Z"
   },
   {
    "duration": 0,
    "start_time": "2022-12-16T22:14:46.161Z"
   },
   {
    "duration": 0,
    "start_time": "2022-12-16T22:14:46.161Z"
   },
   {
    "duration": 0,
    "start_time": "2022-12-16T22:14:46.162Z"
   },
   {
    "duration": 0,
    "start_time": "2022-12-16T22:14:46.164Z"
   },
   {
    "duration": 12,
    "start_time": "2022-12-16T22:17:05.260Z"
   },
   {
    "duration": 1873,
    "start_time": "2022-12-16T22:17:10.627Z"
   },
   {
    "duration": 64,
    "start_time": "2022-12-16T22:17:12.502Z"
   },
   {
    "duration": 10,
    "start_time": "2022-12-16T22:17:12.567Z"
   },
   {
    "duration": 15,
    "start_time": "2022-12-16T22:17:12.579Z"
   },
   {
    "duration": 25,
    "start_time": "2022-12-16T22:17:12.595Z"
   },
   {
    "duration": 6,
    "start_time": "2022-12-16T22:17:12.622Z"
   },
   {
    "duration": 8,
    "start_time": "2022-12-16T22:17:12.629Z"
   },
   {
    "duration": 172,
    "start_time": "2022-12-16T22:17:12.639Z"
   },
   {
    "duration": 982,
    "start_time": "2022-12-16T22:17:12.813Z"
   },
   {
    "duration": 4,
    "start_time": "2022-12-16T22:17:13.798Z"
   },
   {
    "duration": 8,
    "start_time": "2022-12-16T22:17:13.804Z"
   },
   {
    "duration": 18,
    "start_time": "2022-12-16T22:17:13.814Z"
   },
   {
    "duration": 818,
    "start_time": "2022-12-16T22:17:13.833Z"
   },
   {
    "duration": 3,
    "start_time": "2022-12-16T22:17:14.652Z"
   },
   {
    "duration": 32,
    "start_time": "2022-12-16T22:17:14.656Z"
   },
   {
    "duration": 40,
    "start_time": "2022-12-16T22:17:14.689Z"
   },
   {
    "duration": 26,
    "start_time": "2022-12-16T22:17:14.730Z"
   },
   {
    "duration": 22,
    "start_time": "2022-12-16T22:17:14.758Z"
   },
   {
    "duration": 14,
    "start_time": "2022-12-16T22:17:14.782Z"
   },
   {
    "duration": 36,
    "start_time": "2022-12-16T22:17:14.798Z"
   },
   {
    "duration": 80,
    "start_time": "2022-12-16T22:17:14.836Z"
   },
   {
    "duration": 27,
    "start_time": "2022-12-16T22:17:14.918Z"
   },
   {
    "duration": 23,
    "start_time": "2022-12-16T22:17:14.946Z"
   },
   {
    "duration": 6,
    "start_time": "2022-12-16T22:17:14.971Z"
   },
   {
    "duration": 292,
    "start_time": "2022-12-16T22:17:14.978Z"
   },
   {
    "duration": 33,
    "start_time": "2022-12-16T22:17:15.272Z"
   },
   {
    "duration": 162,
    "start_time": "2022-12-16T22:17:15.306Z"
   },
   {
    "duration": 10708,
    "start_time": "2022-12-16T22:17:15.473Z"
   },
   {
    "duration": 262,
    "start_time": "2022-12-16T22:17:26.182Z"
   },
   {
    "duration": 178,
    "start_time": "2022-12-16T22:17:26.445Z"
   },
   {
    "duration": 207,
    "start_time": "2022-12-16T22:17:26.625Z"
   },
   {
    "duration": 322,
    "start_time": "2022-12-16T22:17:26.923Z"
   },
   {
    "duration": 8,
    "start_time": "2022-12-16T22:17:27.246Z"
   },
   {
    "duration": 172,
    "start_time": "2022-12-16T22:17:27.256Z"
   },
   {
    "duration": 105,
    "start_time": "2022-12-16T22:17:27.430Z"
   },
   {
    "duration": 0,
    "start_time": "2022-12-16T22:17:27.537Z"
   },
   {
    "duration": 0,
    "start_time": "2022-12-16T22:17:27.538Z"
   },
   {
    "duration": 0,
    "start_time": "2022-12-16T22:17:27.540Z"
   },
   {
    "duration": 0,
    "start_time": "2022-12-16T22:17:27.541Z"
   },
   {
    "duration": 0,
    "start_time": "2022-12-16T22:17:27.542Z"
   },
   {
    "duration": 0,
    "start_time": "2022-12-16T22:17:27.545Z"
   },
   {
    "duration": 0,
    "start_time": "2022-12-16T22:17:27.546Z"
   },
   {
    "duration": 0,
    "start_time": "2022-12-16T22:17:27.622Z"
   },
   {
    "duration": 0,
    "start_time": "2022-12-16T22:17:27.623Z"
   },
   {
    "duration": 0,
    "start_time": "2022-12-16T22:17:27.625Z"
   },
   {
    "duration": 0,
    "start_time": "2022-12-16T22:17:27.626Z"
   },
   {
    "duration": 0,
    "start_time": "2022-12-16T22:17:27.627Z"
   },
   {
    "duration": 0,
    "start_time": "2022-12-16T22:17:27.628Z"
   },
   {
    "duration": 0,
    "start_time": "2022-12-16T22:17:27.629Z"
   },
   {
    "duration": 0,
    "start_time": "2022-12-16T22:17:27.630Z"
   },
   {
    "duration": 0,
    "start_time": "2022-12-16T22:17:27.631Z"
   },
   {
    "duration": 0,
    "start_time": "2022-12-16T22:17:27.632Z"
   },
   {
    "duration": 0,
    "start_time": "2022-12-16T22:17:27.633Z"
   },
   {
    "duration": 0,
    "start_time": "2022-12-16T22:17:27.634Z"
   },
   {
    "duration": 0,
    "start_time": "2022-12-16T22:17:27.635Z"
   },
   {
    "duration": 0,
    "start_time": "2022-12-16T22:17:27.636Z"
   },
   {
    "duration": 0,
    "start_time": "2022-12-16T22:17:27.637Z"
   },
   {
    "duration": 4,
    "start_time": "2022-12-16T22:20:40.712Z"
   },
   {
    "duration": 5,
    "start_time": "2022-12-16T22:20:44.282Z"
   },
   {
    "duration": 17,
    "start_time": "2022-12-16T22:20:50.638Z"
   },
   {
    "duration": 1846,
    "start_time": "2022-12-16T22:20:59.497Z"
   },
   {
    "duration": 63,
    "start_time": "2022-12-16T22:21:01.346Z"
   },
   {
    "duration": 10,
    "start_time": "2022-12-16T22:21:01.411Z"
   },
   {
    "duration": 17,
    "start_time": "2022-12-16T22:21:01.422Z"
   },
   {
    "duration": 28,
    "start_time": "2022-12-16T22:21:01.441Z"
   },
   {
    "duration": 35,
    "start_time": "2022-12-16T22:21:01.471Z"
   },
   {
    "duration": 40,
    "start_time": "2022-12-16T22:21:01.507Z"
   },
   {
    "duration": 200,
    "start_time": "2022-12-16T22:21:01.549Z"
   },
   {
    "duration": 995,
    "start_time": "2022-12-16T22:21:01.750Z"
   },
   {
    "duration": 5,
    "start_time": "2022-12-16T22:21:02.746Z"
   },
   {
    "duration": 9,
    "start_time": "2022-12-16T22:21:02.752Z"
   },
   {
    "duration": 11,
    "start_time": "2022-12-16T22:21:02.762Z"
   },
   {
    "duration": 779,
    "start_time": "2022-12-16T22:21:02.775Z"
   },
   {
    "duration": 3,
    "start_time": "2022-12-16T22:21:03.556Z"
   },
   {
    "duration": 12,
    "start_time": "2022-12-16T22:21:03.560Z"
   },
   {
    "duration": 39,
    "start_time": "2022-12-16T22:21:03.574Z"
   },
   {
    "duration": 45,
    "start_time": "2022-12-16T22:21:03.614Z"
   },
   {
    "duration": 34,
    "start_time": "2022-12-16T22:21:03.661Z"
   },
   {
    "duration": 40,
    "start_time": "2022-12-16T22:21:03.697Z"
   },
   {
    "duration": 4,
    "start_time": "2022-12-16T22:21:03.739Z"
   },
   {
    "duration": 52,
    "start_time": "2022-12-16T22:21:03.745Z"
   },
   {
    "duration": 4,
    "start_time": "2022-12-16T22:21:03.799Z"
   },
   {
    "duration": 22,
    "start_time": "2022-12-16T22:21:03.804Z"
   },
   {
    "duration": 6,
    "start_time": "2022-12-16T22:21:03.827Z"
   },
   {
    "duration": 300,
    "start_time": "2022-12-16T22:21:03.834Z"
   },
   {
    "duration": 49,
    "start_time": "2022-12-16T22:21:04.135Z"
   },
   {
    "duration": 194,
    "start_time": "2022-12-16T22:21:04.187Z"
   },
   {
    "duration": 10497,
    "start_time": "2022-12-16T22:21:04.382Z"
   },
   {
    "duration": 267,
    "start_time": "2022-12-16T22:21:14.880Z"
   },
   {
    "duration": 167,
    "start_time": "2022-12-16T22:21:15.149Z"
   },
   {
    "duration": 309,
    "start_time": "2022-12-16T22:21:15.321Z"
   },
   {
    "duration": 524,
    "start_time": "2022-12-16T22:21:15.632Z"
   },
   {
    "duration": 9,
    "start_time": "2022-12-16T22:21:16.157Z"
   },
   {
    "duration": 155,
    "start_time": "2022-12-16T22:21:16.168Z"
   },
   {
    "duration": 97,
    "start_time": "2022-12-16T22:21:16.325Z"
   },
   {
    "duration": 329,
    "start_time": "2022-12-16T22:21:16.424Z"
   },
   {
    "duration": 41,
    "start_time": "2022-12-16T22:21:16.755Z"
   },
   {
    "duration": 13848,
    "start_time": "2022-12-16T22:21:16.798Z"
   },
   {
    "duration": 519,
    "start_time": "2022-12-16T22:21:30.648Z"
   },
   {
    "duration": 254,
    "start_time": "2022-12-16T22:21:31.168Z"
   },
   {
    "duration": 96,
    "start_time": "2022-12-16T22:21:31.427Z"
   },
   {
    "duration": 12,
    "start_time": "2022-12-16T22:21:31.525Z"
   },
   {
    "duration": 165,
    "start_time": "2022-12-16T22:21:31.539Z"
   },
   {
    "duration": 34,
    "start_time": "2022-12-16T22:21:31.706Z"
   },
   {
    "duration": 6611,
    "start_time": "2022-12-16T22:21:31.742Z"
   },
   {
    "duration": 188,
    "start_time": "2022-12-16T22:21:38.355Z"
   },
   {
    "duration": 384,
    "start_time": "2022-12-16T22:21:38.544Z"
   },
   {
    "duration": 94,
    "start_time": "2022-12-16T22:21:38.933Z"
   },
   {
    "duration": 193,
    "start_time": "2022-12-16T22:21:39.029Z"
   },
   {
    "duration": 11,
    "start_time": "2022-12-16T22:21:39.223Z"
   },
   {
    "duration": 0,
    "start_time": "2022-12-16T22:21:39.235Z"
   },
   {
    "duration": 0,
    "start_time": "2022-12-16T22:21:39.237Z"
   },
   {
    "duration": 0,
    "start_time": "2022-12-16T22:21:39.238Z"
   },
   {
    "duration": 0,
    "start_time": "2022-12-16T22:21:39.239Z"
   },
   {
    "duration": 0,
    "start_time": "2022-12-16T22:21:39.241Z"
   },
   {
    "duration": 0,
    "start_time": "2022-12-16T22:21:39.242Z"
   },
   {
    "duration": 0,
    "start_time": "2022-12-16T22:21:39.243Z"
   },
   {
    "duration": 0,
    "start_time": "2022-12-16T22:21:39.249Z"
   },
   {
    "duration": 0,
    "start_time": "2022-12-16T22:21:39.251Z"
   },
   {
    "duration": 273,
    "start_time": "2022-12-16T22:21:44.622Z"
   },
   {
    "duration": 181,
    "start_time": "2022-12-16T22:21:46.116Z"
   },
   {
    "duration": 14,
    "start_time": "2022-12-16T22:21:57.674Z"
   },
   {
    "duration": 14,
    "start_time": "2022-12-16T22:22:00.354Z"
   },
   {
    "duration": 656,
    "start_time": "2022-12-16T22:22:02.425Z"
   },
   {
    "duration": 174,
    "start_time": "2022-12-16T22:22:06.378Z"
   }
  ],
  "kernelspec": {
   "display_name": "Python 3 (ipykernel)",
   "language": "python",
   "name": "python3"
  },
  "language_info": {
   "codemirror_mode": {
    "name": "ipython",
    "version": 3
   },
   "file_extension": ".py",
   "mimetype": "text/x-python",
   "name": "python",
   "nbconvert_exporter": "python",
   "pygments_lexer": "ipython3",
   "version": "3.9.13"
  },
  "toc": {
   "base_numbering": 1,
   "nav_menu": {},
   "number_sections": true,
   "sideBar": true,
   "skip_h1_title": true,
   "title_cell": "Содержание",
   "title_sidebar": "Contents",
   "toc_cell": true,
   "toc_position": {
    "height": "calc(100% - 180px)",
    "left": "10px",
    "top": "150px",
    "width": "211.009px"
   },
   "toc_section_display": true,
   "toc_window_display": true
  }
 },
 "nbformat": 4,
 "nbformat_minor": 2
}
